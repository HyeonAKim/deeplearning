{
 "cells": [
  {
   "cell_type": "code",
   "execution_count": 244,
   "metadata": {
    "collapsed": true
   },
   "outputs": [],
   "source": [
    "# 필요한 라이브러리 호출\n",
    "import os\n",
    "import shutil\n",
    "import random\n",
    "from PIL import Image,ImageColor\n",
    "from icrawler.builtin import BaiduImageCrawler, BingImageCrawler, GoogleImageCrawler\n",
    "import pathlib\n",
    "\n"
   ]
  },
  {
   "cell_type": "code",
   "execution_count": 245,
   "metadata": {},
   "outputs": [],
   "source": [
    "# 이미지 크롤러 함수 생성\n",
    "# 이미지 크롤링 함수 (키워드 ,저장이미지최대수,이미지최소사이즈,  저장경로)\n",
    "def crawling_image(keyword, max, min_size, dir):\n",
    "    google_crawler = GoogleImageCrawler(parser_threads=2, downloader_threads=10, storage={'root_dir': dir})\n",
    "    google_crawler.crawl(keyword=keyword, offset=0, max_num=max, min_size=(min_size, min_size), max_size=None)\n",
    "    print('complete download images')"
   ]
  },
  {
   "cell_type": "code",
   "execution_count": 250,
   "metadata": {
    "collapsed": true
   },
   "outputs": [
    {
     "name": "stderr",
     "output_type": "stream",
     "text": [
      "2018-06-04 10:01:53,115 - INFO - icrawler.crawler - start crawling...\n"
     ]
    },
    {
     "name": "stderr",
     "output_type": "stream",
     "text": [
      "2018-06-04 10:01:53,116 - INFO - icrawler.crawler - starting 1 feeder threads...\n"
     ]
    },
    {
     "name": "stderr",
     "output_type": "stream",
     "text": [
      "2018-06-04 10:01:53,125 - INFO - feeder - thread feeder-001 exit\n"
     ]
    },
    {
     "name": "stderr",
     "output_type": "stream",
     "text": [
      "2018-06-04 10:01:53,128 - INFO - icrawler.crawler - starting 2 parser threads...\n"
     ]
    },
    {
     "name": "stderr",
     "output_type": "stream",
     "text": [
      "2018-06-04 10:01:53,137 - INFO - icrawler.crawler - starting 10 downloader threads...\n"
     ]
    },
    {
     "name": "stderr",
     "output_type": "stream",
     "text": [
      "2018-06-04 10:01:53,789 - INFO - parser - parsing result page https://www.google.com/search?ijn=0&start=0&tbm=isch&tbs=&q=broken+desk\n"
     ]
    },
    {
     "name": "stderr",
     "output_type": "stream",
     "text": [
      "2018-06-04 10:01:54,733 - INFO - downloader - image #1\thttp://dahlecommunication.typepad.com/.a/6a010536b44350970c015390e684a3970b-800wi\n"
     ]
    },
    {
     "name": "stderr",
     "output_type": "stream",
     "text": [
      "2018-06-04 10:01:54,864 - INFO - downloader - image #2\thttps://c1.staticflickr.com/9/8244/8619512302_0d426ebcae_b.jpg\n"
     ]
    },
    {
     "name": "stderr",
     "output_type": "stream",
     "text": [
      "2018-06-04 10:01:55,027 - INFO - downloader - image #3\thttps://media-cdn.tripadvisor.com/media/photo-s/06/83/0b/76/broken-desk-in-room.jpg\n"
     ]
    },
    {
     "name": "stderr",
     "output_type": "stream",
     "text": [
      "2018-06-04 10:01:55,038 - INFO - downloader - image #4\thttps://media-cdn.tripadvisor.com/media/photo-s/09/01/b0/92/americas-best-value-inn.jpg\n"
     ]
    },
    {
     "name": "stderr",
     "output_type": "stream",
     "text": [
      "2018-06-04 10:01:55,138 - INFO - parser - no more page urls for thread parser-002 to parse\n"
     ]
    },
    {
     "name": "stderr",
     "output_type": "stream",
     "text": [
      "2018-06-04 10:01:55,143 - INFO - parser - thread parser-002 exit\n"
     ]
    },
    {
     "name": "stderr",
     "output_type": "stream",
     "text": [
      "2018-06-04 10:01:55,487 - INFO - downloader - image #5\thttps://i.pinimg.com/originals/ba/71/04/ba7104125ae70d3fd0caa7327cfd72fa.jpg\n"
     ]
    },
    {
     "name": "stderr",
     "output_type": "stream",
     "text": [
      "2018-06-04 10:01:55,529 - INFO - downloader - image #6\thttps://media-cdn.tripadvisor.com/media/photo-s/12/08/59/b9/broken-desk.jpg\n"
     ]
    },
    {
     "name": "stderr",
     "output_type": "stream",
     "text": [
      "2018-06-04 10:01:55,585 - INFO - downloader - image #7\thttps://thumb9.shutterstock.com/display_pic_with_logo/2866126/268522058/stock-photo-a-broken-desk-in-an-old-ruin-268522058.jpg\n"
     ]
    },
    {
     "name": "stderr",
     "output_type": "stream",
     "text": [
      "2018-06-04 10:01:55,764 - INFO - downloader - image #8\thttp://farm9.staticflickr.com/8425/7626290370_156b4d3334.jpg\n"
     ]
    },
    {
     "name": "stderr",
     "output_type": "stream",
     "text": [
      "2018-06-04 10:01:55,834 - INFO - downloader - image #9\thttps://vignette.wikia.nocookie.net/fallenearth/images/c/c4/Fe-curious_debris_-_broken_desk.png/revision/latest?cb=20111026225105\n"
     ]
    },
    {
     "name": "stderr",
     "output_type": "stream",
     "text": [
      "2018-06-04 10:01:56,509 - INFO - downloader - image #10\thttps://seanherley.files.wordpress.com/2012/11/mr-barkers-broken-desk.jpg\n"
     ]
    },
    {
     "name": "stderr",
     "output_type": "stream",
     "text": [
      "2018-06-04 10:01:56,545 - INFO - downloader - image #11\thttps://theweekendcoutrygirl.files.wordpress.com/2012/09/100_10281.jpg\n"
     ]
    },
    {
     "name": "stderr",
     "output_type": "stream",
     "text": [
      "2018-06-04 10:01:56,568 - INFO - downloader - image #12\thttps://cdn8.littlethings.com/app/uploads/2016/08/school-desk-make-over-painted-furniture-600x449.jpg\n"
     ]
    },
    {
     "name": "stderr",
     "output_type": "stream",
     "text": [
      "2018-06-04 10:01:56,581 - INFO - downloader - image #13\thttp://www.officefurniture.co.uk/wp-content/uploads/2017/03/NEXT-DAY-Pulse-Desks.jpg\n"
     ]
    },
    {
     "name": "stderr",
     "output_type": "stream",
     "text": [
      "2018-06-04 10:01:56,605 - INFO - downloader - image #14\thttps://media-cdn.tripadvisor.com/media/photo-s/05/58/84/ab/days-inn-orlando-universal.jpg\n"
     ]
    },
    {
     "name": "stderr",
     "output_type": "stream",
     "text": [
      "2018-06-04 10:01:56,658 - INFO - downloader - image #15\thttps://i.pinimg.com/originals/6c/72/49/6c724974ded9b3478f65fa39dc90fecc.jpg\n"
     ]
    },
    {
     "name": "stderr",
     "output_type": "stream",
     "text": [
      "2018-06-04 10:01:56,702 - INFO - downloader - image #16\thttps://media-cdn.tripadvisor.com/media/photo-s/06/5b/21/5a/broken-desk.jpg\n"
     ]
    },
    {
     "name": "stderr",
     "output_type": "stream",
     "text": [
      "2018-06-04 10:01:56,740 - INFO - downloader - image #17\thttp://tiestenbosch.com/wp-content/uploads/2016/06/modern-thoughts-broken-dreamss-670x447.jpg\n"
     ]
    },
    {
     "name": "stderr",
     "output_type": "stream",
     "text": [
      "2018-06-04 10:01:56,963 - INFO - downloader - image #18\thttps://i.imgur.com/GPG112D.jpg\n"
     ]
    },
    {
     "name": "stderr",
     "output_type": "stream",
     "text": [
      "2018-06-04 10:01:56,982 - INFO - downloader - image #19\thttps://jennifermaker.com/wp-content/uploads/2017/01/diy-computer-desk-original-table.jpg\n"
     ]
    },
    {
     "name": "stderr",
     "output_type": "stream",
     "text": [
      "2018-06-04 10:01:56,998 - INFO - downloader - image #20\thttps://media-cdn.tripadvisor.com/media/photo-s/12/6c/6f/16/broken-desk.jpg\n"
     ]
    },
    {
     "name": "stderr",
     "output_type": "stream",
     "text": [
      "2018-06-04 10:01:57,009 - INFO - downloader - image #21\thttps://www.accellion.com/sites/default/files/wysiwyg/blogs/accellion-blog-death-desk-final.png\n"
     ]
    },
    {
     "name": "stderr",
     "output_type": "stream",
     "text": [
      "2018-06-04 10:01:57,208 - INFO - downloader - image #22\thttps://thumbs.dreamstime.com/b/abandoned-broken-wooden-chair-desk-storage-room-missing-school-age-old-school-education-concept-95415971.jpg\n"
     ]
    },
    {
     "name": "stderr",
     "output_type": "stream",
     "text": [
      "2018-06-04 10:01:57,212 - INFO - downloader - image #23\thttp://2.bp.blogspot.com/-txmMAtX8m1s/U9VSZ3GTWLI/AAAAAAAAEX0/elCEFJUhlf0/s1600/how+to+fix+a+broken+roll+top+desk+anderson+and+grant.jpg\n"
     ]
    },
    {
     "name": "stderr",
     "output_type": "stream",
     "text": [
      "2018-06-04 10:01:57,495 - INFO - downloader - image #24\thttp://wvs.topleftpixel.com/photos/2009/11/optix_broken_glass_table_01.jpg\n"
     ]
    },
    {
     "name": "stderr",
     "output_type": "stream",
     "text": [
      "2018-06-04 10:01:57,525 - INFO - downloader - image #25\thttps://media-cdn.tripadvisor.com/media/photo-s/02/21/ec/89/broken-desk.jpg\n"
     ]
    },
    {
     "name": "stderr",
     "output_type": "stream",
     "text": [
      "2018-06-04 10:01:57,550 - INFO - downloader - image #26\thttps://media-cdn.tripadvisor.com/media/photo-s/09/bd/39/fc/microtel-inn-suites-by.jpg\n"
     ]
    },
    {
     "name": "stderr",
     "output_type": "stream",
     "text": [
      "2018-06-04 10:01:57,569 - INFO - downloader - image #27\thttps://wallbuilder.files.wordpress.com/2011/01/roll-top-desk-restoration-2.jpg\n"
     ]
    },
    {
     "name": "stderr",
     "output_type": "stream",
     "text": [
      "2018-06-04 10:01:57,782 - INFO - downloader - image #28\thttps://78.media.tumblr.com/82883d81e81396962e1e652e8feec0ea/tumblr_inline_nyyi17UX3E1si73t5_400.gif\n"
     ]
    },
    {
     "name": "stderr",
     "output_type": "stream",
     "text": [
      "2018-06-04 10:01:57,802 - INFO - downloader - image #29\thttp://i.imgur.com/Ej1pDes.jpg\n"
     ]
    },
    {
     "name": "stderr",
     "output_type": "stream",
     "text": [
      "2018-06-04 10:01:57,861 - INFO - downloader - image #30\thttp://www.efurnituremax.com/blog/wp-content/uploads/2014/03/desk-chair-broken-300x225.jpg\n"
     ]
    },
    {
     "name": "stderr",
     "output_type": "stream",
     "text": [
      "2018-06-04 10:01:57,882 - INFO - downloader - image #31\thttps://i.ebayimg.com/00/s/MTIwMFgxNjAw/z/y8kAAOSwrsha0SGU/$_75.JPG\n"
     ]
    },
    {
     "name": "stderr",
     "output_type": "stream",
     "text": [
      "2018-06-04 10:01:58,333 - INFO - downloader - image #32\thttps://cdn.freshome.com/wp-content/uploads/2014/03/Tafel.01-LVU5.jpg\n"
     ]
    },
    {
     "name": "stderr",
     "output_type": "stream",
     "text": [
      "2018-06-04 10:01:58,358 - INFO - downloader - image #33\thttps://media-cdn.tripadvisor.com/media/photo-s/0a/97/ea/c3/the-crappy-tv-that-barely.jpg\n"
     ]
    },
    {
     "name": "stderr",
     "output_type": "stream",
     "text": [
      "2018-06-04 10:01:58,398 - INFO - downloader - image #34\thttps://i.pinimg.com/originals/0c/90/ad/0c90ad36ba7d5ecc1fbe87c69fbd423b.jpg\n"
     ]
    },
    {
     "name": "stderr",
     "output_type": "stream",
     "text": [
      "2018-06-04 10:01:58,414 - INFO - downloader - image #35\thttps://i.ebayimg.com/images/g/SUgAAOSwgv5ZeMWu/s-l300.jpg\n"
     ]
    },
    {
     "name": "stderr",
     "output_type": "stream",
     "text": [
      "2018-06-04 10:01:58,437 - INFO - downloader - image #36\thttps://media-cdn.tripadvisor.com/media/photo-s/07/bd/58/81/hilton-london-metropole.jpg\n"
     ]
    },
    {
     "name": "stderr",
     "output_type": "stream",
     "text": [
      "2018-06-04 10:01:58,467 - INFO - downloader - image #37\thttps://cdn.freshome.com/wp-content/uploads/2014/03/Tafel.01-LVU1.jpg\n"
     ]
    },
    {
     "name": "stderr",
     "output_type": "stream",
     "text": [
      "2018-06-04 10:01:58,869 - INFO - downloader - image #38\thttps://3.bp.blogspot.com/-4ilv-xoe4i0/U6M-bp1-MCI/AAAAAAAAEJE/2f15i_X1Ggw/s1600/refurbished+desk+in+pieces+from+Anderson+and+gratn.jpg\n"
     ]
    },
    {
     "name": "stderr",
     "output_type": "stream",
     "text": [
      "2018-06-04 10:01:58,912 - INFO - downloader - image #39\thttps://cdn.shopify.com/s/files/1/0068/2302/products/rosie-brown-morning-has-broken-desk-portrait-white-background-SQUARE-aston-gold_large.jpg?v=1515786700\n"
     ]
    },
    {
     "name": "stderr",
     "output_type": "stream",
     "text": [
      "2018-06-04 10:01:58,978 - INFO - downloader - image #40\thttps://thumbs.dreamstime.com/b/abandoned-broken-wooden-chair-desk-storage-room-missing-school-age-old-school-education-concept-95416055.jpg\n"
     ]
    },
    {
     "name": "stderr",
     "output_type": "stream",
     "text": [
      "2018-06-04 10:01:58,984 - INFO - downloader - image #41\thttp://www.getitremovedva.com/gallery/main.php?g2_view=core.DownloadItem&g2_itemId=885&g2_serialNumber=2\n"
     ]
    },
    {
     "name": "stderr",
     "output_type": "stream",
     "text": [
      "2018-06-04 10:01:59,087 - INFO - downloader - image #42\thttps://c1.staticflickr.com/1/67/206067069_ee067ce0a1_z.jpg?zz=1\n"
     ]
    },
    {
     "name": "stderr",
     "output_type": "stream",
     "text": [
      "2018-06-04 10:01:59,284 - INFO - downloader - image #43\thttps://crimsonguitars.com/wp-content/uploads/2013/08/5-the-office-needed-a-desk-and-I-use-this-raw-walnut-with-some-old-desk-legs.jpg\n"
     ]
    },
    {
     "name": "stderr",
     "output_type": "stream",
     "text": [
      "2018-06-04 10:01:59,331 - INFO - downloader - image #44\thttps://thumb1.shutterstock.com/display_pic_with_logo/181895128/735990979/stock-vector-cartoon-flat-sad-scared-office-worker-sits-at-a-desk-with-a-broken-computer-laptop-from-which-smoke-735990979.jpg\n"
     ]
    },
    {
     "name": "stderr",
     "output_type": "stream",
     "text": [
      "2018-06-04 10:01:59,371 - INFO - downloader - image #45\thttp://furnituretrader.com.au/media/catalog/product/cache/1/image/500x/9df78eab33525d08d6e5fb8d27136e95/b/r/broken_hill_desk_shot_1.jpg\n"
     ]
    },
    {
     "name": "stderr",
     "output_type": "stream",
     "text": [
      "2018-06-04 10:01:59,780 - INFO - downloader - image #46\thttps://media.gettyimages.com/photos/businessman-looking-down-at-a-broken-egg-sitting-on-chair-behind-a-picture-iddv1187006\n"
     ]
    },
    {
     "name": "stderr",
     "output_type": "stream",
     "text": [
      "2018-06-04 10:02:00,048 - INFO - downloader - image #47\thttps://raggedy-bits.com/wp-content/uploads/2017/04/Farmhouse-Repurposed-Broken-Writers-Desk-Top-10-768x1024.jpg\n"
     ]
    },
    {
     "name": "stderr",
     "output_type": "stream",
     "text": [
      "2018-06-04 10:02:00,067 - INFO - downloader - image #48\thttp://thumbs2.modthesims.info/img/2/4/4/0/1/9/MTS_Sophie-David-1516912-sdBrokenInDesk_Splattered_ThreeStyles.jpg\n"
     ]
    },
    {
     "name": "stderr",
     "output_type": "stream",
     "text": [
      "2018-06-04 10:02:00,147 - ERROR - downloader - Response status code 403, file http://dailyhunt.co/wp-content/uploads/2018/03/desk-chair-height-office-chair-measurements-office-chair-height-adjustment-broken-office-chair-height-adjustable-arms.jpg\n"
     ]
    },
    {
     "name": "stderr",
     "output_type": "stream",
     "text": [
      "2018-06-04 10:02:00,230 - INFO - downloader - image #49\thttps://jennifermaker.com/wp-content/uploads/2017/01/diy-computer-desk-surface.jpg\n"
     ]
    },
    {
     "name": "stderr",
     "output_type": "stream",
     "text": [
      "2018-06-04 10:02:00,272 - INFO - downloader - image #50\thttp://media.gettyimages.com/illustrations/stressed-businessman-sitting-by-broken-desk-with-head-in-hands-illustration-id567360343?s=170667a&w=1007\n"
     ]
    },
    {
     "name": "stderr",
     "output_type": "stream",
     "text": [
      "2018-06-04 10:02:00,414 - INFO - downloader - image #51\thttps://images.coplusk.net/project_images/177564/image/103796_2F2014-08-07-120001-chair%2Band%2Bblack%2Bpainted%2Bdesk%2Bfrom%2BAnderson%2Band%2BGrant.jpg\n"
     ]
    },
    {
     "name": "stderr",
     "output_type": "stream",
     "text": [
      "2018-06-04 10:02:00,646 - ERROR - downloader - Response status code 403, file http://www.damdesign.me/wp-content/uploads/2018/01/desk-chair-height-ratio-desk-chair-height-adjustment-medium-size-of-desk-chair-height-range-adjust-desk-ratio-adjustment-broken-desk-chair-height-furniture-mart-sioux-falls-sd.jpg\n"
     ]
    },
    {
     "name": "stderr",
     "output_type": "stream",
     "text": [
      "2018-06-04 10:02:00,732 - INFO - downloader - image #52\thttp://lavishlaineswinery.com/wp-content/uploads/white-frame-floor-mirror-attractive-dark-wood-side-table-black-and-white-drawing-in-white-frame-as-wall-decoration-modern-black-desk-broken-white-and-black-geometric-pattern-fur-rug.jpg\n"
     ]
    },
    {
     "name": "stderr",
     "output_type": "stream",
     "text": [
      "2018-06-04 10:02:00,848 - INFO - downloader - image #53\thttps://cdn0.opinion-corp.com/review-media/pictures/b1/a1/75629/bobs-discount-furniture_broken-furniture-non-existent-return-policy-20150620653635_b1a1-gallery.jpeg\n"
     ]
    },
    {
     "name": "stderr",
     "output_type": "stream",
     "text": [
      "2018-06-04 10:02:00,862 - ERROR - downloader - Response status code 403, file http://sohoshorts.me/wp-content/uploads/2017/11/fix-a-desk-chair-broken-seat-on-office-chair-fix-desk-chair.jpg\n"
     ]
    },
    {
     "name": "stderr",
     "output_type": "stream",
     "text": [
      "2018-06-04 10:02:00,903 - INFO - downloader - image #54\thttp://inglepingle.co.uk/wp-content/uploads/2012/05/100_0806-1024x681.jpg\n"
     ]
    },
    {
     "name": "stderr",
     "output_type": "stream",
     "text": [
      "2018-06-04 10:02:01,374 - INFO - downloader - image #55\thttps://d2j6tswx2otu6e.cloudfront.net/owGwiO9dhBKBh5yh4p4ncFX24Q8=/555x800/b236/b23674a902eb41068c313f2a601301c5.jpg\n"
     ]
    },
    {
     "name": "stderr",
     "output_type": "stream",
     "text": [
      "2018-06-04 10:02:01,418 - INFO - downloader - image #56\thttp://d21h34pqo0rkag.cloudfront.net/wp-content/uploads/2017/10/rollerblade-office-chair-wheels-1.jpg\n"
     ]
    },
    {
     "name": "stderr",
     "output_type": "stream",
     "text": [
      "2018-06-04 10:02:01,504 - INFO - downloader - image #57\thttps://thumb7.shutterstock.com/display_pic_with_logo/176502340/661941577/stock-photo-old-classroom-in-asia-have-a-student-desk-the-student-chair-is-broken-and-waiting-to-buy-a-new-one-661941577.jpg\n"
     ]
    },
    {
     "name": "stderr",
     "output_type": "stream",
     "text": [
      "2018-06-04 10:02:01,557 - INFO - downloader - image #58\thttp://www.reevolveclothing.com/wp-content/uploads/2018/05/surprise-coloring-picture-of-a-teacher-vector-surprised-cartoon-looking-at-broken-desk-with.jpg\n"
     ]
    },
    {
     "name": "stderr",
     "output_type": "stream",
     "text": [
      "2018-06-04 10:02:01,600 - INFO - downloader - image #59\thttp://everystockphoto.s3.amazonaws.com/moving_seattle_289503_o.jpg"
     ]
    },
    {
     "name": "stderr",
     "output_type": "stream",
     "text": [
      "\n"
     ]
    },
    {
     "name": "stderr",
     "output_type": "stream",
     "text": [
      "2018-06-04 10:02:01,986 - INFO - downloader - image #60\thttps://media.gettyimages.com/photos/broken-laptop-on-work-desk-picture-id688027983\n"
     ]
    },
    {
     "name": "stderr",
     "output_type": "stream",
     "text": [
      "2018-06-04 10:02:02,474 - INFO - downloader - image #61\thttps://t1.pixers.pics/img-1fb6f67c/table-desk-veneers-broken-glass.jpg?H4sIAAAAAAAAA3WOS27DMAxEryMBjilSlmLrANnmCIbtMKlbfwRJ_SCnD42iy4ILcgaYeYTPLQ93hom3wgnW-XZbGO7zIiqHxHl-sjJVY7wO4i7KGKPD_sVpSntUJ-qqE1JbeYuVs6TD9yDJdUgf6q2UmANAtnWcf6RO1pRhWjOQwTMggRvs6DyxN8xtn8u-1HF7VOYY_UdvzMEXXdK8Knljl_6i3uNDwz-M3xskBZcrEAEieARnD6u_XIkQPTrb-9a6CZuRXOvYtp7PjtGMiMQ8drarhfIC_9_WQCMBAAA=\n"
     ]
    },
    {
     "name": "stderr",
     "output_type": "stream",
     "text": [
      "2018-06-04 10:02:02,507 - INFO - downloader - image #62\thttps://previews.123rf.com/images/andreypopov/andreypopov1703/andreypopov170300338/74132219-close-up-of-a-family-paper-cut-on-broken-heart-at-wooden-desk.jpg\n"
     ]
    },
    {
     "name": "stderr",
     "output_type": "stream",
     "text": [
      "2018-06-04 10:02:02,634 - INFO - downloader - image #63\thttp://i.imgur.com/fgup5.jpeg\n"
     ]
    },
    {
     "name": "stderr",
     "output_type": "stream",
     "text": [
      "2018-06-04 10:02:02,811 - INFO - downloader - image #64\thttps://i.ebayimg.com/00/s/NjAwWDgwMA==/z/aXwAAOSwqClarOeG/$_75.JPG\n"
     ]
    },
    {
     "name": "stderr",
     "output_type": "stream",
     "text": [
      "2018-06-04 10:02:03,238 - INFO - downloader - image #65\thttps://s-media-cache-ak0.pinimg.com/originals/22/e2/fe/22e2fe2415b8d54b989c07c67962b558.jpg\n"
     ]
    },
    {
     "name": "stderr",
     "output_type": "stream",
     "text": [
      "2018-06-04 10:02:03,398 - INFO - downloader - image #66\thttp://lavishlaineswinery.com/wp-content/uploads/broken-white-wall-painting-classic-circle-dining-table-in-white-and-dark-wood-top-long-grey-curtain-black-and-dark-wood-combination-of-dining-chairs-modern-white-hanging-lamp-573x585.jpg\n"
     ]
    },
    {
     "name": "stderr",
     "output_type": "stream",
     "text": [
      "2018-06-04 10:02:03,429 - INFO - downloader - image #67\thttps://gerardnadal.files.wordpress.com/2014/04/desk.jpg\n"
     ]
    },
    {
     "name": "stderr",
     "output_type": "stream",
     "text": [
      "2018-06-04 10:02:03,634 - INFO - downloader - image #68\thttp://notenoughpdx.com/wp-content/uploads/2018/02/desk-chairs-desk-chair-height-desk-chair-height-extender-desk-pertaining-to-sizing-1030-x-1030.jpg\n"
     ]
    },
    {
     "name": "stderr",
     "output_type": "stream",
     "text": [
      "2018-06-04 10:02:03,700 - INFO - downloader - image #69\thttps://i.imgur.com/UoT0SL1.jpg\n"
     ]
    },
    {
     "name": "stderr",
     "output_type": "stream",
     "text": [
      "2018-06-04 10:02:03,795 - INFO - downloader - image #70\thttps://t1.pixers.pics/img-1fb6f67c/table-desk-veneers-broken-glass.jpg?H4sIAAAAAAAAA3WOW26EMAxFtxMkBpsE8lrA_M4SUAhmSstLSfpQV1-jqp-VP-x7pXuP4X3PYSaItBdKsC3TtBLMy8oq-0R5-SaBdYe68uyuAhErf3xQiuk4xU329a2Vttaqr3slK_8ZOLmF9CZeSjmzB8iqOZcvruMVM8Qtg8TWQCuhD2rstSSNRHbI5Vibc3_WeE31R-_w4rMuadkEv3FwfxGv57OCfxi_N3AK7g8wDgyCtYDmsob7wziD1qIZYqtba4LV3Tg762IgUjQHPSvXmW6cGqb8AM3dSWIjAQAA\n"
     ]
    },
    {
     "name": "stderr",
     "output_type": "stream",
     "text": [
      "2018-06-04 10:02:03,798 - INFO - downloader - image #71\thttps://i.ytimg.com/vi/hTJXY0x_-5w/hqdefault.jpg\n"
     ]
    },
    {
     "name": "stderr",
     "output_type": "stream",
     "text": [
      "2018-06-04 10:02:03,831 - INFO - downloader - image #72\thttps://i.gifer.com/73A1.gif\n"
     ]
    },
    {
     "name": "stderr",
     "output_type": "stream",
     "text": [
      "2018-06-04 10:02:03,918 - INFO - downloader - image #73\thttps://www.locarnoboy.co.uk/wp-content/uploads/broken-desk.jpg\n"
     ]
    },
    {
     "name": "stderr",
     "output_type": "stream",
     "text": [
      "2018-06-04 10:02:04,226 - INFO - downloader - image #74\thttp://www.efurnituremax.com/blog/wp-content/uploads/2014/03/broken-300x225.jpg\n"
     ]
    },
    {
     "name": "stderr",
     "output_type": "stream",
     "text": [
      "2018-06-04 10:02:04,474 - INFO - downloader - image #75\thttps://media-cdn.tripadvisor.com/media/photo-s/04/41/c3/12/broken-desk.jpg\n"
     ]
    },
    {
     "name": "stderr",
     "output_type": "stream",
     "text": [
      "2018-06-04 10:02:04,595 - INFO - downloader - image #76\thttps://woodworkingsession.com/wp-content/uploads/2018/02/Feature-Image-48.jpg\n"
     ]
    },
    {
     "name": "stderr",
     "output_type": "stream",
     "text": [
      "2018-06-04 10:02:04,772 - INFO - downloader - image #77\thttp://queensheba.org/uploads/marvelous-broken-office-desk-furniture-supplies-for-small-chairs-spaces-concept-and-popular_FILES_22472.jpg\n"
     ]
    },
    {
     "name": "stderr",
     "output_type": "stream",
     "text": [
      "2018-06-04 10:02:04,915 - INFO - downloader - image #78\thttp://1.bp.blogspot.com/-JQrde1UZXvY/U9VOKlbqfjI/AAAAAAAAEXg/tFdOhUK3bmA/s1600/How+to+fix+a+Rolltop+Desk+from+Anderson+and+Grant.png\n"
     ]
    },
    {
     "name": "stderr",
     "output_type": "stream",
     "text": [
      "2018-06-04 10:02:05,106 - ERROR - downloader - Response status code 403, file http://www.lachouchou.me/wp-content/uploads/2017/12/desk-chair-height-adjustment-desk-office-chair-height-adjustment-price-home-ideas-industrial-task-gold-standard-bookcases-office-chair-height-adjustment-broken.jpg"
     ]
    },
    {
     "name": "stderr",
     "output_type": "stream",
     "text": [
      "\n"
     ]
    },
    {
     "name": "stderr",
     "output_type": "stream",
     "text": [
      "2018-06-04 10:02:05,114 - INFO - downloader - image #79\thttp://gypsymagpie.com/wp-content/uploads/2017/04/Broken-Castors-on-a-Shop-Class-Desk-600x788.jpg\n"
     ]
    },
    {
     "name": "stderr",
     "output_type": "stream",
     "text": [
      "2018-06-04 10:02:05,452 - INFO - downloader - image #80\thttps://us.123rf.com/450wm/djvstock/djvstock1711/djvstock171112776/90682005-broken-desk-lamp-icon-over-white-background-vector-illustration.jpg?ver=6\n"
     ]
    },
    {
     "name": "stderr",
     "output_type": "stream",
     "text": [
      "2018-06-04 10:02:05,614 - INFO - downloader - image #81\thttp://www.velecio.com/wp-content/uploads/2018/01/xavier-modern-cracked-glass-rectangular-dining-table-pics-with-cool-broken-glass-table-top-how-to-repair-cracked-dining-set-disposal-lamps-gl-1048x763.jpg\n"
     ]
    },
    {
     "name": "stderr",
     "output_type": "stream",
     "text": [
      "2018-06-04 10:02:05,705 - INFO - downloader - image #82\thttps://jennifermaker.com/wp-content/uploads/2017/01/diy-computer-desk-finished-new.jpg\n"
     ]
    },
    {
     "name": "stderr",
     "output_type": "stream",
     "text": [
      "2018-06-04 10:02:05,893 - INFO - downloader - image #83\thttps://webimg.secondhandapp.com/w-c-m/Anglepoise-adjustable-desk-lamp-BROKEN-BASE-17a1ed17.jpg\n"
     ]
    },
    {
     "name": "stderr",
     "output_type": "stream",
     "text": [
      "2018-06-04 10:02:06,319 - INFO - downloader - image #84\thttp://thumbs2.modthesims.info/img/2/4/4/0/1/9/MTS_Sophie-David-1516909-sdBrokenInDesk_AfricanEbony-BlackWillow.jpg\n"
     ]
    },
    {
     "name": "stderr",
     "output_type": "stream",
     "text": [
      "2018-06-04 10:02:06,357 - INFO - downloader - image #85\thttp://www.arabianindustry.com/static/content/images/larger2/16751-257030.jpg\n"
     ]
    },
    {
     "name": "stderr",
     "output_type": "stream",
     "text": [
      "2018-06-04 10:02:06,494 - INFO - downloader - image #86\thttps://wwwcache.wral.com/asset/5oys/2011/02/09/9086776/EXPLODING_IKEA_DESK_5OYS_2-300x225.jpg\n"
     ]
    },
    {
     "name": "stderr",
     "output_type": "stream",
     "text": [
      "2018-06-04 10:02:06,650 - INFO - downloader - image #87\thttp://touchthewood.co.uk/wp-content/uploads/DIY-tutorial_fix-broken-table-top-without-tools_03.jpg\n"
     ]
    },
    {
     "name": "stderr",
     "output_type": "stream",
     "text": [
      "2018-06-04 10:02:06,667 - INFO - downloader - image #88\thttps://www.diyncrafts.com/wp-content/uploads/2014/04/1-nightstand.jpg\n"
     ]
    },
    {
     "name": "stderr",
     "output_type": "stream",
     "text": [
      "2018-06-04 10:02:06,708 - INFO - downloader - image #89\thttp://woodworkingsession.com/wp-content/uploads/2018/02/Step-1-12.jpg\n"
     ]
    },
    {
     "name": "stderr",
     "output_type": "stream",
     "text": [
      "2018-06-04 10:02:06,781 - INFO - parser - no more page urls for thread parser-001 to parse\n"
     ]
    },
    {
     "name": "stderr",
     "output_type": "stream",
     "text": [
      "2018-06-04 10:02:06,781 - INFO - parser - thread parser-001 exit\n"
     ]
    },
    {
     "name": "stderr",
     "output_type": "stream",
     "text": [
      "2018-06-04 10:02:06,819 - INFO - downloader - image #90\thttp://www.todetop.com/wp-content/uploads/2016/08/l-shaped-broken-white-stained-solid-wood-desk-in-white-bedroom-having-storage-cabinet-and-swing-door-panel.jpg\n"
     ]
    },
    {
     "name": "stderr",
     "output_type": "stream",
     "text": [
      "2018-06-04 10:02:07,295 - INFO - downloader - image #91\thttp://d21h34pqo0rkag.cloudfront.net/wp-content/uploads/2017/10/rollerblade-office-chair-wheels-2.jpg\n"
     ]
    },
    {
     "name": "stderr",
     "output_type": "stream",
     "text": [
      "2018-06-04 10:02:07,740 - INFO - downloader - image #92\thttps://t1.pixers.pics/img-1fb6f67c/table-desk-veneers-broken-glass.jpg?H4sIAAAAAAAAA3WOWW7DMAxEryMDiklR8nqA_OYIhuTQqVtvkNQFOX1oFP0s-MHhADOP8LklPzGMvGWOsM73-8IwzYtcqY-c5ierqnYai17cRSGK2r84jnE_1MW1-mJMp2tDunKm6L-9JFcfP9RbzkfqAZItj_lH6mSNCcY1AaFpwBBU3oaqJq6RuR1S3pfy2B4azyn-6A5Ru5Oa47wqeWOX_qzej0cB_zB-NUgKrjcQlrPCBKLTGq430zhLSDRMjrxtQmdtG2ruAo0-TE2ojEc0E3EplBfxIoDqIwEAAA==\n"
     ]
    },
    {
     "name": "stderr",
     "output_type": "stream",
     "text": [
      "2018-06-04 10:02:07,971 - INFO - downloader - image #93\thttp://www.todetop.com/wp-content/uploads/2017/02/floating-home-office-computer-desk-with-shelves-combined-with-broken-white-fiberglass-armless-chair.jpg\n"
     ]
    },
    {
     "name": "stderr",
     "output_type": "stream",
     "text": [
      "2018-06-04 10:02:09,520 - INFO - downloader - image #94\thttp://propertyonlineph.com/wp-content/uploads/2018/04/restoring-a-broken-roll-top-desk-desks-tutorials-and-rolltop-desk-roll-top-desk-repair.jpg\n"
     ]
    },
    {
     "name": "stderr",
     "output_type": "stream",
     "text": [
      "2018-06-04 10:02:11,660 - INFO - downloader - no more download task for thread downloader-002\n"
     ]
    },
    {
     "name": "stderr",
     "output_type": "stream",
     "text": [
      "2018-06-04 10:02:11,660 - INFO - downloader - thread downloader-002 exit\n"
     ]
    },
    {
     "name": "stderr",
     "output_type": "stream",
     "text": [
      "2018-06-04 10:02:11,680 - INFO - downloader - no more download task for thread downloader-006\n"
     ]
    },
    {
     "name": "stderr",
     "output_type": "stream",
     "text": [
      "2018-06-04 10:02:11,680 - INFO - downloader - thread downloader-006 exit\n"
     ]
    },
    {
     "name": "stderr",
     "output_type": "stream",
     "text": [
      "2018-06-04 10:02:11,715 - INFO - downloader - no more download task for thread downloader-009\n"
     ]
    },
    {
     "name": "stderr",
     "output_type": "stream",
     "text": [
      "2018-06-04 10:02:11,715 - INFO - downloader - thread downloader-009 exit\n"
     ]
    },
    {
     "name": "stderr",
     "output_type": "stream",
     "text": [
      "2018-06-04 10:02:11,827 - INFO - downloader - no more download task for thread downloader-004\n"
     ]
    },
    {
     "name": "stderr",
     "output_type": "stream",
     "text": [
      "2018-06-04 10:02:11,827 - INFO - downloader - thread downloader-004 exit\n"
     ]
    },
    {
     "name": "stderr",
     "output_type": "stream",
     "text": [
      "2018-06-04 10:02:12,302 - INFO - downloader - no more download task for thread downloader-001\n"
     ]
    },
    {
     "name": "stderr",
     "output_type": "stream",
     "text": [
      "2018-06-04 10:02:12,302 - INFO - downloader - thread downloader-001 exit\n"
     ]
    },
    {
     "name": "stderr",
     "output_type": "stream",
     "text": [
      "2018-06-04 10:02:12,748 - INFO - downloader - no more download task for thread downloader-010\n"
     ]
    },
    {
     "name": "stderr",
     "output_type": "stream",
     "text": [
      "2018-06-04 10:02:12,748 - INFO - downloader - thread downloader-010 exit\n"
     ]
    },
    {
     "name": "stderr",
     "output_type": "stream",
     "text": [
      "2018-06-04 10:02:12,978 - INFO - downloader - no more download task for thread downloader-008\n"
     ]
    },
    {
     "name": "stderr",
     "output_type": "stream",
     "text": [
      "2018-06-04 10:02:12,979 - INFO - downloader - thread downloader-008 exit\n"
     ]
    },
    {
     "name": "stderr",
     "output_type": "stream",
     "text": [
      "2018-06-04 10:02:14,528 - INFO - downloader - no more download task for thread downloader-003\n"
     ]
    },
    {
     "name": "stderr",
     "output_type": "stream",
     "text": [
      "2018-06-04 10:02:14,528 - INFO - downloader - thread downloader-003 exit\n"
     ]
    },
    {
     "name": "stderr",
     "output_type": "stream",
     "text": [
      "2018-06-04 10:02:15,416 - INFO - downloader - image #95\thttps://coffeeundertheumbrella.files.wordpress.com/2012/10/img_1289.jpg\n"
     ]
    },
    {
     "name": "stderr",
     "output_type": "stream",
     "text": [
      "2018-06-04 10:02:20,425 - INFO - downloader - no more download task for thread downloader-007\n"
     ]
    },
    {
     "name": "stderr",
     "output_type": "stream",
     "text": [
      "2018-06-04 10:02:20,426 - INFO - downloader - thread downloader-007 exit\n"
     ]
    },
    {
     "name": "stderr",
     "output_type": "stream",
     "text": [
      "2018-06-04 10:02:50,717 - INFO - downloader - image #96\thttps://coffeeundertheumbrella.files.wordpress.com/2012/10/oops.jpg\n"
     ]
    },
    {
     "name": "stderr",
     "output_type": "stream",
     "text": [
      "2018-06-04 10:02:55,727 - INFO - downloader - no more download task for thread downloader-005\n"
     ]
    },
    {
     "name": "stderr",
     "output_type": "stream",
     "text": [
      "2018-06-04 10:02:55,728 - INFO - downloader - thread downloader-005 exit\n"
     ]
    },
    {
     "name": "stderr",
     "output_type": "stream",
     "text": [
      "2018-06-04 10:02:56,208 - INFO - icrawler.crawler - Crawling task done!\n"
     ]
    },
    {
     "name": "stdout",
     "output_type": "stream",
     "text": [
      "complete download images\n"
     ]
    }
   ],
   "source": [
    "# 이미지 크롤링 하기 \n",
    "# 1. 크롤링할 이미지 키워드 입력\n",
    "keyword = 'broken desk'\n",
    "\n",
    "# 2. 이미지 저장 경로\n",
    "raw_image_dir ='C:\\\\Users\\\\HyunA\\\\PycharmProjects\\\\deeplearning\\\\dataset\\\\raw\\\\'+keyword\n",
    "\n",
    "# 3. 이미지 경로 존재 여부 확인 및 생성\n",
    "if not os.path.exists(raw_image_dir):\n",
    "    os.mkdir(raw_image_dir)\n",
    "\n",
    "# 4. 이미지 크롤링 하기 \n",
    "crawling_image(keyword,100, 100,raw_image_dir)"
   ]
  },
  {
   "cell_type": "code",
   "execution_count": 251,
   "metadata": {},
   "outputs": [],
   "source": [
    "# 이미지 정제 및 변환 함수 생성\n",
    "\n",
    "# 이미지 사이즈 및 확장자 변경 함수 change_image()\n",
    "# (이미지 저장 경로 , 변경확장자, 변경사이즈, 색상(\"L\",\"RGBA\"))\n",
    "def  change_image(dir, keyword, extension , change_size, color):\n",
    "    #현재위치 파일 모두 가져온다.\n",
    "    for filename in os.listdir(dir):\n",
    "        # print(filename)\n",
    "        # 파일 위치 경로\n",
    "        img_dir = dir + '\\\\' + filename\n",
    "        # print(img_dir)\n",
    "        # #slice_filename = filename[filename.find('.')+1:]\n",
    "        save_dir = dir +'\\\\'+keyword+'_'+filename[:filename.find('.')+1]+extension\n",
    "        if filename[filename.find('.')+1:] == 'gif' :\n",
    "            os.remove(img_dir)\n",
    "        else :\n",
    "            try :\n",
    "                # 이미지 열기\n",
    "                img = Image.open(img_dir)\n",
    "                # 이미지 사이즈 조정\n",
    "                if change_size is None :\n",
    "                    resize_img = img\n",
    "                else : \n",
    "                    resize_img = img.resize((change_size, change_size))\n",
    "                # 이미지 컬러 변경\n",
    "                if color == 'L':\n",
    "                    color_img = resize_img.convert(\"L\")\n",
    "                elif color is None:\n",
    "                    color_img = resize_img.convert(\"RGB\")\n",
    "                else :\n",
    "                    color_img = resize_img\n",
    "                # 기존 파일 삭제\n",
    "                os.remove(img_dir)\n",
    "                # 이미지 저장 다른 이름\n",
    "                color_img.save(save_dir, format=extension, compress_level=1)\n",
    "            except :\n",
    "                # os.remove(save_dir)\n",
    "                print('cannot open')\n",
    "\n",
    "    print('complete change images')"
   ]
  },
  {
   "cell_type": "code",
   "execution_count": 252,
   "metadata": {
    "collapsed": true
   },
   "outputs": [
    {
     "name": "stderr",
     "output_type": "stream",
     "text": [
      "C:\\Users\\HyunA\\AppData\\Local\\conda\\conda\\envs\\tutorial\\lib\\site-packages\\PIL\\Image.py:918: UserWarning: Palette images with Transparency   expressed in bytes should be converted to RGBA images\n  'to RGBA images')\n"
     ]
    },
    {
     "name": "stdout",
     "output_type": "stream",
     "text": [
      "complete change images\n"
     ]
    },
    {
     "name": "stdout",
     "output_type": "stream",
     "text": [
      "complete change images\n"
     ]
    },
    {
     "name": "stdout",
     "output_type": "stream",
     "text": [
      "complete change images\n"
     ]
    },
    {
     "name": "stdout",
     "output_type": "stream",
     "text": [
      "complete change images\n"
     ]
    }
   ],
   "source": [
    "# 이미지 사이즈 , 컬러, 변환 및 열리지 않는 파일 삭제 \n",
    "# 1. 이미지 변환 경로\n",
    "raw_image_dir ='C:\\\\Users\\\\HyunA\\\\PycharmProjects\\\\deeplearning\\\\dataset\\\\raw\\\\'\n",
    "\n",
    "# 2. 하위 폴더 이미지 일괄 처리 \n",
    "for folder in os.listdir(raw_image_dir):\n",
    "    keyword = folder\n",
    "    folder_dir = raw_image_dir+keyword\n",
    "    change_image(dir=folder_dir , keyword=keyword, extension='png', change_size=200, color=None)"
   ]
  },
  {
   "cell_type": "code",
   "execution_count": 254,
   "metadata": {},
   "outputs": [],
   "source": [
    "# 이미지 폴더 병합 함수 생성\n",
    "# 데이터 폴더 merge 함수 : image_folder_merge()\n",
    "# dir : 의자 > 의자. 의자들. 부서진 의자 등이 있는 폴더\n",
    "# copydir : 병합할 폴더 경로\n",
    "# keyword : 병합할 폴더명\n",
    "\n",
    "def image_folder_merge(dir, copydir, keyword):\n",
    "    copydir = copydir+'\\\\'+keyword\n",
    "    if not os.path.exists(copydir):\n",
    "        os.mkdir(copydir)\n",
    "\n",
    "    for dirname in os.listdir(dir):\n",
    "        if dirname.find(keyword) is not -1 :\n",
    "            print(dirname)\n",
    "            for filename in os.listdir(dir+'\\\\'+dirname):\n",
    "                if filename.find(keyword) is not -1:\n",
    "                    filedir = dir+dirname+'\\\\'+filename\n",
    "                    shutil.copy(filedir,copydir)\n",
    "\n",
    "    print('complete merge images')\n"
   ]
  },
  {
   "cell_type": "code",
   "execution_count": 256,
   "metadata": {},
   "outputs": [
    {
     "name": "stdout",
     "output_type": "stream",
     "text": [
      "broken chair\n"
     ]
    },
    {
     "name": "stdout",
     "output_type": "stream",
     "text": [
      "chair\n"
     ]
    },
    {
     "name": "stdout",
     "output_type": "stream",
     "text": [
      "complete merge images\n"
     ]
    }
   ],
   "source": [
    "# 여러 이미지 폴더 병합\n",
    "# 병합 이미지 폴더 명 \n",
    "folder_name = 'chair'\n",
    "\n",
    "# 이미지 경로 \n",
    "image_dir = 'C:\\\\Users\\\\HyunA\\\\PycharmProjects\\\\deeplearning\\\\dataset\\\\raw\\\\'\n",
    "copy_dir = 'C:\\\\Users\\\\HyunA\\\\PycharmProjects\\\\deeplearning\\\\dataset'\n",
    "\n",
    "# 이미지 병합 함수 실행\n",
    "image_folder_merge(image_dir, copy_dir,folder_name)\n"
   ]
  },
  {
   "cell_type": "code",
   "execution_count": 192,
   "metadata": {
    "collapsed": true
   },
   "outputs": [],
   "source": [
    "# fack image 생성하기 \n",
    "from keras.preprocessing.image import ImageDataGenerator, img_to_array, load_img\n",
    "\n",
    "datagen = ImageDataGenerator(\n",
    "    rotation_range=40,  # 0 ~ 180 까지 사진 회전\n",
    "    width_shift_range=0.2, # 수직적, 수평적으로 범위를 조정\n",
    "    height_shift_range=0.2, # \n",
    "    rescale=1./255, # 0~1 사이의 값으로 표준화\n",
    "    shear_range=0.2,   # shearing transformations : \n",
    "    zoom_range=0.2, # 랜덤하게 zoom in \n",
    "    horizontal_flip=True, # 이미지의 절반을 무작위로 수평으로 뒤집는것 \n",
    "    fill_mode='nearest' # 회전 또는 너비/높이 이동 후에 나타날 수 있는 공간에 새로운 픽셀로 채우는 전략\n",
    ")\n",
    "\n",
    "# fake 이미지 생성하기 \n",
    "folder_dir= 'C:\\\\Users\\\\HyunA\\\\PycharmProjects\\\\deeplearning\\\\dataset\\\\desk'\n",
    "\n",
    "for filename in os.listdir(folder_dir):\n",
    "    img = load_img(folder_dir+'\\\\'+filename)\n",
    "    x = img_to_array(img) # (3,100,100)\n",
    "    x = x.reshape((1,)+x.shape)  # numpy array with shape(1,1,100,100)\n",
    "    \n",
    "    i = 0\n",
    "    for batch in datagen.flow(x, batch_size=1,\n",
    "                              save_to_dir=folder_dir,\n",
    "                              save_prefix='desk',\n",
    "                              save_format='png'):\n",
    "        i += 1\n",
    "        if i > 10 :\n",
    "            break\n",
    "\n"
   ]
  },
  {
   "cell_type": "code",
   "execution_count": 257,
   "metadata": {},
   "outputs": [],
   "source": [
    "# 학습 이미지 데이터 분리 함수 생성\n",
    "# 모델학습을 위한 이미지 폴더 생성 : create_train_folder()\n",
    "# image_dir : 저장된 이미지 경로\n",
    "# save_dir : train, test 폴더가 저장될 경로\n",
    "# train_percent : train 데이터 비율\n",
    "\n",
    "def create_train_folder(image_dir, save_dir,keyword , train_percent):\n",
    "    train_dir = save_dir+'\\\\train\\\\'+keyword\n",
    "    test_dir = save_dir+'\\\\test\\\\'+keyword\n",
    "    train_percent = float(train_percent)\n",
    "    \n",
    "    # 디렉토리 생성\n",
    "    pathlib.Path(train_dir).mkdir(parents=True,exist_ok=True)\n",
    "    pathlib.Path(test_dir).mkdir(parents=True,exist_ok=True)\n",
    "\n",
    "    # 디렉토리내에 파일 섞어서 랜덤한 데이터 옮기기\n",
    "    list = os.listdir(image_dir)\n",
    "    # random.Random(4).shuffle(list)\n",
    "    random.shuffle(list)\n",
    "    index = round(len(os.listdir(image_dir))*train_percent)\n",
    "\n",
    "    for filename in list[:index]:        \n",
    "        shutil.move(image_dir+'\\\\'+filename, train_dir)\n",
    "\n",
    "    for filename in list[index:]:\n",
    "        shutil.move(image_dir+'\\\\'+filename, test_dir)\n",
    "\n",
    "    print('complete create train data folder')"
   ]
  },
  {
   "cell_type": "code",
   "execution_count": 261,
   "metadata": {
    "collapsed": false
   },
   "outputs": [
    {
     "name": "stdout",
     "output_type": "stream",
     "text": [
      "complete create train data folder\n"
     ]
    }
   ],
   "source": [
    "# 훈련, 테스트 데이터 분리 \n",
    "# 이미지 경로 \n",
    "# 이미지 경로 수정해주기 \n",
    "image_dir = 'C:\\\\Users\\\\HyunA\\\\PycharmProjects\\\\deeplearning\\\\dataset\\\\chair'\n",
    "save_dir = 'C:\\\\Users\\\\HyunA\\\\PycharmProjects\\\\deeplearning\\\\dataset'\n",
    "\n",
    "# 분리 함수 실행\n",
    "create_train_folder(image_dir,save_dir,'chair',0.7)"
   ]
  },
  {
   "cell_type": "code",
   "execution_count": 262,
   "metadata": {
    "collapsed": false
   },
   "outputs": [],
   "source": [
    "# simple CNN 생성하기 \n",
    "from keras.models import Sequential\n",
    "from keras.layers import  Conv2D,MaxPooling2D\n",
    "from keras.layers import Activation, Dropout, Flatten,Dense\n",
    "\n",
    "\n",
    "model = Sequential()\n",
    "# 입력층과 첫번째 히든레이어 \n",
    "model.add(Conv2D(32, kernel_size=(3,3), input_shape=(150,150,3), activation='relu'))\n",
    "model.add(MaxPooling2D(pool_size=(2)))\n",
    "\n",
    "# 두번째 히든레이어\n",
    "model.add(Conv2D(32,(3,3)))\n",
    "model.add(Activation('relu'))\n",
    "model.add(MaxPooling2D(pool_size=(2)))\n",
    "\n",
    "# 세번째 히든레이어\n",
    "model.add(Conv2D(64,(3,3)))\n",
    "model.add(Activation('relu'))\n",
    "model.add(MaxPooling2D(pool_size=(2)))\n",
    "\n",
    "# 출력층 \n",
    "model.add(Flatten())\n",
    "model.add(Dense(64))\n",
    "model.add(Activation('relu'))\n",
    "model.add(Dropout(0.5))\n",
    "model.add(Dense(1))\n",
    "model.add(Activation('sigmoid'))\n",
    "\n",
    "# 모델 컴파일\n",
    "model.compile(loss='binary_crossentropy',\n",
    "              optimizer='adam',\n",
    "              metrics=['accuracy'])\n",
    "\n"
   ]
  },
  {
   "cell_type": "code",
   "execution_count": 400,
   "metadata": {
    "collapsed": true
   },
   "outputs": [
    {
     "name": "stdout",
     "output_type": "stream",
     "text": [
      "Found 228 images belonging to 2 classes.\nFound 96 images belonging to 2 classes.\n"
     ]
    },
    {
     "name": "stdout",
     "output_type": "stream",
     "text": [
      "Epoch 1/10\n"
     ]
    },
    {
     "name": "stdout",
     "output_type": "stream",
     "text": [
      "\r 1/10 [==>...........................] - ETA: 1:24 - loss: 0.4181 - acc: 0.8214"
     ]
    },
    {
     "ename": "KeyboardInterrupt",
     "evalue": "",
     "traceback": [
      "\u001b[1;31m---------------------------------------------------------------------------\u001b[0m",
      "\u001b[1;31mKeyboardInterrupt\u001b[0m                         Traceback (most recent call last)",
      "\u001b[1;32m<ipython-input-400-f6ac36bcb015>\u001b[0m in \u001b[0;36m<module>\u001b[1;34m()\u001b[0m\n\u001b[0;32m     25\u001b[0m     \u001b[0mepochs\u001b[0m\u001b[1;33m=\u001b[0m\u001b[1;36m10\u001b[0m\u001b[1;33m,\u001b[0m\u001b[1;33m\u001b[0m\u001b[0m\n\u001b[0;32m     26\u001b[0m     \u001b[0mvalidation_data\u001b[0m\u001b[1;33m=\u001b[0m\u001b[0mtest_generator\u001b[0m\u001b[1;33m,\u001b[0m\u001b[1;33m\u001b[0m\u001b[0m\n\u001b[1;32m---> 27\u001b[1;33m     \u001b[0mvalidation_steps\u001b[0m\u001b[1;33m=\u001b[0m\u001b[1;36m2\u001b[0m\u001b[1;33m\u001b[0m\u001b[0m\n\u001b[0m\u001b[0;32m     28\u001b[0m )\n\u001b[0;32m     29\u001b[0m \u001b[1;33m\u001b[0m\u001b[0m\n",
      "\u001b[1;32m~\\AppData\\Local\\conda\\conda\\envs\\tutorial\\lib\\site-packages\\keras\\legacy\\interfaces.py\u001b[0m in \u001b[0;36mwrapper\u001b[1;34m(*args, **kwargs)\u001b[0m\n\u001b[0;32m     89\u001b[0m                 warnings.warn('Update your `' + object_name +\n\u001b[0;32m     90\u001b[0m                               '` call to the Keras 2 API: ' + signature, stacklevel=2)\n\u001b[1;32m---> 91\u001b[1;33m             \u001b[1;32mreturn\u001b[0m \u001b[0mfunc\u001b[0m\u001b[1;33m(\u001b[0m\u001b[1;33m*\u001b[0m\u001b[0margs\u001b[0m\u001b[1;33m,\u001b[0m \u001b[1;33m**\u001b[0m\u001b[0mkwargs\u001b[0m\u001b[1;33m)\u001b[0m\u001b[1;33m\u001b[0m\u001b[0m\n\u001b[0m\u001b[0;32m     92\u001b[0m         \u001b[0mwrapper\u001b[0m\u001b[1;33m.\u001b[0m\u001b[0m_original_function\u001b[0m \u001b[1;33m=\u001b[0m \u001b[0mfunc\u001b[0m\u001b[1;33m\u001b[0m\u001b[0m\n\u001b[0;32m     93\u001b[0m         \u001b[1;32mreturn\u001b[0m \u001b[0mwrapper\u001b[0m\u001b[1;33m\u001b[0m\u001b[0m\n",
      "\u001b[1;32m~\\AppData\\Local\\conda\\conda\\envs\\tutorial\\lib\\site-packages\\keras\\engine\\training.py\u001b[0m in \u001b[0;36mfit_generator\u001b[1;34m(self, generator, steps_per_epoch, epochs, verbose, callbacks, validation_data, validation_steps, class_weight, max_queue_size, workers, use_multiprocessing, shuffle, initial_epoch)\u001b[0m\n\u001b[0;32m   2228\u001b[0m                     outs = self.train_on_batch(x, y,\n\u001b[0;32m   2229\u001b[0m                                                \u001b[0msample_weight\u001b[0m\u001b[1;33m=\u001b[0m\u001b[0msample_weight\u001b[0m\u001b[1;33m,\u001b[0m\u001b[1;33m\u001b[0m\u001b[0m\n\u001b[1;32m-> 2230\u001b[1;33m                                                class_weight=class_weight)\n\u001b[0m\u001b[0;32m   2231\u001b[0m \u001b[1;33m\u001b[0m\u001b[0m\n\u001b[0;32m   2232\u001b[0m                     \u001b[1;32mif\u001b[0m \u001b[1;32mnot\u001b[0m \u001b[0misinstance\u001b[0m\u001b[1;33m(\u001b[0m\u001b[0mouts\u001b[0m\u001b[1;33m,\u001b[0m \u001b[0mlist\u001b[0m\u001b[1;33m)\u001b[0m\u001b[1;33m:\u001b[0m\u001b[1;33m\u001b[0m\u001b[0m\n",
      "\u001b[1;32m~\\AppData\\Local\\conda\\conda\\envs\\tutorial\\lib\\site-packages\\keras\\engine\\training.py\u001b[0m in \u001b[0;36mtrain_on_batch\u001b[1;34m(self, x, y, sample_weight, class_weight)\u001b[0m\n\u001b[0;32m   1881\u001b[0m             \u001b[0mins\u001b[0m \u001b[1;33m=\u001b[0m \u001b[0mx\u001b[0m \u001b[1;33m+\u001b[0m \u001b[0my\u001b[0m \u001b[1;33m+\u001b[0m \u001b[0msample_weights\u001b[0m\u001b[1;33m\u001b[0m\u001b[0m\n\u001b[0;32m   1882\u001b[0m         \u001b[0mself\u001b[0m\u001b[1;33m.\u001b[0m\u001b[0m_make_train_function\u001b[0m\u001b[1;33m(\u001b[0m\u001b[1;33m)\u001b[0m\u001b[1;33m\u001b[0m\u001b[0m\n\u001b[1;32m-> 1883\u001b[1;33m         \u001b[0moutputs\u001b[0m \u001b[1;33m=\u001b[0m \u001b[0mself\u001b[0m\u001b[1;33m.\u001b[0m\u001b[0mtrain_function\u001b[0m\u001b[1;33m(\u001b[0m\u001b[0mins\u001b[0m\u001b[1;33m)\u001b[0m\u001b[1;33m\u001b[0m\u001b[0m\n\u001b[0m\u001b[0;32m   1884\u001b[0m         \u001b[1;32mif\u001b[0m \u001b[0mlen\u001b[0m\u001b[1;33m(\u001b[0m\u001b[0moutputs\u001b[0m\u001b[1;33m)\u001b[0m \u001b[1;33m==\u001b[0m \u001b[1;36m1\u001b[0m\u001b[1;33m:\u001b[0m\u001b[1;33m\u001b[0m\u001b[0m\n\u001b[0;32m   1885\u001b[0m             \u001b[1;32mreturn\u001b[0m \u001b[0moutputs\u001b[0m\u001b[1;33m[\u001b[0m\u001b[1;36m0\u001b[0m\u001b[1;33m]\u001b[0m\u001b[1;33m\u001b[0m\u001b[0m\n",
      "\u001b[1;32m~\\AppData\\Local\\conda\\conda\\envs\\tutorial\\lib\\site-packages\\keras\\backend\\tensorflow_backend.py\u001b[0m in \u001b[0;36m__call__\u001b[1;34m(self, inputs)\u001b[0m\n\u001b[0;32m   2480\u001b[0m         \u001b[0msession\u001b[0m \u001b[1;33m=\u001b[0m \u001b[0mget_session\u001b[0m\u001b[1;33m(\u001b[0m\u001b[1;33m)\u001b[0m\u001b[1;33m\u001b[0m\u001b[0m\n\u001b[0;32m   2481\u001b[0m         updated = session.run(fetches=fetches, feed_dict=feed_dict,\n\u001b[1;32m-> 2482\u001b[1;33m                               **self.session_kwargs)\n\u001b[0m\u001b[0;32m   2483\u001b[0m         \u001b[1;32mreturn\u001b[0m \u001b[0mupdated\u001b[0m\u001b[1;33m[\u001b[0m\u001b[1;33m:\u001b[0m\u001b[0mlen\u001b[0m\u001b[1;33m(\u001b[0m\u001b[0mself\u001b[0m\u001b[1;33m.\u001b[0m\u001b[0moutputs\u001b[0m\u001b[1;33m)\u001b[0m\u001b[1;33m]\u001b[0m\u001b[1;33m\u001b[0m\u001b[0m\n\u001b[0;32m   2484\u001b[0m \u001b[1;33m\u001b[0m\u001b[0m\n",
      "\u001b[1;32m~\\AppData\\Local\\conda\\conda\\envs\\tutorial\\lib\\site-packages\\tensorflow\\python\\client\\session.py\u001b[0m in \u001b[0;36mrun\u001b[1;34m(self, fetches, feed_dict, options, run_metadata)\u001b[0m\n\u001b[0;32m    898\u001b[0m     \u001b[1;32mtry\u001b[0m\u001b[1;33m:\u001b[0m\u001b[1;33m\u001b[0m\u001b[0m\n\u001b[0;32m    899\u001b[0m       result = self._run(None, fetches, feed_dict, options_ptr,\n\u001b[1;32m--> 900\u001b[1;33m                          run_metadata_ptr)\n\u001b[0m\u001b[0;32m    901\u001b[0m       \u001b[1;32mif\u001b[0m \u001b[0mrun_metadata\u001b[0m\u001b[1;33m:\u001b[0m\u001b[1;33m\u001b[0m\u001b[0m\n\u001b[0;32m    902\u001b[0m         \u001b[0mproto_data\u001b[0m \u001b[1;33m=\u001b[0m \u001b[0mtf_session\u001b[0m\u001b[1;33m.\u001b[0m\u001b[0mTF_GetBuffer\u001b[0m\u001b[1;33m(\u001b[0m\u001b[0mrun_metadata_ptr\u001b[0m\u001b[1;33m)\u001b[0m\u001b[1;33m\u001b[0m\u001b[0m\n",
      "\u001b[1;32m~\\AppData\\Local\\conda\\conda\\envs\\tutorial\\lib\\site-packages\\tensorflow\\python\\client\\session.py\u001b[0m in \u001b[0;36m_run\u001b[1;34m(self, handle, fetches, feed_dict, options, run_metadata)\u001b[0m\n\u001b[0;32m   1133\u001b[0m     \u001b[1;32mif\u001b[0m \u001b[0mfinal_fetches\u001b[0m \u001b[1;32mor\u001b[0m \u001b[0mfinal_targets\u001b[0m \u001b[1;32mor\u001b[0m \u001b[1;33m(\u001b[0m\u001b[0mhandle\u001b[0m \u001b[1;32mand\u001b[0m \u001b[0mfeed_dict_tensor\u001b[0m\u001b[1;33m)\u001b[0m\u001b[1;33m:\u001b[0m\u001b[1;33m\u001b[0m\u001b[0m\n\u001b[0;32m   1134\u001b[0m       results = self._do_run(handle, final_targets, final_fetches,\n\u001b[1;32m-> 1135\u001b[1;33m                              feed_dict_tensor, options, run_metadata)\n\u001b[0m\u001b[0;32m   1136\u001b[0m     \u001b[1;32melse\u001b[0m\u001b[1;33m:\u001b[0m\u001b[1;33m\u001b[0m\u001b[0m\n\u001b[0;32m   1137\u001b[0m       \u001b[0mresults\u001b[0m \u001b[1;33m=\u001b[0m \u001b[1;33m[\u001b[0m\u001b[1;33m]\u001b[0m\u001b[1;33m\u001b[0m\u001b[0m\n",
      "\u001b[1;32m~\\AppData\\Local\\conda\\conda\\envs\\tutorial\\lib\\site-packages\\tensorflow\\python\\client\\session.py\u001b[0m in \u001b[0;36m_do_run\u001b[1;34m(self, handle, target_list, fetch_list, feed_dict, options, run_metadata)\u001b[0m\n\u001b[0;32m   1314\u001b[0m     \u001b[1;32mif\u001b[0m \u001b[0mhandle\u001b[0m \u001b[1;32mis\u001b[0m \u001b[1;32mNone\u001b[0m\u001b[1;33m:\u001b[0m\u001b[1;33m\u001b[0m\u001b[0m\n\u001b[0;32m   1315\u001b[0m       return self._do_call(_run_fn, feeds, fetches, targets, options,\n\u001b[1;32m-> 1316\u001b[1;33m                            run_metadata)\n\u001b[0m\u001b[0;32m   1317\u001b[0m     \u001b[1;32melse\u001b[0m\u001b[1;33m:\u001b[0m\u001b[1;33m\u001b[0m\u001b[0m\n\u001b[0;32m   1318\u001b[0m       \u001b[1;32mreturn\u001b[0m \u001b[0mself\u001b[0m\u001b[1;33m.\u001b[0m\u001b[0m_do_call\u001b[0m\u001b[1;33m(\u001b[0m\u001b[0m_prun_fn\u001b[0m\u001b[1;33m,\u001b[0m \u001b[0mhandle\u001b[0m\u001b[1;33m,\u001b[0m \u001b[0mfeeds\u001b[0m\u001b[1;33m,\u001b[0m \u001b[0mfetches\u001b[0m\u001b[1;33m)\u001b[0m\u001b[1;33m\u001b[0m\u001b[0m\n",
      "\u001b[1;32m~\\AppData\\Local\\conda\\conda\\envs\\tutorial\\lib\\site-packages\\tensorflow\\python\\client\\session.py\u001b[0m in \u001b[0;36m_do_call\u001b[1;34m(self, fn, *args)\u001b[0m\n\u001b[0;32m   1320\u001b[0m   \u001b[1;32mdef\u001b[0m \u001b[0m_do_call\u001b[0m\u001b[1;33m(\u001b[0m\u001b[0mself\u001b[0m\u001b[1;33m,\u001b[0m \u001b[0mfn\u001b[0m\u001b[1;33m,\u001b[0m \u001b[1;33m*\u001b[0m\u001b[0margs\u001b[0m\u001b[1;33m)\u001b[0m\u001b[1;33m:\u001b[0m\u001b[1;33m\u001b[0m\u001b[0m\n\u001b[0;32m   1321\u001b[0m     \u001b[1;32mtry\u001b[0m\u001b[1;33m:\u001b[0m\u001b[1;33m\u001b[0m\u001b[0m\n\u001b[1;32m-> 1322\u001b[1;33m       \u001b[1;32mreturn\u001b[0m \u001b[0mfn\u001b[0m\u001b[1;33m(\u001b[0m\u001b[1;33m*\u001b[0m\u001b[0margs\u001b[0m\u001b[1;33m)\u001b[0m\u001b[1;33m\u001b[0m\u001b[0m\n\u001b[0m\u001b[0;32m   1323\u001b[0m     \u001b[1;32mexcept\u001b[0m \u001b[0merrors\u001b[0m\u001b[1;33m.\u001b[0m\u001b[0mOpError\u001b[0m \u001b[1;32mas\u001b[0m \u001b[0me\u001b[0m\u001b[1;33m:\u001b[0m\u001b[1;33m\u001b[0m\u001b[0m\n\u001b[0;32m   1324\u001b[0m       \u001b[0mmessage\u001b[0m \u001b[1;33m=\u001b[0m \u001b[0mcompat\u001b[0m\u001b[1;33m.\u001b[0m\u001b[0mas_text\u001b[0m\u001b[1;33m(\u001b[0m\u001b[0me\u001b[0m\u001b[1;33m.\u001b[0m\u001b[0mmessage\u001b[0m\u001b[1;33m)\u001b[0m\u001b[1;33m\u001b[0m\u001b[0m\n",
      "\u001b[1;32m~\\AppData\\Local\\conda\\conda\\envs\\tutorial\\lib\\site-packages\\tensorflow\\python\\client\\session.py\u001b[0m in \u001b[0;36m_run_fn\u001b[1;34m(feed_dict, fetch_list, target_list, options, run_metadata)\u001b[0m\n\u001b[0;32m   1305\u001b[0m       \u001b[0mself\u001b[0m\u001b[1;33m.\u001b[0m\u001b[0m_extend_graph\u001b[0m\u001b[1;33m(\u001b[0m\u001b[1;33m)\u001b[0m\u001b[1;33m\u001b[0m\u001b[0m\n\u001b[0;32m   1306\u001b[0m       return self._call_tf_sessionrun(\n\u001b[1;32m-> 1307\u001b[1;33m           options, feed_dict, fetch_list, target_list, run_metadata)\n\u001b[0m\u001b[0;32m   1308\u001b[0m \u001b[1;33m\u001b[0m\u001b[0m\n\u001b[0;32m   1309\u001b[0m     \u001b[1;32mdef\u001b[0m \u001b[0m_prun_fn\u001b[0m\u001b[1;33m(\u001b[0m\u001b[0mhandle\u001b[0m\u001b[1;33m,\u001b[0m \u001b[0mfeed_dict\u001b[0m\u001b[1;33m,\u001b[0m \u001b[0mfetch_list\u001b[0m\u001b[1;33m)\u001b[0m\u001b[1;33m:\u001b[0m\u001b[1;33m\u001b[0m\u001b[0m\n",
      "\u001b[1;32m~\\AppData\\Local\\conda\\conda\\envs\\tutorial\\lib\\site-packages\\tensorflow\\python\\client\\session.py\u001b[0m in \u001b[0;36m_call_tf_sessionrun\u001b[1;34m(self, options, feed_dict, fetch_list, target_list, run_metadata)\u001b[0m\n\u001b[0;32m   1407\u001b[0m       return tf_session.TF_SessionRun_wrapper(\n\u001b[0;32m   1408\u001b[0m           \u001b[0mself\u001b[0m\u001b[1;33m.\u001b[0m\u001b[0m_session\u001b[0m\u001b[1;33m,\u001b[0m \u001b[0moptions\u001b[0m\u001b[1;33m,\u001b[0m \u001b[0mfeed_dict\u001b[0m\u001b[1;33m,\u001b[0m \u001b[0mfetch_list\u001b[0m\u001b[1;33m,\u001b[0m \u001b[0mtarget_list\u001b[0m\u001b[1;33m,\u001b[0m\u001b[1;33m\u001b[0m\u001b[0m\n\u001b[1;32m-> 1409\u001b[1;33m           run_metadata)\n\u001b[0m\u001b[0;32m   1410\u001b[0m     \u001b[1;32melse\u001b[0m\u001b[1;33m:\u001b[0m\u001b[1;33m\u001b[0m\u001b[0m\n\u001b[0;32m   1411\u001b[0m       \u001b[1;32mwith\u001b[0m \u001b[0merrors\u001b[0m\u001b[1;33m.\u001b[0m\u001b[0mraise_exception_on_not_ok_status\u001b[0m\u001b[1;33m(\u001b[0m\u001b[1;33m)\u001b[0m \u001b[1;32mas\u001b[0m \u001b[0mstatus\u001b[0m\u001b[1;33m:\u001b[0m\u001b[1;33m\u001b[0m\u001b[0m\n",
      "\u001b[1;31mKeyboardInterrupt\u001b[0m: "
     ],
     "output_type": "error"
    }
   ],
   "source": [
    "# 데이터 업로드 \n",
    "batch_size = 100\n",
    "\n",
    "train_datagen = ImageDataGenerator(rescale=1./255)\n",
    "test_datagen = ImageDataGenerator(rescale=1./255)\n",
    "\n",
    "# 디렉토리에 있는 데이터 불러오기 \n",
    "train_generator = train_datagen.flow_from_directory(\n",
    "    'C:\\\\Users\\\\HyunA\\\\PycharmProjects\\\\deeplearning\\\\dataset\\\\train',\n",
    "    target_size=(150,150),\n",
    "    batch_size=batch_size,\n",
    "    class_mode='binary'\n",
    ")\n",
    "\n",
    "test_generator = test_datagen.flow_from_directory(\n",
    "    'C:\\\\Users\\\\HyunA\\\\PycharmProjects\\\\deeplearning\\\\dataset\\\\test',\n",
    "    target_size=(150,150),\n",
    "    batch_size=batch_size,\n",
    "    class_mode='binary'\n",
    ")\n",
    "\n",
    "model.fit_generator(\n",
    "    train_generator,\n",
    "    steps_per_epoch=10,\n",
    "    epochs=10,\n",
    "    validation_data=test_generator,\n",
    "    validation_steps=2\n",
    ")\n",
    "\n",
    "# 모델가중치 저장\n",
    "model.save_weights('first_try.h5')\n",
    "\n",
    "# train loss ; 0.53 , acc : 0.72 \n",
    "# trest loss ; 0.58 , acc : 0.68\n"
   ]
  },
  {
   "cell_type": "code",
   "execution_count": 416,
   "metadata": {
    "collapsed": false
   },
   "outputs": [
    {
     "name": "stdout",
     "output_type": "stream",
     "text": [
      "15\n"
     ]
    },
    {
     "name": "stdout",
     "output_type": "stream",
     "text": [
      "Found 228 images belonging to 2 classes.\n15\n"
     ]
    },
    {
     "ename": "AttributeError",
     "evalue": "module 'numpy' has no attribute 'tofile'",
     "traceback": [
      "\u001b[1;31m---------------------------------------------------------------------------\u001b[0m",
      "\u001b[1;31mAttributeError\u001b[0m                            Traceback (most recent call last)",
      "\u001b[1;32m<ipython-input-416-95448acd9685>\u001b[0m in \u001b[0;36m<module>\u001b[1;34m()\u001b[0m\n\u001b[0;32m     56\u001b[0m             bottleneck_features_test)\n\u001b[0;32m     57\u001b[0m \u001b[1;33m\u001b[0m\u001b[0m\n\u001b[1;32m---> 58\u001b[1;33m \u001b[0msave_bottleneck_features\u001b[0m\u001b[1;33m(\u001b[0m\u001b[1;33m)\u001b[0m\u001b[1;33m\u001b[0m\u001b[0m\n\u001b[0m",
      "\u001b[1;32m<ipython-input-416-95448acd9685>\u001b[0m in \u001b[0;36msave_bottleneck_features\u001b[1;34m()\u001b[0m\n\u001b[0;32m     40\u001b[0m     \u001b[1;31m# 이미지를 예측하고 , 훈련 데이터 저장하기\u001b[0m\u001b[1;33m\u001b[0m\u001b[1;33m\u001b[0m\u001b[0m\n\u001b[0;32m     41\u001b[0m     \u001b[0mbottleneck_features_train\u001b[0m \u001b[1;33m=\u001b[0m \u001b[0mmodel\u001b[0m\u001b[1;33m.\u001b[0m\u001b[0mpredict_generator\u001b[0m\u001b[1;33m(\u001b[0m\u001b[0mgenerator\u001b[0m\u001b[1;33m,\u001b[0m \u001b[0mpredict_size_train\u001b[0m\u001b[1;33m)\u001b[0m\u001b[1;33m\u001b[0m\u001b[0m\n\u001b[1;32m---> 42\u001b[1;33m     np.tofile((open('C:\\\\Users\\\\HyunA\\\\PycharmProjects\\\\deeplearning\\\\models\\\\bottleneck_feature_train.npy'\n\u001b[0m\u001b[0;32m     43\u001b[0m                  ,'wb'), bottleneck_features_train))\n\u001b[0;32m     44\u001b[0m \u001b[1;33m\u001b[0m\u001b[0m\n",
      "\u001b[1;31mAttributeError\u001b[0m: module 'numpy' has no attribute 'tofile'"
     ],
     "output_type": "error"
    }
   ],
   "source": [
    "# VGG 사전에 train 된 모델을 이용해서 예측해보자 \n",
    "from keras import applications\n",
    "from keras.preprocessing.image import ImageDataGenerator\n",
    "from keras import optimizers\n",
    "from keras.models import Sequential\n",
    "from keras.layers import Dropout,Flatten,Dense\n",
    "import numpy as np\n",
    "import math\n",
    "# 이미지 크기 \n",
    "img_width, img_height = 150  , 150\n",
    "\n",
    "top_model_weights_path = 'C:\\\\Users\\\\HyunA\\\\PycharmProjects\\\\deeplearning\\\\models\\\\bottleneck_fc_model.h5'\n",
    "train_data_dir = 'C:\\\\Users\\\\HyunA\\\\PycharmProjects\\\\deeplearning\\\\dataset\\\\train'\n",
    "test_date_dir = 'C:\\\\Users\\\\HyunA\\\\PycharmProjects\\\\deeplearning\\\\dataset\\\\test'\n",
    "nb_train_samples  = 228\n",
    "nb_test_samples = 96\n",
    "\n",
    "epochs = 1\n",
    "batch_size=16\n",
    "\n",
    "predict_size_train = int(math.ceil(nb_train_samples / batch_size))\n",
    "predict_size_test = int(math.ceil(nb_test_samples / batch_size))\n",
    "print(predict_size_train)\n",
    "\n",
    "def save_bottleneck_features():\n",
    "    datagen = ImageDataGenerator(rescale=1./255)\n",
    "    \n",
    "    # VGG 16 네트워크 가져오기\n",
    "    model = applications.VGG16(include_top=False, weights='imagenet')\n",
    "    \n",
    "    # 훈련데이터 가져오기 \n",
    "    generator = datagen.flow_from_directory(\n",
    "        train_data_dir,\n",
    "        target_size=(img_width,img_height),\n",
    "        batch_size=batch_size,\n",
    "        class_mode=None,\n",
    "        shuffle=False\n",
    "    )\n",
    "    print(len(generator))\n",
    "    # 이미지를 예측하고 , 훈련 데이터 저장하기 \n",
    "    bottleneck_features_train = model.predict_generator(generator, predict_size_train)\n",
    "    np.tofile(open('C:\\\\Users\\\\HyunA\\\\PycharmProjects\\\\deeplearning\\\\models\\\\bottleneck_feature_train.npy'\n",
    "                 ,'wb'), bottleneck_features_train)\n",
    "\n",
    "\n",
    "    generator = datagen.flow_from_directory(\n",
    "        test_date_dir,\n",
    "        target_size=(img_width,img_height),\n",
    "        batch_size= batch_size,\n",
    "        class_mode=None,\n",
    "        shuffle=False\n",
    "    )\n",
    "    bottleneck_features_test = model.predict_generator(generator, predict_size_test)\n",
    "    np.save(open('C:\\\\Users\\\\HyunA\\\\PycharmProjects\\\\deeplearning\\\\models\\\\bottleneck_features_test.npy'\n",
    "                 ,'wb'),\n",
    "            bottleneck_features_test)\n",
    "\n",
    "save_bottleneck_features()"
   ]
  },
  {
   "cell_type": "code",
   "execution_count": 408,
   "metadata": {
    "collapsed": false
   },
   "outputs": [
    {
     "name": "stdout",
     "output_type": "stream",
     "text": [
      "(4, 4, 512)\n"
     ]
    }
   ],
   "source": [
    "\n",
    "def train_top_model():\n",
    "    \n",
    "    train_data = np.load(open('C:\\\\Users\\\\HyunA\\\\PycharmProjects\\\\deeplearning\\\\models\\\\bottleneck_feature_train.npy'\n",
    "                              ,'rb'))\n",
    "    train_labels = np.array(\n",
    "        [0]*(nb_train_samples//2)+[1]*(nb_train_samples//2))\n",
    "    \n",
    "    test_data = np.load(open('C:\\\\Users\\\\HyunA\\\\PycharmProjects\\\\deeplearning\\\\models\\\\bottleneck_features_test.npy','rb'))\n",
    "    test_labels = np.array(\n",
    "        [0]*(nb_test_samples//2)+[1]*(nb_test_samples//2))\n",
    "    # \n",
    "    # model = Sequential()\n",
    "    # model.add(Flatten(input_shape=train_data.shape[1:]))\n",
    "    # model.add(Dense(256, activation='relu'))\n",
    "    # model.add(Dropout(0.5))\n",
    "    # model.add(Dense(1, activation='sigmoid'))\n",
    "    # \n",
    "    # model.compile(optimizer='rmsprop',\n",
    "    #               loss='binary_crossentropy',\n",
    "    #               metrics=['accuracy'])\n",
    "    # \n",
    "    # model.fit(train_data,train_labels,\n",
    "    #           epochs=epochs,\n",
    "    #           batch_size=batch_size,\n",
    "    #           validation_data=(test_data,test_labels))\n",
    "    # model.save_weights(top_model_weights_path)\n",
    "\n",
    "train_top_model()"
   ]
  },
  {
   "cell_type": "code",
   "execution_count": 407,
   "metadata": {
    "collapsed": false
   },
   "outputs": [
    {
     "name": "stdout",
     "output_type": "stream",
     "text": [
      "Model loaded\n(4, 4, 512)\n"
     ]
    },
    {
     "name": "stderr",
     "output_type": "stream",
     "text": [
      "C:\\Users\\HyunA\\AppData\\Local\\conda\\conda\\envs\\tutorial\\lib\\site-packages\\ipykernel\\__main__.py:40: UserWarning: Update your `Model` call to the Keras 2 API: `Model(outputs=Tensor(\"se..., inputs=Tensor(\"in...)`\n"
     ]
    },
    {
     "name": "stdout",
     "output_type": "stream",
     "text": [
      "Found 228 images belonging to 2 classes.\nFound 96 images belonging to 2 classes.\n"
     ]
    },
    {
     "name": "stderr",
     "output_type": "stream",
     "text": [
      "C:\\Users\\HyunA\\AppData\\Local\\conda\\conda\\envs\\tutorial\\lib\\site-packages\\ipykernel\\__main__.py:96: UserWarning: The semantics of the Keras 2 argument `steps_per_epoch` is not the same as the Keras 1 argument `samples_per_epoch`. `steps_per_epoch` is the number of batches to draw from the generator at each epoch. Basically steps_per_epoch = samples_per_epoch/batch_size. Similarly `nb_val_samples`->`validation_steps` and `val_samples`->`steps` arguments have changed. Update your method calls accordingly.\nC:\\Users\\HyunA\\AppData\\Local\\conda\\conda\\envs\\tutorial\\lib\\site-packages\\ipykernel\\__main__.py:96: UserWarning: Update your `fit_generator` call to the Keras 2 API: `fit_generator(<keras.pre..., validation_data=<keras.pre..., steps_per_epoch=14, epochs=5, validation_steps=96, callbacks=[<keras.ca...)`\n"
     ]
    },
    {
     "name": "stdout",
     "output_type": "stream",
     "text": [
      "Epoch 1/5\n"
     ]
    },
    {
     "name": "stdout",
     "output_type": "stream",
     "text": [
      "\r 1/14 [=>............................] - ETA: 1:41 - loss: 0.9702 - acc: 0.8750"
     ]
    },
    {
     "name": "stdout",
     "output_type": "stream",
     "text": [
      "\b\b\b\b\b\b\b\b\b\b\b\b\b\b\b\b\b\b\b\b\b\b\b\b\b\b\b\b\b\b\b\b\b\b\b\b\b\b\b\b\b\b\b\b\b\b\b\b\b\b\b\b\b\b\b\b\b\b\b\b\b\b\b\b\b\b\b\b\b\b\b\b\b\b\b\b\b\b\b\r 2/14 [===>..........................] - ETA: 1:12 - loss: 0.7630 - acc: 0.8438"
     ]
    },
    {
     "name": "stdout",
     "output_type": "stream",
     "text": [
      "\b\b\b\b\b\b\b\b\b\b\b\b\b\b\b\b\b\b\b\b\b\b\b\b\b\b\b\b\b\b\b\b\b\b\b\b\b\b\b\b\b\b\b\b\b\b\b\b\b\b\b\b\b\b\b\b\b\b\b\b\b\b\b\b\b\b\b\b\b\b\b\b\b\b\b\b\b\b\b\r 3/14 [=====>........................] - ETA: 59s - loss: 0.5738 - acc: 0.8750 "
     ]
    },
    {
     "name": "stdout",
     "output_type": "stream",
     "text": [
      "\b\b\b\b\b\b\b\b\b\b\b\b\b\b\b\b\b\b\b\b\b\b\b\b\b\b\b\b\b\b\b\b\b\b\b\b\b\b\b\b\b\b\b\b\b\b\b\b\b\b\b\b\b\b\b\b\b\b\b\b\b\b\b\b\b\b\b\b\b\b\b\b\b\b\b\b\b\b\r 4/14 [=======>......................] - ETA: 51s - loss: 0.7429 - acc: 0.7969"
     ]
    },
    {
     "name": "stdout",
     "output_type": "stream",
     "text": [
      "\b\b\b\b\b\b\b\b\b\b\b\b\b\b\b\b\b\b\b\b\b\b\b\b\b\b\b\b\b\b\b\b\b\b\b\b\b\b\b\b\b\b\b\b\b\b\b\b\b\b\b\b\b\b\b\b\b\b\b\b\b\b\b\b\b\b\b\b\b\b\b\b\b\b\b\b\b\b\r 5/14 [=========>....................] - ETA: 44s - loss: 0.6187 - acc: 0.8250"
     ]
    },
    {
     "name": "stdout",
     "output_type": "stream",
     "text": [
      "\b\b\b\b\b\b\b\b\b\b\b\b\b\b\b\b\b\b\b\b\b\b\b\b\b\b\b\b\b\b\b\b\b\b\b\b\b\b\b\b\b\b\b\b\b\b\b\b\b\b\b\b\b\b\b\b\b\b\b\b\b\b\b\b\b\b\b\b\b\b\b\b\b\b\b\b\b\b\r 6/14 [===========>..................] - ETA: 38s - loss: 0.5688 - acc: 0.8229"
     ]
    },
    {
     "name": "stdout",
     "output_type": "stream",
     "text": [
      "\b\b\b\b\b\b\b\b\b\b\b\b\b\b\b\b\b\b\b\b\b\b\b\b\b\b\b\b\b\b\b\b\b\b\b\b\b\b\b\b\b\b\b\b\b\b\b\b\b\b\b\b\b\b\b\b\b\b\b\b\b\b\b\b\b\b\b\b\b\b\b\b\b\b\b\b\b\b\r 7/14 [==============>...............] - ETA: 32s - loss: 0.5419 - acc: 0.8214"
     ]
    },
    {
     "name": "stdout",
     "output_type": "stream",
     "text": [
      "\b\b\b\b\b\b\b\b\b\b\b\b\b\b\b\b\b\b\b\b\b\b\b\b\b\b\b\b\b\b\b\b\b\b\b\b\b\b\b\b\b\b\b\b\b\b\b\b\b\b\b\b\b\b\b\b\b\b\b\b\b\b\b\b\b\b\b\b\b\b\b\b\b\b\b\b\b\b\r 8/14 [================>.............] - ETA: 27s - loss: 0.4938 - acc: 0.8281"
     ]
    },
    {
     "name": "stdout",
     "output_type": "stream",
     "text": [
      "\b\b\b\b\b\b\b\b\b\b\b\b\b\b\b\b\b\b\b\b\b\b\b\b\b\b\b\b\b\b\b\b\b\b\b\b\b\b\b\b\b\b\b\b\b\b\b\b\b\b\b\b\b\b\b\b\b\b\b\b\b\b\b\b\b\b\b\b\b\b\b\b\b\b\b\b\b\b\r 9/14 [==================>...........] - ETA: 22s - loss: 0.4747 - acc: 0.8333"
     ]
    },
    {
     "name": "stdout",
     "output_type": "stream",
     "text": [
      "\b\b\b\b\b\b\b\b\b\b\b\b\b\b\b\b\b\b\b\b\b\b\b\b\b\b\b\b\b\b\b\b\b\b\b\b\b\b\b\b\b\b\b\b\b\b\b\b\b\b\b\b\b\b\b\b\b\b\b\b\b\b\b\b\b\b\b\b\b\b\b\b\b\b\b\b\b\b\r10/14 [====================>.........] - ETA: 18s - loss: 0.5061 - acc: 0.8313"
     ]
    },
    {
     "name": "stdout",
     "output_type": "stream",
     "text": [
      "\b\b\b\b\b\b\b\b\b\b\b\b\b\b\b\b\b\b\b\b\b\b\b\b\b\b\b\b\b\b\b\b\b\b\b\b\b\b\b\b\b\b\b\b\b\b\b\b\b\b\b\b\b\b\b\b\b\b\b\b\b\b\b\b\b\b\b\b\b\b\b\b\b\b\b\b\b\b\r11/14 [======================>.......] - ETA: 12s - loss: 0.4612 - acc: 0.8466"
     ]
    },
    {
     "name": "stdout",
     "output_type": "stream",
     "text": [
      "\b\b\b\b\b\b\b\b\b\b\b\b\b\b\b\b\b\b\b\b\b\b\b\b\b\b\b\b\b\b\b\b\b\b\b\b\b\b\b\b\b\b\b\b\b\b\b\b\b\b\b\b\b\b\b\b\b\b\b\b\b\b\b\b\b\b\b\b\b\b\b\b\b\b\b\b\b\b\r12/14 [========================>.....] - ETA: 8s - loss: 0.4401 - acc: 0.8542 "
     ]
    },
    {
     "name": "stdout",
     "output_type": "stream",
     "text": [
      "\b\b\b\b\b\b\b\b\b\b\b\b\b\b\b\b\b\b\b\b\b\b\b\b\b\b\b\b\b\b\b\b\b\b\b\b\b\b\b\b\b\b\b\b\b\b\b\b\b\b\b\b\b\b\b\b\b\b\b\b\b\b\b\b\b\b\b\b\b\b\b\b\b\b\b\b\b\r13/14 [==========================>...] - ETA: 4s - loss: 0.4461 - acc: 0.8510"
     ]
    },
    {
     "name": "stdout",
     "output_type": "stream",
     "text": [
      "\b\b\b\b\b\b\b\b\b\b\b\b\b\b\b\b\b\b\b\b\b\b\b\b\b\b\b\b\b\b\b\b\b\b\b\b\b\b\b\b\b\b\b\b\b\b\b\b\b\b\b\b\b\b\b\b\b\b\b\b\b\b\b\b\b\b\b\b\b\b\b\b\b\b\b\b\b\r14/14 [==============================] - 432s 31s/step - loss: 0.4355 - acc: 0.8521 - val_loss: 0.2630 - val_acc: 0.9062\n"
     ]
    },
    {
     "name": "stdout",
     "output_type": "stream",
     "text": [
      "\nEpoch 00001: val_loss improved from inf to 0.26296, saving model to C:\\Users\\HyunA\\PycharmProjects\\deeplearning\\models\\vgg16_models\\01-0.2630.hdf5\n"
     ]
    },
    {
     "name": "stdout",
     "output_type": "stream",
     "text": [
      "Epoch 2/5\n"
     ]
    },
    {
     "name": "stdout",
     "output_type": "stream",
     "text": [
      "\r 1/14 [=>............................] - ETA: 1:01 - loss: 0.3421 - acc: 0.8125"
     ]
    },
    {
     "name": "stdout",
     "output_type": "stream",
     "text": [
      "\b\b\b\b\b\b\b\b\b\b\b\b\b\b\b\b\b\b\b\b\b\b\b\b\b\b\b\b\b\b\b\b\b\b\b\b\b\b\b\b\b\b\b\b\b\b\b\b\b\b\b\b\b\b\b\b\b\b\b\b\b\b\b\b\b\b\b\b\b\b\b\b\b\b\b\b\b\b\b\r 2/14 [===>..........................] - ETA: 55s - loss: 0.3148 - acc: 0.8438 "
     ]
    },
    {
     "name": "stdout",
     "output_type": "stream",
     "text": [
      "\b\b\b\b\b\b\b\b\b\b\b\b\b\b\b\b\b\b\b\b\b\b\b\b\b\b\b\b\b\b\b\b\b\b\b\b\b\b\b\b\b\b\b\b\b\b\b\b\b\b\b\b\b\b\b\b\b\b\b\b\b\b\b\b\b\b\b\b\b\b\b\b\b\b\b\b\b\b\r 3/14 [=====>........................] - ETA: 51s - loss: 0.2420 - acc: 0.8750"
     ]
    },
    {
     "name": "stdout",
     "output_type": "stream",
     "text": [
      "\b\b\b\b\b\b\b\b\b\b\b\b\b\b\b\b\b\b\b\b\b\b\b\b\b\b\b\b\b\b\b\b\b\b\b\b\b\b\b\b\b\b\b\b\b\b\b\b\b\b\b\b\b\b\b\b\b\b\b\b\b\b\b\b\b\b\b\b\b\b\b\b\b\b\b\b\b\b\r 4/14 [=======>......................] - ETA: 37s - loss: 0.1820 - acc: 0.9062"
     ]
    },
    {
     "name": "stdout",
     "output_type": "stream",
     "text": [
      "\b\b\b\b\b\b\b\b\b\b\b\b\b\b\b\b\b\b\b\b\b\b\b\b\b\b\b\b\b\b\b\b\b\b\b\b\b\b\b\b\b\b\b\b\b\b\b\b\b\b\b\b\b\b\b\b\b\b\b\b\b\b\b\b\b\b\b\b\b\b\b\b\b\b\b\b\b\b\r 5/14 [=========>....................] - ETA: 35s - loss: 0.1825 - acc: 0.9125"
     ]
    },
    {
     "name": "stdout",
     "output_type": "stream",
     "text": [
      "\b\b\b\b\b\b\b\b\b\b\b\b\b\b\b\b\b\b\b\b\b\b\b\b\b\b\b\b\b\b\b\b\b\b\b\b\b\b\b\b\b\b\b\b\b\b\b\b\b\b\b\b\b\b\b\b\b\b\b\b\b\b\b\b\b\b\b\b\b\b\b\b\b\b\b\b\b\b\r 6/14 [===========>..................] - ETA: 32s - loss: 0.1790 - acc: 0.9167"
     ]
    },
    {
     "name": "stdout",
     "output_type": "stream",
     "text": [
      "\b\b\b\b\b\b\b\b\b\b\b\b\b\b\b\b\b\b\b\b\b\b\b\b\b\b\b\b\b\b\b\b\b\b\b\b\b\b\b\b\b\b\b\b\b\b\b\b\b\b\b\b\b\b\b\b\b\b\b\b\b\b\b\b\b\b\b\b\b\b\b\b\b\b\b\b\b\b\r 7/14 [==============>...............] - ETA: 28s - loss: 0.1722 - acc: 0.9286"
     ]
    },
    {
     "name": "stdout",
     "output_type": "stream",
     "text": [
      "\b\b\b\b\b\b\b\b\b\b\b\b\b\b\b\b\b\b\b\b\b\b\b\b\b\b\b\b\b\b\b\b\b\b\b\b\b\b\b\b\b\b\b\b\b\b\b\b\b\b\b\b\b\b\b\b\b\b\b\b\b\b\b\b\b\b\b\b\b\b\b\b\b\b\b\b\b\b\r 8/14 [================>.............] - ETA: 25s - loss: 0.1797 - acc: 0.9219"
     ]
    },
    {
     "name": "stdout",
     "output_type": "stream",
     "text": [
      "\b\b\b\b\b\b\b\b\b\b\b\b\b\b\b\b\b\b\b\b\b\b\b\b\b\b\b\b\b\b\b\b\b\b\b\b\b\b\b\b\b\b\b\b\b\b\b\b\b\b\b\b\b\b\b\b\b\b\b\b\b\b\b\b\b\b\b\b\b\b\b\b\b\b\b\b\b\b\r 9/14 [==================>...........] - ETA: 21s - loss: 0.1803 - acc: 0.9167"
     ]
    },
    {
     "name": "stdout",
     "output_type": "stream",
     "text": [
      "\b\b\b\b\b\b\b\b\b\b\b\b\b\b\b\b\b\b\b\b\b\b\b\b\b\b\b\b\b\b\b\b\b\b\b\b\b\b\b\b\b\b\b\b\b\b\b\b\b\b\b\b\b\b\b\b\b\b\b\b\b\b\b\b\b\b\b\b\b\b\b\b\b\b\b\b\b\b\r10/14 [====================>.........] - ETA: 17s - loss: 0.1761 - acc: 0.9187"
     ]
    },
    {
     "name": "stdout",
     "output_type": "stream",
     "text": [
      "\b\b\b\b\b\b\b\b\b\b\b\b\b\b\b\b\b\b\b\b\b\b\b\b\b\b\b\b\b\b\b\b\b\b\b\b\b\b\b\b\b\b\b\b\b\b\b\b\b\b\b\b\b\b\b\b\b\b\b\b\b\b\b\b\b\b\b\b\b\b\b\b\b\b\b\b\b\b\r11/14 [======================>.......] - ETA: 12s - loss: 0.1830 - acc: 0.9205"
     ]
    },
    {
     "name": "stdout",
     "output_type": "stream",
     "text": [
      "\b\b\b\b\b\b\b\b\b\b\b\b\b\b\b\b\b\b\b\b\b\b\b\b\b\b\b\b\b\b\b\b\b\b\b\b\b\b\b\b\b\b\b\b\b\b\b\b\b\b\b\b\b\b\b\b\b\b\b\b\b\b\b\b\b\b\b\b\b\b\b\b\b\b\b\b\b\b\r12/14 [========================>.....] - ETA: 8s - loss: 0.1896 - acc: 0.9115 "
     ]
    },
    {
     "name": "stdout",
     "output_type": "stream",
     "text": [
      "\b\b\b\b\b\b\b\b\b\b\b\b\b\b\b\b\b\b\b\b\b\b\b\b\b\b\b\b\b\b\b\b\b\b\b\b\b\b\b\b\b\b\b\b\b\b\b\b\b\b\b\b\b\b\b\b\b\b\b\b\b\b\b\b\b\b\b\b\b\b\b\b\b\b\b\b\b\r13/14 [==========================>...] - ETA: 4s - loss: 0.1940 - acc: 0.9135"
     ]
    },
    {
     "name": "stdout",
     "output_type": "stream",
     "text": [
      "\b\b\b\b\b\b\b\b\b\b\b\b\b\b\b\b\b\b\b\b\b\b\b\b\b\b\b\b\b\b\b\b\b\b\b\b\b\b\b\b\b\b\b\b\b\b\b\b\b\b\b\b\b\b\b\b\b\b\b\b\b\b\b\b\b\b\b\b\b\b\b\b\b\b\b\b\b\r14/14 [==============================] - 450s 32s/step - loss: 0.1898 - acc: 0.9149 - val_loss: 0.2439 - val_acc: 0.8854\n"
     ]
    },
    {
     "name": "stdout",
     "output_type": "stream",
     "text": [
      "\nEpoch 00002: val_loss improved from 0.26296 to 0.24391, saving model to C:\\Users\\HyunA\\PycharmProjects\\deeplearning\\models\\vgg16_models\\02-0.2439.hdf5\n"
     ]
    },
    {
     "name": "stdout",
     "output_type": "stream",
     "text": [
      "Epoch 3/5\n"
     ]
    },
    {
     "name": "stdout",
     "output_type": "stream",
     "text": [
      "\r 1/14 [=>............................] - ETA: 58s - loss: 0.1077 - acc: 0.9375"
     ]
    },
    {
     "name": "stdout",
     "output_type": "stream",
     "text": [
      "\b\b\b\b\b\b\b\b\b\b\b\b\b\b\b\b\b\b\b\b\b\b\b\b\b\b\b\b\b\b\b\b\b\b\b\b\b\b\b\b\b\b\b\b\b\b\b\b\b\b\b\b\b\b\b\b\b\b\b\b\b\b\b\b\b\b\b\b\b\b\b\b\b\b\b\b\b\b\r 2/14 [===>..........................] - ETA: 57s - loss: 0.1939 - acc: 0.9375"
     ]
    },
    {
     "name": "stdout",
     "output_type": "stream",
     "text": [
      "\b\b\b\b\b\b\b\b\b\b\b\b\b\b\b\b\b\b\b\b\b\b\b\b\b\b\b\b\b\b\b\b\b\b\b\b\b\b\b\b\b\b\b\b\b\b\b\b\b\b\b\b\b\b\b\b\b\b\b\b\b\b\b\b\b\b\b\b\b\b\b\b\b\b\b\b\b\b\r 3/14 [=====>........................] - ETA: 52s - loss: 0.2427 - acc: 0.9167"
     ]
    },
    {
     "name": "stdout",
     "output_type": "stream",
     "text": [
      "\b\b\b\b\b\b\b\b\b\b\b\b\b\b\b\b\b\b\b\b\b\b\b\b\b\b\b\b\b\b\b\b\b\b\b\b\b\b\b\b\b\b\b\b\b\b\b\b\b\b\b\b\b\b\b\b\b\b\b\b\b\b\b\b\b\b\b\b\b\b\b\b\b\b\b\b\b\b\r 4/14 [=======>......................] - ETA: 38s - loss: 0.4289 - acc: 0.8750"
     ]
    },
    {
     "name": "stdout",
     "output_type": "stream",
     "text": [
      "\b\b\b\b\b\b\b\b\b\b\b\b\b\b\b\b\b\b\b\b\b\b\b\b\b\b\b\b\b\b\b\b\b\b\b\b\b\b\b\b\b\b\b\b\b\b\b\b\b\b\b\b\b\b\b\b\b\b\b\b\b\b\b\b\b\b\b\b\b\b\b\b\b\b\b\b\b\b\r 5/14 [=========>....................] - ETA: 35s - loss: 0.4202 - acc: 0.8625"
     ]
    },
    {
     "name": "stdout",
     "output_type": "stream",
     "text": [
      "\b\b\b\b\b\b\b\b\b\b\b\b\b\b\b\b\b\b\b\b\b\b\b\b\b\b\b\b\b\b\b\b\b\b\b\b\b\b\b\b\b\b\b\b\b\b\b\b\b\b\b\b\b\b\b\b\b\b\b\b\b\b\b\b\b\b\b\b\b\b\b\b\b\b\b\b\b\b\r 6/14 [===========>..................] - ETA: 32s - loss: 0.4327 - acc: 0.8646"
     ]
    },
    {
     "name": "stdout",
     "output_type": "stream",
     "text": [
      "\b\b\b\b\b\b\b\b\b\b\b\b\b\b\b\b\b\b\b\b\b\b\b\b\b\b\b\b\b\b\b\b\b\b\b\b\b\b\b\b\b\b\b\b\b\b\b\b\b\b\b\b\b\b\b\b\b\b\b\b\b\b\b\b\b\b\b\b\b\b\b\b\b\b\b\b\b\b\r 7/14 [==============>...............] - ETA: 29s - loss: 0.3812 - acc: 0.8839"
     ]
    },
    {
     "name": "stdout",
     "output_type": "stream",
     "text": [
      "\b\b\b\b\b\b\b\b\b\b\b\b\b\b\b\b\b\b\b\b\b\b\b\b\b\b\b\b\b\b\b\b\b\b\b\b\b\b\b\b\b\b\b\b\b\b\b\b\b\b\b\b\b\b\b\b\b\b\b\b\b\b\b\b\b\b\b\b\b\b\b\b\b\b\b\b\b\b\r 8/14 [================>.............] - ETA: 26s - loss: 0.3498 - acc: 0.8906"
     ]
    },
    {
     "name": "stdout",
     "output_type": "stream",
     "text": [
      "\b\b\b\b\b\b\b\b\b\b\b\b\b\b\b\b\b\b\b\b\b\b\b\b\b\b\b\b\b\b\b\b\b\b\b\b\b\b\b\b\b\b\b\b\b\b\b\b\b\b\b\b\b\b\b\b\b\b\b\b\b\b\b\b\b\b\b\b\b\b\b\b\b\b\b\b\b\b\r 9/14 [==================>...........] - ETA: 23s - loss: 0.3163 - acc: 0.9028"
     ]
    },
    {
     "name": "stdout",
     "output_type": "stream",
     "text": [
      "\b\b\b\b\b\b\b\b\b\b\b\b\b\b\b\b\b\b\b\b\b\b\b\b\b\b\b\b\b\b\b\b\b\b\b\b\b\b\b\b\b\b\b\b\b\b\b\b\b\b\b\b\b\b\b\b\b\b\b\b\b\b\b\b\b\b\b\b\b\b\b\b\b\b\b\b\b\b\r10/14 [====================>.........] - ETA: 18s - loss: 0.3089 - acc: 0.9062"
     ]
    },
    {
     "name": "stdout",
     "output_type": "stream",
     "text": [
      "\b\b\b\b\b\b\b\b\b\b\b\b\b\b\b\b\b\b\b\b\b\b\b\b\b\b\b\b\b\b\b\b\b\b\b\b\b\b\b\b\b\b\b\b\b\b\b\b\b\b\b\b\b\b\b\b\b\b\b\b\b\b\b\b\b\b\b\b\b\b\b\b\b\b\b\b\b\b\r11/14 [======================>.......] - ETA: 14s - loss: 0.2905 - acc: 0.9148"
     ]
    },
    {
     "name": "stdout",
     "output_type": "stream",
     "text": [
      "\b\b\b\b\b\b\b\b\b\b\b\b\b\b\b\b\b\b\b\b\b\b\b\b\b\b\b\b\b\b\b\b\b\b\b\b\b\b\b\b\b\b\b\b\b\b\b\b\b\b\b\b\b\b\b\b\b\b\b\b\b\b\b\b\b\b\b\b\b\b\b\b\b\b\b\b\b\b\r12/14 [========================>.....] - ETA: 9s - loss: 0.2908 - acc: 0.9062 "
     ]
    },
    {
     "name": "stdout",
     "output_type": "stream",
     "text": [
      "\b\b\b\b\b\b\b\b\b\b\b\b\b\b\b\b\b\b\b\b\b\b\b\b\b\b\b\b\b\b\b\b\b\b\b\b\b\b\b\b\b\b\b\b\b\b\b\b\b\b\b\b\b\b\b\b\b\b\b\b\b\b\b\b\b\b\b\b\b\b\b\b\b\b\b\b\b\r13/14 [==========================>...] - ETA: 4s - loss: 0.2796 - acc: 0.9135"
     ]
    },
    {
     "name": "stdout",
     "output_type": "stream",
     "text": [
      "\b\b\b\b\b\b\b\b\b\b\b\b\b\b\b\b\b\b\b\b\b\b\b\b\b\b\b\b\b\b\b\b\b\b\b\b\b\b\b\b\b\b\b\b\b\b\b\b\b\b\b\b\b\b\b\b\b\b\b\b\b\b\b\b\b\b\b\b\b\b\b\b\b\b\b\b\b\r14/14 [==============================] - 435s 31s/step - loss: 0.2938 - acc: 0.9024 - val_loss: 0.2915 - val_acc: 0.8958\n"
     ]
    },
    {
     "name": "stdout",
     "output_type": "stream",
     "text": [
      "\nEpoch 00003: val_loss did not improve from 0.24391\n"
     ]
    },
    {
     "data": {
      "text/plain": [
       "<keras.callbacks.History at 0x2218ab8ae80>"
      ]
     },
     "execution_count": 407,
     "metadata": {},
     "output_type": "execute_result"
    }
   ],
   "source": [
    "from keras import applications\n",
    "from keras.preprocessing.image import ImageDataGenerator\n",
    "from keras import optimizers\n",
    "from keras.models import Sequential,Model\n",
    "from keras.layers import Dropout, Flatten, Dense\n",
    "from keras.callbacks import ModelCheckpoint, EarlyStopping\n",
    "\n",
    "#가중치 저장 경로\n",
    "weight_path = 'C:\\\\Users\\\\HyunA\\\\PycharmProjects\\\\deeplearning\\\\models\\\\wgg16_weights.h5'\n",
    "top_model_weights_path = 'C:\\\\Users\\\\HyunA\\\\PycharmProjects\\\\deeplearning\\\\models\\\\bottleneck_fc_model.h5'\n",
    "\n",
    "# 이미지 사이즈\n",
    "img_width , img_height = 150, 150 \n",
    "train_data_dir = 'C:\\\\Users\\\\HyunA\\\\PycharmProjects\\\\deeplearning\\\\dataset\\\\train'\n",
    "test_date_dir = 'C:\\\\Users\\\\HyunA\\\\PycharmProjects\\\\deeplearning\\\\dataset\\\\test'\n",
    "nb_train_samples  = 228\n",
    "nb_test_samples = 96\n",
    "epochs = 5\n",
    "batch_size =16\n",
    "\n",
    "\n",
    "# build the VGG16 network\n",
    "model = applications.VGG16(weights='imagenet', include_top=False, input_shape=(150,150,3))\n",
    "print('Model loaded')\n",
    "print(model.output_shape[1:])\n",
    "# build a classifier model to put on top of convolution model\n",
    "top_model = Sequential()\n",
    "top_model.add(Flatten(input_shape=model.output_shape[1:]))\n",
    "top_model.add(Dense(256, activation = 'relu'))\n",
    "top_model.add(Dropout(0.5))\n",
    "top_model.add(Dense(1, activation='sigmoid'))\n",
    "\n",
    "# 사전에 학습된 fully_trained로 시작해야함\n",
    "# classifier, including the top classifier\n",
    "# in order to successfully do fine-tuning\n",
    "\n",
    "top_model.load_weights(top_model_weights_path)\n",
    "\n",
    "# add the model on top of the convolution base \n",
    "model = Model(input =model.input, output = top_model(model.output))\n",
    "# model.add(top_model)\n",
    "\n",
    "# set the first 25 layers (( 마지막 conv block)\n",
    "# to - non-trianable ( weight will not be updated)\n",
    "for layer in model.layers[:15]:\n",
    "    layer.trainable = False\n",
    "    \n",
    "# complie the model with a SGD/ momentun optimizer\n",
    "# and a very slow learning rate\n",
    "model.compile(loss = 'binary_crossentropy',\n",
    "              optimizer=optimizers.SGD(lr=1e-4, momentum=0.9),\n",
    "              metrics=['accuracy'])\n",
    "\n",
    "# prepare data augmentation configuration\n",
    "train_datagen = ImageDataGenerator(\n",
    "    rescale=1. /255,\n",
    "    shear_range=0.2,\n",
    "    zoom_range=0.2,\n",
    "    horizontal_flip=True)\n",
    "\n",
    "test_datagen = ImageDataGenerator(rescale=1. /255)\n",
    "\n",
    "train_generator = train_datagen.flow_from_directory(\n",
    "    train_data_dir,\n",
    "    target_size=(img_height,img_width),\n",
    "    batch_size=batch_size,\n",
    "    class_mode='binary')\n",
    "\n",
    "validation_generator  = test_datagen.flow_from_directory(\n",
    "    test_date_dir,\n",
    "    target_size=(img_height,img_width),\n",
    "    batch_size=batch_size,\n",
    "    class_mode='binary')\n",
    "\n",
    "# 모델 저장 경로 설정\n",
    "MODEL_DIR = 'C:\\\\Users\\\\HyunA\\\\PycharmProjects\\\\deeplearning\\\\models\\\\vgg16_models'\n",
    "if not os.path.exists(MODEL_DIR):\n",
    "    os.mkdir(MODEL_DIR)\n",
    "\n",
    "modelpath = \"C:\\\\Users\\\\HyunA\\\\PycharmProjects\\\\deeplearning\\\\models\\\\vgg16_models\\\\{epoch:02d}-{val_loss:.4f}.hdf5\"         \n",
    "\n",
    "# 모델 업데이트 및 저장 \n",
    "checkpointer = ModelCheckpoint(filepath=modelpath, monitor='val_loss',verbose=1,save_best_only=True)\n",
    "\n",
    "# 학습 자동 중단 설정\n",
    "early_stopping_callback = EarlyStopping(monitor='val_loss',patience=1)\n",
    "\n",
    "\n",
    "#fine-tune the model\n",
    "model.fit_generator(\n",
    "    train_generator,\n",
    "    samples_per_epoch = nb_train_samples,\n",
    "    epochs=epochs,\n",
    "    validation_data=validation_generator,    \n",
    "    nb_val_samples=nb_test_samples,\n",
    "    callbacks=[early_stopping_callback,checkpointer])\n",
    "                "
   ]
  },
  {
   "cell_type": "code",
   "execution_count": 399,
   "metadata": {
    "collapsed": true
   },
   "outputs": [
    {
     "name": "stderr",
     "output_type": "stream",
     "text": [
      "C:\\Users\\HyunA\\AppData\\Local\\conda\\conda\\envs\\tutorial\\lib\\site-packages\\keras\\models.py:318: UserWarning: Error in loading the saved optimizer state. As a result, your model is starting with a freshly initialized optimizer.\n  warnings.warn('Error in loading the saved optimizer '\n"
     ]
    },
    {
     "name": "stdout",
     "output_type": "stream",
     "text": [
      "{'desk': 1, 'chair': 0}\n"
     ]
    },
    {
     "name": "stdout",
     "output_type": "stream",
     "text": [
      "predict class : desk \npredict_prob :  0.7618653\n"
     ]
    },
    {
     "data": {
      "text/plain": [
       "<matplotlib.image.AxesImage at 0x22170a5e198>"
      ]
     },
     "execution_count": 399,
     "metadata": {},
     "output_type": "execute_result"
    },
    {
     "data": {
      "image/png": "[encoded data removed]",
      "text/plain": [
       "<Figure size 432x288 with 1 Axes>"
      ]
     },
     "metadata": {},
     "output_type": "display_data"
    }
   ],
   "source": [
    "from keras.models import save_model, load_model, Sequential\n",
    "import matplotlib.pyplot as plt\n",
    "import pandas as pd \n",
    "\n",
    "%matplotlib inline  \n",
    "# model.save(\"C:\\\\Users\\\\HyunA\\\\PycharmProjects\\\\deeplearning\\\\models\\\\vgg_chair_desk.h5\")\n",
    "\n",
    "vgg_model = load_model('C:\\\\Users\\\\HyunA\\\\PycharmProjects\\\\deeplearning\\\\models\\\\vgg_chair_desk.h5')\n",
    "\n",
    "# class index 추출하기 \n",
    "labels = train_generator.class_indices\n",
    "label_name = list(labels.keys())\n",
    "print(labels)\n",
    "# 생성한 모델로 predict 하고 이미지확인하기 \n",
    "img = load_img('C:\\\\Users\\\\HyunA\\\\PycharmProjects\\\\deeplearning\\\\dataset\\\\test\\\\desk\\\\broken desk_000025.png', target_size=(150,150,3))\n",
    "x = img_to_array(img)\n",
    "x = x /255\n",
    "x = x.reshape((1,)+x.shape)\n",
    "\n",
    "out = np.squeeze(vgg_model.predict(x))\n",
    "\n",
    "if out > 0.5 :\n",
    "    classes = 1  \n",
    "    print('predict class : desk ', )\n",
    "    print('predict_prob : ', out)\n",
    "else :\n",
    "    classes = 0\n",
    "    print('predict class : chair' )\n",
    "    print('predict_prob : ', out)\n",
    "\n",
    "## Image \n",
    "plt.imshow(img)\n"
   ]
  }
 ],
 "metadata": {
  "kernelspec": {
   "display_name": "Python 2",
   "language": "python",
   "name": "python2"
  },
  "language_info": {
   "codemirror_mode": {
    "name": "ipython",
    "version": 2
   },
   "file_extension": ".py",
   "mimetype": "text/x-python",
   "name": "python",
   "nbconvert_exporter": "python",
   "pygments_lexer": "ipython2",
   "version": "2.7.6"
  }
 },
 "nbformat": 4,
 "nbformat_minor": 0
}

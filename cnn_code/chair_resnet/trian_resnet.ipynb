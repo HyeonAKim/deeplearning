{
 "cells": [
  {
   "cell_type": "code",
   "execution_count": 124,
   "metadata": {
    "collapsed": true
   },
   "outputs": [],
   "source": [
    "# 필요한 라이브러리 호출\n",
    "import os\n",
    "import shutil\n",
    "import random\n",
    "from PIL import Image,ImageColor\n",
    "from icrawler.builtin import BaiduImageCrawler, BingImageCrawler, GoogleImageCrawler\n",
    "import pathlib\n",
    "\n"
   ]
  },
  {
   "cell_type": "code",
   "execution_count": 4,
   "metadata": {},
   "outputs": [],
   "source": [
    "# 이미지 크롤러 함수 생성\n",
    "# 이미지 크롤링 함수 (키워드 ,저장이미지최대수,이미지최소사이즈,  저장경로)\n",
    "def crawling_image(keyword, max, min_size, dir):\n",
    "    google_crawler = GoogleImageCrawler(parser_threads=2, downloader_threads=10, storage={'root_dir': dir})\n",
    "    google_crawler.crawl(keyword=keyword, offset=0, max_num=max, min_size=(min_size, min_size), max_size=None)\n",
    "    print('complete download images')"
   ]
  },
  {
   "cell_type": "code",
   "execution_count": 18,
   "metadata": {
    "collapsed": true
   },
   "outputs": [
    {
     "name": "stderr",
     "output_type": "stream",
     "text": [
      "2018-06-01 13:47:45,167 - INFO - icrawler.crawler - start crawling...\n"
     ]
    },
    {
     "name": "stderr",
     "output_type": "stream",
     "text": [
      "2018-06-01 13:47:45,168 - INFO - icrawler.crawler - starting 1 feeder threads...\n"
     ]
    },
    {
     "name": "stderr",
     "output_type": "stream",
     "text": [
      "2018-06-01 13:47:45,172 - INFO - feeder - thread feeder-001 exit\n"
     ]
    },
    {
     "name": "stderr",
     "output_type": "stream",
     "text": [
      "2018-06-01 13:47:45,174 - INFO - icrawler.crawler - starting 2 parser threads...\n"
     ]
    },
    {
     "name": "stderr",
     "output_type": "stream",
     "text": [
      "2018-06-01 13:47:45,201 - INFO - icrawler.crawler - starting 10 downloader threads...\n"
     ]
    },
    {
     "name": "stderr",
     "output_type": "stream",
     "text": [
      "2018-06-01 13:47:45,839 - INFO - parser - parsing result page https://www.google.com/search?ijn=0&start=0&tbm=isch&tbs=&q=broken+chair\n"
     ]
    },
    {
     "name": "stderr",
     "output_type": "stream",
     "text": [
      "2018-06-01 13:47:46,103 - INFO - downloader - image #1\thttps://us.123rf.com/450wm/alexeyblogoodf/alexeyblogoodf1512/alexeyblogoodf151200071/49395601-stock-vector-broken-wooden-chair-with-green-seat-.jpg?ver=6\n"
     ]
    },
    {
     "name": "stderr",
     "output_type": "stream",
     "text": [
      "2018-06-01 13:47:46,118 - INFO - downloader - image #2\thttps://i.pinimg.com/originals/93/1e/51/931e5133172184f9af509dd15fd0837a.jpg\n"
     ]
    },
    {
     "name": "stderr",
     "output_type": "stream",
     "text": [
      "2018-06-01 13:47:46,346 - INFO - downloader - image #3\thttps://thumb9.shutterstock.com/display_pic_with_logo/165993596/700867798/stock-photo-broken-chair-700867798.jpg\n"
     ]
    },
    {
     "name": "stderr",
     "output_type": "stream",
     "text": [
      "2018-06-01 13:47:46,368 - INFO - downloader - image #4\thttps://thumbs.dreamstime.com/b/old-broken-chair-street-i-nnaples-italy-50196341.jpg\n"
     ]
    },
    {
     "name": "stderr",
     "output_type": "stream",
     "text": [
      "2018-06-01 13:47:46,379 - INFO - downloader - image #5\thttps://media-cdn.tripadvisor.com/media/photo-s/0d/a4/4b/a0/broken-chair-sculpture.jpg\n"
     ]
    },
    {
     "name": "stderr",
     "output_type": "stream",
     "text": [
      "2018-06-01 13:47:46,478 - INFO - downloader - image #6\thttps://i.imgflip.com/23l679.jpg\n"
     ]
    },
    {
     "name": "stderr",
     "output_type": "stream",
     "text": [
      "2018-06-01 13:47:46,505 - INFO - downloader - image #7\thttps://thumb9.shutterstock.com/display_pic_with_logo/3936650/488891932/stock-vector-a-broken-old-wooden-chair-isolated-on-white-background-vector-illustration-488891932.jpg\n"
     ]
    },
    {
     "name": "stderr",
     "output_type": "stream",
     "text": [
      "2018-06-01 13:47:46,536 - INFO - downloader - image #8\thttps://media-cdn.tripadvisor.com/media/photo-s/0a/ba/3e/a1/the-broken-chair-in-front.jpg\n"
     ]
    },
    {
     "name": "stderr",
     "output_type": "stream",
     "text": [
      "2018-06-01 13:47:46,635 - INFO - downloader - image #9\thttps://media.istockphoto.com/photos/damaged-broken-chair-picture-id585071740?k=6&m=585071740&s=612x612&w=0&h=6MbojqApI4bRpSlORfKg5O9Ri5M6AhBE2k2PhdjYKTQ=\n"
     ]
    },
    {
     "name": "stderr",
     "output_type": "stream",
     "text": [
      "2018-06-01 13:47:46,684 - INFO - downloader - image #10\thttps://vignette.wikia.nocookie.net/uncyclopedia/images/4/45/Broken.chair.jpg/revision/latest?cb=20090802212552\n"
     ]
    },
    {
     "name": "stderr",
     "output_type": "stream",
     "text": [
      "2018-06-01 13:47:46,716 - INFO - downloader - image #11\thttps://vignette.wikia.nocookie.net/tlaststand/images/4/41/Broken_sitting_device.jpg/revision/latest?cb=20150120213451\n"
     ]
    },
    {
     "name": "stderr",
     "output_type": "stream",
     "text": [
      "2018-06-01 13:47:46,780 - INFO - downloader - image #12\thttps://thumb7.shutterstock.com/display_pic_with_logo/2506462/216646024/stock-photo-broken-chair-on-isolated-on-white-background-216646024.jpg\n"
     ]
    },
    {
     "name": "stderr",
     "output_type": "stream",
     "text": [
      "2018-06-01 13:47:46,795 - INFO - downloader - image #13\thttps://lesliemaxwellkaiura.files.wordpress.com/2015/11/broken-chair-e1448055652128.jpg\n"
     ]
    },
    {
     "name": "stderr",
     "output_type": "stream",
     "text": [
      "2018-06-01 13:47:47,033 - INFO - downloader - image #14\thttps://newbloggycat.files.wordpress.com/2015/11/broken-chair.jpg?w=770\n"
     ]
    },
    {
     "name": "stderr",
     "output_type": "stream",
     "text": [
      "2018-06-01 13:47:47,040 - INFO - downloader - image #15\thttps://upload.wikimedia.org/wikipedia/commons/2/21/BrokenChair.jpg\n"
     ]
    },
    {
     "name": "stderr",
     "output_type": "stream",
     "text": [
      "2018-06-01 13:47:47,130 - INFO - downloader - image #16\thttps://veeheal.com/img/blog/1511778439chair.jpg\n"
     ]
    },
    {
     "name": "stderr",
     "output_type": "stream",
     "text": [
      "2018-06-01 13:47:47,132 - INFO - downloader - image #17\thttp://www.efurnituremax.com/blog/wp-content/uploads/2014/03/desk-chair-broken-300x225.jpg\n"
     ]
    },
    {
     "name": "stderr",
     "output_type": "stream",
     "text": [
      "2018-06-01 13:47:47,207 - INFO - parser - no more page urls for thread parser-002 to parse\n"
     ]
    },
    {
     "name": "stderr",
     "output_type": "stream",
     "text": [
      "2018-06-01 13:47:47,211 - INFO - parser - thread parser-002 exit\n"
     ]
    },
    {
     "name": "stderr",
     "output_type": "stream",
     "text": [
      "2018-06-01 13:47:47,393 - INFO - downloader - image #18\thttps://c1.staticflickr.com/4/3269/3004789912_73fc5cb345_b.jpg\n"
     ]
    },
    {
     "name": "stderr",
     "output_type": "stream",
     "text": [
      "2018-06-01 13:47:47,697 - INFO - downloader - image #19\thttps://www.costumes-historiques.com/zabwino/costumeshistoriques/marvelous-broken-chair-5-dawn-chose-a-broken-chair-550-x-748.jpg\n"
     ]
    },
    {
     "name": "stderr",
     "output_type": "stream",
     "text": [
      "2018-06-01 13:47:47,701 - INFO - downloader - image #20\thttps://i.ytimg.com/vi/NUaZ-A6MkPc/maxresdefault.jpg\n"
     ]
    },
    {
     "name": "stderr",
     "output_type": "stream",
     "text": [
      "2018-06-01 13:47:47,846 - INFO - downloader - image #21\thttps://c8.alamy.com/comp/G8AR21/plastic-chair-with-broken-leg-on-white-background-G8AR21.jpg\n"
     ]
    },
    {
     "name": "stderr",
     "output_type": "stream",
     "text": [
      "2018-06-01 13:47:48,589 - INFO - downloader - image #22\thttps://c8.alamy.com/comp/CY1Y8M/just-a-one-old-broken-chair-CY1Y8M.jpg\n"
     ]
    },
    {
     "name": "stderr",
     "output_type": "stream",
     "text": [
      "2018-06-01 13:47:48,667 - INFO - downloader - image #23\thttp://www.recyclethis.co.uk/wp-content/uploads/2008/02/dining_chair.jpg\n"
     ]
    },
    {
     "name": "stderr",
     "output_type": "stream",
     "text": [
      "2018-06-01 13:47:48,828 - INFO - downloader - image #24\thttp://www.losangelespersonalinjurylawyers.co/wp-content/uploads/2017/07/broken-chair.png\n"
     ]
    },
    {
     "name": "stderr",
     "output_type": "stream",
     "text": [
      "2018-06-01 13:47:48,914 - INFO - downloader - image #25\thttp://broken-chair.com/wp-content/uploads/2015/07/PlaceDesNations%C3%82%C2%A9GeneveTourisme-3-1024x683.jpg\n"
     ]
    },
    {
     "name": "stderr",
     "output_type": "stream",
     "text": [
      "2018-06-01 13:47:49,031 - INFO - downloader - image #26\thttp://courantblogs.com/ct-digs/wp-content/uploads/2014/02/broken-chair1.jpg\n"
     ]
    },
    {
     "name": "stderr",
     "output_type": "stream",
     "text": [
      "2018-06-01 13:47:49,112 - INFO - downloader - image #27\thttps://steamcdn-a.akamaihd.net/steamcommunity/public/images/avatars/66/66cfdd6b632299d53917ebfd5792122e4d23a16d_full.jpg\n"
     ]
    },
    {
     "name": "stderr",
     "output_type": "stream",
     "text": [
      "2018-06-01 13:47:49,235 - INFO - downloader - image #28\thttps://www.legalexpert.co.uk/wp-content/uploads/2017/08/Broken-Chair-300x200.jpg"
     ]
    },
    {
     "name": "stderr",
     "output_type": "stream",
     "text": [
      "\n"
     ]
    },
    {
     "name": "stderr",
     "output_type": "stream",
     "text": [
      "2018-06-01 13:47:49,531 - INFO - downloader - image #29\thttps://www.confessionsofaserialdiyer.com/wp-content/uploads/2015/09/French-Chair-Before.jpg\n"
     ]
    },
    {
     "name": "stderr",
     "output_type": "stream",
     "text": [
      "2018-06-01 13:47:49,539 - INFO - downloader - image #30\thttp://www.ninafowlerprint.com/wp-content/uploads/2015/07/Craig-Wylie_VK-broken-chair_A2_Thumbnail.jpg\n"
     ]
    },
    {
     "name": "stderr",
     "output_type": "stream",
     "text": [
      "2018-06-01 13:47:49,678 - INFO - downloader - image #31\thttps://www.wilsonbrowne.co.uk/wp-content/uploads/2017/11/broken-office-chair.jpg\n"
     ]
    },
    {
     "name": "stderr",
     "output_type": "stream",
     "text": [
      "2018-06-01 13:47:49,680 - INFO - downloader - image #32\thttps://i.pinimg.com/originals/f1/eb/a4/f1eba43aa52f9853dbd8668c6bfff8cf.jpg\n"
     ]
    },
    {
     "name": "stderr",
     "output_type": "stream",
     "text": [
      "2018-06-01 13:47:49,698 - INFO - downloader - image #33\thttp://penaime.com/wp-content/uploads/2018/04/how-to-repair-a-broken-wooden-chair-leg-broken-chair-repair-repair-throughout-broken-wooden-chair.jpg\n"
     ]
    },
    {
     "name": "stderr",
     "output_type": "stream",
     "text": [
      "2018-06-01 13:47:49,793 - INFO - downloader - image #34\thttp://media.graytvinc.com/images/810*455/bits+of+broken+chair+trophy+resized1.jpg\n"
     ]
    },
    {
     "name": "stderr",
     "output_type": "stream",
     "text": [
      "2018-06-01 13:47:50,041 - INFO - downloader - image #35\thttps://woodgears.ca/kitchen_chairs/rick04.jpg\n"
     ]
    },
    {
     "name": "stderr",
     "output_type": "stream",
     "text": [
      "2018-06-01 13:47:50,100 - INFO - downloader - image #36\thttp://righthandturn.com/wp-content/uploads/2011/10/Broken-Chair.jpg\n"
     ]
    },
    {
     "name": "stderr",
     "output_type": "stream",
     "text": [
      "2018-06-01 13:47:50,222 - INFO - downloader - image #37\thttp://www.breakouttheskinnygirl.com/wp-content/uploads/2015/09/200x200_chair.jpg\n"
     ]
    },
    {
     "name": "stderr",
     "output_type": "stream",
     "text": [
      "2018-06-01 13:47:50,478 - INFO - downloader - image #38\thttps://cdn.instructables.com/F9B/SHZO/IKRNTNC2/F9BSHZOIKRNTNC2.LARGE.jpg\n"
     ]
    },
    {
     "name": "stderr",
     "output_type": "stream",
     "text": [
      "2018-06-01 13:47:50,540 - INFO - downloader - image #39\thttps://media.istockphoto.com/photos/old-wooden-chair-picture-id471798344?k=6&m=471798344&s=612x612&w=0&h=_MqTbMF0RGZ29Zf9BftYpKOisHVRGtTcYDBlyM1D47U=\n"
     ]
    },
    {
     "name": "stderr",
     "output_type": "stream",
     "text": [
      "2018-06-01 13:47:50,719 - INFO - downloader - image #40\thttps://www.featurepics.com/StockImage/20141220/broken-chair-stock-illustration-3390047.jpg\n"
     ]
    },
    {
     "name": "stderr",
     "output_type": "stream",
     "text": [
      "2018-06-01 13:47:50,976 - INFO - downloader - image #41\thttps://c1.staticflickr.com/3/2744/4141490385_691ea7fa30_b.jpg\n"
     ]
    },
    {
     "name": "stderr",
     "output_type": "stream",
     "text": [
      "2018-06-01 13:47:51,089 - INFO - downloader - image #42\thttps://photos.smugmug.com/Commercial-Photography/Urban-Exploration/i-khxR9JG/1/c9355088/M/Broken%20Chair%20Soliloquy-M.jpg\n"
     ]
    },
    {
     "name": "stderr",
     "output_type": "stream",
     "text": [
      "2018-06-01 13:47:51,139 - INFO - downloader - image #43\thttps://i.pinimg.com/originals/38/8d/fa/388dfaa764d92f429ff5f68a410e9737.jpg\n"
     ]
    },
    {
     "name": "stderr",
     "output_type": "stream",
     "text": [
      "2018-06-01 13:47:51,177 - INFO - downloader - image #44\thttp://www.after-car-accidents.com/images/personal-injury-to-head-fell-due-to-broken-chair-in-restaurant-21637348.jpg\n"
     ]
    },
    {
     "name": "stderr",
     "output_type": "stream",
     "text": [
      "2018-06-01 13:47:51,236 - INFO - downloader - image #45\thttps://cdn3.iconfinder.com/data/icons/home-hazard-and-safety-precaution/286/danger-005-512.png\n"
     ]
    },
    {
     "name": "stderr",
     "output_type": "stream",
     "text": [
      "2018-06-01 13:47:51,259 - INFO - downloader - image #46\thttps://static.youcaring.com/api/uploads/fundraisers/945632/a1b04601-6d4b-4590-a61f-fa21b5d556bf_profile.jpg\n"
     ]
    }
   ],
   "source": [
    "# 이미지 크롤링 하기 \n",
    "# 1. 크롤링할 이미지 키워드 입력\n",
    "keyword = 'broken chair'\n",
    "\n",
    "# 2. 이미지 저장 경로\n",
    "raw_image_dir ='C:\\\\Users\\\\HyunA\\\\PycharmProjects\\\\deeplearning\\\\dataset\\\\raw\\\\'+keyword\n",
    "\n",
    "# 3. 이미지 경로 존재 여부 확인 및 생성\n",
    "if not os.path.exists(raw_image_dir):\n",
    "    os.mkdir(raw_image_dir)\n",
    "\n",
    "# 4. 이미지 크롤링 하기 \n",
    "crawling_image(keyword,100, 100,raw_image_dir)"
   ]
  },
  {
   "cell_type": "code",
   "execution_count": 21,
   "metadata": {},
   "outputs": [],
   "source": [
    "# 이미지 정제 및 변환 함수 생성\n",
    "\n",
    "# 이미지 사이즈 및 확장자 변경 함수 change_image()\n",
    "# (이미지 저장 경로 , 변경확장자, 변경사이즈, 색상(\"L\",\"RGBA\"))\n",
    "def  change_image(dir, keyword, extension , chage_size, color):\n",
    "    #현재위치 파일 모두 가져온다.\n",
    "    for filename in os.listdir(dir):\n",
    "\n",
    "        # 파일 위치 경로\n",
    "        img_dir = dir + '\\\\' + filename\n",
    "        # slice_filename = filename[filename.find('.')+1:]\n",
    "        save_dir = dir +'\\\\'+keyword+'_'+filename[:filename.find('.')+1]+extension\n",
    "        # print(img_dir)\n",
    "        # print(slice_filename)\n",
    "        if filename[filename.find('.')+1:] == 'gif' :\n",
    "            os.remove(img_dir)\n",
    "        else :\n",
    "            try :\n",
    "                # 이미지 열기\n",
    "                img = Image.open(img_dir)\n",
    "                # 이미지 사이즈 조정\n",
    "                resize_img = img.resize((chage_size, chage_size))\n",
    "                # 이미지 컬러 변경\n",
    "                if color == 'L':\n",
    "                    color_img = resize_img.convert(\"L\")\n",
    "                elif color == 'RGB':\n",
    "                    color_img = resize_img.convert(\"RGB\")\n",
    "                else :\n",
    "                    color_img = resize_img\n",
    "                # 기존 파일 삭제\n",
    "                os.remove(img_dir)\n",
    "                # 이미지 저장 다른 이름\n",
    "                color_img.save(save_dir, format=extension, compress_level=1)\n",
    "            except :\n",
    "                os.remove(save_dir)\n",
    "                print('cannot open')\n",
    "\n",
    "    print('complete change images')"
   ]
  },
  {
   "cell_type": "code",
   "execution_count": 23,
   "metadata": {},
   "outputs": [
    {
     "name": "stdout",
     "output_type": "stream",
     "text": [
      "complete change images\n"
     ]
    }
   ],
   "source": [
    "# 이미지 사이즈 , 컬러, 변환 및 열리지 않는 파일 삭제 \n",
    "# 1. 변환 폴더명\n",
    "keyword = 'chair'\n",
    "\n",
    "# 2. 이미지 변환 경로\n",
    "raw_image_dir ='C:\\\\Users\\\\HyunA\\\\PycharmProjects\\\\deeplearning\\\\dataset\\\\raw\\\\'+keyword\n",
    "\n",
    "change_image(raw_image_dir , keyword, 'png', 100 , 'L')"
   ]
  },
  {
   "cell_type": "code",
   "execution_count": 27,
   "metadata": {},
   "outputs": [],
   "source": [
    "# 이미지 폴더 병합 함수 생성\n",
    "# 데이터 폴더 merge 함수 : image_folder_merge()\n",
    "# dir : 의자 > 의자. 의자들. 부서진 의자 등이 있는 폴더\n",
    "# copydir : 병합할 폴더 경로\n",
    "# keyword : 병합할 폴더명\n",
    "\n",
    "def image_folder_merge(dir, copydir, keyword):\n",
    "    copydir = copydir+'\\\\'+keyword\n",
    "    if not os.path.exists(copydir):\n",
    "        os.mkdir(copydir)\n",
    "\n",
    "    for dirname in os.listdir(dir):\n",
    "        if dirname.find(keyword) is not -1 :\n",
    "            print(dirname)\n",
    "            for filename in os.listdir(dir+'\\\\'+dirname):\n",
    "                if filename.find(keyword) is not -1:\n",
    "                    filedir = dir+dirname+'\\\\'+filename\n",
    "                    shutil.copy(filedir,copydir)\n",
    "\n",
    "    print('complete merge images')\n"
   ]
  },
  {
   "cell_type": "code",
   "execution_count": 30,
   "metadata": {},
   "outputs": [
    {
     "name": "stdout",
     "output_type": "stream",
     "text": [
      "broken chair\n"
     ]
    },
    {
     "name": "stdout",
     "output_type": "stream",
     "text": [
      "chair\n"
     ]
    },
    {
     "name": "stdout",
     "output_type": "stream",
     "text": [
      "complete merge images\n"
     ]
    }
   ],
   "source": [
    "# 여러 이미지 폴더 병합\n",
    "# 병합 이미지 폴더 명 \n",
    "folder_name = 'chair'\n",
    "\n",
    "# 이미지 경로 \n",
    "image_dir = 'C:\\\\Users\\\\HyunA\\\\PycharmProjects\\\\deeplearning\\\\dataset\\\\raw\\\\'\n",
    "copy_dir = 'C:\\\\Users\\\\HyunA\\\\PycharmProjects\\\\deeplearning\\\\dataset'\n",
    "\n",
    "# 이미지 병합 함수 실행\n",
    "image_folder_merge(image_dir, copy_dir,folder_name)\n"
   ]
  },
  {
   "cell_type": "code",
   "execution_count": 126,
   "metadata": {},
   "outputs": [],
   "source": [
    "# 학습 이미지 데이터 분리 함수 생성\n",
    "# 모델학습을 위한 이미지 폴더 생성 : create_train_folder()\n",
    "# image_dir : 저장된 이미지 경로\n",
    "# save_dir : train, test 폴더가 저장될 경로\n",
    "# train_percent : train 데이터 비율\n",
    "\n",
    "def create_train_folder(image_dir, save_dir,keyword , train_percent):\n",
    "    train_dir = save_dir+'\\\\train\\\\'+keyword\n",
    "    test_dir = save_dir+'\\\\test\\\\'+keyword\n",
    "    train_percent = float(train_percent)\n",
    "    \n",
    "    # 디렉토리 생성\n",
    "    pathlib.Path(train_dir).mkdir(parents=True,exist_ok=True)\n",
    "    pathlib.Path(test_dir).mkdir(parents=True,exist_ok=True)\n",
    "\n",
    "    # 디렉토리내에 파일 섞어서 랜덤한 데이터 옮기기\n",
    "    list = os.listdir(image_dir)\n",
    "    # random.Random(4).shuffle(list)\n",
    "    random.shuffle(list)\n",
    "    index = round(len(os.listdir(image_dir))*train_percent)\n",
    "\n",
    "    for filename in list[:index]:        \n",
    "        shutil.move(image_dir+'\\\\'+filename, train_dir)\n",
    "\n",
    "    for filename in list[index:]:\n",
    "        shutil.move(image_dir+'\\\\'+filename, test_dir)\n",
    "\n",
    "    print('complete create train data folder')"
   ]
  },
  {
   "cell_type": "code",
   "execution_count": 127,
   "metadata": {
    "collapsed": false
   },
   "outputs": [
    {
     "name": "stdout",
     "output_type": "stream",
     "text": [
      "complete create train data folder\n"
     ]
    }
   ],
   "source": [
    "# 훈련, 테스트 데이터 분리 \n",
    "# 이미지 경로 \n",
    "image_dir = 'C:\\\\Users\\\\HyunA\\\\PycharmProjects\\\\deeplearning\\\\dataset\\\\chair'\n",
    "save_dir = 'C:\\\\Users\\\\HyunA\\\\PycharmProjects\\\\deeplearning\\\\dataset'\n",
    "\n",
    "# 분리 함수 실행\n",
    "create_train_folder(image_dir,save_dir,'chair',0.7)"
   ]
  },
  {
   "cell_type": "code",
   "execution_count": 123,
   "metadata": {},
   "outputs": [],
   "source": [
    ""
   ]
  }
 ],
 "metadata": {
  "kernelspec": {
   "display_name": "Python 2",
   "language": "python",
   "name": "python2"
  },
  "language_info": {
   "codemirror_mode": {
    "name": "ipython",
    "version": 2
   },
   "file_extension": ".py",
   "mimetype": "text/x-python",
   "name": "python",
   "nbconvert_exporter": "python",
   "pygments_lexer": "ipython2",
   "version": "2.7.6"
  }
 },
 "nbformat": 4,
 "nbformat_minor": 0
}

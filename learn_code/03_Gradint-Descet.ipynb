{
 "cells": [
  {
   "cell_type": "code",
   "execution_count": 1,
   "metadata": {
    "collapsed": true
   },
   "outputs": [
    {
     "name": "stderr",
     "output_type": "stream",
     "text": [
      "C:\\Users\\HyunA\\AppData\\Local\\conda\\conda\\envs\\tutorial\\lib\\site-packages\\h5py\\__init__.py:36: FutureWarning: Conversion of the second argument of issubdtype from `float` to `np.floating` is deprecated. In future, it will be treated as `np.float64 == np.dtype(float).type`.\n  from ._conv import register_converters as _register_converters\n"
     ]
    }
   ],
   "source": [
    "import  tensorflow as tf"
   ]
  },
  {
   "cell_type": "code",
   "execution_count": 2,
   "metadata": {},
   "outputs": [],
   "source": [
    "data = [[2,81],[4,93],[6,91],[8,97]]\n",
    "x_data = [x_row[0] for x_row in data]\n",
    "y_data = [y_row[1] for y_row in data]\n",
    "\n",
    "learing_rate = 0.1"
   ]
  },
  {
   "cell_type": "code",
   "execution_count": 6,
   "metadata": {},
   "outputs": [],
   "source": [
    "# 기울기 a 와 절편 b는 임의로 선정  \n",
    "# 0~ 10 사이의 임의의 수 1개 생성 , 데이터 형식 실수형 float64, 실행시 같은 값 나오게 \n",
    "a = tf.Variable(tf.random_uniform([1],0,10,dtype = tf.float64, seed = 0))\n",
    "# 0 ~ 100 사이의 임의의 수 1개 생성\n",
    "b = tf.Variable(tf.random_uniform([1],0,100, dtype=tf.float64, seed = 0))\n"
   ]
  },
  {
   "cell_type": "code",
   "execution_count": 7,
   "metadata": {},
   "outputs": [],
   "source": [
    "# 일차 방정식 구하기\n",
    "y = a*x_data+b"
   ]
  },
  {
   "cell_type": "code",
   "execution_count": 8,
   "metadata": {},
   "outputs": [],
   "source": [
    "# 평균제곱근 오차식 구하기 \n",
    "rmse = tf.sqrt(tf.reduce_mean(tf.square(y-y_data)))"
   ]
  },
  {
   "cell_type": "code",
   "execution_count": 9,
   "metadata": {},
   "outputs": [],
   "source": [
    "# 경사하강법 구하기 : 학습률을 받아서 rmse를 최소로 하는 기울기와 절편 구하기 \n",
    "gradient_decent = tf.train.GradientDescentOptimizer(learing_rate).minimize(rmse)"
   ]
  },
  {
   "cell_type": "code",
   "execution_count": 10,
   "metadata": {},
   "outputs": [
    {
     "name": "stdout",
     "output_type": "stream",
     "text": [
      "Epoch:0, RMSE=30.2139, 기울기 a = 7.5235, y절편 b =80.5984\nEpoch:100, RMSE=2.8860, 기울기 a = 2.2299, y절편 b =79.4181\nEpoch:200, RMSE=2.8826, 기울기 a = 2.2601, y절편 b =79.2379\nEpoch:300, RMSE=2.8815, 기울기 a = 2.2773, y절편 b =79.1353\nEpoch:400, RMSE=2.8811, 기울기 a = 2.2871, y절편 b =79.0770\nEpoch:500, RMSE=2.8810, 기울기 a = 2.2927, y절편 b =79.0438\nEpoch:600, RMSE=2.8810, 기울기 a = 2.2958, y절편 b =79.0249\nEpoch:700, RMSE=2.8810, 기울기 a = 2.2976, y절편 b =79.0142\nEpoch:800, RMSE=2.8810, 기울기 a = 2.2987, y절편 b =79.0081\nEpoch:900, RMSE=2.8810, 기울기 a = 2.2992, y절편 b =79.0046\nEpoch:1000, RMSE=2.8810, 기울기 a = 2.2996, y절편 b =79.0026\n"
     ]
    },
    {
     "name": "stdout",
     "output_type": "stream",
     "text": [
      "Epoch:1100, RMSE=2.8810, 기울기 a = 2.2998, y절편 b =79.0015\nEpoch:1200, RMSE=2.8810, 기울기 a = 2.2999, y절편 b =79.0008\nEpoch:1300, RMSE=2.8810, 기울기 a = 2.2999, y절편 b =79.0005\nEpoch:1400, RMSE=2.8810, 기울기 a = 2.3000, y절편 b =79.0003\nEpoch:1500, RMSE=2.8810, 기울기 a = 2.3000, y절편 b =79.0002\nEpoch:1600, RMSE=2.8810, 기울기 a = 2.3000, y절편 b =79.0001\nEpoch:1700, RMSE=2.8810, 기울기 a = 2.3000, y절편 b =79.0001\nEpoch:1800, RMSE=2.8810, 기울기 a = 2.3000, y절편 b =79.0000\nEpoch:1900, RMSE=2.8810, 기울기 a = 2.3000, y절편 b =79.0000\nEpoch:2000, RMSE=2.8810, 기울기 a = 2.3000, y절편 b =79.0000\n"
     ]
    }
   ],
   "source": [
    "# 텐서플로 실행, 결과 값 확인\n",
    "with tf.Session() as sess:\n",
    "    # 변수 초기화\n",
    "    sess.run(tf.global_variables_initializer())\n",
    "    # 2001번 실행 (0 번째 포함)\n",
    "    for step in range(2001):\n",
    "        sess.run(gradient_decent)\n",
    "        # 100번 마다 결과 출력\n",
    "        if step%100 == 0:\n",
    "            print(\"Epoch:%.f, RMSE=%.04f, 기울기 a = %.4f, y절편 b =%.4f\"%(step,sess.run(rmse),sess.run(a),sess.run(b)))"
   ]
  }
 ],
 "metadata": {
  "kernelspec": {
   "display_name": "Python 2",
   "language": "python",
   "name": "python2"
  },
  "language_info": {
   "codemirror_mode": {
    "name": "ipython",
    "version": 2
   },
   "file_extension": ".py",
   "mimetype": "text/x-python",
   "name": "python",
   "nbconvert_exporter": "python",
   "pygments_lexer": "ipython2",
   "version": "2.7.6"
  }
 },
 "nbformat": 4,
 "nbformat_minor": 0
}

{
 "cells": [
  {
   "cell_type": "markdown",
   "metadata": {
    "collapsed": true
   },
   "source": [
    "# 베스트 모델만들기\n",
    "\n",
    "와인데이터\n",
    "- 레드와인 데이터 : 1,599개\n",
    "- 화이트와인 데이터 : 4,898개"
   ]
  },
  {
   "cell_type": "code",
   "execution_count": 2,
   "metadata": {},
   "outputs": [
    {
     "name": "stdout",
     "output_type": "stream",
     "text": [
      "       0     1     2      3      4     5      6        7     8     9     10  \\\n593   9.9  0.49  0.58   3.50  0.094   9.0   43.0  1.00040  3.29  0.58   9.0   \n121   8.8  0.55  0.04   2.20  0.119  14.0   56.0  0.99620  3.21  0.60  10.9   \n2805  7.0  0.26  0.46  15.55  0.037  61.0  171.0  0.99860  2.94  0.35   8.8   \n3599  6.8  0.31  0.09   1.40  0.040  56.0  145.0  0.99220  3.19  0.46  10.0   \n4708  6.9  0.30  0.36   4.50  0.054  31.0  203.0  0.99513  3.40  0.57  10.4   \n\n      11  12  \n593    5   1  \n121    6   1  \n2805   6   0  \n3599   5   0  \n4708   4   0  \n"
     ]
    }
   ],
   "source": [
    "import pandas as pd\n",
    "\n",
    "df_pre = pd.read_csv('C:\\\\Users\\\\HyunA\\\\PycharmProjects\\\\deeplearning\\\\dataset\\\\wine.csv', header=None)\n",
    "# sample 함수 : 정해진 비율만큼 랜덤으로 뽑아오는 함수 1: 100%, 0.5:50%\n",
    "df = df_pre.sample(frac=1)\n",
    "print(df.head(5))"
   ]
  },
  {
   "cell_type": "code",
   "execution_count": 4,
   "metadata": {},
   "outputs": [
    {
     "name": "stdout",
     "output_type": "stream",
     "text": [
      "<class 'pandas.core.frame.DataFrame'>\nInt64Index: 6497 entries, 593 to 2385\nData columns (total 13 columns):\n0     6497 non-null float64\n1     6497 non-null float64\n2     6497 non-null float64\n3     6497 non-null float64\n4     6497 non-null float64\n5     6497 non-null float64\n6     6497 non-null float64\n7     6497 non-null float64\n8     6497 non-null float64\n9     6497 non-null float64\n10    6497 non-null float64\n11    6497 non-null int64\n12    6497 non-null int64\ndtypes: float64(11), int64(2)\nmemory usage: 710.6 KB\nNone\n"
     ]
    }
   ],
   "source": [
    "print(df.info())"
   ]
  },
  {
   "cell_type": "markdown",
   "metadata": {},
   "source": [
    "# 와인데이터 정보\n",
    "0 : 주석산농도\n",
    "1 : 아세트산 농도\n",
    "2 : 구연산 농도\n",
    "3 : 잔류 당분 농도\n",
    "4 : 염화나트륨 농도\n",
    "5 : 유리 아황산 농도\n",
    "6 : 총 아황산 농도\n",
    "7 : 밀도\n",
    "8 : pH\n",
    "9 : 황산칼륨농도\n",
    "10 : 알코올 도수\n",
    "11 : 와인의 맛 ( 0 ~10 등급)\n",
    "12 : class(1:레드와인, 0 : 화이트와인)"
   ]
  },
  {
   "cell_type": "code",
   "execution_count": 6,
   "metadata": {},
   "outputs": [],
   "source": [
    "# X , Y 값 분리 \n",
    "dataset = df.values\n",
    "X = dataset[:,0:12]\n",
    "Y = dataset[:,12]"
   ]
  },
  {
   "cell_type": "code",
   "execution_count": 7,
   "metadata": {
    "collapsed": true
   },
   "outputs": [
    {
     "name": "stderr",
     "output_type": "stream",
     "text": [
      "C:\\Users\\HyunA\\AppData\\Local\\conda\\conda\\envs\\tutorial\\lib\\site-packages\\h5py\\__init__.py:36: FutureWarning: Conversion of the second argument of issubdtype from `float` to `np.floating` is deprecated. In future, it will be treated as `np.float64 == np.dtype(float).type`.\n  from ._conv import register_converters as _register_converters\nUsing TensorFlow backend.\n"
     ]
    },
    {
     "name": "stdout",
     "output_type": "stream",
     "text": [
      "Epoch 1/200\n"
     ]
    },
    {
     "name": "stdout",
     "output_type": "stream",
     "text": [
      "\r 200/6497 [..............................] - ETA: 8s - loss: 0.5074 - acc: 0.7750"
     ]
    },
    {
     "name": "stdout",
     "output_type": "stream",
     "text": [
      "\b\b\b\b\b\b\b\b\b\b\b\b\b\b\b\b\b\b\b\b\b\b\b\b\b\b\b\b\b\b\b\b\b\b\b\b\b\b\b\b\b\b\b\b\b\b\b\b\b\b\b\b\b\b\b\b\b\b\b\b\b\b\b\b\b\b\b\b\b\b\b\b\b\b\b\b\b\b\b\b\b\r6497/6497 [==============================] - 0s 50us/step - loss: 0.3864 - acc: 0.8030\n"
     ]
    },
    {
     "name": "stdout",
     "output_type": "stream",
     "text": [
      "Epoch 2/200\n\r 200/6497 [..............................] - ETA: 0s - loss: 0.2554 - acc: 0.9000"
     ]
    },
    {
     "name": "stdout",
     "output_type": "stream",
     "text": [
      "\b\b\b\b\b\b\b\b\b\b\b\b\b\b\b\b\b\b\b\b\b\b\b\b\b\b\b\b\b\b\b\b\b\b\b\b\b\b\b\b\b\b\b\b\b\b\b\b\b\b\b\b\b\b\b\b\b\b\b\b\b\b\b\b\b\b\b\b\b\b\b\b\b\b\b\b\b\b\b\b\b\r5800/6497 [=========================>....] - ETA: 0s - loss: 0.2738 - acc: 0.9012"
     ]
    },
    {
     "name": "stdout",
     "output_type": "stream",
     "text": [
      "\b\b\b\b\b\b\b\b\b\b\b\b\b\b\b\b\b\b\b\b\b\b\b\b\b\b\b\b\b\b\b\b\b\b\b\b\b\b\b\b\b\b\b\b\b\b\b\b\b\b\b\b\b\b\b\b\b\b\b\b\b\b\b\b\b\b\b\b\b\b\b\b\b\b\b\b\b\b\b\b\b\r6497/6497 [==============================] - 0s 10us/step - loss: 0.2720 - acc: 0.9024\n"
     ]
    },
    {
     "name": "stdout",
     "output_type": "stream",
     "text": [
      "Epoch 3/200\n\r 200/6497 [..............................] - ETA: 0s - loss: 0.2637 - acc: 0.9150"
     ]
    },
    {
     "name": "stdout",
     "output_type": "stream",
     "text": [
      "\b\b\b\b\b\b\b\b\b\b\b\b\b\b\b\b\b\b\b\b\b\b\b\b\b\b\b\b\b\b\b\b\b\b\b\b\b\b\b\b\b\b\b\b\b\b\b\b\b\b\b\b\b\b\b\b\b\b\b\b\b\b\b\b\b\b\b\b\b\b\b\b\b\b\b\b\b\b\b\b\b\r6000/6497 [==========================>...] - ETA: 0s - loss: 0.2234 - acc: 0.9322"
     ]
    },
    {
     "name": "stdout",
     "output_type": "stream",
     "text": [
      "\b\b\b\b\b\b\b\b\b\b\b\b\b\b\b\b\b\b\b\b\b\b\b\b\b\b\b\b\b\b\b\b\b\b\b\b\b\b\b\b\b\b\b\b\b\b\b\b\b\b\b\b\b\b\b\b\b\b\b\b\b\b\b\b\b\b\b\b\b\b\b\b\b\b\b\b\b\b\b\b\b\r6497/6497 [==============================] - 0s 9us/step - loss: 0.2207 - acc: 0.9324\n"
     ]
    },
    {
     "name": "stdout",
     "output_type": "stream",
     "text": [
      "Epoch 4/200\n"
     ]
    },
    {
     "name": "stdout",
     "output_type": "stream",
     "text": [
      "\r 200/6497 [..............................] - ETA: 0s - loss: 0.2224 - acc: 0.9400"
     ]
    },
    {
     "name": "stdout",
     "output_type": "stream",
     "text": [
      "\b\b\b\b\b\b\b\b\b\b\b\b\b\b\b\b\b\b\b\b\b\b\b\b\b\b\b\b\b\b\b\b\b\b\b\b\b\b\b\b\b\b\b\b\b\b\b\b\b\b\b\b\b\b\b\b\b\b\b\b\b\b\b\b\b\b\b\b\b\b\b\b\b\b\b\b\b\b\b\b\b\r"
     ]
    },
    {
     "name": "stdout",
     "output_type": "stream",
     "text": [
      "5400/6497 [=======================>......] - ETA: 0s - loss: 0.2047 - acc: 0.9344"
     ]
    },
    {
     "name": "stdout",
     "output_type": "stream",
     "text": [
      "\b\b\b\b\b\b\b\b\b\b\b\b\b\b\b\b\b\b\b\b\b\b\b\b\b\b\b\b\b\b\b\b\b\b\b\b\b\b\b\b\b\b\b\b\b\b\b\b\b\b\b\b\b\b\b\b\b\b\b\b\b\b\b\b\b\b\b\b\b\b\b\b\b\b\b\b\b\b\b\b\b\r6497/6497 [==============================] - 0s 11us/step - loss: 0.2039 - acc: 0.9355\n"
     ]
    },
    {
     "name": "stdout",
     "output_type": "stream",
     "text": [
      "Epoch 5/200\n\r 200/6497 [..............................] - ETA: 0s - loss: 0.2126 - acc: 0.9250"
     ]
    },
    {
     "name": "stdout",
     "output_type": "stream",
     "text": [
      "\b\b\b\b\b\b\b\b\b\b\b\b\b\b\b\b\b\b\b\b\b\b\b\b\b\b\b\b\b\b\b\b\b\b\b\b\b\b\b\b\b\b\b\b\b\b\b\b\b\b\b\b\b\b\b\b\b\b\b\b\b\b\b\b\b\b\b\b\b\b\b\b\b\b\b\b\b\b\b\b\b\r5000/6497 [======================>.......] - ETA: 0s - loss: 0.1916 - acc: 0.9374"
     ]
    },
    {
     "name": "stdout",
     "output_type": "stream",
     "text": [
      "\b\b\b\b\b\b\b\b\b\b\b\b\b\b\b\b\b\b\b\b\b\b\b\b\b\b\b\b\b\b\b\b\b\b\b\b\b\b\b\b\b\b\b\b\b\b\b\b\b\b\b\b\b\b\b\b\b\b\b\b\b\b\b\b\b\b\b\b\b\b\b\b\b\b\b\b\b\b\b\b\b\r6497/6497 [==============================] - 0s 10us/step - loss: 0.1945 - acc: 0.9377\n"
     ]
    },
    {
     "name": "stdout",
     "output_type": "stream",
     "text": [
      "Epoch 6/200\n\r 200/6497 [..............................] - ETA: 0s - loss: 0.1714 - acc: 0.9550"
     ]
    },
    {
     "name": "stdout",
     "output_type": "stream",
     "text": [
      "\b\b\b\b\b\b\b\b\b\b\b\b\b\b\b\b\b\b\b\b\b\b\b\b\b\b\b\b\b\b\b\b\b\b\b\b\b\b\b\b\b\b\b\b\b\b\b\b\b\b\b\b\b\b\b\b\b\b\b\b\b\b\b\b\b\b\b\b\b\b\b\b\b\b\b\b\b\b\b\b\b\r5600/6497 [========================>.....] - ETA: 0s - loss: 0.1829 - acc: 0.9389"
     ]
    },
    {
     "name": "stdout",
     "output_type": "stream",
     "text": [
      "\b\b\b\b\b\b\b\b\b\b\b\b\b\b\b\b\b\b\b\b\b\b\b\b\b\b\b\b\b\b\b\b\b\b\b\b\b\b\b\b\b\b\b\b\b\b\b\b\b\b\b\b\b\b\b\b\b\b\b\b\b\b\b\b\b\b\b\b\b\b\b\b\b\b\b\b\b\b\b\b\b\r6497/6497 [==============================] - 0s 10us/step - loss: 0.1862 - acc: 0.9381\n"
     ]
    },
    {
     "name": "stdout",
     "output_type": "stream",
     "text": [
      "Epoch 7/200\n\r 200/6497 [..............................] - ETA: 0s - loss: 0.1646 - acc: 0.9650"
     ]
    },
    {
     "name": "stdout",
     "output_type": "stream",
     "text": [
      "\b\b\b\b\b\b\b\b\b\b\b\b\b\b\b\b\b\b\b\b\b\b\b\b\b\b\b\b\b\b\b\b\b\b\b\b\b\b\b\b\b\b\b\b\b\b\b\b\b\b\b\b\b\b\b\b\b\b\b\b\b\b\b\b\b\b\b\b\b\b\b\b\b\b\b\b\b\b\b\b\b\r5200/6497 [=======================>......] - ETA: 0s - loss: 0.1857 - acc: 0.9385"
     ]
    },
    {
     "name": "stdout",
     "output_type": "stream",
     "text": [
      "\b\b\b\b\b\b\b\b\b\b\b\b\b\b\b\b\b\b\b\b\b\b\b\b\b\b\b\b\b\b\b\b\b\b\b\b\b\b\b\b\b\b\b\b\b\b\b\b\b\b\b\b\b\b\b\b\b\b\b\b\b\b\b\b\b\b\b\b\b\b\b\b\b\b\b\b\b\b\b\b\b\r6497/6497 [==============================] - 0s 11us/step - loss: 0.1838 - acc: 0.9400\n"
     ]
    },
    {
     "name": "stdout",
     "output_type": "stream",
     "text": [
      "Epoch 8/200\n\r 200/6497 [..............................] - ETA: 0s - loss: 0.2185 - acc: 0.9250"
     ]
    },
    {
     "name": "stdout",
     "output_type": "stream",
     "text": [
      "\b\b\b\b\b\b\b\b\b\b\b\b\b\b\b\b\b\b\b\b\b\b\b\b\b\b\b\b\b\b\b\b\b\b\b\b\b\b\b\b\b\b\b\b\b\b\b\b\b\b\b\b\b\b\b\b\b\b\b\b\b\b\b\b\b\b\b\b\b\b\b\b\b\b\b\b\b\b\b\b\b\r5600/6497 [========================>.....] - ETA: 0s - loss: 0.1785 - acc: 0.9396"
     ]
    },
    {
     "name": "stdout",
     "output_type": "stream",
     "text": [
      "\b\b\b\b\b\b\b\b\b\b\b\b\b\b\b\b\b\b\b\b\b\b\b\b\b\b\b\b\b\b\b\b\b\b\b\b\b\b\b\b\b\b\b\b\b\b\b\b\b\b\b\b\b\b\b\b\b\b\b\b\b\b\b\b\b\b\b\b\b\b\b\b\b\b\b\b\b\b\b\b\b\r6497/6497 [==============================] - 0s 10us/step - loss: 0.1767 - acc: 0.9407\n"
     ]
    },
    {
     "name": "stdout",
     "output_type": "stream",
     "text": [
      "Epoch 9/200\n\r 200/6497 [..............................] - ETA: 0s - loss: 0.2002 - acc: 0.9200"
     ]
    },
    {
     "name": "stdout",
     "output_type": "stream",
     "text": [
      "\b\b\b\b\b\b\b\b\b\b\b\b\b\b\b\b\b\b\b\b\b\b\b\b\b\b\b\b\b\b\b\b\b\b\b\b\b\b\b\b\b\b\b\b\b\b\b\b\b\b\b\b\b\b\b\b\b\b\b\b\b\b\b\b\b\b\b\b\b\b\b\b\b\b\b\b\b\b\b\b\b\r5600/6497 [========================>.....] - ETA: 0s - loss: 0.1784 - acc: 0.9387"
     ]
    },
    {
     "name": "stdout",
     "output_type": "stream",
     "text": [
      "\b\b\b\b\b\b\b\b\b\b\b\b\b\b\b\b\b\b\b\b\b\b\b\b\b\b\b\b\b\b\b\b\b\b\b\b\b\b\b\b\b\b\b\b\b\b\b\b\b\b\b\b\b\b\b\b\b\b\b\b\b\b\b\b\b\b\b\b\b\b\b\b\b\b\b\b\b\b\b\b\b\r6497/6497 [==============================] - 0s 11us/step - loss: 0.1742 - acc: 0.9404\n"
     ]
    },
    {
     "name": "stdout",
     "output_type": "stream",
     "text": [
      "Epoch 10/200\n\r 200/6497 [..............................] - ETA: 0s - loss: 0.2347 - acc: 0.9150"
     ]
    },
    {
     "name": "stdout",
     "output_type": "stream",
     "text": [
      "\b\b\b\b\b\b\b\b\b\b\b\b\b\b\b\b\b\b\b\b\b\b\b\b\b\b\b\b\b\b\b\b\b\b\b\b\b\b\b\b\b\b\b\b\b\b\b\b\b\b\b\b\b\b\b\b\b\b\b\b\b\b\b\b\b\b\b\b\b\b\b\b\b\b\b\b\b\b\b\b\b\r6200/6497 [===========================>..] - ETA: 0s - loss: 0.1679 - acc: 0.9424"
     ]
    },
    {
     "name": "stdout",
     "output_type": "stream",
     "text": [
      "\b\b\b\b\b\b\b\b\b\b\b\b\b\b\b\b\b\b\b\b\b\b\b\b\b\b\b\b\b\b\b\b\b\b\b\b\b\b\b\b\b\b\b\b\b\b\b\b\b\b\b\b\b\b\b\b\b\b\b\b\b\b\b\b\b\b\b\b\b\b\b\b\b\b\b\b\b\b\b\b\b\r6497/6497 [==============================] - 0s 9us/step - loss: 0.1680 - acc: 0.9427\n"
     ]
    },
    {
     "name": "stdout",
     "output_type": "stream",
     "text": [
      "Epoch 11/200\n\r 200/6497 [..............................] - ETA: 0s - loss: 0.1236 - acc: 0.9450"
     ]
    },
    {
     "name": "stdout",
     "output_type": "stream",
     "text": [
      "\b\b\b\b\b\b\b\b\b\b\b\b\b\b\b\b\b\b\b\b\b\b\b\b\b\b\b\b\b\b\b\b\b\b\b\b\b\b\b\b\b\b\b\b\b\b\b\b\b\b\b\b\b\b\b\b\b\b\b\b\b\b\b\b\b\b\b\b\b\b\b\b\b\b\b\b\b\b\b\b\b\r5600/6497 [========================>.....] - ETA: 0s - loss: 0.1656 - acc: 0.9470"
     ]
    },
    {
     "name": "stdout",
     "output_type": "stream",
     "text": [
      "\b\b\b\b\b\b\b\b\b\b\b\b\b\b\b\b\b\b\b\b\b\b\b\b\b\b\b\b\b\b\b\b\b\b\b\b\b\b\b\b\b\b\b\b\b\b\b\b\b\b\b\b\b\b\b\b\b\b\b\b\b\b\b\b\b\b\b\b\b\b\b\b\b\b\b\b\b\b\b\b\b\r6497/6497 [==============================] - 0s 10us/step - loss: 0.1664 - acc: 0.9451\n"
     ]
    },
    {
     "name": "stdout",
     "output_type": "stream",
     "text": [
      "Epoch 12/200\n\r 200/6497 [..............................] - ETA: 0s - loss: 0.1671 - acc: 0.9300"
     ]
    },
    {
     "name": "stdout",
     "output_type": "stream",
     "text": [
      "\b\b\b\b\b\b\b\b\b\b\b\b\b\b\b\b\b\b\b\b\b\b\b\b\b\b\b\b\b\b\b\b\b\b\b\b\b\b\b\b\b\b\b\b\b\b\b\b\b\b\b\b\b\b\b\b\b\b\b\b\b\b\b\b\b\b\b\b\b\b\b\b\b\b\b\b\b\b\b\b\b\r6000/6497 [==========================>...] - ETA: 0s - loss: 0.1630 - acc: 0.9455"
     ]
    },
    {
     "name": "stdout",
     "output_type": "stream",
     "text": [
      "\b\b\b\b\b\b\b\b\b\b\b\b\b\b\b\b\b\b\b\b\b\b\b\b\b\b\b\b\b\b\b\b\b\b\b\b\b\b\b\b\b\b\b\b\b\b\b\b\b\b\b\b\b\b\b\b\b\b\b\b\b\b\b\b\b\b\b\b\b\b\b\b\b\b\b\b\b\b\b\b\b\r6497/6497 [==============================] - 0s 9us/step - loss: 0.1622 - acc: 0.9458\n"
     ]
    },
    {
     "name": "stdout",
     "output_type": "stream",
     "text": [
      "Epoch 13/200\n"
     ]
    },
    {
     "name": "stdout",
     "output_type": "stream",
     "text": [
      "\r 200/6497 [..............................] - ETA: 0s - loss: 0.1050 - acc: 0.9650"
     ]
    },
    {
     "name": "stdout",
     "output_type": "stream",
     "text": [
      "\b\b\b\b\b\b\b\b\b\b\b\b\b\b\b\b\b\b\b\b\b\b\b\b\b\b\b\b\b\b\b\b\b\b\b\b\b\b\b\b\b\b\b\b\b\b\b\b\b\b\b\b\b\b\b\b\b\b\b\b\b\b\b\b\b\b\b\b\b\b\b\b\b\b\b\b\b\b\b\b\b\r5400/6497 [=======================>......] - ETA: 0s - loss: 0.1608 - acc: 0.9463"
     ]
    },
    {
     "name": "stdout",
     "output_type": "stream",
     "text": [
      "\b\b\b\b\b\b\b\b\b\b\b\b\b\b\b\b\b\b\b\b\b\b\b\b\b\b\b\b\b\b\b\b\b\b\b\b\b\b\b\b\b\b\b\b\b\b\b\b\b\b\b\b\b\b\b\b\b\b\b\b\b\b\b\b\b\b\b\b\b\b\b\b\b\b\b\b\b\b\b\b\b\r6497/6497 [==============================] - 0s 10us/step - loss: 0.1567 - acc: 0.9475\n"
     ]
    },
    {
     "name": "stdout",
     "output_type": "stream",
     "text": [
      "Epoch 14/200\n\r 200/6497 [..............................] - ETA: 0s - loss: 0.1196 - acc: 0.9500"
     ]
    },
    {
     "name": "stdout",
     "output_type": "stream",
     "text": [
      "\b\b\b\b\b\b\b\b\b\b\b\b\b\b\b\b\b\b\b\b\b\b\b\b\b\b\b\b\b\b\b\b\b\b\b\b\b\b\b\b\b\b\b\b\b\b\b\b\b\b\b\b\b\b\b\b\b\b\b\b\b\b\b\b\b\b\b\b\b\b\b\b\b\b\b\b\b\b\b\b\b"
     ]
    },
    {
     "name": "stdout",
     "output_type": "stream",
     "text": [
      "\r4200/6497 [==================>...........] - ETA: 0s - loss: 0.1591 - acc: 0.9431"
     ]
    },
    {
     "name": "stdout",
     "output_type": "stream",
     "text": [
      "\b\b\b\b\b\b\b\b\b\b\b\b\b\b\b\b\b\b\b\b\b\b\b\b\b\b\b\b\b\b\b\b\b\b\b\b\b\b\b\b\b\b\b\b\b\b\b\b\b\b\b\b\b\b\b\b\b\b\b\b\b\b\b\b\b\b\b\b\b\b\b\b\b\b\b\b\b\b\b\b\b\r6497/6497 [==============================] - 0s 14us/step - loss: 0.1531 - acc: 0.9467\n"
     ]
    },
    {
     "name": "stdout",
     "output_type": "stream",
     "text": [
      "Epoch 15/200\n\r 200/6497 [..............................] - ETA: 0s - loss: 0.1811 - acc: 0.9650"
     ]
    },
    {
     "name": "stdout",
     "output_type": "stream",
     "text": [
      "\b\b\b\b\b\b\b\b\b\b\b\b\b\b\b\b\b\b\b\b\b\b\b\b\b\b\b\b\b\b\b\b\b\b\b\b\b\b\b\b\b\b\b\b\b\b\b\b\b\b\b\b\b\b\b\b\b\b\b\b\b\b\b\b\b\b\b\b\b\b\b\b\b\b\b\b\b\b\b\b\b\r6497/6497 [==============================] - 0s 8us/step - loss: 0.1531 - acc: 0.9474\n"
     ]
    },
    {
     "name": "stdout",
     "output_type": "stream",
     "text": [
      "Epoch 16/200\n\r 200/6497 [..............................] - ETA: 0s - loss: 0.1779 - acc: 0.9450"
     ]
    },
    {
     "name": "stdout",
     "output_type": "stream",
     "text": [
      "\b\b\b\b\b\b\b\b\b\b\b\b\b\b\b\b\b\b\b\b\b\b\b\b\b\b\b\b\b\b\b\b\b\b\b\b\b\b\b\b\b\b\b\b\b\b\b\b\b\b\b\b\b\b\b\b\b\b\b\b\b\b\b\b\b\b\b\b\b\b\b\b\b\b\b\b\b\b\b\b\b\r6000/6497 [==========================>...] - ETA: 0s - loss: 0.1414 - acc: 0.9507"
     ]
    },
    {
     "name": "stdout",
     "output_type": "stream",
     "text": [
      "\b\b\b\b\b\b\b\b\b\b\b\b\b\b\b\b\b\b\b\b\b\b\b\b\b\b\b\b\b\b\b\b\b\b\b\b\b\b\b\b\b\b\b\b\b\b\b\b\b\b\b\b\b\b\b\b\b\b\b\b\b\b\b\b\b\b\b\b\b\b\b\b\b\b\b\b\b\b\b\b\b\r6497/6497 [==============================] - 0s 9us/step - loss: 0.1438 - acc: 0.9489\n"
     ]
    },
    {
     "name": "stdout",
     "output_type": "stream",
     "text": [
      "Epoch 17/200\n\r 200/6497 [..............................] - ETA: 0s - loss: 0.0916 - acc: 0.9750"
     ]
    },
    {
     "name": "stdout",
     "output_type": "stream",
     "text": [
      "\b\b\b\b\b\b\b\b\b\b\b\b\b\b\b\b\b\b\b\b\b\b\b\b\b\b\b\b\b\b\b\b\b\b\b\b\b\b\b\b\b\b\b\b\b\b\b\b\b\b\b\b\b\b\b\b\b\b\b\b\b\b\b\b\b\b\b\b\b\b\b\b\b\b\b\b\b\b\b\b\b\r5400/6497 [=======================>......] - ETA: 0s - loss: 0.1439 - acc: 0.9480"
     ]
    },
    {
     "name": "stdout",
     "output_type": "stream",
     "text": [
      "\b\b\b\b\b\b\b\b\b\b\b\b\b\b\b\b\b\b\b\b\b\b\b\b\b\b\b\b\b\b\b\b\b\b\b\b\b\b\b\b\b\b\b\b\b\b\b\b\b\b\b\b\b\b\b\b\b\b\b\b\b\b\b\b\b\b\b\b\b\b\b\b\b\b\b\b\b\b\b\b\b\r6497/6497 [==============================] - 0s 10us/step - loss: 0.1412 - acc: 0.9491\n"
     ]
    },
    {
     "name": "stdout",
     "output_type": "stream",
     "text": [
      "Epoch 18/200\n\r 200/6497 [..............................] - ETA: 0s - loss: 0.0911 - acc: 0.9700"
     ]
    },
    {
     "name": "stdout",
     "output_type": "stream",
     "text": [
      "\b\b\b\b\b\b\b\b\b\b\b\b\b\b\b\b\b\b\b\b\b\b\b\b\b\b\b\b\b\b\b\b\b\b\b\b\b\b\b\b\b\b\b\b\b\b\b\b\b\b\b\b\b\b\b\b\b\b\b\b\b\b\b\b\b\b\b\b\b\b\b\b\b\b\b\b\b\b\b\b\b\r5600/6497 [========================>.....] - ETA: 0s - loss: 0.1335 - acc: 0.9521"
     ]
    },
    {
     "name": "stdout",
     "output_type": "stream",
     "text": [
      "\b\b\b\b\b\b\b\b\b\b\b\b\b\b\b\b\b\b\b\b\b\b\b\b\b\b\b\b\b\b\b\b\b\b\b\b\b\b\b\b\b\b\b\b\b\b\b\b\b\b\b\b\b\b\b\b\b\b\b\b\b\b\b\b\b\b\b\b\b\b\b\b\b\b\b\b\b\b\b\b\b\r6497/6497 [==============================] - 0s 10us/step - loss: 0.1351 - acc: 0.9511\n"
     ]
    },
    {
     "name": "stdout",
     "output_type": "stream",
     "text": [
      "Epoch 19/200\n\r 200/6497 [..............................] - ETA: 0s - loss: 0.0976 - acc: 0.9600"
     ]
    },
    {
     "name": "stdout",
     "output_type": "stream",
     "text": [
      "\b\b\b\b\b\b\b\b\b\b\b\b\b\b\b\b\b\b\b\b\b\b\b\b\b\b\b\b\b\b\b\b\b\b\b\b\b\b\b\b\b\b\b\b\b\b\b\b\b\b\b\b\b\b\b\b\b\b\b\b\b\b\b\b\b\b\b\b\b\b\b\b\b\b\b\b\b\b\b\b\b\r4800/6497 [=====================>........] - ETA: 0s - loss: 0.1315 - acc: 0.9525"
     ]
    },
    {
     "name": "stdout",
     "output_type": "stream",
     "text": [
      "\b\b\b\b\b\b\b\b\b\b\b\b\b\b\b\b\b\b\b\b\b\b\b\b\b\b\b\b\b\b\b\b\b\b\b\b\b\b\b\b\b\b\b\b\b\b\b\b\b\b\b\b\b\b\b\b\b\b\b\b\b\b\b\b\b\b\b\b\b\b\b\b\b\b\b\b\b\b\b\b\b\r6497/6497 [==============================] - 0s 11us/step - loss: 0.1334 - acc: 0.9514\n"
     ]
    },
    {
     "name": "stdout",
     "output_type": "stream",
     "text": [
      "Epoch 20/200\n\r 200/6497 [..............................] - ETA: 0s - loss: 0.1305 - acc: 0.9550"
     ]
    },
    {
     "name": "stdout",
     "output_type": "stream",
     "text": [
      "\b\b\b\b\b\b\b\b\b\b\b\b\b\b\b\b\b\b\b\b\b\b\b\b\b\b\b\b\b\b\b\b\b\b\b\b\b\b\b\b\b\b\b\b\b\b\b\b\b\b\b\b\b\b\b\b\b\b\b\b\b\b\b\b\b\b\b\b\b\b\b\b\b\b\b\b\b\b\b\b\b\r5000/6497 [======================>.......] - ETA: 0s - loss: 0.1335 - acc: 0.9512"
     ]
    },
    {
     "name": "stdout",
     "output_type": "stream",
     "text": [
      "\b\b\b\b\b\b\b\b\b\b\b\b\b\b\b\b\b\b\b\b\b\b\b\b\b\b\b\b\b\b\b\b\b\b\b\b\b\b\b\b\b\b\b\b\b\b\b\b\b\b\b\b\b\b\b\b\b\b\b\b\b\b\b\b\b\b\b\b\b\b\b\b\b\b\b\b\b\b\b\b\b\r6497/6497 [==============================] - 0s 10us/step - loss: 0.1316 - acc: 0.9518\n"
     ]
    },
    {
     "name": "stdout",
     "output_type": "stream",
     "text": [
      "Epoch 21/200\n\r 200/6497 [..............................] - ETA: 0s - loss: 0.0839 - acc: 0.9750"
     ]
    },
    {
     "name": "stdout",
     "output_type": "stream",
     "text": [
      "\b\b\b\b\b\b\b\b\b\b\b\b\b\b\b\b\b\b\b\b\b\b\b\b\b\b\b\b\b\b\b\b\b\b\b\b\b\b\b\b\b\b\b\b\b\b\b\b\b\b\b\b\b\b\b\b\b\b\b\b\b\b\b\b\b\b\b\b\b\b\b\b\b\b\b\b\b\b\b\b\b\r4800/6497 [=====================>........] - ETA: 0s - loss: 0.1303 - acc: 0.9542"
     ]
    },
    {
     "name": "stdout",
     "output_type": "stream",
     "text": [
      "\b\b\b\b\b\b\b\b\b\b\b\b\b\b\b\b\b\b\b\b\b\b\b\b\b\b\b\b\b\b\b\b\b\b\b\b\b\b\b\b\b\b\b\b\b\b\b\b\b\b\b\b\b\b\b\b\b\b\b\b\b\b\b\b\b\b\b\b\b\b\b\b\b\b\b\b\b\b\b\b\b\r6497/6497 [==============================] - 0s 11us/step - loss: 0.1293 - acc: 0.9547\n"
     ]
    },
    {
     "name": "stdout",
     "output_type": "stream",
     "text": [
      "Epoch 22/200\n\r 200/6497 [..............................] - ETA: 0s - loss: 0.1115 - acc: 0.9450"
     ]
    },
    {
     "name": "stdout",
     "output_type": "stream",
     "text": [
      "\b\b\b\b\b\b\b\b\b\b\b\b\b\b\b\b\b\b\b\b\b\b\b\b\b\b\b\b\b\b\b\b\b\b\b\b\b\b\b\b\b\b\b\b\b\b\b\b\b\b\b\b\b\b\b\b\b\b\b\b\b\b\b\b\b\b\b\b\b\b\b\b\b\b\b\b\b\b\b\b\b\r6497/6497 [==============================] - 0s 8us/step - loss: 0.1232 - acc: 0.9551\n"
     ]
    },
    {
     "name": "stdout",
     "output_type": "stream",
     "text": [
      "Epoch 23/200\n\r 200/6497 [..............................] - ETA: 0s - loss: 0.1102 - acc: 0.9600"
     ]
    },
    {
     "name": "stdout",
     "output_type": "stream",
     "text": [
      "\b\b\b\b\b\b\b\b\b\b\b\b\b\b\b\b\b\b\b\b\b\b\b\b\b\b\b\b\b\b\b\b\b\b\b\b\b\b\b\b\b\b\b\b\b\b\b\b\b\b\b\b\b\b\b\b\b\b\b\b\b\b\b\b\b\b\b\b\b\b\b\b\b\b\b\b\b\b\b\b\b\r6400/6497 [============================>.] - ETA: 0s - loss: 0.1230 - acc: 0.9550"
     ]
    },
    {
     "name": "stdout",
     "output_type": "stream",
     "text": [
      "\b\b\b\b\b\b\b\b\b\b\b\b\b\b\b\b\b\b\b\b\b\b\b\b\b\b\b\b\b\b\b\b\b\b\b\b\b\b\b\b\b\b\b\b\b\b\b\b\b\b\b\b\b\b\b\b\b\b\b\b\b\b\b\b\b\b\b\b\b\b\b\b\b\b\b\b\b\b\b\b\b\r6497/6497 [==============================] - 0s 9us/step - loss: 0.1227 - acc: 0.9554\n"
     ]
    },
    {
     "name": "stdout",
     "output_type": "stream",
     "text": [
      "Epoch 24/200\n\r 200/6497 [..............................] - ETA: 0s - loss: 0.1857 - acc: 0.9350"
     ]
    },
    {
     "name": "stdout",
     "output_type": "stream",
     "text": [
      "\b\b\b\b\b\b\b\b\b\b\b\b\b\b\b\b\b\b\b\b\b\b\b\b\b\b\b\b\b\b\b\b\b\b\b\b\b\b\b\b\b\b\b\b\b\b\b\b\b\b\b\b\b\b\b\b\b\b\b\b\b\b\b\b\b\b\b\b\b\b\b\b\b\b\b\b\b\b\b\b\b\r6000/6497 [==========================>...] - ETA: 0s - loss: 0.1230 - acc: 0.9570"
     ]
    },
    {
     "name": "stdout",
     "output_type": "stream",
     "text": [
      "\b\b\b\b\b\b\b\b\b\b\b\b\b\b\b\b\b\b\b\b\b\b\b\b\b\b\b\b\b\b\b\b\b\b\b\b\b\b\b\b\b\b\b\b\b\b\b\b\b\b\b\b\b\b\b\b\b\b\b\b\b\b\b\b\b\b\b\b\b\b\b\b\b\b\b\b\b\b\b\b\b\r6497/6497 [==============================] - 0s 10us/step - loss: 0.1223 - acc: 0.9560\n"
     ]
    },
    {
     "name": "stdout",
     "output_type": "stream",
     "text": [
      "Epoch 25/200\n\r 200/6497 [..............................] - ETA: 0s - loss: 0.0724 - acc: 0.9700"
     ]
    },
    {
     "name": "stdout",
     "output_type": "stream",
     "text": [
      "\b\b\b\b\b\b\b\b\b\b\b\b\b\b\b\b\b\b\b\b\b\b\b\b\b\b\b\b\b\b\b\b\b\b\b\b\b\b\b\b\b\b\b\b\b\b\b\b\b\b\b\b\b\b\b\b\b\b\b\b\b\b\b\b\b\b\b\b\b\b\b\b\b\b\b\b\b\b\b\b\b\r6400/6497 [============================>.] - ETA: 0s - loss: 0.1176 - acc: 0.9581"
     ]
    },
    {
     "name": "stdout",
     "output_type": "stream",
     "text": [
      "\b\b\b\b\b\b\b\b\b\b\b\b\b\b\b\b\b\b\b\b\b\b\b\b\b\b\b\b\b\b\b\b\b\b\b\b\b\b\b\b\b\b\b\b\b\b\b\b\b\b\b\b\b\b\b\b\b\b\b\b\b\b\b\b\b\b\b\b\b\b\b\b\b\b\b\b\b\b\b\b\b\r6497/6497 [==============================] - 0s 9us/step - loss: 0.1189 - acc: 0.9575\n"
     ]
    },
    {
     "name": "stdout",
     "output_type": "stream",
     "text": [
      "Epoch 26/200\n\r 200/6497 [..............................] - ETA: 0s - loss: 0.0429 - acc: 0.9900"
     ]
    },
    {
     "name": "stdout",
     "output_type": "stream",
     "text": [
      "\b\b\b\b\b\b\b\b\b\b\b\b\b\b\b\b\b\b\b\b\b\b\b\b\b\b\b\b\b\b\b\b\b\b\b\b\b\b\b\b\b\b\b\b\b\b\b\b\b\b\b\b\b\b\b\b\b\b\b\b\b\b\b\b\b\b\b\b\b\b\b\b\b\b\b\b\b\b\b\b\b\r6497/6497 [==============================] - 0s 8us/step - loss: 0.1113 - acc: 0.9608\n"
     ]
    },
    {
     "name": "stdout",
     "output_type": "stream",
     "text": [
      "Epoch 27/200\n"
     ]
    },
    {
     "name": "stdout",
     "output_type": "stream",
     "text": [
      "\r 200/6497 [..............................] - ETA: 0s - loss: 0.0674 - acc: 0.9850"
     ]
    },
    {
     "name": "stdout",
     "output_type": "stream",
     "text": [
      "\b\b\b\b\b\b\b\b\b\b\b\b\b\b\b\b\b\b\b\b\b\b\b\b\b\b\b\b\b\b\b\b\b\b\b\b\b\b\b\b\b\b\b\b\b\b\b\b\b\b\b\b\b\b\b\b\b\b\b\b\b\b\b\b\b\b\b\b\b\b\b\b\b\b\b\b\b\b\b\b\b\r6200/6497 [===========================>..] - ETA: 0s - loss: 0.1128 - acc: 0.9602"
     ]
    },
    {
     "name": "stdout",
     "output_type": "stream",
     "text": [
      "\b\b\b\b\b\b\b\b\b\b\b\b\b\b\b\b\b\b\b\b\b\b\b\b\b\b\b\b\b\b\b\b\b\b\b\b\b\b\b\b\b\b\b\b\b\b\b\b\b\b\b\b\b\b\b\b\b\b\b\b\b\b\b\b\b\b\b\b\b\b\b\b\b\b\b\b\b\b\b\b\b\r6497/6497 [==============================] - 0s 9us/step - loss: 0.1113 - acc: 0.9614\n"
     ]
    },
    {
     "name": "stdout",
     "output_type": "stream",
     "text": [
      "Epoch 28/200\n\r 200/6497 [..............................] - ETA: 0s - loss: 0.1011 - acc: 0.9500"
     ]
    },
    {
     "name": "stdout",
     "output_type": "stream",
     "text": [
      "\b\b\b\b\b\b\b\b\b\b\b\b\b\b\b\b\b\b\b\b\b\b\b\b\b\b\b\b\b\b\b\b\b\b\b\b\b\b\b\b\b\b\b\b\b\b\b\b\b\b\b\b\b\b\b\b\b\b\b\b\b\b\b\b\b\b\b\b\b\b\b\b\b\b\b\b\b\b\b\b\b\r6400/6497 [============================>.] - ETA: 0s - loss: 0.1112 - acc: 0.9633"
     ]
    },
    {
     "name": "stdout",
     "output_type": "stream",
     "text": [
      "\b\b\b\b\b\b\b\b\b\b\b\b\b\b\b\b\b\b\b\b\b\b\b\b\b\b\b\b\b\b\b\b\b\b\b\b\b\b\b\b\b\b\b\b\b\b\b\b\b\b\b\b\b\b\b\b\b\b\b\b\b\b\b\b\b\b\b\b\b\b\b\b\b\b\b\b\b\b\b\b\b\r6497/6497 [==============================] - 0s 9us/step - loss: 0.1112 - acc: 0.9629\n"
     ]
    },
    {
     "name": "stdout",
     "output_type": "stream",
     "text": [
      "Epoch 29/200\n\r 200/6497 [..............................] - ETA: 0s - loss: 0.1004 - acc: 0.9450"
     ]
    },
    {
     "name": "stdout",
     "output_type": "stream",
     "text": [
      "\b\b\b\b\b\b\b\b\b\b\b\b\b\b\b\b\b\b\b\b\b\b\b\b\b\b\b\b\b\b\b\b\b\b\b\b\b\b\b\b\b\b\b\b\b\b\b\b\b\b\b\b\b\b\b\b\b\b\b\b\b\b\b\b\b\b\b\b\b\b\b\b\b\b\b\b\b\b\b\b\b\r6200/6497 [===========================>..] - ETA: 0s - loss: 0.1049 - acc: 0.9648"
     ]
    },
    {
     "name": "stdout",
     "output_type": "stream",
     "text": [
      "\b\b\b\b\b\b\b\b\b\b\b\b\b\b\b\b\b\b\b\b\b\b\b\b\b\b\b\b\b\b\b\b\b\b\b\b\b\b\b\b\b\b\b\b\b\b\b\b\b\b\b\b\b\b\b\b\b\b\b\b\b\b\b\b\b\b\b\b\b\b\b\b\b\b\b\b\b\b\b\b\b\r6497/6497 [==============================] - 0s 9us/step - loss: 0.1034 - acc: 0.9655\n"
     ]
    },
    {
     "name": "stdout",
     "output_type": "stream",
     "text": [
      "Epoch 30/200\n\r 200/6497 [..............................] - ETA: 0s - loss: 0.0650 - acc: 0.9900"
     ]
    },
    {
     "name": "stdout",
     "output_type": "stream",
     "text": [
      "\b\b\b\b\b\b\b\b\b\b\b\b\b\b\b\b\b\b\b\b\b\b\b\b\b\b\b\b\b\b\b\b\b\b\b\b\b\b\b\b\b\b\b\b\b\b\b\b\b\b\b\b\b\b\b\b\b\b\b\b\b\b\b\b\b\b\b\b\b\b\b\b\b\b\b\b\b\b\b\b\b\r5600/6497 [========================>.....] - ETA: 0s - loss: 0.0996 - acc: 0.9662"
     ]
    },
    {
     "name": "stdout",
     "output_type": "stream",
     "text": [
      "\b\b\b\b\b\b\b\b\b\b\b\b\b\b\b\b\b\b\b\b\b\b\b\b\b\b\b\b\b\b\b\b\b\b\b\b\b\b\b\b\b\b\b\b\b\b\b\b\b\b\b\b\b\b\b\b\b\b\b\b\b\b\b\b\b\b\b\b\b\b\b\b\b\b\b\b\b\b\b\b\b\r6497/6497 [==============================] - 0s 10us/step - loss: 0.1028 - acc: 0.9648\n"
     ]
    },
    {
     "name": "stdout",
     "output_type": "stream",
     "text": [
      "Epoch 31/200\n\r 200/6497 [..............................] - ETA: 0s - loss: 0.0769 - acc: 0.9750"
     ]
    },
    {
     "name": "stdout",
     "output_type": "stream",
     "text": [
      "\b\b\b\b\b\b\b\b\b\b\b\b\b\b\b\b\b\b\b\b\b\b\b\b\b\b\b\b\b\b\b\b\b\b\b\b\b\b\b\b\b\b\b\b\b\b\b\b\b\b\b\b\b\b\b\b\b\b\b\b\b\b\b\b\b\b\b\b\b\b\b\b\b\b\b\b\b\b\b\b\b\r6497/6497 [==============================] - 0s 9us/step - loss: 0.1005 - acc: 0.9672\n"
     ]
    },
    {
     "name": "stdout",
     "output_type": "stream",
     "text": [
      "Epoch 32/200\n\r 200/6497 [..............................] - ETA: 0s - loss: 0.1260 - acc: 0.9550"
     ]
    },
    {
     "name": "stdout",
     "output_type": "stream",
     "text": [
      "\b\b\b\b\b\b\b\b\b\b\b\b\b\b\b\b\b\b\b\b\b\b\b\b\b\b\b\b\b\b\b\b\b\b\b\b\b\b\b\b\b\b\b\b\b\b\b\b\b\b\b\b\b\b\b\b\b\b\b\b\b\b\b\b\b\b\b\b\b\b\b\b\b\b\b\b\b\b\b\b\b\r6200/6497 [===========================>..] - ETA: 0s - loss: 0.0969 - acc: 0.9685"
     ]
    },
    {
     "name": "stdout",
     "output_type": "stream",
     "text": [
      "\b\b\b\b\b\b\b\b\b\b\b\b\b\b\b\b\b\b\b\b\b\b\b\b\b\b\b\b\b\b\b\b\b\b\b\b\b\b\b\b\b\b\b\b\b\b\b\b\b\b\b\b\b\b\b\b\b\b\b\b\b\b\b\b\b\b\b\b\b\b\b\b\b\b\b\b\b\b\b\b\b\r6497/6497 [==============================] - 0s 9us/step - loss: 0.0972 - acc: 0.9686\n"
     ]
    },
    {
     "name": "stdout",
     "output_type": "stream",
     "text": [
      "Epoch 33/200\n"
     ]
    },
    {
     "name": "stdout",
     "output_type": "stream",
     "text": [
      "\r 200/6497 [..............................] - ETA: 0s - loss: 0.1481 - acc: 0.9550"
     ]
    },
    {
     "name": "stdout",
     "output_type": "stream",
     "text": [
      "\b\b\b\b\b\b\b\b\b\b\b\b\b\b\b\b\b\b\b\b\b\b\b\b\b\b\b\b\b\b\b\b\b\b\b\b\b\b\b\b\b\b\b\b\b\b\b\b\b\b\b\b\b\b\b\b\b\b\b\b\b\b\b\b\b\b\b\b\b\b\b\b\b\b\b\b\b\b\b\b\b\r6200/6497 [===========================>..] - ETA: 0s - loss: 0.0917 - acc: 0.9713"
     ]
    },
    {
     "name": "stdout",
     "output_type": "stream",
     "text": [
      "\b\b\b\b\b\b\b\b\b\b\b\b\b\b\b\b\b\b\b\b\b\b\b\b\b\b\b\b\b\b\b\b\b\b\b\b\b\b\b\b\b\b\b\b\b\b\b\b\b\b\b\b\b\b\b\b\b\b\b\b\b\b\b\b\b\b\b\b\b\b\b\b\b\b\b\b\b\b\b\b\b\r6497/6497 [==============================] - 0s 9us/step - loss: 0.0912 - acc: 0.9717\n"
     ]
    },
    {
     "name": "stdout",
     "output_type": "stream",
     "text": [
      "Epoch 34/200\n\r 200/6497 [..............................] - ETA: 0s - loss: 0.0529 - acc: 0.9900"
     ]
    },
    {
     "name": "stdout",
     "output_type": "stream",
     "text": [
      "\b\b\b\b\b\b\b\b\b\b\b\b\b\b\b\b\b\b\b\b\b\b\b\b\b\b\b\b\b\b\b\b\b\b\b\b\b\b\b\b\b\b\b\b\b\b\b\b\b\b\b\b\b\b\b\b\b\b\b\b\b\b\b\b\b\b\b\b\b\b\b\b\b\b\b\b\b\b\b\b\b\r6000/6497 [==========================>...] - ETA: 0s - loss: 0.0890 - acc: 0.9712"
     ]
    },
    {
     "name": "stdout",
     "output_type": "stream",
     "text": [
      "\b\b\b\b\b\b\b\b\b\b\b\b\b\b\b\b\b\b\b\b\b\b\b\b\b\b\b\b\b\b\b\b\b\b\b\b\b\b\b\b\b\b\b\b\b\b\b\b\b\b\b\b\b\b\b\b\b\b\b\b\b\b\b\b\b\b\b\b\b\b\b\b\b\b\b\b\b\b\b\b\b\r6497/6497 [==============================] - 0s 10us/step - loss: 0.0909 - acc: 0.9708\n"
     ]
    },
    {
     "name": "stdout",
     "output_type": "stream",
     "text": [
      "Epoch 35/200\n\r 200/6497 [..............................] - ETA: 0s - loss: 0.0536 - acc: 0.9900"
     ]
    },
    {
     "name": "stdout",
     "output_type": "stream",
     "text": [
      "\b\b\b\b\b\b\b\b\b\b\b\b\b\b\b\b\b\b\b\b\b\b\b\b\b\b\b\b\b\b\b\b\b\b\b\b\b\b\b\b\b\b\b\b\b\b\b\b\b\b\b\b\b\b\b\b\b\b\b\b\b\b\b\b\b\b\b\b\b\b\b\b\b\b\b\b\b\b\b\b\b\r5800/6497 [=========================>....] - ETA: 0s - loss: 0.0906 - acc: 0.9726"
     ]
    },
    {
     "name": "stdout",
     "output_type": "stream",
     "text": [
      "\b\b\b\b\b\b\b\b\b\b\b\b\b\b\b\b\b\b\b\b\b\b\b\b\b\b\b\b\b\b\b\b\b\b\b\b\b\b\b\b\b\b\b\b\b\b\b\b\b\b\b\b\b\b\b\b\b\b\b\b\b\b\b\b\b\b\b\b\b\b\b\b\b\b\b\b\b\b\b\b\b\r6497/6497 [==============================] - 0s 10us/step - loss: 0.0906 - acc: 0.9720\n"
     ]
    },
    {
     "name": "stdout",
     "output_type": "stream",
     "text": [
      "Epoch 36/200\n"
     ]
    },
    {
     "name": "stdout",
     "output_type": "stream",
     "text": [
      "\r 200/6497 [..............................] - ETA: 0s - loss: 0.0732 - acc: 0.9800"
     ]
    },
    {
     "name": "stdout",
     "output_type": "stream",
     "text": [
      "\b\b\b\b\b\b\b\b\b\b\b\b\b\b\b\b\b\b\b\b\b\b\b\b\b\b\b\b\b\b\b\b\b\b\b\b\b\b\b\b\b\b\b\b\b\b\b\b\b\b\b\b\b\b\b\b\b\b\b\b\b\b\b\b\b\b\b\b\b\b\b\b\b\b\b\b\b\b\b\b\b\r6200/6497 [===========================>..] - ETA: 0s - loss: 0.0901 - acc: 0.9710"
     ]
    },
    {
     "name": "stdout",
     "output_type": "stream",
     "text": [
      "\b\b\b\b\b\b\b\b\b\b\b\b\b\b\b\b\b\b\b\b\b\b\b\b\b\b\b\b\b\b\b\b\b\b\b\b\b\b\b\b\b\b\b\b\b\b\b\b\b\b\b\b\b\b\b\b\b\b\b\b\b\b\b\b\b\b\b\b\b\b\b\b\b\b\b\b\b\b\b\b\b\r6497/6497 [==============================] - 0s 9us/step - loss: 0.0890 - acc: 0.9712\n"
     ]
    },
    {
     "name": "stdout",
     "output_type": "stream",
     "text": [
      "Epoch 37/200\n\r 200/6497 [..............................] - ETA: 0s - loss: 0.0595 - acc: 0.9900"
     ]
    },
    {
     "name": "stdout",
     "output_type": "stream",
     "text": [
      "\b\b\b\b\b\b\b\b\b\b\b\b\b\b\b\b\b\b\b\b\b\b\b\b\b\b\b\b\b\b\b\b\b\b\b\b\b\b\b\b\b\b\b\b\b\b\b\b\b\b\b\b\b\b\b\b\b\b\b\b\b\b\b\b\b\b\b\b\b\b\b\b\b\b\b\b\b\b\b\b\b\r6200/6497 [===========================>..] - ETA: 0s - loss: 0.0865 - acc: 0.9739"
     ]
    },
    {
     "name": "stdout",
     "output_type": "stream",
     "text": [
      "\b\b\b\b\b\b\b\b\b\b\b\b\b\b\b\b\b\b\b\b\b\b\b\b\b\b\b\b\b\b\b\b\b\b\b\b\b\b\b\b\b\b\b\b\b\b\b\b\b\b\b\b\b\b\b\b\b\b\b\b\b\b\b\b\b\b\b\b\b\b\b\b\b\b\b\b\b\b\b\b\b\r6497/6497 [==============================] - 0s 9us/step - loss: 0.0859 - acc: 0.9732\n"
     ]
    },
    {
     "name": "stdout",
     "output_type": "stream",
     "text": [
      "Epoch 38/200\n\r 200/6497 [..............................] - ETA: 0s - loss: 0.0642 - acc: 0.9900"
     ]
    },
    {
     "name": "stdout",
     "output_type": "stream",
     "text": [
      "\b\b\b\b\b\b\b\b\b\b\b\b\b\b\b\b\b\b\b\b\b\b\b\b\b\b\b\b\b\b\b\b\b\b\b\b\b\b\b\b\b\b\b\b\b\b\b\b\b\b\b\b\b\b\b\b\b\b\b\b\b\b\b\b\b\b\b\b\b\b\b\b\b\b\b\b\b\b\b\b\b\r6497/6497 [==============================] - 0s 8us/step - loss: 0.0835 - acc: 0.9737\n"
     ]
    },
    {
     "name": "stdout",
     "output_type": "stream",
     "text": [
      "Epoch 39/200\n\r 200/6497 [..............................] - ETA: 0s - loss: 0.1240 - acc: 0.9650"
     ]
    },
    {
     "name": "stdout",
     "output_type": "stream",
     "text": [
      "\b\b\b\b\b\b\b\b\b\b\b\b\b\b\b\b\b\b\b\b\b\b\b\b\b\b\b\b\b\b\b\b\b\b\b\b\b\b\b\b\b\b\b\b\b\b\b\b\b\b\b\b\b\b\b\b\b\b\b\b\b\b\b\b\b\b\b\b\b\b\b\b\b\b\b\b\b\b\b\b\b\r6400/6497 [============================>.] - ETA: 0s - loss: 0.0866 - acc: 0.9716"
     ]
    },
    {
     "name": "stdout",
     "output_type": "stream",
     "text": [
      "\b\b\b\b\b\b\b\b\b\b\b\b\b\b\b\b\b\b\b\b\b\b\b\b\b\b\b\b\b\b\b\b\b\b\b\b\b\b\b\b\b\b\b\b\b\b\b\b\b\b\b\b\b\b\b\b\b\b\b\b\b\b\b\b\b\b\b\b\b\b\b\b\b\b\b\b\b\b\b\b\b\r6497/6497 [==============================] - 0s 9us/step - loss: 0.0863 - acc: 0.9717\n"
     ]
    },
    {
     "name": "stdout",
     "output_type": "stream",
     "text": [
      "Epoch 40/200\n"
     ]
    },
    {
     "name": "stdout",
     "output_type": "stream",
     "text": [
      "\r 200/6497 [..............................] - ETA: 0s - loss: 0.0605 - acc: 0.9850"
     ]
    },
    {
     "name": "stdout",
     "output_type": "stream",
     "text": [
      "\b\b\b\b\b\b\b\b\b\b\b\b\b\b\b\b\b\b\b\b\b\b\b\b\b\b\b\b\b\b\b\b\b\b\b\b\b\b\b\b\b\b\b\b\b\b\b\b\b\b\b\b\b\b\b\b\b\b\b\b\b\b\b\b\b\b\b\b\b\b\b\b\b\b\b\b\b\b\b\b\b\r5400/6497 [=======================>......] - ETA: 0s - loss: 0.0830 - acc: 0.9730"
     ]
    },
    {
     "name": "stdout",
     "output_type": "stream",
     "text": [
      "\b\b\b\b\b\b\b\b\b\b\b\b\b\b\b\b\b\b\b\b\b\b\b\b\b\b\b\b\b\b\b\b\b\b\b\b\b\b\b\b\b\b\b\b\b\b\b\b\b\b\b\b\b\b\b\b\b\b\b\b\b\b\b\b\b\b\b\b\b\b\b\b\b\b\b\b\b\b\b\b\b\r6497/6497 [==============================] - 0s 10us/step - loss: 0.0817 - acc: 0.9741\n"
     ]
    },
    {
     "name": "stdout",
     "output_type": "stream",
     "text": [
      "Epoch 41/200\n\r 200/6497 [..............................] - ETA: 0s - loss: 0.0778 - acc: 0.9650"
     ]
    },
    {
     "name": "stdout",
     "output_type": "stream",
     "text": [
      "\b\b\b\b\b\b\b\b\b\b\b\b\b\b\b\b\b\b\b\b\b\b\b\b\b\b\b\b\b\b\b\b\b\b\b\b\b\b\b\b\b\b\b\b\b\b\b\b\b\b\b\b\b\b\b\b\b\b\b\b\b\b\b\b\b\b\b\b\b\b\b\b\b\b\b\b\b\b\b\b\b\r6200/6497 [===========================>..] - ETA: 0s - loss: 0.0887 - acc: 0.9718"
     ]
    },
    {
     "name": "stdout",
     "output_type": "stream",
     "text": [
      "\b\b\b\b\b\b\b\b\b\b\b\b\b\b\b\b\b\b\b\b\b\b\b\b\b\b\b\b\b\b\b\b\b\b\b\b\b\b\b\b\b\b\b\b\b\b\b\b\b\b\b\b\b\b\b\b\b\b\b\b\b\b\b\b\b\b\b\b\b\b\b\b\b\b\b\b\b\b\b\b\b\r6497/6497 [==============================] - 0s 9us/step - loss: 0.0875 - acc: 0.9721\n"
     ]
    },
    {
     "name": "stdout",
     "output_type": "stream",
     "text": [
      "Epoch 42/200\n\r 200/6497 [..............................] - ETA: 0s - loss: 0.0417 - acc: 0.9900"
     ]
    },
    {
     "name": "stdout",
     "output_type": "stream",
     "text": [
      "\b\b\b\b\b\b\b\b\b\b\b\b\b\b\b\b\b\b\b\b\b\b\b\b\b\b\b\b\b\b\b\b\b\b\b\b\b\b\b\b\b\b\b\b\b\b\b\b\b\b\b\b\b\b\b\b\b\b\b\b\b\b\b\b\b\b\b\b\b\b\b\b\b\b\b\b\b\b\b\b\b\r6200/6497 [===========================>..] - ETA: 0s - loss: 0.0865 - acc: 0.9734"
     ]
    },
    {
     "name": "stdout",
     "output_type": "stream",
     "text": [
      "\b\b\b\b\b\b\b\b\b\b\b\b\b\b\b\b\b\b\b\b\b\b\b\b\b\b\b\b\b\b\b\b\b\b\b\b\b\b\b\b\b\b\b\b\b\b\b\b\b\b\b\b\b\b\b\b\b\b\b\b\b\b\b\b\b\b\b\b\b\b\b\b\b\b\b\b\b\b\b\b\b\r6497/6497 [==============================] - 0s 9us/step - loss: 0.0848 - acc: 0.9738\n"
     ]
    },
    {
     "name": "stdout",
     "output_type": "stream",
     "text": [
      "Epoch 43/200\n"
     ]
    },
    {
     "name": "stdout",
     "output_type": "stream",
     "text": [
      "\r 200/6497 [..............................] - ETA: 0s - loss: 0.0591 - acc: 0.9850"
     ]
    },
    {
     "name": "stdout",
     "output_type": "stream",
     "text": [
      "\b\b\b\b\b\b\b\b\b\b\b\b\b\b\b\b\b\b\b\b\b\b\b\b\b\b\b\b\b\b\b\b\b\b\b\b\b\b\b\b\b\b\b\b\b\b\b\b\b\b\b\b\b\b\b\b\b\b\b\b\b\b\b\b\b\b\b\b\b\b\b\b\b\b\b\b\b\b\b\b\b\r5600/6497 [========================>.....] - ETA: 0s - loss: 0.0817 - acc: 0.9707"
     ]
    },
    {
     "name": "stdout",
     "output_type": "stream",
     "text": [
      "\b\b\b\b\b\b\b\b\b\b\b\b\b\b\b\b\b\b\b\b\b\b\b\b\b\b\b\b\b\b\b\b\b\b\b\b\b\b\b\b\b\b\b\b\b\b\b\b\b\b\b\b\b\b\b\b\b\b\b\b\b\b\b\b\b\b\b\b\b\b\b\b\b\b\b\b\b\b\b\b\b\r6497/6497 [==============================] - 0s 10us/step - loss: 0.0867 - acc: 0.9708\n"
     ]
    },
    {
     "name": "stdout",
     "output_type": "stream",
     "text": [
      "Epoch 44/200\n\r 200/6497 [..............................] - ETA: 0s - loss: 0.0833 - acc: 0.9900"
     ]
    },
    {
     "name": "stdout",
     "output_type": "stream",
     "text": [
      "\b\b\b\b\b\b\b\b\b\b\b\b\b\b\b\b\b\b\b\b\b\b\b\b\b\b\b\b\b\b\b\b\b\b\b\b\b\b\b\b\b\b\b\b\b\b\b\b\b\b\b\b\b\b\b\b\b\b\b\b\b\b\b\b\b\b\b\b\b\b\b\b\b\b\b\b\b\b\b\b\b\r5400/6497 [=======================>......] - ETA: 0s - loss: 0.0814 - acc: 0.9744"
     ]
    },
    {
     "name": "stdout",
     "output_type": "stream",
     "text": [
      "\b\b\b\b\b\b\b\b\b\b\b\b\b\b\b\b\b\b\b\b\b\b\b\b\b\b\b\b\b\b\b\b\b\b\b\b\b\b\b\b\b\b\b\b\b\b\b\b\b\b\b\b\b\b\b\b\b\b\b\b\b\b\b\b\b\b\b\b\b\b\b\b\b\b\b\b\b\b\b\b\b\r6497/6497 [==============================] - 0s 10us/step - loss: 0.0777 - acc: 0.9754\n"
     ]
    },
    {
     "name": "stdout",
     "output_type": "stream",
     "text": [
      "Epoch 45/200\n\r 200/6497 [..............................] - ETA: 0s - loss: 0.1354 - acc: 0.9600"
     ]
    },
    {
     "name": "stdout",
     "output_type": "stream",
     "text": [
      "\b\b\b\b\b\b\b\b\b\b\b\b\b\b\b\b\b\b\b\b\b\b\b\b\b\b\b\b\b\b\b\b\b\b\b\b\b\b\b\b\b\b\b\b\b\b\b\b\b\b\b\b\b\b\b\b\b\b\b\b\b\b\b\b\b\b\b\b\b\b\b\b\b\b\b\b\b\b\b\b\b\r6200/6497 [===========================>..] - ETA: 0s - loss: 0.0764 - acc: 0.9756"
     ]
    },
    {
     "name": "stdout",
     "output_type": "stream",
     "text": [
      "\b\b\b\b\b\b\b\b\b\b\b\b\b\b\b\b\b\b\b\b\b\b\b\b\b\b\b\b\b\b\b\b\b\b\b\b\b\b\b\b\b\b\b\b\b\b\b\b\b\b\b\b\b\b\b\b\b\b\b\b\b\b\b\b\b\b\b\b\b\b\b\b\b\b\b\b\b\b\b\b\b\r6497/6497 [==============================] - 0s 9us/step - loss: 0.0759 - acc: 0.9761\n"
     ]
    },
    {
     "name": "stdout",
     "output_type": "stream",
     "text": [
      "Epoch 46/200\n\r 200/6497 [..............................] - ETA: 0s - loss: 0.0692 - acc: 0.9800"
     ]
    },
    {
     "name": "stdout",
     "output_type": "stream",
     "text": [
      "\b\b\b\b\b\b\b\b\b\b\b\b\b\b\b\b\b\b\b\b\b\b\b\b\b\b\b\b\b\b\b\b\b\b\b\b\b\b\b\b\b\b\b\b\b\b\b\b\b\b\b\b\b\b\b\b\b\b\b\b\b\b\b\b\b\b\b\b\b\b\b\b\b\b\b\b\b\b\b\b\b\r6000/6497 [==========================>...] - ETA: 0s - loss: 0.0772 - acc: 0.9767"
     ]
    },
    {
     "name": "stdout",
     "output_type": "stream",
     "text": [
      "\b\b\b\b\b\b\b\b\b\b\b\b\b\b\b\b\b\b\b\b\b\b\b\b\b\b\b\b\b\b\b\b\b\b\b\b\b\b\b\b\b\b\b\b\b\b\b\b\b\b\b\b\b\b\b\b\b\b\b\b\b\b\b\b\b\b\b\b\b\b\b\b\b\b\b\b\b\b\b\b\b\r6497/6497 [==============================] - 0s 9us/step - loss: 0.0759 - acc: 0.9765\n"
     ]
    },
    {
     "name": "stdout",
     "output_type": "stream",
     "text": [
      "Epoch 47/200\n\r 200/6497 [..............................] - ETA: 0s - loss: 0.0637 - acc: 0.9750"
     ]
    },
    {
     "name": "stdout",
     "output_type": "stream",
     "text": [
      "\b\b\b\b\b\b\b\b\b\b\b\b\b\b\b\b\b\b\b\b\b\b\b\b\b\b\b\b\b\b\b\b\b\b\b\b\b\b\b\b\b\b\b\b\b\b\b\b\b\b\b\b\b\b\b\b\b\b\b\b\b\b\b\b\b\b\b\b\b\b\b\b\b\b\b\b\b\b\b\b\b\r5600/6497 [========================>.....] - ETA: 0s - loss: 0.0754 - acc: 0.9773"
     ]
    },
    {
     "name": "stdout",
     "output_type": "stream",
     "text": [
      "\b\b\b\b\b\b\b\b\b\b\b\b\b\b\b\b\b\b\b\b\b\b\b\b\b\b\b\b\b\b\b\b\b\b\b\b\b\b\b\b\b\b\b\b\b\b\b\b\b\b\b\b\b\b\b\b\b\b\b\b\b\b\b\b\b\b\b\b\b\b\b\b\b\b\b\b\b\b\b\b\b\r6497/6497 [==============================] - 0s 10us/step - loss: 0.0722 - acc: 0.9785\n"
     ]
    },
    {
     "name": "stdout",
     "output_type": "stream",
     "text": [
      "Epoch 48/200\n\r 200/6497 [..............................] - ETA: 0s - loss: 0.1396 - acc: 0.9700"
     ]
    },
    {
     "name": "stdout",
     "output_type": "stream",
     "text": [
      "\b\b\b\b\b\b\b\b\b\b\b\b\b\b\b\b\b\b\b\b\b\b\b\b\b\b\b\b\b\b\b\b\b\b\b\b\b\b\b\b\b\b\b\b\b\b\b\b\b\b\b\b\b\b\b\b\b\b\b\b\b\b\b\b\b\b\b\b\b\b\b\b\b\b\b\b\b\b\b\b\b\r6200/6497 [===========================>..] - ETA: 0s - loss: 0.0717 - acc: 0.9774"
     ]
    },
    {
     "name": "stdout",
     "output_type": "stream",
     "text": [
      "\b\b\b\b\b\b\b\b\b\b\b\b\b\b\b\b\b\b\b\b\b\b\b\b\b\b\b\b\b\b\b\b\b\b\b\b\b\b\b\b\b\b\b\b\b\b\b\b\b\b\b\b\b\b\b\b\b\b\b\b\b\b\b\b\b\b\b\b\b\b\b\b\b\b\b\b\b\b\b\b\b\r6497/6497 [==============================] - 0s 9us/step - loss: 0.0712 - acc: 0.9777\n"
     ]
    },
    {
     "name": "stdout",
     "output_type": "stream",
     "text": [
      "Epoch 49/200\n\r 200/6497 [..............................] - ETA: 0s - loss: 0.0510 - acc: 0.9850"
     ]
    },
    {
     "name": "stdout",
     "output_type": "stream",
     "text": [
      "\b\b\b\b\b\b\b\b\b\b\b\b\b\b\b\b\b\b\b\b\b\b\b\b\b\b\b\b\b\b\b\b\b\b\b\b\b\b\b\b\b\b\b\b\b\b\b\b\b\b\b\b\b\b\b\b\b\b\b\b\b\b\b\b\b\b\b\b\b\b\b\b\b\b\b\b\b\b\b\b\b\r6200/6497 [===========================>..] - ETA: 0s - loss: 0.0753 - acc: 0.9755"
     ]
    },
    {
     "name": "stdout",
     "output_type": "stream",
     "text": [
      "\b\b\b\b\b\b\b\b\b\b\b\b\b\b\b\b\b\b\b\b\b\b\b\b\b\b\b\b\b\b\b\b\b\b\b\b\b\b\b\b\b\b\b\b\b\b\b\b\b\b\b\b\b\b\b\b\b\b\b\b\b\b\b\b\b\b\b\b\b\b\b\b\b\b\b\b\b\b\b\b\b\r6497/6497 [==============================] - 0s 9us/step - loss: 0.0753 - acc: 0.9760\n"
     ]
    },
    {
     "name": "stdout",
     "output_type": "stream",
     "text": [
      "Epoch 50/200\n\r 200/6497 [..............................] - ETA: 0s - loss: 0.0631 - acc: 0.9800"
     ]
    },
    {
     "name": "stdout",
     "output_type": "stream",
     "text": [
      "\b\b\b\b\b\b\b\b\b\b\b\b\b\b\b\b\b\b\b\b\b\b\b\b\b\b\b\b\b\b\b\b\b\b\b\b\b\b\b\b\b\b\b\b\b\b\b\b\b\b\b\b\b\b\b\b\b\b\b\b\b\b\b\b\b\b\b\b\b\b\b\b\b\b\b\b\b\b\b\b\b\r6200/6497 [===========================>..] - ETA: 0s - loss: 0.0762 - acc: 0.9750"
     ]
    },
    {
     "name": "stdout",
     "output_type": "stream",
     "text": [
      "\b\b\b\b\b\b\b\b\b\b\b\b\b\b\b\b\b\b\b\b\b\b\b\b\b\b\b\b\b\b\b\b\b\b\b\b\b\b\b\b\b\b\b\b\b\b\b\b\b\b\b\b\b\b\b\b\b\b\b\b\b\b\b\b\b\b\b\b\b\b\b\b\b\b\b\b\b\b\b\b\b\r6497/6497 [==============================] - 0s 9us/step - loss: 0.0755 - acc: 0.9755\n"
     ]
    },
    {
     "name": "stdout",
     "output_type": "stream",
     "text": [
      "Epoch 51/200\n\r 200/6497 [..............................] - ETA: 0s - loss: 0.0241 - acc: 0.9950"
     ]
    },
    {
     "name": "stdout",
     "output_type": "stream",
     "text": [
      "\b\b\b\b\b\b\b\b\b\b\b\b\b\b\b\b\b\b\b\b\b\b\b\b\b\b\b\b\b\b\b\b\b\b\b\b\b\b\b\b\b\b\b\b\b\b\b\b\b\b\b\b\b\b\b\b\b\b\b\b\b\b\b\b\b\b\b\b\b\b\b\b\b\b\b\b\b\b\b\b\b\r5800/6497 [=========================>....] - ETA: 0s - loss: 0.0648 - acc: 0.9786"
     ]
    },
    {
     "name": "stdout",
     "output_type": "stream",
     "text": [
      "\b\b\b\b\b\b\b\b\b\b\b\b\b\b\b\b\b\b\b\b\b\b\b\b\b\b\b\b\b\b\b\b\b\b\b\b\b\b\b\b\b\b\b\b\b\b\b\b\b\b\b\b\b\b\b\b\b\b\b\b\b\b\b\b\b\b\b\b\b\b\b\b\b\b\b\b\b\b\b\b\b\r6497/6497 [==============================] - 0s 10us/step - loss: 0.0694 - acc: 0.9785\n"
     ]
    },
    {
     "name": "stdout",
     "output_type": "stream",
     "text": [
      "Epoch 52/200\n\r 200/6497 [..............................] - ETA: 0s - loss: 0.0295 - acc: 0.9950"
     ]
    },
    {
     "name": "stdout",
     "output_type": "stream",
     "text": [
      "\b\b\b\b\b\b\b\b\b\b\b\b\b\b\b\b\b\b\b\b\b\b\b\b\b\b\b\b\b\b\b\b\b\b\b\b\b\b\b\b\b\b\b\b\b\b\b\b\b\b\b\b\b\b\b\b\b\b\b\b\b\b\b\b\b\b\b\b\b\b\b\b\b\b\b\b\b\b\b\b\b\r6200/6497 [===========================>..] - ETA: 0s - loss: 0.0691 - acc: 0.9797"
     ]
    },
    {
     "name": "stdout",
     "output_type": "stream",
     "text": [
      "\b\b\b\b\b\b\b\b\b\b\b\b\b\b\b\b\b\b\b\b\b\b\b\b\b\b\b\b\b\b\b\b\b\b\b\b\b\b\b\b\b\b\b\b\b\b\b\b\b\b\b\b\b\b\b\b\b\b\b\b\b\b\b\b\b\b\b\b\b\b\b\b\b\b\b\b\b\b\b\b\b\r6497/6497 [==============================] - 0s 9us/step - loss: 0.0683 - acc: 0.9795\n"
     ]
    },
    {
     "name": "stdout",
     "output_type": "stream",
     "text": [
      "Epoch 53/200\n\r 200/6497 [..............................] - ETA: 0s - loss: 0.0424 - acc: 0.9900"
     ]
    },
    {
     "name": "stdout",
     "output_type": "stream",
     "text": [
      "\b\b\b\b\b\b\b\b\b\b\b\b\b\b\b\b\b\b\b\b\b\b\b\b\b\b\b\b\b\b\b\b\b\b\b\b\b\b\b\b\b\b\b\b\b\b\b\b\b\b\b\b\b\b\b\b\b\b\b\b\b\b\b\b\b\b\b\b\b\b\b\b\b\b\b\b\b\b\b\b\b\r5400/6497 [=======================>......] - ETA: 0s - loss: 0.0714 - acc: 0.9800"
     ]
    },
    {
     "name": "stdout",
     "output_type": "stream",
     "text": [
      "\b\b\b\b\b\b\b\b\b\b\b\b\b\b\b\b\b\b\b\b\b\b\b\b\b\b\b\b\b\b\b\b\b\b\b\b\b\b\b\b\b\b\b\b\b\b\b\b\b\b\b\b\b\b\b\b\b\b\b\b\b\b\b\b\b\b\b\b\b\b\b\b\b\b\b\b\b\b\b\b\b\r6497/6497 [==============================] - 0s 10us/step - loss: 0.0752 - acc: 0.9789\n"
     ]
    },
    {
     "name": "stdout",
     "output_type": "stream",
     "text": [
      "Epoch 54/200\n\r 200/6497 [..............................] - ETA: 0s - loss: 0.0364 - acc: 0.9850"
     ]
    },
    {
     "name": "stdout",
     "output_type": "stream",
     "text": [
      "\b\b\b\b\b\b\b\b\b\b\b\b\b\b\b\b\b\b\b\b\b\b\b\b\b\b\b\b\b\b\b\b\b\b\b\b\b\b\b\b\b\b\b\b\b\b\b\b\b\b\b\b\b\b\b\b\b\b\b\b\b\b\b\b\b\b\b\b\b\b\b\b\b\b\b\b\b\b\b\b\b\r5800/6497 [=========================>....] - ETA: 0s - loss: 0.0685 - acc: 0.9784"
     ]
    },
    {
     "name": "stdout",
     "output_type": "stream",
     "text": [
      "\b\b\b\b\b\b\b\b\b\b\b\b\b\b\b\b\b\b\b\b\b\b\b\b\b\b\b\b\b\b\b\b\b\b\b\b\b\b\b\b\b\b\b\b\b\b\b\b\b\b\b\b\b\b\b\b\b\b\b\b\b\b\b\b\b\b\b\b\b\b\b\b\b\b\b\b\b\b\b\b\b\r6497/6497 [==============================] - 0s 10us/step - loss: 0.0693 - acc: 0.9783\n"
     ]
    },
    {
     "name": "stdout",
     "output_type": "stream",
     "text": [
      "Epoch 55/200\n\r 200/6497 [..............................] - ETA: 0s - loss: 0.0313 - acc: 0.9900"
     ]
    },
    {
     "name": "stdout",
     "output_type": "stream",
     "text": [
      "\b\b\b\b\b\b\b\b\b\b\b\b\b\b\b\b\b\b\b\b\b\b\b\b\b\b\b\b\b\b\b\b\b\b\b\b\b\b\b\b\b\b\b\b\b\b\b\b\b\b\b\b\b\b\b\b\b\b\b\b\b\b\b\b\b\b\b\b\b\b\b\b\b\b\b\b\b\b\b\b\b\r6200/6497 [===========================>..] - ETA: 0s - loss: 0.0735 - acc: 0.9773"
     ]
    },
    {
     "name": "stdout",
     "output_type": "stream",
     "text": [
      "\b\b\b\b\b\b\b\b\b\b\b\b\b\b\b\b\b\b\b\b\b\b\b\b\b\b\b\b\b\b\b\b\b\b\b\b\b\b\b\b\b\b\b\b\b\b\b\b\b\b\b\b\b\b\b\b\b\b\b\b\b\b\b\b\b\b\b\b\b\b\b\b\b\b\b\b\b\b\b\b\b\r6497/6497 [==============================] - 0s 9us/step - loss: 0.0748 - acc: 0.9768\n"
     ]
    },
    {
     "name": "stdout",
     "output_type": "stream",
     "text": [
      "Epoch 56/200\n\r 200/6497 [..............................] - ETA: 0s - loss: 0.0346 - acc: 0.9900"
     ]
    },
    {
     "name": "stdout",
     "output_type": "stream",
     "text": [
      "\b\b\b\b\b\b\b\b\b\b\b\b\b\b\b\b\b\b\b\b\b\b\b\b\b\b\b\b\b\b\b\b\b\b\b\b\b\b\b\b\b\b\b\b\b\b\b\b\b\b\b\b\b\b\b\b\b\b\b\b\b\b\b\b\b\b\b\b\b\b\b\b\b\b\b\b\b\b\b\b\b\r6000/6497 [==========================>...] - ETA: 0s - loss: 0.0733 - acc: 0.9760"
     ]
    },
    {
     "name": "stdout",
     "output_type": "stream",
     "text": [
      "\b\b\b\b\b\b\b\b\b\b\b\b\b\b\b\b\b\b\b\b\b\b\b\b\b\b\b\b\b\b\b\b\b\b\b\b\b\b\b\b\b\b\b\b\b\b\b\b\b\b\b\b\b\b\b\b\b\b\b\b\b\b\b\b\b\b\b\b\b\b\b\b\b\b\b\b\b\b\b\b\b\r6497/6497 [==============================] - 0s 10us/step - loss: 0.0742 - acc: 0.9760\n"
     ]
    },
    {
     "name": "stdout",
     "output_type": "stream",
     "text": [
      "Epoch 57/200\n\r 200/6497 [..............................] - ETA: 0s - loss: 0.1100 - acc: 0.9650"
     ]
    },
    {
     "name": "stdout",
     "output_type": "stream",
     "text": [
      "\b\b\b\b\b\b\b\b\b\b\b\b\b\b\b\b\b\b\b\b\b\b\b\b\b\b\b\b\b\b\b\b\b\b\b\b\b\b\b\b\b\b\b\b\b\b\b\b\b\b\b\b\b\b\b\b\b\b\b\b\b\b\b\b\b\b\b\b\b\b\b\b\b\b\b\b\b\b\b\b\b\r5800/6497 [=========================>....] - ETA: 0s - loss: 0.0647 - acc: 0.9802"
     ]
    },
    {
     "name": "stdout",
     "output_type": "stream",
     "text": [
      "\b\b\b\b\b\b\b\b\b\b\b\b\b\b\b\b\b\b\b\b\b\b\b\b\b\b\b\b\b\b\b\b\b\b\b\b\b\b\b\b\b\b\b\b\b\b\b\b\b\b\b\b\b\b\b\b\b\b\b\b\b\b\b\b\b\b\b\b\b\b\b\b\b\b\b\b\b\b\b\b\b\r6497/6497 [==============================] - 0s 10us/step - loss: 0.0649 - acc: 0.9800\n"
     ]
    },
    {
     "name": "stdout",
     "output_type": "stream",
     "text": [
      "Epoch 58/200\n\r 200/6497 [..............................] - ETA: 0s - loss: 0.0449 - acc: 0.9850"
     ]
    },
    {
     "name": "stdout",
     "output_type": "stream",
     "text": [
      "\b\b\b\b\b\b\b\b\b\b\b\b\b\b\b\b\b\b\b\b\b\b\b\b\b\b\b\b\b\b\b\b\b\b\b\b\b\b\b\b\b\b\b\b\b\b\b\b\b\b\b\b\b\b\b\b\b\b\b\b\b\b\b\b\b\b\b\b\b\b\b\b\b\b\b\b\b\b\b\b\b\r6200/6497 [===========================>..] - ETA: 0s - loss: 0.0665 - acc: 0.9794"
     ]
    },
    {
     "name": "stdout",
     "output_type": "stream",
     "text": [
      "\b\b\b\b\b\b\b\b\b\b\b\b\b\b\b\b\b\b\b\b\b\b\b\b\b\b\b\b\b\b\b\b\b\b\b\b\b\b\b\b\b\b\b\b\b\b\b\b\b\b\b\b\b\b\b\b\b\b\b\b\b\b\b\b\b\b\b\b\b\b\b\b\b\b\b\b\b\b\b\b\b\r6497/6497 [==============================] - 0s 9us/step - loss: 0.0647 - acc: 0.9800\n"
     ]
    },
    {
     "name": "stdout",
     "output_type": "stream",
     "text": [
      "Epoch 59/200\n\r 200/6497 [..............................] - ETA: 0s - loss: 0.0773 - acc: 0.9850"
     ]
    },
    {
     "name": "stdout",
     "output_type": "stream",
     "text": [
      "\b\b\b\b\b\b\b\b\b\b\b\b\b\b\b\b\b\b\b\b\b\b\b\b\b\b\b\b\b\b\b\b\b\b\b\b\b\b\b\b\b\b\b\b\b\b\b\b\b\b\b\b\b\b\b\b\b\b\b\b\b\b\b\b\b\b\b\b\b\b\b\b\b\b\b\b\b\b\b\b\b\r6000/6497 [==========================>...] - ETA: 0s - loss: 0.0662 - acc: 0.9802"
     ]
    },
    {
     "name": "stdout",
     "output_type": "stream",
     "text": [
      "\b\b\b\b\b\b\b\b\b\b\b\b\b\b\b\b\b\b\b\b\b\b\b\b\b\b\b\b\b\b\b\b\b\b\b\b\b\b\b\b\b\b\b\b\b\b\b\b\b\b\b\b\b\b\b\b\b\b\b\b\b\b\b\b\b\b\b\b\b\b\b\b\b\b\b\b\b\b\b\b\b\r6497/6497 [==============================] - 0s 9us/step - loss: 0.0669 - acc: 0.9803\n"
     ]
    },
    {
     "name": "stdout",
     "output_type": "stream",
     "text": [
      "Epoch 60/200\n\r 200/6497 [..............................] - ETA: 0s - loss: 0.0529 - acc: 0.9900"
     ]
    },
    {
     "name": "stdout",
     "output_type": "stream",
     "text": [
      "\b\b\b\b\b\b\b\b\b\b\b\b\b\b\b\b\b\b\b\b\b\b\b\b\b\b\b\b\b\b\b\b\b\b\b\b\b\b\b\b\b\b\b\b\b\b\b\b\b\b\b\b\b\b\b\b\b\b\b\b\b\b\b\b\b\b\b\b\b\b\b\b\b\b\b\b\b\b\b\b\b\r5800/6497 [=========================>....] - ETA: 0s - loss: 0.0644 - acc: 0.9807"
     ]
    },
    {
     "name": "stdout",
     "output_type": "stream",
     "text": [
      "\b\b\b\b\b\b\b\b\b\b\b\b\b\b\b\b\b\b\b\b\b\b\b\b\b\b\b\b\b\b\b\b\b\b\b\b\b\b\b\b\b\b\b\b\b\b\b\b\b\b\b\b\b\b\b\b\b\b\b\b\b\b\b\b\b\b\b\b\b\b\b\b\b\b\b\b\b\b\b\b\b\r6497/6497 [==============================] - 0s 10us/step - loss: 0.0665 - acc: 0.9805\n"
     ]
    },
    {
     "name": "stdout",
     "output_type": "stream",
     "text": [
      "Epoch 61/200\n\r 200/6497 [..............................] - ETA: 0s - loss: 0.0303 - acc: 0.9900"
     ]
    },
    {
     "name": "stdout",
     "output_type": "stream",
     "text": [
      "\b\b\b\b\b\b\b\b\b\b\b\b\b\b\b\b\b\b\b\b\b\b\b\b\b\b\b\b\b\b\b\b\b\b\b\b\b\b\b\b\b\b\b\b\b\b\b\b\b\b\b\b\b\b\b\b\b\b\b\b\b\b\b\b\b\b\b\b\b\b\b\b\b\b\b\b\b\b\b\b\b\r6000/6497 [==========================>...] - ETA: 0s - loss: 0.0641 - acc: 0.9812"
     ]
    },
    {
     "name": "stdout",
     "output_type": "stream",
     "text": [
      "\b\b\b\b\b\b\b\b\b\b\b\b\b\b\b\b\b\b\b\b\b\b\b\b\b\b\b\b\b\b\b\b\b\b\b\b\b\b\b\b\b\b\b\b\b\b\b\b\b\b\b\b\b\b\b\b\b\b\b\b\b\b\b\b\b\b\b\b\b\b\b\b\b\b\b\b\b\b\b\b\b\r6497/6497 [==============================] - 0s 9us/step - loss: 0.0634 - acc: 0.9809\n"
     ]
    },
    {
     "name": "stdout",
     "output_type": "stream",
     "text": [
      "Epoch 62/200\n\r 200/6497 [..............................] - ETA: 0s - loss: 0.0783 - acc: 0.9850"
     ]
    },
    {
     "name": "stdout",
     "output_type": "stream",
     "text": [
      "\b\b\b\b\b\b\b\b\b\b\b\b\b\b\b\b\b\b\b\b\b\b\b\b\b\b\b\b\b\b\b\b\b\b\b\b\b\b\b\b\b\b\b\b\b\b\b\b\b\b\b\b\b\b\b\b\b\b\b\b\b\b\b\b\b\b\b\b\b\b\b\b\b\b\b\b\b\b\b\b\b\r6000/6497 [==========================>...] - ETA: 0s - loss: 0.0652 - acc: 0.9800"
     ]
    },
    {
     "name": "stdout",
     "output_type": "stream",
     "text": [
      "\b\b\b\b\b\b\b\b\b\b\b\b\b\b\b\b\b\b\b\b\b\b\b\b\b\b\b\b\b\b\b\b\b\b\b\b\b\b\b\b\b\b\b\b\b\b\b\b\b\b\b\b\b\b\b\b\b\b\b\b\b\b\b\b\b\b\b\b\b\b\b\b\b\b\b\b\b\b\b\b\b\r6497/6497 [==============================] - 0s 9us/step - loss: 0.0630 - acc: 0.9805\n"
     ]
    },
    {
     "name": "stdout",
     "output_type": "stream",
     "text": [
      "Epoch 63/200\n\r 200/6497 [..............................] - ETA: 0s - loss: 0.0270 - acc: 0.9900"
     ]
    },
    {
     "name": "stdout",
     "output_type": "stream",
     "text": [
      "\b\b\b\b\b\b\b\b\b\b\b\b\b\b\b\b\b\b\b\b\b\b\b\b\b\b\b\b\b\b\b\b\b\b\b\b\b\b\b\b\b\b\b\b\b\b\b\b\b\b\b\b\b\b\b\b\b\b\b\b\b\b\b\b\b\b\b\b\b\b\b\b\b\b\b\b\b\b\b\b\b\r5600/6497 [========================>.....] - ETA: 0s - loss: 0.0686 - acc: 0.9805"
     ]
    },
    {
     "name": "stdout",
     "output_type": "stream",
     "text": [
      "\b\b\b\b\b\b\b\b\b\b\b\b\b\b\b\b\b\b\b\b\b\b\b\b\b\b\b\b\b\b\b\b\b\b\b\b\b\b\b\b\b\b\b\b\b\b\b\b\b\b\b\b\b\b\b\b\b\b\b\b\b\b\b\b\b\b\b\b\b\b\b\b\b\b\b\b\b\b\b\b\b\r6497/6497 [==============================] - 0s 10us/step - loss: 0.0672 - acc: 0.9812\n"
     ]
    },
    {
     "name": "stdout",
     "output_type": "stream",
     "text": [
      "Epoch 64/200\n\r 200/6497 [..............................] - ETA: 0s - loss: 0.0420 - acc: 0.9900"
     ]
    },
    {
     "name": "stdout",
     "output_type": "stream",
     "text": [
      "\b\b\b\b\b\b\b\b\b\b\b\b\b\b\b\b\b\b\b\b\b\b\b\b\b\b\b\b\b\b\b\b\b\b\b\b\b\b\b\b\b\b\b\b\b\b\b\b\b\b\b\b\b\b\b\b\b\b\b\b\b\b\b\b\b\b\b\b\b\b\b\b\b\b\b\b\b\b\b\b\b\r6000/6497 [==========================>...] - ETA: 0s - loss: 0.0621 - acc: 0.9822"
     ]
    },
    {
     "name": "stdout",
     "output_type": "stream",
     "text": [
      "\b\b\b\b\b\b\b\b\b\b\b\b\b\b\b\b\b\b\b\b\b\b\b\b\b\b\b\b\b\b\b\b\b\b\b\b\b\b\b\b\b\b\b\b\b\b\b\b\b\b\b\b\b\b\b\b\b\b\b\b\b\b\b\b\b\b\b\b\b\b\b\b\b\b\b\b\b\b\b\b\b\r6497/6497 [==============================] - 0s 9us/step - loss: 0.0615 - acc: 0.9823\n"
     ]
    },
    {
     "name": "stdout",
     "output_type": "stream",
     "text": [
      "Epoch 65/200\n\r 200/6497 [..............................] - ETA: 0s - loss: 0.0982 - acc: 0.9800"
     ]
    },
    {
     "name": "stdout",
     "output_type": "stream",
     "text": [
      "\b\b\b\b\b\b\b\b\b\b\b\b\b\b\b\b\b\b\b\b\b\b\b\b\b\b\b\b\b\b\b\b\b\b\b\b\b\b\b\b\b\b\b\b\b\b\b\b\b\b\b\b\b\b\b\b\b\b\b\b\b\b\b\b\b\b\b\b\b\b\b\b\b\b\b\b\b\b\b\b\b\r6200/6497 [===========================>..] - ETA: 0s - loss: 0.0632 - acc: 0.9818"
     ]
    },
    {
     "name": "stdout",
     "output_type": "stream",
     "text": [
      "\b\b\b\b\b\b\b\b\b\b\b\b\b\b\b\b\b\b\b\b\b\b\b\b\b\b\b\b\b\b\b\b\b\b\b\b\b\b\b\b\b\b\b\b\b\b\b\b\b\b\b\b\b\b\b\b\b\b\b\b\b\b\b\b\b\b\b\b\b\b\b\b\b\b\b\b\b\b\b\b\b\r6497/6497 [==============================] - 0s 9us/step - loss: 0.0625 - acc: 0.9818\n"
     ]
    },
    {
     "name": "stdout",
     "output_type": "stream",
     "text": [
      "Epoch 66/200\n\r 200/6497 [..............................] - ETA: 0s - loss: 0.0712 - acc: 0.9800"
     ]
    },
    {
     "name": "stdout",
     "output_type": "stream",
     "text": [
      "\b\b\b\b\b\b\b\b\b\b\b\b\b\b\b\b\b\b\b\b\b\b\b\b\b\b\b\b\b\b\b\b\b\b\b\b\b\b\b\b\b\b\b\b\b\b\b\b\b\b\b\b\b\b\b\b\b\b\b\b\b\b\b\b\b\b\b\b\b\b\b\b\b\b\b\b\b\b\b\b\b\r6000/6497 [==========================>...] - ETA: 0s - loss: 0.0605 - acc: 0.9818"
     ]
    },
    {
     "name": "stdout",
     "output_type": "stream",
     "text": [
      "\b\b\b\b\b\b\b\b\b\b\b\b\b\b\b\b\b\b\b\b\b\b\b\b\b\b\b\b\b\b\b\b\b\b\b\b\b\b\b\b\b\b\b\b\b\b\b\b\b\b\b\b\b\b\b\b\b\b\b\b\b\b\b\b\b\b\b\b\b\b\b\b\b\b\b\b\b\b\b\b\b\r6497/6497 [==============================] - 0s 10us/step - loss: 0.0605 - acc: 0.9821\n"
     ]
    },
    {
     "name": "stdout",
     "output_type": "stream",
     "text": [
      "Epoch 67/200\n\r 200/6497 [..............................] - ETA: 0s - loss: 0.0424 - acc: 0.9850"
     ]
    },
    {
     "name": "stdout",
     "output_type": "stream",
     "text": [
      "\b\b\b\b\b\b\b\b\b\b\b\b\b\b\b\b\b\b\b\b\b\b\b\b\b\b\b\b\b\b\b\b\b\b\b\b\b\b\b\b\b\b\b\b\b\b\b\b\b\b\b\b\b\b\b\b\b\b\b\b\b\b\b\b\b\b\b\b\b\b\b\b\b\b\b\b\b\b\b\b\b\r6400/6497 [============================>.] - ETA: 0s - loss: 0.0597 - acc: 0.9822"
     ]
    },
    {
     "name": "stdout",
     "output_type": "stream",
     "text": [
      "\b\b\b\b\b\b\b\b\b\b\b\b\b\b\b\b\b\b\b\b\b\b\b\b\b\b\b\b\b\b\b\b\b\b\b\b\b\b\b\b\b\b\b\b\b\b\b\b\b\b\b\b\b\b\b\b\b\b\b\b\b\b\b\b\b\b\b\b\b\b\b\b\b\b\b\b\b\b\b\b\b\r6497/6497 [==============================] - 0s 9us/step - loss: 0.0608 - acc: 0.9821\n"
     ]
    },
    {
     "name": "stdout",
     "output_type": "stream",
     "text": [
      "Epoch 68/200\n\r 200/6497 [..............................] - ETA: 0s - loss: 0.0450 - acc: 0.9900"
     ]
    },
    {
     "name": "stdout",
     "output_type": "stream",
     "text": [
      "\b\b\b\b\b\b\b\b\b\b\b\b\b\b\b\b\b\b\b\b\b\b\b\b\b\b\b\b\b\b\b\b\b\b\b\b\b\b\b\b\b\b\b\b\b\b\b\b\b\b\b\b\b\b\b\b\b\b\b\b\b\b\b\b\b\b\b\b\b\b\b\b\b\b\b\b\b\b\b\b\b"
     ]
    },
    {
     "name": "stdout",
     "output_type": "stream",
     "text": [
      "\r6400/6497 [============================>.] - ETA: 0s - loss: 0.0613 - acc: 0.9820"
     ]
    },
    {
     "name": "stdout",
     "output_type": "stream",
     "text": [
      "\b\b\b\b\b\b\b\b\b\b\b\b\b\b\b\b\b\b\b\b\b\b\b\b\b\b\b\b\b\b\b\b\b\b\b\b\b\b\b\b\b\b\b\b\b\b\b\b\b\b\b\b\b\b\b\b\b\b\b\b\b\b\b\b\b\b\b\b\b\b\b\b\b\b\b\b\b\b\b\b\b\r6497/6497 [==============================] - 0s 9us/step - loss: 0.0611 - acc: 0.9821\n"
     ]
    },
    {
     "name": "stdout",
     "output_type": "stream",
     "text": [
      "Epoch 69/200\n\r 200/6497 [..............................] - ETA: 0s - loss: 0.0471 - acc: 0.9750"
     ]
    },
    {
     "name": "stdout",
     "output_type": "stream",
     "text": [
      "\b\b\b\b\b\b\b\b\b\b\b\b\b\b\b\b\b\b\b\b\b\b\b\b\b\b\b\b\b\b\b\b\b\b\b\b\b\b\b\b\b\b\b\b\b\b\b\b\b\b\b\b\b\b\b\b\b\b\b\b\b\b\b\b\b\b\b\b\b\b\b\b\b\b\b\b\b\b\b\b\b\r5600/6497 [========================>.....] - ETA: 0s - loss: 0.0615 - acc: 0.9791"
     ]
    },
    {
     "name": "stdout",
     "output_type": "stream",
     "text": [
      "\b\b\b\b\b\b\b\b\b\b\b\b\b\b\b\b\b\b\b\b\b\b\b\b\b\b\b\b\b\b\b\b\b\b\b\b\b\b\b\b\b\b\b\b\b\b\b\b\b\b\b\b\b\b\b\b\b\b\b\b\b\b\b\b\b\b\b\b\b\b\b\b\b\b\b\b\b\b\b\b\b\r6497/6497 [==============================] - 0s 10us/step - loss: 0.0643 - acc: 0.9797\n"
     ]
    },
    {
     "name": "stdout",
     "output_type": "stream",
     "text": [
      "Epoch 70/200\n\r 200/6497 [..............................] - ETA: 0s - loss: 0.0292 - acc: 0.9900"
     ]
    },
    {
     "name": "stdout",
     "output_type": "stream",
     "text": [
      "\b\b\b\b\b\b\b\b\b\b\b\b\b\b\b\b\b\b\b\b\b\b\b\b\b\b\b\b\b\b\b\b\b\b\b\b\b\b\b\b\b\b\b\b\b\b\b\b\b\b\b\b\b\b\b\b\b\b\b\b\b\b\b\b\b\b\b\b\b\b\b\b\b\b\b\b\b\b\b\b\b\r6200/6497 [===========================>..] - ETA: 0s - loss: 0.0641 - acc: 0.9808"
     ]
    },
    {
     "name": "stdout",
     "output_type": "stream",
     "text": [
      "\b\b\b\b\b\b\b\b\b\b\b\b\b\b\b\b\b\b\b\b\b\b\b\b\b\b\b\b\b\b\b\b\b\b\b\b\b\b\b\b\b\b\b\b\b\b\b\b\b\b\b\b\b\b\b\b\b\b\b\b\b\b\b\b\b\b\b\b\b\b\b\b\b\b\b\b\b\b\b\b\b\r6497/6497 [==============================] - 0s 9us/step - loss: 0.0634 - acc: 0.9809\n"
     ]
    },
    {
     "name": "stdout",
     "output_type": "stream",
     "text": [
      "Epoch 71/200\n\r 200/6497 [..............................] - ETA: 0s - loss: 0.0559 - acc: 0.9800"
     ]
    },
    {
     "name": "stdout",
     "output_type": "stream",
     "text": [
      "\b\b\b\b\b\b\b\b\b\b\b\b\b\b\b\b\b\b\b\b\b\b\b\b\b\b\b\b\b\b\b\b\b\b\b\b\b\b\b\b\b\b\b\b\b\b\b\b\b\b\b\b\b\b\b\b\b\b\b\b\b\b\b\b\b\b\b\b\b\b\b\b\b\b\b\b\b\b\b\b\b\r5600/6497 [========================>.....] - ETA: 0s - loss: 0.0602 - acc: 0.9818"
     ]
    },
    {
     "name": "stdout",
     "output_type": "stream",
     "text": [
      "\b\b\b\b\b\b\b\b\b\b\b\b\b\b\b\b\b\b\b\b\b\b\b\b\b\b\b\b\b\b\b\b\b\b\b\b\b\b\b\b\b\b\b\b\b\b\b\b\b\b\b\b\b\b\b\b\b\b\b\b\b\b\b\b\b\b\b\b\b\b\b\b\b\b\b\b\b\b\b\b\b\r6497/6497 [==============================] - 0s 10us/step - loss: 0.0620 - acc: 0.9806\n"
     ]
    },
    {
     "name": "stdout",
     "output_type": "stream",
     "text": [
      "Epoch 72/200\n\r 200/6497 [..............................] - ETA: 0s - loss: 0.1168 - acc: 0.9800"
     ]
    },
    {
     "name": "stdout",
     "output_type": "stream",
     "text": [
      "\b\b\b\b\b\b\b\b\b\b\b\b\b\b\b\b\b\b\b\b\b\b\b\b\b\b\b\b\b\b\b\b\b\b\b\b\b\b\b\b\b\b\b\b\b\b\b\b\b\b\b\b\b\b\b\b\b\b\b\b\b\b\b\b\b\b\b\b\b\b\b\b\b\b\b\b\b\b\b\b\b\r6000/6497 [==========================>...] - ETA: 0s - loss: 0.0603 - acc: 0.9820"
     ]
    },
    {
     "name": "stdout",
     "output_type": "stream",
     "text": [
      "\b\b\b\b\b\b\b\b\b\b\b\b\b\b\b\b\b\b\b\b\b\b\b\b\b\b\b\b\b\b\b\b\b\b\b\b\b\b\b\b\b\b\b\b\b\b\b\b\b\b\b\b\b\b\b\b\b\b\b\b\b\b\b\b\b\b\b\b\b\b\b\b\b\b\b\b\b\b\b\b\b\r6497/6497 [==============================] - 0s 10us/step - loss: 0.0599 - acc: 0.9825\n"
     ]
    },
    {
     "name": "stdout",
     "output_type": "stream",
     "text": [
      "Epoch 73/200\n\r 200/6497 [..............................] - ETA: 0s - loss: 0.0852 - acc: 0.9700"
     ]
    },
    {
     "name": "stdout",
     "output_type": "stream",
     "text": [
      "\b\b\b\b\b\b\b\b\b\b\b\b\b\b\b\b\b\b\b\b\b\b\b\b\b\b\b\b\b\b\b\b\b\b\b\b\b\b\b\b\b\b\b\b\b\b\b\b\b\b\b\b\b\b\b\b\b\b\b\b\b\b\b\b\b\b\b\b\b\b\b\b\b\b\b\b\b\b\b\b\b\r6200/6497 [===========================>..] - ETA: 0s - loss: 0.0623 - acc: 0.9811"
     ]
    },
    {
     "name": "stdout",
     "output_type": "stream",
     "text": [
      "\b\b\b\b\b\b\b\b\b\b\b\b\b\b\b\b\b\b\b\b\b\b\b\b\b\b\b\b\b\b\b\b\b\b\b\b\b\b\b\b\b\b\b\b\b\b\b\b\b\b\b\b\b\b\b\b\b\b\b\b\b\b\b\b\b\b\b\b\b\b\b\b\b\b\b\b\b\b\b\b\b\r6497/6497 [==============================] - 0s 9us/step - loss: 0.0629 - acc: 0.9812\n"
     ]
    },
    {
     "name": "stdout",
     "output_type": "stream",
     "text": [
      "Epoch 74/200\n\r 200/6497 [..............................] - ETA: 0s - loss: 0.0970 - acc: 0.9600"
     ]
    },
    {
     "name": "stdout",
     "output_type": "stream",
     "text": [
      "\b\b\b\b\b\b\b\b\b\b\b\b\b\b\b\b\b\b\b\b\b\b\b\b\b\b\b\b\b\b\b\b\b\b\b\b\b\b\b\b\b\b\b\b\b\b\b\b\b\b\b\b\b\b\b\b\b\b\b\b\b\b\b\b\b\b\b\b\b\b\b\b\b\b\b\b\b\b\b\b\b\r6000/6497 [==========================>...] - ETA: 0s - loss: 0.0592 - acc: 0.9830"
     ]
    },
    {
     "name": "stdout",
     "output_type": "stream",
     "text": [
      "\b\b\b\b\b\b\b\b\b\b\b\b\b\b\b\b\b\b\b\b\b\b\b\b\b\b\b\b\b\b\b\b\b\b\b\b\b\b\b\b\b\b\b\b\b\b\b\b\b\b\b\b\b\b\b\b\b\b\b\b\b\b\b\b\b\b\b\b\b\b\b\b\b\b\b\b\b\b\b\b\b\r6497/6497 [==============================] - 0s 10us/step - loss: 0.0607 - acc: 0.9825\n"
     ]
    },
    {
     "name": "stdout",
     "output_type": "stream",
     "text": [
      "Epoch 75/200\n\r 200/6497 [..............................] - ETA: 0s - loss: 0.1122 - acc: 0.9850"
     ]
    },
    {
     "name": "stdout",
     "output_type": "stream",
     "text": [
      "\b\b\b\b\b\b\b\b\b\b\b\b\b\b\b\b\b\b\b\b\b\b\b\b\b\b\b\b\b\b\b\b\b\b\b\b\b\b\b\b\b\b\b\b\b\b\b\b\b\b\b\b\b\b\b\b\b\b\b\b\b\b\b\b\b\b\b\b\b\b\b\b\b\b\b\b\b\b\b\b\b\r6400/6497 [============================>.] - ETA: 0s - loss: 0.0595 - acc: 0.9827"
     ]
    },
    {
     "name": "stdout",
     "output_type": "stream",
     "text": [
      "\b\b\b\b\b\b\b\b\b\b\b\b\b\b\b\b\b\b\b\b\b\b\b\b\b\b\b\b\b\b\b\b\b\b\b\b\b\b\b\b\b\b\b\b\b\b\b\b\b\b\b\b\b\b\b\b\b\b\b\b\b\b\b\b\b\b\b\b\b\b\b\b\b\b\b\b\b\b\b\b\b\r6497/6497 [==============================] - 0s 9us/step - loss: 0.0601 - acc: 0.9826\n"
     ]
    },
    {
     "name": "stdout",
     "output_type": "stream",
     "text": [
      "Epoch 76/200\n\r 200/6497 [..............................] - ETA: 0s - loss: 0.0509 - acc: 0.9800"
     ]
    },
    {
     "name": "stdout",
     "output_type": "stream",
     "text": [
      "\b\b\b\b\b\b\b\b\b\b\b\b\b\b\b\b\b\b\b\b\b\b\b\b\b\b\b\b\b\b\b\b\b\b\b\b\b\b\b\b\b\b\b\b\b\b\b\b\b\b\b\b\b\b\b\b\b\b\b\b\b\b\b\b\b\b\b\b\b\b\b\b\b\b\b\b\b\b\b\b\b\r5800/6497 [=========================>....] - ETA: 0s - loss: 0.0567 - acc: 0.9838"
     ]
    },
    {
     "name": "stdout",
     "output_type": "stream",
     "text": [
      "\b\b\b\b\b\b\b\b\b\b\b\b\b\b\b\b\b\b\b\b\b\b\b\b\b\b\b\b\b\b\b\b\b\b\b\b\b\b\b\b\b\b\b\b\b\b\b\b\b\b\b\b\b\b\b\b\b\b\b\b\b\b\b\b\b\b\b\b\b\b\b\b\b\b\b\b\b\b\b\b\b\r6497/6497 [==============================] - 0s 10us/step - loss: 0.0578 - acc: 0.9831\n"
     ]
    },
    {
     "name": "stdout",
     "output_type": "stream",
     "text": [
      "Epoch 77/200\n\r 200/6497 [..............................] - ETA: 0s - loss: 0.0848 - acc: 0.9800"
     ]
    },
    {
     "name": "stdout",
     "output_type": "stream",
     "text": [
      "\b\b\b\b\b\b\b\b\b\b\b\b\b\b\b\b\b\b\b\b\b\b\b\b\b\b\b\b\b\b\b\b\b\b\b\b\b\b\b\b\b\b\b\b\b\b\b\b\b\b\b\b\b\b\b\b\b\b\b\b\b\b\b\b\b\b\b\b\b\b\b\b\b\b\b\b\b\b\b\b\b\r6400/6497 [============================>.] - ETA: 0s - loss: 0.0580 - acc: 0.9834"
     ]
    },
    {
     "name": "stdout",
     "output_type": "stream",
     "text": [
      "\b\b\b\b\b\b\b\b\b\b\b\b\b\b\b\b\b\b\b\b\b\b\b\b\b\b\b\b\b\b\b\b\b\b\b\b\b\b\b\b\b\b\b\b\b\b\b\b\b\b\b\b\b\b\b\b\b\b\b\b\b\b\b\b\b\b\b\b\b\b\b\b\b\b\b\b\b\b\b\b\b\r6497/6497 [==============================] - 0s 9us/step - loss: 0.0574 - acc: 0.9837\n"
     ]
    },
    {
     "name": "stdout",
     "output_type": "stream",
     "text": [
      "Epoch 78/200\n\r 200/6497 [..............................] - ETA: 0s - loss: 0.0347 - acc: 0.9900"
     ]
    },
    {
     "name": "stdout",
     "output_type": "stream",
     "text": [
      "\b\b\b\b\b\b\b\b\b\b\b\b\b\b\b\b\b\b\b\b\b\b\b\b\b\b\b\b\b\b\b\b\b\b\b\b\b\b\b\b\b\b\b\b\b\b\b\b\b\b\b\b\b\b\b\b\b\b\b\b\b\b\b\b\b\b\b\b\b\b\b\b\b\b\b\b\b\b\b\b\b\r6497/6497 [==============================] - 0s 8us/step - loss: 0.0582 - acc: 0.9829\n"
     ]
    },
    {
     "name": "stdout",
     "output_type": "stream",
     "text": [
      "Epoch 79/200\n"
     ]
    },
    {
     "name": "stdout",
     "output_type": "stream",
     "text": [
      "\r 200/6497 [..............................] - ETA: 0s - loss: 0.0353 - acc: 0.9900"
     ]
    },
    {
     "name": "stdout",
     "output_type": "stream",
     "text": [
      "\b\b\b\b\b\b\b\b\b\b\b\b\b\b\b\b\b\b\b\b\b\b\b\b\b\b\b\b\b\b\b\b\b\b\b\b\b\b\b\b\b\b\b\b\b\b\b\b\b\b\b\b\b\b\b\b\b\b\b\b\b\b\b\b\b\b\b\b\b\b\b\b\b\b\b\b\b\b\b\b\b\r6000/6497 [==========================>...] - ETA: 0s - loss: 0.0574 - acc: 0.9847"
     ]
    },
    {
     "name": "stdout",
     "output_type": "stream",
     "text": [
      "\b\b\b\b\b\b\b\b\b\b\b\b\b\b\b\b\b\b\b\b\b\b\b\b\b\b\b\b\b\b\b\b\b\b\b\b\b\b\b\b\b\b\b\b\b\b\b\b\b\b\b\b\b\b\b\b\b\b\b\b\b\b\b\b\b\b\b\b\b\b\b\b\b\b\b\b\b\b\b\b\b\r6497/6497 [==============================] - 0s 10us/step - loss: 0.0586 - acc: 0.9838\n"
     ]
    },
    {
     "name": "stdout",
     "output_type": "stream",
     "text": [
      "Epoch 80/200\n"
     ]
    },
    {
     "name": "stdout",
     "output_type": "stream",
     "text": [
      "\r 200/6497 [..............................] - ETA: 0s - loss: 0.0263 - acc: 0.9950"
     ]
    },
    {
     "name": "stdout",
     "output_type": "stream",
     "text": [
      "\b\b\b\b\b\b\b\b\b\b\b\b\b\b\b\b\b\b\b\b\b\b\b\b\b\b\b\b\b\b\b\b\b\b\b\b\b\b\b\b\b\b\b\b\b\b\b\b\b\b\b\b\b\b\b\b\b\b\b\b\b\b\b\b\b\b\b\b\b\b\b\b\b\b\b\b\b\b\b\b\b\r6400/6497 [============================>.] - ETA: 0s - loss: 0.0559 - acc: 0.9842"
     ]
    },
    {
     "name": "stdout",
     "output_type": "stream",
     "text": [
      "\b\b\b\b\b\b\b\b\b\b\b\b\b\b\b\b\b\b\b\b\b\b\b\b\b\b\b\b\b\b\b\b\b\b\b\b\b\b\b\b\b\b\b\b\b\b\b\b\b\b\b\b\b\b\b\b\b\b\b\b\b\b\b\b\b\b\b\b\b\b\b\b\b\b\b\b\b\b\b\b\b\r6497/6497 [==============================] - 0s 9us/step - loss: 0.0561 - acc: 0.9841\n"
     ]
    },
    {
     "name": "stdout",
     "output_type": "stream",
     "text": [
      "Epoch 81/200\n\r 200/6497 [..............................] - ETA: 0s - loss: 0.1588 - acc: 0.9700"
     ]
    },
    {
     "name": "stdout",
     "output_type": "stream",
     "text": [
      "\b\b\b\b\b\b\b\b\b\b\b\b\b\b\b\b\b\b\b\b\b\b\b\b\b\b\b\b\b\b\b\b\b\b\b\b\b\b\b\b\b\b\b\b\b\b\b\b\b\b\b\b\b\b\b\b\b\b\b\b\b\b\b\b\b\b\b\b\b\b\b\b\b\b\b\b\b\b\b\b\b\r5800/6497 [=========================>....] - ETA: 0s - loss: 0.0548 - acc: 0.9841"
     ]
    },
    {
     "name": "stdout",
     "output_type": "stream",
     "text": [
      "\b\b\b\b\b\b\b\b\b\b\b\b\b\b\b\b\b\b\b\b\b\b\b\b\b\b\b\b\b\b\b\b\b\b\b\b\b\b\b\b\b\b\b\b\b\b\b\b\b\b\b\b\b\b\b\b\b\b\b\b\b\b\b\b\b\b\b\b\b\b\b\b\b\b\b\b\b\b\b\b\b\r6497/6497 [==============================] - 0s 10us/step - loss: 0.0567 - acc: 0.9840\n"
     ]
    },
    {
     "name": "stdout",
     "output_type": "stream",
     "text": [
      "Epoch 82/200\n\r 200/6497 [..............................] - ETA: 0s - loss: 0.1249 - acc: 0.9500"
     ]
    },
    {
     "name": "stdout",
     "output_type": "stream",
     "text": [
      "\b\b\b\b\b\b\b\b\b\b\b\b\b\b\b\b\b\b\b\b\b\b\b\b\b\b\b\b\b\b\b\b\b\b\b\b\b\b\b\b\b\b\b\b\b\b\b\b\b\b\b\b\b\b\b\b\b\b\b\b\b\b\b\b\b\b\b\b\b\b\b\b\b\b\b\b\b\b\b\b\b\r6400/6497 [============================>.] - ETA: 0s - loss: 0.0597 - acc: 0.9825"
     ]
    },
    {
     "name": "stdout",
     "output_type": "stream",
     "text": [
      "\b\b\b\b\b\b\b\b\b\b\b\b\b\b\b\b\b\b\b\b\b\b\b\b\b\b\b\b\b\b\b\b\b\b\b\b\b\b\b\b\b\b\b\b\b\b\b\b\b\b\b\b\b\b\b\b\b\b\b\b\b\b\b\b\b\b\b\b\b\b\b\b\b\b\b\b\b\b\b\b\b\r6497/6497 [==============================] - 0s 9us/step - loss: 0.0591 - acc: 0.9828\n"
     ]
    },
    {
     "name": "stdout",
     "output_type": "stream",
     "text": [
      "Epoch 83/200\n\r 200/6497 [..............................] - ETA: 0s - loss: 0.0366 - acc: 0.9900"
     ]
    },
    {
     "name": "stdout",
     "output_type": "stream",
     "text": [
      "\b\b\b\b\b\b\b\b\b\b\b\b\b\b\b\b\b\b\b\b\b\b\b\b\b\b\b\b\b\b\b\b\b\b\b\b\b\b\b\b\b\b\b\b\b\b\b\b\b\b\b\b\b\b\b\b\b\b\b\b\b\b\b\b\b\b\b\b\b\b\b\b\b\b\b\b\b\b\b\b\b\r6200/6497 [===========================>..] - ETA: 0s - loss: 0.0576 - acc: 0.9842"
     ]
    },
    {
     "name": "stdout",
     "output_type": "stream",
     "text": [
      "\b\b\b\b\b\b\b\b\b\b\b\b\b\b\b\b\b\b\b\b\b\b\b\b\b\b\b\b\b\b\b\b\b\b\b\b\b\b\b\b\b\b\b\b\b\b\b\b\b\b\b\b\b\b\b\b\b\b\b\b\b\b\b\b\b\b\b\b\b\b\b\b\b\b\b\b\b\b\b\b\b\r6497/6497 [==============================] - 0s 9us/step - loss: 0.0565 - acc: 0.9843\n"
     ]
    },
    {
     "name": "stdout",
     "output_type": "stream",
     "text": [
      "Epoch 84/200\n\r 200/6497 [..............................] - ETA: 0s - loss: 0.0897 - acc: 0.9800"
     ]
    },
    {
     "name": "stdout",
     "output_type": "stream",
     "text": [
      "\b\b\b\b\b\b\b\b\b\b\b\b\b\b\b\b\b\b\b\b\b\b\b\b\b\b\b\b\b\b\b\b\b\b\b\b\b\b\b\b\b\b\b\b\b\b\b\b\b\b\b\b\b\b\b\b\b\b\b\b\b\b\b\b\b\b\b\b\b\b\b\b\b\b\b\b\b\b\b\b\b\r6497/6497 [==============================] - 0s 9us/step - loss: 0.0539 - acc: 0.9849\n"
     ]
    },
    {
     "name": "stdout",
     "output_type": "stream",
     "text": [
      "Epoch 85/200\n\r 200/6497 [..............................] - ETA: 0s - loss: 0.0475 - acc: 0.9850"
     ]
    },
    {
     "name": "stdout",
     "output_type": "stream",
     "text": [
      "\b\b\b\b\b\b\b\b\b\b\b\b\b\b\b\b\b\b\b\b\b\b\b\b\b\b\b\b\b\b\b\b\b\b\b\b\b\b\b\b\b\b\b\b\b\b\b\b\b\b\b\b\b\b\b\b\b\b\b\b\b\b\b\b\b\b\b\b\b\b\b\b\b\b\b\b\b\b\b\b\b\r6200/6497 [===========================>..] - ETA: 0s - loss: 0.0542 - acc: 0.9847"
     ]
    },
    {
     "name": "stdout",
     "output_type": "stream",
     "text": [
      "\b\b\b\b\b\b\b\b\b\b\b\b\b\b\b\b\b\b\b\b\b\b\b\b\b\b\b\b\b\b\b\b\b\b\b\b\b\b\b\b\b\b\b\b\b\b\b\b\b\b\b\b\b\b\b\b\b\b\b\b\b\b\b\b\b\b\b\b\b\b\b\b\b\b\b\b\b\b\b\b\b\r6497/6497 [==============================] - 0s 9us/step - loss: 0.0547 - acc: 0.9848\n"
     ]
    },
    {
     "name": "stdout",
     "output_type": "stream",
     "text": [
      "Epoch 86/200\n"
     ]
    },
    {
     "name": "stdout",
     "output_type": "stream",
     "text": [
      "\r 200/6497 [..............................] - ETA: 0s - loss: 0.0619 - acc: 0.9750"
     ]
    },
    {
     "name": "stdout",
     "output_type": "stream",
     "text": [
      "\b\b\b\b\b\b\b\b\b\b\b\b\b\b\b\b\b\b\b\b\b\b\b\b\b\b\b\b\b\b\b\b\b\b\b\b\b\b\b\b\b\b\b\b\b\b\b\b\b\b\b\b\b\b\b\b\b\b\b\b\b\b\b\b\b\b\b\b\b\b\b\b\b\b\b\b\b\b\b\b\b\r5800/6497 [=========================>....] - ETA: 0s - loss: 0.0580 - acc: 0.9831"
     ]
    },
    {
     "name": "stdout",
     "output_type": "stream",
     "text": [
      "\b\b\b\b\b\b\b\b\b\b\b\b\b\b\b\b\b\b\b\b\b\b\b\b\b\b\b\b\b\b\b\b\b\b\b\b\b\b\b\b\b\b\b\b\b\b\b\b\b\b\b\b\b\b\b\b\b\b\b\b\b\b\b\b\b\b\b\b\b\b\b\b\b\b\b\b\b\b\b\b\b\r6497/6497 [==============================] - 0s 10us/step - loss: 0.0557 - acc: 0.9840\n"
     ]
    },
    {
     "name": "stdout",
     "output_type": "stream",
     "text": [
      "Epoch 87/200\n"
     ]
    },
    {
     "name": "stdout",
     "output_type": "stream",
     "text": [
      "\r 200/6497 [..............................] - ETA: 0s - loss: 0.0556 - acc: 0.9800"
     ]
    },
    {
     "name": "stdout",
     "output_type": "stream",
     "text": [
      "\b\b\b\b\b\b\b\b\b\b\b\b\b\b\b\b\b\b\b\b\b\b\b\b\b\b\b\b\b\b\b\b\b\b\b\b\b\b\b\b\b\b\b\b\b\b\b\b\b\b\b\b\b\b\b\b\b\b\b\b\b\b\b\b\b\b\b\b\b\b\b\b\b\b\b\b\b\b\b\b\b\r6400/6497 [============================>.] - ETA: 0s - loss: 0.0644 - acc: 0.9814"
     ]
    },
    {
     "name": "stdout",
     "output_type": "stream",
     "text": [
      "\b\b\b\b\b\b\b\b\b\b\b\b\b\b\b\b\b\b\b\b\b\b\b\b\b\b\b\b\b\b\b\b\b\b\b\b\b\b\b\b\b\b\b\b\b\b\b\b\b\b\b\b\b\b\b\b\b\b\b\b\b\b\b\b\b\b\b\b\b\b\b\b\b\b\b\b\b\b\b\b\b\r6497/6497 [==============================] - 0s 9us/step - loss: 0.0642 - acc: 0.9814\n"
     ]
    },
    {
     "name": "stdout",
     "output_type": "stream",
     "text": [
      "Epoch 88/200\n"
     ]
    },
    {
     "name": "stdout",
     "output_type": "stream",
     "text": [
      "\r 200/6497 [..............................] - ETA: 0s - loss: 0.1452 - acc: 0.9750"
     ]
    },
    {
     "name": "stdout",
     "output_type": "stream",
     "text": [
      "\b\b\b\b\b\b\b\b\b\b\b\b\b\b\b\b\b\b\b\b\b\b\b\b\b\b\b\b\b\b\b\b\b\b\b\b\b\b\b\b\b\b\b\b\b\b\b\b\b\b\b\b\b\b\b\b\b\b\b\b\b\b\b\b\b\b\b\b\b\b\b\b\b\b\b\b\b\b\b\b\b"
     ]
    },
    {
     "name": "stdout",
     "output_type": "stream",
     "text": [
      "\r6200/6497 [===========================>..] - ETA: 0s - loss: 0.0713 - acc: 0.9806"
     ]
    },
    {
     "name": "stdout",
     "output_type": "stream",
     "text": [
      "\b\b\b\b\b\b\b\b\b\b\b\b\b\b\b\b\b\b\b\b\b\b\b\b\b\b\b\b\b\b\b\b\b\b\b\b\b\b\b\b\b\b\b\b\b\b\b\b\b\b\b\b\b\b\b\b\b\b\b\b\b\b\b\b\b\b\b\b\b\b\b\b\b\b\b\b\b\b\b\b\b\r6497/6497 [==============================] - 0s 10us/step - loss: 0.0696 - acc: 0.9811\n"
     ]
    },
    {
     "name": "stdout",
     "output_type": "stream",
     "text": [
      "Epoch 89/200\n\r 200/6497 [..............................] - ETA: 0s - loss: 0.0371 - acc: 0.9950"
     ]
    },
    {
     "name": "stdout",
     "output_type": "stream",
     "text": [
      "\b\b\b\b\b\b\b\b\b\b\b\b\b\b\b\b\b\b\b\b\b\b\b\b\b\b\b\b\b\b\b\b\b\b\b\b\b\b\b\b\b\b\b\b\b\b\b\b\b\b\b\b\b\b\b\b\b\b\b\b\b\b\b\b\b\b\b\b\b\b\b\b\b\b\b\b\b\b\b\b\b\r6200/6497 [===========================>..] - ETA: 0s - loss: 0.0577 - acc: 0.9842"
     ]
    },
    {
     "name": "stdout",
     "output_type": "stream",
     "text": [
      "\b\b\b\b\b\b\b\b\b\b\b\b\b\b\b\b\b\b\b\b\b\b\b\b\b\b\b\b\b\b\b\b\b\b\b\b\b\b\b\b\b\b\b\b\b\b\b\b\b\b\b\b\b\b\b\b\b\b\b\b\b\b\b\b\b\b\b\b\b\b\b\b\b\b\b\b\b\b\b\b\b\r6497/6497 [==============================] - 0s 9us/step - loss: 0.0571 - acc: 0.9843\n"
     ]
    },
    {
     "name": "stdout",
     "output_type": "stream",
     "text": [
      "Epoch 90/200\n"
     ]
    },
    {
     "name": "stdout",
     "output_type": "stream",
     "text": [
      "\r 200/6497 [..............................] - ETA: 0s - loss: 0.0653 - acc: 0.9800"
     ]
    },
    {
     "name": "stdout",
     "output_type": "stream",
     "text": [
      "\b\b\b\b\b\b\b\b\b\b\b\b\b\b\b\b\b\b\b\b\b\b\b\b\b\b\b\b\b\b\b\b\b\b\b\b\b\b\b\b\b\b\b\b\b\b\b\b\b\b\b\b\b\b\b\b\b\b\b\b\b\b\b\b\b\b\b\b\b\b\b\b\b\b\b\b\b\b\b\b\b\r6400/6497 [============================>.] - ETA: 0s - loss: 0.0532 - acc: 0.9844"
     ]
    },
    {
     "name": "stdout",
     "output_type": "stream",
     "text": [
      "\b\b\b\b\b\b\b\b\b\b\b\b\b\b\b\b\b\b\b\b\b\b\b\b\b\b\b\b\b\b\b\b\b\b\b\b\b\b\b\b\b\b\b\b\b\b\b\b\b\b\b\b\b\b\b\b\b\b\b\b\b\b\b\b\b\b\b\b\b\b\b\b\b\b\b\b\b\b\b\b\b\r6497/6497 [==============================] - 0s 9us/step - loss: 0.0537 - acc: 0.9845\n"
     ]
    },
    {
     "name": "stdout",
     "output_type": "stream",
     "text": [
      "Epoch 91/200\n\r 200/6497 [..............................] - ETA: 0s - loss: 0.0608 - acc: 0.9900"
     ]
    },
    {
     "name": "stdout",
     "output_type": "stream",
     "text": [
      "\b\b\b\b\b\b\b\b\b\b\b\b\b\b\b\b\b\b\b\b\b\b\b\b\b\b\b\b\b\b\b\b\b\b\b\b\b\b\b\b\b\b\b\b\b\b\b\b\b\b\b\b\b\b\b\b\b\b\b\b\b\b\b\b\b\b\b\b\b\b\b\b\b\b\b\b\b\b\b\b\b\r6000/6497 [==========================>...] - ETA: 0s - loss: 0.0555 - acc: 0.9845"
     ]
    },
    {
     "name": "stdout",
     "output_type": "stream",
     "text": [
      "\b\b\b\b\b\b\b\b\b\b\b\b\b\b\b\b\b\b\b\b\b\b\b\b\b\b\b\b\b\b\b\b\b\b\b\b\b\b\b\b\b\b\b\b\b\b\b\b\b\b\b\b\b\b\b\b\b\b\b\b\b\b\b\b\b\b\b\b\b\b\b\b\b\b\b\b\b\b\b\b\b\r6497/6497 [==============================] - 0s 10us/step - loss: 0.0546 - acc: 0.9846\n"
     ]
    },
    {
     "name": "stdout",
     "output_type": "stream",
     "text": [
      "Epoch 92/200\n\r 200/6497 [..............................] - ETA: 0s - loss: 0.1055 - acc: 0.9800"
     ]
    },
    {
     "name": "stdout",
     "output_type": "stream",
     "text": [
      "\b\b\b\b\b\b\b\b\b\b\b\b\b\b\b\b\b\b\b\b\b\b\b\b\b\b\b\b\b\b\b\b\b\b\b\b\b\b\b\b\b\b\b\b\b\b\b\b\b\b\b\b\b\b\b\b\b\b\b\b\b\b\b\b\b\b\b\b\b\b\b\b\b\b\b\b\b\b\b\b\b\r6000/6497 [==========================>...] - ETA: 0s - loss: 0.0608 - acc: 0.9830"
     ]
    },
    {
     "name": "stdout",
     "output_type": "stream",
     "text": [
      "\b\b\b\b\b\b\b\b\b\b\b\b\b\b\b\b\b\b\b\b\b\b\b\b\b\b\b\b\b\b\b\b\b\b\b\b\b\b\b\b\b\b\b\b\b\b\b\b\b\b\b\b\b\b\b\b\b\b\b\b\b\b\b\b\b\b\b\b\b\b\b\b\b\b\b\b\b\b\b\b\b\r6497/6497 [==============================] - 0s 9us/step - loss: 0.0592 - acc: 0.9831\n"
     ]
    },
    {
     "name": "stdout",
     "output_type": "stream",
     "text": [
      "Epoch 93/200\n\r 200/6497 [..............................] - ETA: 0s - loss: 0.0348 - acc: 0.9850"
     ]
    },
    {
     "name": "stdout",
     "output_type": "stream",
     "text": [
      "\b\b\b\b\b\b\b\b\b\b\b\b\b\b\b\b\b\b\b\b\b\b\b\b\b\b\b\b\b\b\b\b\b\b\b\b\b\b\b\b\b\b\b\b\b\b\b\b\b\b\b\b\b\b\b\b\b\b\b\b\b\b\b\b\b\b\b\b\b\b\b\b\b\b\b\b\b\b\b\b\b\r5800/6497 [=========================>....] - ETA: 0s - loss: 0.0514 - acc: 0.9847"
     ]
    },
    {
     "name": "stdout",
     "output_type": "stream",
     "text": [
      "\b\b\b\b\b\b\b\b\b\b\b\b\b\b\b\b\b\b\b\b\b\b\b\b\b\b\b\b\b\b\b\b\b\b\b\b\b\b\b\b\b\b\b\b\b\b\b\b\b\b\b\b\b\b\b\b\b\b\b\b\b\b\b\b\b\b\b\b\b\b\b\b\b\b\b\b\b\b\b\b\b\r6497/6497 [==============================] - 0s 10us/step - loss: 0.0550 - acc: 0.9838\n"
     ]
    },
    {
     "name": "stdout",
     "output_type": "stream",
     "text": [
      "Epoch 94/200\n\r 200/6497 [..............................] - ETA: 0s - loss: 0.0270 - acc: 0.9950"
     ]
    },
    {
     "name": "stdout",
     "output_type": "stream",
     "text": [
      "\b\b\b\b\b\b\b\b\b\b\b\b\b\b\b\b\b\b\b\b\b\b\b\b\b\b\b\b\b\b\b\b\b\b\b\b\b\b\b\b\b\b\b\b\b\b\b\b\b\b\b\b\b\b\b\b\b\b\b\b\b\b\b\b\b\b\b\b\b\b\b\b\b\b\b\b\b\b\b\b\b\r6497/6497 [==============================] - 0s 8us/step - loss: 0.0533 - acc: 0.9851\n"
     ]
    },
    {
     "name": "stdout",
     "output_type": "stream",
     "text": [
      "Epoch 95/200\n\r 200/6497 [..............................] - ETA: 0s - loss: 0.0387 - acc: 0.9850"
     ]
    },
    {
     "name": "stdout",
     "output_type": "stream",
     "text": [
      "\b\b\b\b\b\b\b\b\b\b\b\b\b\b\b\b\b\b\b\b\b\b\b\b\b\b\b\b\b\b\b\b\b\b\b\b\b\b\b\b\b\b\b\b\b\b\b\b\b\b\b\b\b\b\b\b\b\b\b\b\b\b\b\b\b\b\b\b\b\b\b\b\b\b\b\b\b\b\b\b\b\r6200/6497 [===========================>..] - ETA: 0s - loss: 0.0554 - acc: 0.9840"
     ]
    },
    {
     "name": "stdout",
     "output_type": "stream",
     "text": [
      "\b\b\b\b\b\b\b\b\b\b\b\b\b\b\b\b\b\b\b\b\b\b\b\b\b\b\b\b\b\b\b\b\b\b\b\b\b\b\b\b\b\b\b\b\b\b\b\b\b\b\b\b\b\b\b\b\b\b\b\b\b\b\b\b\b\b\b\b\b\b\b\b\b\b\b\b\b\b\b\b\b\r6497/6497 [==============================] - 0s 10us/step - loss: 0.0558 - acc: 0.9841\n"
     ]
    },
    {
     "name": "stdout",
     "output_type": "stream",
     "text": [
      "Epoch 96/200\n\r 200/6497 [..............................] - ETA: 0s - loss: 0.1241 - acc: 0.9850"
     ]
    },
    {
     "name": "stdout",
     "output_type": "stream",
     "text": [
      "\b\b\b\b\b\b\b\b\b\b\b\b\b\b\b\b\b\b\b\b\b\b\b\b\b\b\b\b\b\b\b\b\b\b\b\b\b\b\b\b\b\b\b\b\b\b\b\b\b\b\b\b\b\b\b\b\b\b\b\b\b\b\b\b\b\b\b\b\b\b\b\b\b\b\b\b\b\b\b\b\b\r6400/6497 [============================>.] - ETA: 0s - loss: 0.0519 - acc: 0.9853"
     ]
    },
    {
     "name": "stdout",
     "output_type": "stream",
     "text": [
      "\b\b\b\b\b\b\b\b\b\b\b\b\b\b\b\b\b\b\b\b\b\b\b\b\b\b\b\b\b\b\b\b\b\b\b\b\b\b\b\b\b\b\b\b\b\b\b\b\b\b\b\b\b\b\b\b\b\b\b\b\b\b\b\b\b\b\b\b\b\b\b\b\b\b\b\b\b\b\b\b\b\r6497/6497 [==============================] - 0s 9us/step - loss: 0.0519 - acc: 0.9852\n"
     ]
    },
    {
     "name": "stdout",
     "output_type": "stream",
     "text": [
      "Epoch 97/200\n\r 200/6497 [..............................] - ETA: 0s - loss: 0.1150 - acc: 0.9700"
     ]
    },
    {
     "name": "stdout",
     "output_type": "stream",
     "text": [
      "\b\b\b\b\b\b\b\b\b\b\b\b\b\b\b\b\b\b\b\b\b\b\b\b\b\b\b\b\b\b\b\b\b\b\b\b\b\b\b\b\b\b\b\b\b\b\b\b\b\b\b\b\b\b\b\b\b\b\b\b\b\b\b\b\b\b\b\b\b\b\b\b\b\b\b\b\b\b\b\b\b\r5400/6497 [=======================>......] - ETA: 0s - loss: 0.0529 - acc: 0.9859"
     ]
    },
    {
     "name": "stdout",
     "output_type": "stream",
     "text": [
      "\b\b\b\b\b\b\b\b\b\b\b\b\b\b\b\b\b\b\b\b\b\b\b\b\b\b\b\b\b\b\b\b\b\b\b\b\b\b\b\b\b\b\b\b\b\b\b\b\b\b\b\b\b\b\b\b\b\b\b\b\b\b\b\b\b\b\b\b\b\b\b\b\b\b\b\b\b\b\b\b\b\r6497/6497 [==============================] - 0s 10us/step - loss: 0.0528 - acc: 0.9849\n"
     ]
    },
    {
     "name": "stdout",
     "output_type": "stream",
     "text": [
      "Epoch 98/200\n\r 200/6497 [..............................] - ETA: 0s - loss: 0.0694 - acc: 0.9850"
     ]
    },
    {
     "name": "stdout",
     "output_type": "stream",
     "text": [
      "\b\b\b\b\b\b\b\b\b\b\b\b\b\b\b\b\b\b\b\b\b\b\b\b\b\b\b\b\b\b\b\b\b\b\b\b\b\b\b\b\b\b\b\b\b\b\b\b\b\b\b\b\b\b\b\b\b\b\b\b\b\b\b\b\b\b\b\b\b\b\b\b\b\b\b\b\b\b\b\b\b\r6000/6497 [==========================>...] - ETA: 0s - loss: 0.0512 - acc: 0.9845"
     ]
    },
    {
     "name": "stdout",
     "output_type": "stream",
     "text": [
      "\b\b\b\b\b\b\b\b\b\b\b\b\b\b\b\b\b\b\b\b\b\b\b\b\b\b\b\b\b\b\b\b\b\b\b\b\b\b\b\b\b\b\b\b\b\b\b\b\b\b\b\b\b\b\b\b\b\b\b\b\b\b\b\b\b\b\b\b\b\b\b\b\b\b\b\b\b\b\b\b\b\r6497/6497 [==============================] - 0s 10us/step - loss: 0.0532 - acc: 0.9843\n"
     ]
    },
    {
     "name": "stdout",
     "output_type": "stream",
     "text": [
      "Epoch 99/200\n\r 200/6497 [..............................] - ETA: 0s - loss: 0.0220 - acc: 1.0000"
     ]
    },
    {
     "name": "stdout",
     "output_type": "stream",
     "text": [
      "\b\b\b\b\b\b\b\b\b\b\b\b\b\b\b\b\b\b\b\b\b\b\b\b\b\b\b\b\b\b\b\b\b\b\b\b\b\b\b\b\b\b\b\b\b\b\b\b\b\b\b\b\b\b\b\b\b\b\b\b\b\b\b\b\b\b\b\b\b\b\b\b\b\b\b\b\b\b\b\b\b\r5400/6497 [=======================>......] - ETA: 0s - loss: 0.0559 - acc: 0.9841"
     ]
    },
    {
     "name": "stdout",
     "output_type": "stream",
     "text": [
      "\b\b\b\b\b\b\b\b\b\b\b\b\b\b\b\b\b\b\b\b\b\b\b\b\b\b\b\b\b\b\b\b\b\b\b\b\b\b\b\b\b\b\b\b\b\b\b\b\b\b\b\b\b\b\b\b\b\b\b\b\b\b\b\b\b\b\b\b\b\b\b\b\b\b\b\b\b\b\b\b\b\r6497/6497 [==============================] - 0s 10us/step - loss: 0.0539 - acc: 0.9841\n"
     ]
    },
    {
     "name": "stdout",
     "output_type": "stream",
     "text": [
      "Epoch 100/200\n\r 200/6497 [..............................] - ETA: 0s - loss: 0.0216 - acc: 0.9900"
     ]
    },
    {
     "name": "stdout",
     "output_type": "stream",
     "text": [
      "\b\b\b\b\b\b\b\b\b\b\b\b\b\b\b\b\b\b\b\b\b\b\b\b\b\b\b\b\b\b\b\b\b\b\b\b\b\b\b\b\b\b\b\b\b\b\b\b\b\b\b\b\b\b\b\b\b\b\b\b\b\b\b\b\b\b\b\b\b\b\b\b\b\b\b\b\b\b\b\b\b\r5000/6497 [======================>.......] - ETA: 0s - loss: 0.0513 - acc: 0.9858"
     ]
    },
    {
     "name": "stdout",
     "output_type": "stream",
     "text": [
      "\b\b\b\b\b\b\b\b\b\b\b\b\b\b\b\b\b\b\b\b\b\b\b\b\b\b\b\b\b\b\b\b\b\b\b\b\b\b\b\b\b\b\b\b\b\b\b\b\b\b\b\b\b\b\b\b\b\b\b\b\b\b\b\b\b\b\b\b\b\b\b\b\b\b\b\b\b\b\b\b\b\r6497/6497 [==============================] - 0s 12us/step - loss: 0.0544 - acc: 0.9845\n"
     ]
    },
    {
     "name": "stdout",
     "output_type": "stream",
     "text": [
      "Epoch 101/200\n\r 200/6497 [..............................] - ETA: 0s - loss: 0.0372 - acc: 0.9900"
     ]
    },
    {
     "name": "stdout",
     "output_type": "stream",
     "text": [
      "\b\b\b\b\b\b\b\b\b\b\b\b\b\b\b\b\b\b\b\b\b\b\b\b\b\b\b\b\b\b\b\b\b\b\b\b\b\b\b\b\b\b\b\b\b\b\b\b\b\b\b\b\b\b\b\b\b\b\b\b\b\b\b\b\b\b\b\b\b\b\b\b\b\b\b\b\b\b\b\b\b\r5000/6497 [======================>.......] - ETA: 0s - loss: 0.0536 - acc: 0.9856"
     ]
    },
    {
     "name": "stdout",
     "output_type": "stream",
     "text": [
      "\b\b\b\b\b\b\b\b\b\b\b\b\b\b\b\b\b\b\b\b\b\b\b\b\b\b\b\b\b\b\b\b\b\b\b\b\b\b\b\b\b\b\b\b\b\b\b\b\b\b\b\b\b\b\b\b\b\b\b\b\b\b\b\b\b\b\b\b\b\b\b\b\b\b\b\b\b\b\b\b\b\r6497/6497 [==============================] - 0s 11us/step - loss: 0.0564 - acc: 0.9845\n"
     ]
    },
    {
     "name": "stdout",
     "output_type": "stream",
     "text": [
      "Epoch 102/200\n\r 200/6497 [..............................] - ETA: 0s - loss: 0.0715 - acc: 0.9850"
     ]
    },
    {
     "name": "stdout",
     "output_type": "stream",
     "text": [
      "\b\b\b\b\b\b\b\b\b\b\b\b\b\b\b\b\b\b\b\b\b\b\b\b\b\b\b\b\b\b\b\b\b\b\b\b\b\b\b\b\b\b\b\b\b\b\b\b\b\b\b\b\b\b\b\b\b\b\b\b\b\b\b\b\b\b\b\b\b\b\b\b\b\b\b\b\b\b\b\b\b\r4800/6497 [=====================>........] - ETA: 0s - loss: 0.0486 - acc: 0.9852"
     ]
    },
    {
     "name": "stdout",
     "output_type": "stream",
     "text": [
      "\b\b\b\b\b\b\b\b\b\b\b\b\b\b\b\b\b\b\b\b\b\b\b\b\b\b\b\b\b\b\b\b\b\b\b\b\b\b\b\b\b\b\b\b\b\b\b\b\b\b\b\b\b\b\b\b\b\b\b\b\b\b\b\b\b\b\b\b\b\b\b\b\b\b\b\b\b\b\b\b\b\r6497/6497 [==============================] - 0s 11us/step - loss: 0.0507 - acc: 0.9848\n"
     ]
    },
    {
     "name": "stdout",
     "output_type": "stream",
     "text": [
      "Epoch 103/200\n\r 200/6497 [..............................] - ETA: 0s - loss: 0.0190 - acc: 1.0000"
     ]
    },
    {
     "name": "stdout",
     "output_type": "stream",
     "text": [
      "\b\b\b\b\b\b\b\b\b\b\b\b\b\b\b\b\b\b\b\b\b\b\b\b\b\b\b\b\b\b\b\b\b\b\b\b\b\b\b\b\b\b\b\b\b\b\b\b\b\b\b\b\b\b\b\b\b\b\b\b\b\b\b\b\b\b\b\b\b\b\b\b\b\b\b\b\b\b\b\b\b\r6497/6497 [==============================] - 0s 9us/step - loss: 0.0525 - acc: 0.9846\n"
     ]
    },
    {
     "name": "stdout",
     "output_type": "stream",
     "text": [
      "Epoch 104/200\n\r 200/6497 [..............................] - ETA: 0s - loss: 0.0596 - acc: 0.9800"
     ]
    },
    {
     "name": "stdout",
     "output_type": "stream",
     "text": [
      "\b\b\b\b\b\b\b\b\b\b\b\b\b\b\b\b\b\b\b\b\b\b\b\b\b\b\b\b\b\b\b\b\b\b\b\b\b\b\b\b\b\b\b\b\b\b\b\b\b\b\b\b\b\b\b\b\b\b\b\b\b\b\b\b\b\b\b\b\b\b\b\b\b\b\b\b\b\b\b\b\b\r6497/6497 [==============================] - 0s 8us/step - loss: 0.0536 - acc: 0.9852\n"
     ]
    },
    {
     "name": "stdout",
     "output_type": "stream",
     "text": [
      "Epoch 105/200\n\r 200/6497 [..............................] - ETA: 0s - loss: 0.0419 - acc: 0.9900"
     ]
    },
    {
     "name": "stdout",
     "output_type": "stream",
     "text": [
      "\b\b\b\b\b\b\b\b\b\b\b\b\b\b\b\b\b\b\b\b\b\b\b\b\b\b\b\b\b\b\b\b\b\b\b\b\b\b\b\b\b\b\b\b\b\b\b\b\b\b\b\b\b\b\b\b\b\b\b\b\b\b\b\b\b\b\b\b\b\b\b\b\b\b\b\b\b\b\b\b\b\r6400/6497 [============================>.] - ETA: 0s - loss: 0.0509 - acc: 0.9855"
     ]
    },
    {
     "name": "stdout",
     "output_type": "stream",
     "text": [
      "\b\b\b\b\b\b\b\b\b\b\b\b\b\b\b\b\b\b\b\b\b\b\b\b\b\b\b\b\b\b\b\b\b\b\b\b\b\b\b\b\b\b\b\b\b\b\b\b\b\b\b\b\b\b\b\b\b\b\b\b\b\b\b\b\b\b\b\b\b\b\b\b\b\b\b\b\b\b\b\b\b\r6497/6497 [==============================] - 0s 9us/step - loss: 0.0508 - acc: 0.9855\n"
     ]
    },
    {
     "name": "stdout",
     "output_type": "stream",
     "text": [
      "Epoch 106/200\n\r 200/6497 [..............................] - ETA: 0s - loss: 0.0757 - acc: 0.9750"
     ]
    },
    {
     "name": "stdout",
     "output_type": "stream",
     "text": [
      "\b\b\b\b\b\b\b\b\b\b\b\b\b\b\b\b\b\b\b\b\b\b\b\b\b\b\b\b\b\b\b\b\b\b\b\b\b\b\b\b\b\b\b\b\b\b\b\b\b\b\b\b\b\b\b\b\b\b\b\b\b\b\b\b\b\b\b\b\b\b\b\b\b\b\b\b\b\b\b\b\b\r6400/6497 [============================>.] - ETA: 0s - loss: 0.0519 - acc: 0.9852"
     ]
    },
    {
     "name": "stdout",
     "output_type": "stream",
     "text": [
      "\b\b\b\b\b\b\b\b\b\b\b\b\b\b\b\b\b\b\b\b\b\b\b\b\b\b\b\b\b\b\b\b\b\b\b\b\b\b\b\b\b\b\b\b\b\b\b\b\b\b\b\b\b\b\b\b\b\b\b\b\b\b\b\b\b\b\b\b\b\b\b\b\b\b\b\b\b\b\b\b\b\r6497/6497 [==============================] - 0s 9us/step - loss: 0.0524 - acc: 0.9852\n"
     ]
    },
    {
     "name": "stdout",
     "output_type": "stream",
     "text": [
      "Epoch 107/200\n\r 200/6497 [..............................] - ETA: 0s - loss: 0.0315 - acc: 0.9900"
     ]
    },
    {
     "name": "stdout",
     "output_type": "stream",
     "text": [
      "\b\b\b\b\b\b\b\b\b\b\b\b\b\b\b\b\b\b\b\b\b\b\b\b\b\b\b\b\b\b\b\b\b\b\b\b\b\b\b\b\b\b\b\b\b\b\b\b\b\b\b\b\b\b\b\b\b\b\b\b\b\b\b\b\b\b\b\b\b\b\b\b\b\b\b\b\b\b\b\b\b\r6200/6497 [===========================>..] - ETA: 0s - loss: 0.0513 - acc: 0.9845"
     ]
    },
    {
     "name": "stdout",
     "output_type": "stream",
     "text": [
      "\b\b\b\b\b\b\b\b\b\b\b\b\b\b\b\b\b\b\b\b\b\b\b\b\b\b\b\b\b\b\b\b\b\b\b\b\b\b\b\b\b\b\b\b\b\b\b\b\b\b\b\b\b\b\b\b\b\b\b\b\b\b\b\b\b\b\b\b\b\b\b\b\b\b\b\b\b\b\b\b\b\r6497/6497 [==============================] - 0s 9us/step - loss: 0.0502 - acc: 0.9851\n"
     ]
    },
    {
     "name": "stdout",
     "output_type": "stream",
     "text": [
      "Epoch 108/200\n\r 200/6497 [..............................] - ETA: 0s - loss: 0.0245 - acc: 0.9950"
     ]
    },
    {
     "name": "stdout",
     "output_type": "stream",
     "text": [
      "\b\b\b\b\b\b\b\b\b\b\b\b\b\b\b\b\b\b\b\b\b\b\b\b\b\b\b\b\b\b\b\b\b\b\b\b\b\b\b\b\b\b\b\b\b\b\b\b\b\b\b\b\b\b\b\b\b\b\b\b\b\b\b\b\b\b\b\b\b\b\b\b\b\b\b\b\b\b\b\b\b\r6400/6497 [============================>.] - ETA: 0s - loss: 0.0629 - acc: 0.9806"
     ]
    },
    {
     "name": "stdout",
     "output_type": "stream",
     "text": [
      "\b\b\b\b\b\b\b\b\b\b\b\b\b\b\b\b\b\b\b\b\b\b\b\b\b\b\b\b\b\b\b\b\b\b\b\b\b\b\b\b\b\b\b\b\b\b\b\b\b\b\b\b\b\b\b\b\b\b\b\b\b\b\b\b\b\b\b\b\b\b\b\b\b\b\b\b\b\b\b\b\b\r6497/6497 [==============================] - 0s 9us/step - loss: 0.0631 - acc: 0.9806\n"
     ]
    },
    {
     "name": "stdout",
     "output_type": "stream",
     "text": [
      "Epoch 109/200\n\r 200/6497 [..............................] - ETA: 0s - loss: 0.0745 - acc: 0.9650"
     ]
    },
    {
     "name": "stdout",
     "output_type": "stream",
     "text": [
      "\b\b\b\b\b\b\b\b\b\b\b\b\b\b\b\b\b\b\b\b\b\b\b\b\b\b\b\b\b\b\b\b\b\b\b\b\b\b\b\b\b\b\b\b\b\b\b\b\b\b\b\b\b\b\b\b\b\b\b\b\b\b\b\b\b\b\b\b\b\b\b\b\b\b\b\b\b\b\b\b\b\r6000/6497 [==========================>...] - ETA: 0s - loss: 0.0519 - acc: 0.9850"
     ]
    },
    {
     "name": "stdout",
     "output_type": "stream",
     "text": [
      "\b\b\b\b\b\b\b\b\b\b\b\b\b\b\b\b\b\b\b\b\b\b\b\b\b\b\b\b\b\b\b\b\b\b\b\b\b\b\b\b\b\b\b\b\b\b\b\b\b\b\b\b\b\b\b\b\b\b\b\b\b\b\b\b\b\b\b\b\b\b\b\b\b\b\b\b\b\b\b\b\b\r6497/6497 [==============================] - 0s 9us/step - loss: 0.0521 - acc: 0.9852\n"
     ]
    },
    {
     "name": "stdout",
     "output_type": "stream",
     "text": [
      "Epoch 110/200"
     ]
    },
    {
     "name": "stdout",
     "output_type": "stream",
     "text": [
      "\n\r 200/6497 [..............................] - ETA: 0s - loss: 0.0528 - acc: 0.9850"
     ]
    },
    {
     "name": "stdout",
     "output_type": "stream",
     "text": [
      "\b\b\b\b\b\b\b\b\b\b\b\b\b\b\b\b\b\b\b\b\b\b\b\b\b\b\b\b\b\b\b\b\b\b\b\b\b\b\b\b\b\b\b\b\b\b\b\b\b\b\b\b\b\b\b\b\b\b\b\b\b\b\b\b\b\b\b\b\b\b\b\b\b\b\b\b\b\b\b\b\b\r6497/6497 [==============================] - 0s 9us/step - loss: 0.0508 - acc: 0.9852\n"
     ]
    },
    {
     "name": "stdout",
     "output_type": "stream",
     "text": [
      "Epoch 111/200\n\r 200/6497 [..............................] - ETA: 0s - loss: 0.0796 - acc: 0.9850"
     ]
    },
    {
     "name": "stdout",
     "output_type": "stream",
     "text": [
      "\b\b\b\b\b\b\b\b\b\b\b\b\b\b\b\b\b\b\b\b\b\b\b\b\b\b\b\b\b\b\b\b\b\b\b\b\b\b\b\b\b\b\b\b\b\b\b\b\b\b\b\b\b\b\b\b\b\b\b\b\b\b\b\b\b\b\b\b\b\b\b\b\b\b\b\b\b\b\b\b\b\r6497/6497 [==============================] - 0s 8us/step - loss: 0.0503 - acc: 0.9855\n"
     ]
    },
    {
     "name": "stdout",
     "output_type": "stream",
     "text": [
      "Epoch 112/200\n\r 200/6497 [..............................] - ETA: 0s - loss: 0.0419 - acc: 0.9900"
     ]
    },
    {
     "name": "stdout",
     "output_type": "stream",
     "text": [
      "\b\b\b\b\b\b\b\b\b\b\b\b\b\b\b\b\b\b\b\b\b\b\b\b\b\b\b\b\b\b\b\b\b\b\b\b\b\b\b\b\b\b\b\b\b\b\b\b\b\b\b\b\b\b\b\b\b\b\b\b\b\b\b\b\b\b\b\b\b\b\b\b\b\b\b\b\b\b\b\b\b\r6200/6497 [===========================>..] - ETA: 0s - loss: 0.0518 - acc: 0.9863"
     ]
    },
    {
     "name": "stdout",
     "output_type": "stream",
     "text": [
      "\b\b\b\b\b\b\b\b\b\b\b\b\b\b\b\b\b\b\b\b\b\b\b\b\b\b\b\b\b\b\b\b\b\b\b\b\b\b\b\b\b\b\b\b\b\b\b\b\b\b\b\b\b\b\b\b\b\b\b\b\b\b\b\b\b\b\b\b\b\b\b\b\b\b\b\b\b\b\b\b\b\r6497/6497 [==============================] - 0s 10us/step - loss: 0.0515 - acc: 0.9863\n"
     ]
    },
    {
     "name": "stdout",
     "output_type": "stream",
     "text": [
      "Epoch 113/200\n\r 200/6497 [..............................] - ETA: 0s - loss: 0.0208 - acc: 0.9950"
     ]
    },
    {
     "name": "stdout",
     "output_type": "stream",
     "text": [
      "\b\b\b\b\b\b\b\b\b\b\b\b\b\b\b\b\b\b\b\b\b\b\b\b\b\b\b\b\b\b\b\b\b\b\b\b\b\b\b\b\b\b\b\b\b\b\b\b\b\b\b\b\b\b\b\b\b\b\b\b\b\b\b\b\b\b\b\b\b\b\b\b\b\b\b\b\b\b\b\b\b\r6497/6497 [==============================] - 0s 8us/step - loss: 0.0542 - acc: 0.9838\n"
     ]
    },
    {
     "name": "stdout",
     "output_type": "stream",
     "text": [
      "Epoch 114/200\n\r 200/6497 [..............................] - ETA: 0s - loss: 0.0511 - acc: 0.9900"
     ]
    },
    {
     "name": "stdout",
     "output_type": "stream",
     "text": [
      "\b\b\b\b\b\b\b\b\b\b\b\b\b\b\b\b\b\b\b\b\b\b\b\b\b\b\b\b\b\b\b\b\b\b\b\b\b\b\b\b\b\b\b\b\b\b\b\b\b\b\b\b\b\b\b\b\b\b\b\b\b\b\b\b\b\b\b\b\b\b\b\b\b\b\b\b\b\b\b\b\b\r6000/6497 [==========================>...] - ETA: 0s - loss: 0.0532 - acc: 0.9835"
     ]
    },
    {
     "name": "stdout",
     "output_type": "stream",
     "text": [
      "\b\b\b\b\b\b\b\b\b\b\b\b\b\b\b\b\b\b\b\b\b\b\b\b\b\b\b\b\b\b\b\b\b\b\b\b\b\b\b\b\b\b\b\b\b\b\b\b\b\b\b\b\b\b\b\b\b\b\b\b\b\b\b\b\b\b\b\b\b\b\b\b\b\b\b\b\b\b\b\b\b\r6497/6497 [==============================] - 0s 10us/step - loss: 0.0552 - acc: 0.9838\n"
     ]
    },
    {
     "name": "stdout",
     "output_type": "stream",
     "text": [
      "Epoch 115/200\n\r 200/6497 [..............................] - ETA: 0s - loss: 0.0599 - acc: 0.9800"
     ]
    },
    {
     "name": "stdout",
     "output_type": "stream",
     "text": [
      "\b\b\b\b\b\b\b\b\b\b\b\b\b\b\b\b\b\b\b\b\b\b\b\b\b\b\b\b\b\b\b\b\b\b\b\b\b\b\b\b\b\b\b\b\b\b\b\b\b\b\b\b\b\b\b\b\b\b\b\b\b\b\b\b\b\b\b\b\b\b\b\b\b\b\b\b\b\b\b\b\b\r6200/6497 [===========================>..] - ETA: 0s - loss: 0.0538 - acc: 0.9845"
     ]
    },
    {
     "name": "stdout",
     "output_type": "stream",
     "text": [
      "\b\b\b\b\b\b\b\b\b\b\b\b\b\b\b\b\b\b\b\b\b\b\b\b\b\b\b\b\b\b\b\b\b\b\b\b\b\b\b\b\b\b\b\b\b\b\b\b\b\b\b\b\b\b\b\b\b\b\b\b\b\b\b\b\b\b\b\b\b\b\b\b\b\b\b\b\b\b\b\b\b\r6497/6497 [==============================] - 0s 9us/step - loss: 0.0528 - acc: 0.9843\n"
     ]
    },
    {
     "name": "stdout",
     "output_type": "stream",
     "text": [
      "Epoch 116/200\n\r 200/6497 [..............................] - ETA: 0s - loss: 0.0662 - acc: 0.9800"
     ]
    },
    {
     "name": "stdout",
     "output_type": "stream",
     "text": [
      "\b\b\b\b\b\b\b\b\b\b\b\b\b\b\b\b\b\b\b\b\b\b\b\b\b\b\b\b\b\b\b\b\b\b\b\b\b\b\b\b\b\b\b\b\b\b\b\b\b\b\b\b\b\b\b\b\b\b\b\b\b\b\b\b\b\b\b\b\b\b\b\b\b\b\b\b\b\b\b\b\b\r6000/6497 [==========================>...] - ETA: 0s - loss: 0.0504 - acc: 0.9860"
     ]
    },
    {
     "name": "stdout",
     "output_type": "stream",
     "text": [
      "\b\b\b\b\b\b\b\b\b\b\b\b\b\b\b\b\b\b\b\b\b\b\b\b\b\b\b\b\b\b\b\b\b\b\b\b\b\b\b\b\b\b\b\b\b\b\b\b\b\b\b\b\b\b\b\b\b\b\b\b\b\b\b\b\b\b\b\b\b\b\b\b\b\b\b\b\b\b\b\b\b\r6497/6497 [==============================] - 0s 9us/step - loss: 0.0503 - acc: 0.9860\n"
     ]
    },
    {
     "name": "stdout",
     "output_type": "stream",
     "text": [
      "Epoch 117/200\n\r 200/6497 [..............................] - ETA: 0s - loss: 0.0451 - acc: 0.9850"
     ]
    },
    {
     "name": "stdout",
     "output_type": "stream",
     "text": [
      "\b\b\b\b\b\b\b\b\b\b\b\b\b\b\b\b\b\b\b\b\b\b\b\b\b\b\b\b\b\b\b\b\b\b\b\b\b\b\b\b\b\b\b\b\b\b\b\b\b\b\b\b\b\b\b\b\b\b\b\b\b\b\b\b\b\b\b\b\b\b\b\b\b\b\b\b\b\b\b\b\b\r6400/6497 [============================>.] - ETA: 0s - loss: 0.0505 - acc: 0.9861"
     ]
    },
    {
     "name": "stdout",
     "output_type": "stream",
     "text": [
      "\b\b\b\b\b\b\b\b\b\b\b\b\b\b\b\b\b\b\b\b\b\b\b\b\b\b\b\b\b\b\b\b\b\b\b\b\b\b\b\b\b\b\b\b\b\b\b\b\b\b\b\b\b\b\b\b\b\b\b\b\b\b\b\b\b\b\b\b\b\b\b\b\b\b\b\b\b\b\b\b\b\r6497/6497 [==============================] - 0s 9us/step - loss: 0.0504 - acc: 0.9858\n"
     ]
    },
    {
     "name": "stdout",
     "output_type": "stream",
     "text": [
      "Epoch 118/200\n\r 200/6497 [..............................] - ETA: 0s - loss: 0.0428 - acc: 0.9800"
     ]
    },
    {
     "name": "stdout",
     "output_type": "stream",
     "text": [
      "\b\b\b\b\b\b\b\b\b\b\b\b\b\b\b\b\b\b\b\b\b\b\b\b\b\b\b\b\b\b\b\b\b\b\b\b\b\b\b\b\b\b\b\b\b\b\b\b\b\b\b\b\b\b\b\b\b\b\b\b\b\b\b\b\b\b\b\b\b\b\b\b\b\b\b\b\b\b\b\b\b\r6400/6497 [============================>.] - ETA: 0s - loss: 0.0517 - acc: 0.9861"
     ]
    },
    {
     "name": "stdout",
     "output_type": "stream",
     "text": [
      "\b\b\b\b\b\b\b\b\b\b\b\b\b\b\b\b\b\b\b\b\b\b\b\b\b\b\b\b\b\b\b\b\b\b\b\b\b\b\b\b\b\b\b\b\b\b\b\b\b\b\b\b\b\b\b\b\b\b\b\b\b\b\b\b\b\b\b\b\b\b\b\b\b\b\b\b\b\b\b\b\b\r6497/6497 [==============================] - 0s 9us/step - loss: 0.0511 - acc: 0.9863\n"
     ]
    },
    {
     "name": "stdout",
     "output_type": "stream",
     "text": [
      "Epoch 119/200\n\r 200/6497 [..............................] - ETA: 0s - loss: 0.0201 - acc: 0.9950"
     ]
    },
    {
     "name": "stdout",
     "output_type": "stream",
     "text": [
      "\b\b\b\b\b\b\b\b\b\b\b\b\b\b\b\b\b\b\b\b\b\b\b\b\b\b\b\b\b\b\b\b\b\b\b\b\b\b\b\b\b\b\b\b\b\b\b\b\b\b\b\b\b\b\b\b\b\b\b\b\b\b\b\b\b\b\b\b\b\b\b\b\b\b\b\b\b\b\b\b\b\r5800/6497 [=========================>....] - ETA: 0s - loss: 0.0513 - acc: 0.9866"
     ]
    },
    {
     "name": "stdout",
     "output_type": "stream",
     "text": [
      "\b\b\b\b\b\b\b\b\b\b\b\b\b\b\b\b\b\b\b\b\b\b\b\b\b\b\b\b\b\b\b\b\b\b\b\b\b\b\b\b\b\b\b\b\b\b\b\b\b\b\b\b\b\b\b\b\b\b\b\b\b\b\b\b\b\b\b\b\b\b\b\b\b\b\b\b\b\b\b\b\b\r6497/6497 [==============================] - 0s 9us/step - loss: 0.0522 - acc: 0.9861\n"
     ]
    },
    {
     "name": "stdout",
     "output_type": "stream",
     "text": [
      "Epoch 120/200\n\r 200/6497 [..............................] - ETA: 0s - loss: 0.0992 - acc: 0.9600"
     ]
    },
    {
     "name": "stdout",
     "output_type": "stream",
     "text": [
      "\b\b\b\b\b\b\b\b\b\b\b\b\b\b\b\b\b\b\b\b\b\b\b\b\b\b\b\b\b\b\b\b\b\b\b\b\b\b\b\b\b\b\b\b\b\b\b\b\b\b\b\b\b\b\b\b\b\b\b\b\b\b\b\b\b\b\b\b\b\b\b\b\b\b\b\b\b\b\b\b\b\r6200/6497 [===========================>..] - ETA: 0s - loss: 0.0521 - acc: 0.9842"
     ]
    },
    {
     "name": "stdout",
     "output_type": "stream",
     "text": [
      "\b\b\b\b\b\b\b\b\b\b\b\b\b\b\b\b\b\b\b\b\b\b\b\b\b\b\b\b\b\b\b\b\b\b\b\b\b\b\b\b\b\b\b\b\b\b\b\b\b\b\b\b\b\b\b\b\b\b\b\b\b\b\b\b\b\b\b\b\b\b\b\b\b\b\b\b\b\b\b\b\b\r6497/6497 [==============================] - 0s 9us/step - loss: 0.0522 - acc: 0.9845\n"
     ]
    },
    {
     "name": "stdout",
     "output_type": "stream",
     "text": [
      "Epoch 121/200\n\r 200/6497 [..............................] - ETA: 0s - loss: 0.0499 - acc: 0.9800"
     ]
    },
    {
     "name": "stdout",
     "output_type": "stream",
     "text": [
      "\b\b\b\b\b\b\b\b\b\b\b\b\b\b\b\b\b\b\b\b\b\b\b\b\b\b\b\b\b\b\b\b\b\b\b\b\b\b\b\b\b\b\b\b\b\b\b\b\b\b\b\b\b\b\b\b\b\b\b\b\b\b\b\b\b\b\b\b\b\b\b\b\b\b\b\b\b\b\b\b\b\r5400/6497 [=======================>......] - ETA: 0s - loss: 0.0543 - acc: 0.9846"
     ]
    },
    {
     "name": "stdout",
     "output_type": "stream",
     "text": [
      "\b\b\b\b\b\b\b\b\b\b\b\b\b\b\b\b\b\b\b\b\b\b\b\b\b\b\b\b\b\b\b\b\b\b\b\b\b\b\b\b\b\b\b\b\b\b\b\b\b\b\b\b\b\b\b\b\b\b\b\b\b\b\b\b\b\b\b\b\b\b\b\b\b\b\b\b\b\b\b\b\b\r6497/6497 [==============================] - 0s 10us/step - loss: 0.0512 - acc: 0.9861\n"
     ]
    },
    {
     "name": "stdout",
     "output_type": "stream",
     "text": [
      "Epoch 122/200\n\r 200/6497 [..............................] - ETA: 0s - loss: 0.0762 - acc: 0.9850"
     ]
    },
    {
     "name": "stdout",
     "output_type": "stream",
     "text": [
      "\b\b\b\b\b\b\b\b\b\b\b\b\b\b\b\b\b\b\b\b\b\b\b\b\b\b\b\b\b\b\b\b\b\b\b\b\b\b\b\b\b\b\b\b\b\b\b\b\b\b\b\b\b\b\b\b\b\b\b\b\b\b\b\b\b\b\b\b\b\b\b\b\b\b\b\b\b\b\b\b\b\r6497/6497 [==============================] - 0s 8us/step - loss: 0.0474 - acc: 0.9868\n"
     ]
    },
    {
     "name": "stdout",
     "output_type": "stream",
     "text": [
      "Epoch 123/200\n"
     ]
    },
    {
     "name": "stdout",
     "output_type": "stream",
     "text": [
      "\r 200/6497 [..............................] - ETA: 0s - loss: 0.0377 - acc: 0.9900"
     ]
    },
    {
     "name": "stdout",
     "output_type": "stream",
     "text": [
      "\b\b\b\b\b\b\b\b\b\b\b\b\b\b\b\b\b\b\b\b\b\b\b\b\b\b\b\b\b\b\b\b\b\b\b\b\b\b\b\b\b\b\b\b\b\b\b\b\b\b\b\b\b\b\b\b\b\b\b\b\b\b\b\b\b\b\b\b\b\b\b\b\b\b\b\b\b\b\b\b\b\r6400/6497 [============================>.] - ETA: 0s - loss: 0.0497 - acc: 0.9863"
     ]
    },
    {
     "name": "stdout",
     "output_type": "stream",
     "text": [
      "\b\b\b\b\b\b\b\b\b\b\b\b\b\b\b\b\b\b\b\b\b\b\b\b\b\b\b\b\b\b\b\b\b\b\b\b\b\b\b\b\b\b\b\b\b\b\b\b\b\b\b\b\b\b\b\b\b\b\b\b\b\b\b\b\b\b\b\b\b\b\b\b\b\b\b\b\b\b\b\b\b\r6497/6497 [==============================] - 0s 9us/step - loss: 0.0493 - acc: 0.9865\n"
     ]
    },
    {
     "name": "stdout",
     "output_type": "stream",
     "text": [
      "Epoch 124/200\n\r 200/6497 [..............................] - ETA: 0s - loss: 0.0441 - acc: 0.9950"
     ]
    },
    {
     "name": "stdout",
     "output_type": "stream",
     "text": [
      "\b\b\b\b\b\b\b\b\b\b\b\b\b\b\b\b\b\b\b\b\b\b\b\b\b\b\b\b\b\b\b\b\b\b\b\b\b\b\b\b\b\b\b\b\b\b\b\b\b\b\b\b\b\b\b\b\b\b\b\b\b\b\b\b\b\b\b\b\b\b\b\b\b\b\b\b\b\b\b\b\b\r6497/6497 [==============================] - 0s 8us/step - loss: 0.0528 - acc: 0.9852\n"
     ]
    },
    {
     "name": "stdout",
     "output_type": "stream",
     "text": [
      "Epoch 125/200\n\r 200/6497 [..............................] - ETA: 0s - loss: 0.0483 - acc: 0.9750"
     ]
    },
    {
     "name": "stdout",
     "output_type": "stream",
     "text": [
      "\b\b\b\b\b\b\b\b\b\b\b\b\b\b\b\b\b\b\b\b\b\b\b\b\b\b\b\b\b\b\b\b\b\b\b\b\b\b\b\b\b\b\b\b\b\b\b\b\b\b\b\b\b\b\b\b\b\b\b\b\b\b\b\b\b\b\b\b\b\b\b\b\b\b\b\b\b\b\b\b\b\r5800/6497 [=========================>....] - ETA: 0s - loss: 0.0609 - acc: 0.9822"
     ]
    },
    {
     "name": "stdout",
     "output_type": "stream",
     "text": [
      "\b\b\b\b\b\b\b\b\b\b\b\b\b\b\b\b\b\b\b\b\b\b\b\b\b\b\b\b\b\b\b\b\b\b\b\b\b\b\b\b\b\b\b\b\b\b\b\b\b\b\b\b\b\b\b\b\b\b\b\b\b\b\b\b\b\b\b\b\b\b\b\b\b\b\b\b\b\b\b\b\b\r6497/6497 [==============================] - 0s 10us/step - loss: 0.0562 - acc: 0.9835\n"
     ]
    },
    {
     "name": "stdout",
     "output_type": "stream",
     "text": [
      "Epoch 126/200\n\r 200/6497 [..............................] - ETA: 0s - loss: 0.0630 - acc: 0.9750"
     ]
    },
    {
     "name": "stdout",
     "output_type": "stream",
     "text": [
      "\b\b\b\b\b\b\b\b\b\b\b\b\b\b\b\b\b\b\b\b\b\b\b\b\b\b\b\b\b\b\b\b\b\b\b\b\b\b\b\b\b\b\b\b\b\b\b\b\b\b\b\b\b\b\b\b\b\b\b\b\b\b\b\b\b\b\b\b\b\b\b\b\b\b\b\b\b\b\b\b\b\r6400/6497 [============================>.] - ETA: 0s - loss: 0.0494 - acc: 0.9853"
     ]
    },
    {
     "name": "stdout",
     "output_type": "stream",
     "text": [
      "\b\b\b\b\b\b\b\b\b\b\b\b\b\b\b\b\b\b\b\b\b\b\b\b\b\b\b\b\b\b\b\b\b\b\b\b\b\b\b\b\b\b\b\b\b\b\b\b\b\b\b\b\b\b\b\b\b\b\b\b\b\b\b\b\b\b\b\b\b\b\b\b\b\b\b\b\b\b\b\b\b\r6497/6497 [==============================] - 0s 9us/step - loss: 0.0491 - acc: 0.9854\n"
     ]
    },
    {
     "name": "stdout",
     "output_type": "stream",
     "text": [
      "Epoch 127/200\n"
     ]
    },
    {
     "name": "stdout",
     "output_type": "stream",
     "text": [
      "\r 200/6497 [..............................] - ETA: 0s - loss: 0.0206 - acc: 0.9900"
     ]
    },
    {
     "name": "stdout",
     "output_type": "stream",
     "text": [
      "\b\b\b\b\b\b\b\b\b\b\b\b\b\b\b\b\b\b\b\b\b\b\b\b\b\b\b\b\b\b\b\b\b\b\b\b\b\b\b\b\b\b\b\b\b\b\b\b\b\b\b\b\b\b\b\b\b\b\b\b\b\b\b\b\b\b\b\b\b\b\b\b\b\b\b\b\b\b\b\b\b\r5800/6497 [=========================>....] - ETA: 0s - loss: 0.0510 - acc: 0.9847"
     ]
    },
    {
     "name": "stdout",
     "output_type": "stream",
     "text": [
      "\b\b\b\b\b\b\b\b\b\b\b\b\b\b\b\b\b\b\b\b\b\b\b\b\b\b\b\b\b\b\b\b\b\b\b\b\b\b\b\b\b\b\b\b\b\b\b\b\b\b\b\b\b\b\b\b\b\b\b\b\b\b\b\b\b\b\b\b\b\b\b\b\b\b\b\b\b\b\b\b\b\r6497/6497 [==============================] - 0s 10us/step - loss: 0.0504 - acc: 0.9851\n"
     ]
    },
    {
     "name": "stdout",
     "output_type": "stream",
     "text": [
      "Epoch 128/200\n\r 200/6497 [..............................] - ETA: 0s - loss: 0.0280 - acc: 0.9900"
     ]
    },
    {
     "name": "stdout",
     "output_type": "stream",
     "text": [
      "\b\b\b\b\b\b\b\b\b\b\b\b\b\b\b\b\b\b\b\b\b\b\b\b\b\b\b\b\b\b\b\b\b\b\b\b\b\b\b\b\b\b\b\b\b\b\b\b\b\b\b\b\b\b\b\b\b\b\b\b\b\b\b\b\b\b\b\b\b\b\b\b\b\b\b\b\b\b\b\b\b\r6400/6497 [============================>.] - ETA: 0s - loss: 0.0545 - acc: 0.9831"
     ]
    },
    {
     "name": "stdout",
     "output_type": "stream",
     "text": [
      "\b\b\b\b\b\b\b\b\b\b\b\b\b\b\b\b\b\b\b\b\b\b\b\b\b\b\b\b\b\b\b\b\b\b\b\b\b\b\b\b\b\b\b\b\b\b\b\b\b\b\b\b\b\b\b\b\b\b\b\b\b\b\b\b\b\b\b\b\b\b\b\b\b\b\b\b\b\b\b\b\b\r6497/6497 [==============================] - 0s 9us/step - loss: 0.0549 - acc: 0.9832\n"
     ]
    },
    {
     "name": "stdout",
     "output_type": "stream",
     "text": [
      "Epoch 129/200\n\r 200/6497 [..............................] - ETA: 0s - loss: 0.0469 - acc: 0.9850"
     ]
    },
    {
     "name": "stdout",
     "output_type": "stream",
     "text": [
      "\b\b\b\b\b\b\b\b\b\b\b\b\b\b\b\b\b\b\b\b\b\b\b\b\b\b\b\b\b\b\b\b\b\b\b\b\b\b\b\b\b\b\b\b\b\b\b\b\b\b\b\b\b\b\b\b\b\b\b\b\b\b\b\b\b\b\b\b\b\b\b\b\b\b\b\b\b\b\b\b\b\r6400/6497 [============================>.] - ETA: 0s - loss: 0.0471 - acc: 0.9872"
     ]
    },
    {
     "name": "stdout",
     "output_type": "stream",
     "text": [
      "\b\b\b\b\b\b\b\b\b\b\b\b\b\b\b\b\b\b\b\b\b\b\b\b\b\b\b\b\b\b\b\b\b\b\b\b\b\b\b\b\b\b\b\b\b\b\b\b\b\b\b\b\b\b\b\b\b\b\b\b\b\b\b\b\b\b\b\b\b\b\b\b\b\b\b\b\b\b\b\b\b\r6497/6497 [==============================] - 0s 9us/step - loss: 0.0469 - acc: 0.9872\n"
     ]
    },
    {
     "name": "stdout",
     "output_type": "stream",
     "text": [
      "Epoch 130/200\n\r 200/6497 [..............................] - ETA: 0s - loss: 0.0406 - acc: 0.9950"
     ]
    },
    {
     "name": "stdout",
     "output_type": "stream",
     "text": [
      "\b\b\b\b\b\b\b\b\b\b\b\b\b\b\b\b\b\b\b\b\b\b\b\b\b\b\b\b\b\b\b\b\b\b\b\b\b\b\b\b\b\b\b\b\b\b\b\b\b\b\b\b\b\b\b\b\b\b\b\b\b\b\b\b\b\b\b\b\b\b\b\b\b\b\b\b\b\b\b\b\b\r6400/6497 [============================>.] - ETA: 0s - loss: 0.0465 - acc: 0.9872"
     ]
    },
    {
     "name": "stdout",
     "output_type": "stream",
     "text": [
      "\b\b\b\b\b\b\b\b\b\b\b\b\b\b\b\b\b\b\b\b\b\b\b\b\b\b\b\b\b\b\b\b\b\b\b\b\b\b\b\b\b\b\b\b\b\b\b\b\b\b\b\b\b\b\b\b\b\b\b\b\b\b\b\b\b\b\b\b\b\b\b\b\b\b\b\b\b\b\b\b\b\r6497/6497 [==============================] - 0s 9us/step - loss: 0.0461 - acc: 0.9874\n"
     ]
    },
    {
     "name": "stdout",
     "output_type": "stream",
     "text": [
      "Epoch 131/200"
     ]
    },
    {
     "name": "stdout",
     "output_type": "stream",
     "text": [
      "\n\r 200/6497 [..............................] - ETA: 0s - loss: 0.0185 - acc: 0.9950"
     ]
    },
    {
     "name": "stdout",
     "output_type": "stream",
     "text": [
      "\b\b\b\b\b\b\b\b\b\b\b\b\b\b\b\b\b\b\b\b\b\b\b\b\b\b\b\b\b\b\b\b\b\b\b\b\b\b\b\b\b\b\b\b\b\b\b\b\b\b\b\b\b\b\b\b\b\b\b\b\b\b\b\b\b\b\b\b\b\b\b\b\b\b\b\b\b\b\b\b\b\r6000/6497 [==========================>...] - ETA: 0s - loss: 0.0488 - acc: 0.9847"
     ]
    },
    {
     "name": "stdout",
     "output_type": "stream",
     "text": [
      "\b\b\b\b\b\b\b\b\b\b\b\b\b\b\b\b\b\b\b\b\b\b\b\b\b\b\b\b\b\b\b\b\b\b\b\b\b\b\b\b\b\b\b\b\b\b\b\b\b\b\b\b\b\b\b\b\b\b\b\b\b\b\b\b\b\b\b\b\b\b\b\b\b\b\b\b\b\b\b\b\b\r6497/6497 [==============================] - 0s 9us/step - loss: 0.0490 - acc: 0.9849\n"
     ]
    },
    {
     "name": "stdout",
     "output_type": "stream",
     "text": [
      "Epoch 132/200\n"
     ]
    },
    {
     "name": "stdout",
     "output_type": "stream",
     "text": [
      "\r 200/6497 [..............................] - ETA: 0s - loss: 0.0684 - acc: 0.9750"
     ]
    },
    {
     "name": "stdout",
     "output_type": "stream",
     "text": [
      "\b\b\b\b\b\b\b\b\b\b\b\b\b\b\b\b\b\b\b\b\b\b\b\b\b\b\b\b\b\b\b\b\b\b\b\b\b\b\b\b\b\b\b\b\b\b\b\b\b\b\b\b\b\b\b\b\b\b\b\b\b\b\b\b\b\b\b\b\b\b\b\b\b\b\b\b\b\b\b\b\b\r6000/6497 [==========================>...] - ETA: 0s - loss: 0.0453 - acc: 0.9873"
     ]
    },
    {
     "name": "stdout",
     "output_type": "stream",
     "text": [
      "\b\b\b\b\b\b\b\b\b\b\b\b\b\b\b\b\b\b\b\b\b\b\b\b\b\b\b\b\b\b\b\b\b\b\b\b\b\b\b\b\b\b\b\b\b\b\b\b\b\b\b\b\b\b\b\b\b\b\b\b\b\b\b\b\b\b\b\b\b\b\b\b\b\b\b\b\b\b\b\b\b\r6497/6497 [==============================] - 0s 10us/step - loss: 0.0467 - acc: 0.9871\n"
     ]
    },
    {
     "name": "stdout",
     "output_type": "stream",
     "text": [
      "Epoch 133/200\n"
     ]
    },
    {
     "name": "stdout",
     "output_type": "stream",
     "text": [
      "\r 200/6497 [..............................] - ETA: 0s - loss: 0.0631 - acc: 0.9900"
     ]
    },
    {
     "name": "stdout",
     "output_type": "stream",
     "text": [
      "\b\b\b\b\b\b\b\b\b\b\b\b\b\b\b\b\b\b\b\b\b\b\b\b\b\b\b\b\b\b\b\b\b\b\b\b\b\b\b\b\b\b\b\b\b\b\b\b\b\b\b\b\b\b\b\b\b\b\b\b\b\b\b\b\b\b\b\b\b\b\b\b\b\b\b\b\b\b\b\b\b\r6200/6497 [===========================>..] - ETA: 0s - loss: 0.0498 - acc: 0.9853"
     ]
    },
    {
     "name": "stdout",
     "output_type": "stream",
     "text": [
      "\b\b\b\b\b\b\b\b\b\b\b\b\b\b\b\b\b\b\b\b\b\b\b\b\b\b\b\b\b\b\b\b\b\b\b\b\b\b\b\b\b\b\b\b\b\b\b\b\b\b\b\b\b\b\b\b\b\b\b\b\b\b\b\b\b\b\b\b\b\b\b\b\b\b\b\b\b\b\b\b\b\r6497/6497 [==============================] - 0s 10us/step - loss: 0.0493 - acc: 0.9852\n"
     ]
    },
    {
     "name": "stdout",
     "output_type": "stream",
     "text": [
      "Epoch 134/200\n\r 200/6497 [..............................] - ETA: 0s - loss: 0.0226 - acc: 0.9950"
     ]
    },
    {
     "name": "stdout",
     "output_type": "stream",
     "text": [
      "\b\b\b\b\b\b\b\b\b\b\b\b\b\b\b\b\b\b\b\b\b\b\b\b\b\b\b\b\b\b\b\b\b\b\b\b\b\b\b\b\b\b\b\b\b\b\b\b\b\b\b\b\b\b\b\b\b\b\b\b\b\b\b\b\b\b\b\b\b\b\b\b\b\b\b\b\b\b\b\b\b\r5800/6497 [=========================>....] - ETA: 0s - loss: 0.0498 - acc: 0.9855"
     ]
    },
    {
     "name": "stdout",
     "output_type": "stream",
     "text": [
      "\b\b\b\b\b\b\b\b\b\b\b\b\b\b\b\b\b\b\b\b\b\b\b\b\b\b\b\b\b\b\b\b\b\b\b\b\b\b\b\b\b\b\b\b\b\b\b\b\b\b\b\b\b\b\b\b\b\b\b\b\b\b\b\b\b\b\b\b\b\b\b\b\b\b\b\b\b\b\b\b\b\r6497/6497 [==============================] - 0s 10us/step - loss: 0.0491 - acc: 0.9861\n"
     ]
    },
    {
     "name": "stdout",
     "output_type": "stream",
     "text": [
      "Epoch 135/200\n\r 200/6497 [..............................] - ETA: 0s - loss: 0.1396 - acc: 0.9650"
     ]
    },
    {
     "name": "stdout",
     "output_type": "stream",
     "text": [
      "\b\b\b\b\b\b\b\b\b\b\b\b\b\b\b\b\b\b\b\b\b\b\b\b\b\b\b\b\b\b\b\b\b\b\b\b\b\b\b\b\b\b\b\b\b\b\b\b\b\b\b\b\b\b\b\b\b\b\b\b\b\b\b\b\b\b\b\b\b\b\b\b\b\b\b\b\b\b\b\b\b\r6200/6497 [===========================>..] - ETA: 0s - loss: 0.0456 - acc: 0.9876"
     ]
    },
    {
     "name": "stdout",
     "output_type": "stream",
     "text": [
      "\b\b\b\b\b\b\b\b\b\b\b\b\b\b\b\b\b\b\b\b\b\b\b\b\b\b\b\b\b\b\b\b\b\b\b\b\b\b\b\b\b\b\b\b\b\b\b\b\b\b\b\b\b\b\b\b\b\b\b\b\b\b\b\b\b\b\b\b\b\b\b\b\b\b\b\b\b\b\b\b\b\r6497/6497 [==============================] - 0s 9us/step - loss: 0.0457 - acc: 0.9872\n"
     ]
    },
    {
     "name": "stdout",
     "output_type": "stream",
     "text": [
      "Epoch 136/200\n\r 200/6497 [..............................] - ETA: 0s - loss: 0.0715 - acc: 0.9800"
     ]
    },
    {
     "name": "stdout",
     "output_type": "stream",
     "text": [
      "\b\b\b\b\b\b\b\b\b\b\b\b\b\b\b\b\b\b\b\b\b\b\b\b\b\b\b\b\b\b\b\b\b\b\b\b\b\b\b\b\b\b\b\b\b\b\b\b\b\b\b\b\b\b\b\b\b\b\b\b\b\b\b\b\b\b\b\b\b\b\b\b\b\b\b\b\b\b\b\b\b\r5600/6497 [========================>.....] - ETA: 0s - loss: 0.0464 - acc: 0.9877"
     ]
    },
    {
     "name": "stdout",
     "output_type": "stream",
     "text": [
      "\b\b\b\b\b\b\b\b\b\b\b\b\b\b\b\b\b\b\b\b\b\b\b\b\b\b\b\b\b\b\b\b\b\b\b\b\b\b\b\b\b\b\b\b\b\b\b\b\b\b\b\b\b\b\b\b\b\b\b\b\b\b\b\b\b\b\b\b\b\b\b\b\b\b\b\b\b\b\b\b\b\r6497/6497 [==============================]"
     ]
    },
    {
     "name": "stdout",
     "output_type": "stream",
     "text": [
      " - 0s 10us/step - loss: 0.0467 - acc: 0.9875\n"
     ]
    },
    {
     "name": "stdout",
     "output_type": "stream",
     "text": [
      "Epoch 137/200\n\r 200/6497 [..............................] - ETA: 0s - loss: 0.0365 - acc: 0.9900"
     ]
    },
    {
     "name": "stdout",
     "output_type": "stream",
     "text": [
      "\b\b\b\b\b\b\b\b\b\b\b\b\b\b\b\b\b\b\b\b\b\b\b\b\b\b\b\b\b\b\b\b\b\b\b\b\b\b\b\b\b\b\b\b\b\b\b\b\b\b\b\b\b\b\b\b\b\b\b\b\b\b\b\b\b\b\b\b\b\b\b\b\b\b\b\b\b\b\b\b\b\r6400/6497 [============================>.] - ETA: 0s - loss: 0.0471 - acc: 0.9870"
     ]
    },
    {
     "name": "stdout",
     "output_type": "stream",
     "text": [
      "\b\b\b\b\b\b\b\b\b\b\b\b\b\b\b\b\b\b\b\b\b\b\b\b\b\b\b\b\b\b\b\b\b\b\b\b\b\b\b\b\b\b\b\b\b\b\b\b\b\b\b\b\b\b\b\b\b\b\b\b\b\b\b\b\b\b\b\b\b\b\b\b\b\b\b\b\b\b\b\b\b\r6497/6497 [==============================] - 0s 9us/step - loss: 0.0466 - acc: 0.9872\n"
     ]
    },
    {
     "name": "stdout",
     "output_type": "stream",
     "text": [
      "Epoch 138/200\n\r 200/6497 [..............................] - ETA: 0s - loss: 0.1240 - acc: 0.9750"
     ]
    },
    {
     "name": "stdout",
     "output_type": "stream",
     "text": [
      "\b\b\b\b\b\b\b\b\b\b\b\b\b\b\b\b\b\b\b\b\b\b\b\b\b\b\b\b\b\b\b\b\b\b\b\b\b\b\b\b\b\b\b\b\b\b\b\b\b\b\b\b\b\b\b\b\b\b\b\b\b\b\b\b\b\b\b\b\b\b\b\b\b\b\b\b\b\b\b\b\b\r6000/6497 [==========================>...] - ETA: 0s - loss: 0.0496 - acc: 0.9853"
     ]
    },
    {
     "name": "stdout",
     "output_type": "stream",
     "text": [
      "\b\b\b\b\b\b\b\b\b\b\b\b\b\b\b\b\b\b\b\b\b\b\b\b\b\b\b\b\b\b\b\b\b\b\b\b\b\b\b\b\b\b\b\b\b\b\b\b\b\b\b\b\b\b\b\b\b\b\b\b\b\b\b\b\b\b\b\b\b\b\b\b\b\b\b\b\b\b\b\b\b\r6497/6497 [==============================] - 0s 10us/step - loss: 0.0501 - acc: 0.9851\n"
     ]
    },
    {
     "name": "stdout",
     "output_type": "stream",
     "text": [
      "Epoch 139/200\n\r 200/6497 [..............................] - ETA: 0s - loss: 0.0625 - acc: 0.9850"
     ]
    },
    {
     "name": "stdout",
     "output_type": "stream",
     "text": [
      "\b\b\b\b\b\b\b\b\b\b\b\b\b\b\b\b\b\b\b\b\b\b\b\b\b\b\b\b\b\b\b\b\b\b\b\b\b\b\b\b\b\b\b\b\b\b\b\b\b\b\b\b\b\b\b\b\b\b\b\b\b\b\b\b\b\b\b\b\b\b\b\b\b\b\b\b\b\b\b\b\b\r6200/6497 [===========================>..] - ETA: 0s - loss: 0.0465 - acc: 0.9873"
     ]
    },
    {
     "name": "stdout",
     "output_type": "stream",
     "text": [
      "\b\b\b\b\b\b\b\b\b\b\b\b\b\b\b\b\b\b\b\b\b\b\b\b\b\b\b\b\b\b\b\b\b\b\b\b\b\b\b\b\b\b\b\b\b\b\b\b\b\b\b\b\b\b\b\b\b\b\b\b\b\b\b\b\b\b\b\b\b\b\b\b\b\b\b\b\b\b\b\b\b"
     ]
    },
    {
     "name": "stdout",
     "output_type": "stream",
     "text": [
      "\r6497/6497 [==============================] - 0s 9us/step - loss: 0.0467 - acc: 0.9871\n"
     ]
    },
    {
     "name": "stdout",
     "output_type": "stream",
     "text": [
      "Epoch 140/200\n\r 200/6497 [..............................] - ETA: 0s - loss: 0.0648 - acc: 0.9800"
     ]
    },
    {
     "name": "stdout",
     "output_type": "stream",
     "text": [
      "\b\b\b\b\b\b\b\b\b\b\b\b\b\b\b\b\b\b\b\b\b\b\b\b\b\b\b\b\b\b\b\b\b\b\b\b\b\b\b\b\b\b\b\b\b\b\b\b\b\b\b\b\b\b\b\b\b\b\b\b\b\b\b\b\b\b\b\b\b\b\b\b\b\b\b\b\b\b\b\b\b\r6000/6497 [==========================>...] - ETA: 0s - loss: 0.0452 - acc: 0.9873"
     ]
    },
    {
     "name": "stdout",
     "output_type": "stream",
     "text": [
      "\b\b\b\b\b\b\b\b\b\b\b\b\b\b\b\b\b\b\b\b\b\b\b\b\b\b\b\b\b\b\b\b\b\b\b\b\b\b\b\b\b\b\b\b\b\b\b\b\b\b\b\b\b\b\b\b\b\b\b\b\b\b\b\b\b\b\b\b\b\b\b\b\b\b\b\b\b\b\b\b\b\r6497/6497 [==============================] - 0s 10us/step - loss: 0.0472 - acc: 0.9858\n"
     ]
    },
    {
     "name": "stdout",
     "output_type": "stream",
     "text": [
      "Epoch 141/200\n\r 200/6497 [..............................] - ETA: 0s - loss: 0.0509 - acc: 0.9950"
     ]
    },
    {
     "name": "stdout",
     "output_type": "stream",
     "text": [
      "\b\b\b\b\b\b\b\b\b\b\b\b\b\b\b\b\b\b\b\b\b\b\b\b\b\b\b\b\b\b\b\b\b\b\b\b\b\b\b\b\b\b\b\b\b\b\b\b\b\b\b\b\b\b\b\b\b\b\b\b\b\b\b\b\b\b\b\b\b\b\b\b\b\b\b\b\b\b\b\b\b"
     ]
    },
    {
     "name": "stdout",
     "output_type": "stream",
     "text": [
      "\r5800/6497 [=========================>....] - ETA: 0s - loss: 0.0493 - acc: 0.9852"
     ]
    },
    {
     "name": "stdout",
     "output_type": "stream",
     "text": [
      "\b\b\b\b\b\b\b\b\b\b\b\b\b\b\b\b\b\b\b\b\b\b\b\b\b\b\b\b\b\b\b\b\b\b\b\b\b\b\b\b\b\b\b\b\b\b\b\b\b\b\b\b\b\b\b\b\b\b\b\b\b\b\b\b\b\b\b\b\b\b\b\b\b\b\b\b\b\b\b\b\b\r6497/6497 [==============================] - 0s 12us/step - loss: 0.0480 - acc: 0.9858\n"
     ]
    },
    {
     "name": "stdout",
     "output_type": "stream",
     "text": [
      "Epoch 142/200\n\r 200/6497 [..............................] - ETA: 0s - loss: 0.0242 - acc: 0.9950"
     ]
    },
    {
     "name": "stdout",
     "output_type": "stream",
     "text": [
      "\b\b\b\b\b\b\b\b\b\b\b\b\b\b\b\b\b\b\b\b\b\b\b\b\b\b\b\b\b\b\b\b\b\b\b\b\b\b\b\b\b\b\b\b\b\b\b\b\b\b\b\b\b\b\b\b\b\b\b\b\b\b\b\b\b\b\b\b\b\b\b\b\b\b\b\b\b\b\b\b\b\r5000/6497 [======================>.......] - ETA: 0s - loss: 0.0425 - acc: 0.9878"
     ]
    },
    {
     "name": "stdout",
     "output_type": "stream",
     "text": [
      "\b\b\b\b\b\b\b\b\b\b\b\b\b\b\b\b\b\b\b\b\b\b\b\b\b\b\b\b\b\b\b\b\b\b\b\b\b\b\b\b\b\b\b\b\b\b\b\b\b\b\b\b\b\b\b\b\b\b\b\b\b\b\b\b\b\b\b\b\b\b\b\b\b\b\b\b\b\b\b\b\b\r6497/6497 [==============================] - 0s 12us/step - loss: 0.0452 - acc: 0.9874\n"
     ]
    },
    {
     "name": "stdout",
     "output_type": "stream",
     "text": [
      "Epoch 143/200\n\r 200/6497 [..............................] - ETA: 0s - loss: 0.0218 - acc: 0.9900"
     ]
    },
    {
     "name": "stdout",
     "output_type": "stream",
     "text": [
      "\b\b\b\b\b\b\b\b\b\b\b\b\b\b\b\b\b\b\b\b\b\b\b\b\b\b\b\b\b\b\b\b\b\b\b\b\b\b\b\b\b\b\b\b\b\b\b\b\b\b\b\b\b\b\b\b\b\b\b\b\b\b\b\b\b\b\b\b\b\b\b\b\b\b\b\b\b\b\b\b\b\r4200/6497 [==================>...........] - ETA: 0s - loss: 0.0451 - acc: 0.9883"
     ]
    },
    {
     "name": "stdout",
     "output_type": "stream",
     "text": [
      "\b\b\b\b\b\b\b\b\b\b\b\b\b\b\b\b\b\b\b\b\b\b\b\b\b\b\b\b\b\b\b\b\b\b\b\b\b\b\b\b\b\b\b\b\b\b\b\b\b\b\b\b\b\b\b\b\b\b\b\b\b\b\b\b\b\b\b\b\b\b\b\b\b\b\b\b\b\b\b\b\b\r6497/6497 [==============================] - 0s 12us/step - loss: 0.0497 - acc: 0.9871\n"
     ]
    },
    {
     "name": "stdout",
     "output_type": "stream",
     "text": [
      "Epoch 144/200\n\r 200/6497 [..............................] - ETA: 0s - loss: 0.0733 - acc: 0.9800"
     ]
    },
    {
     "name": "stdout",
     "output_type": "stream",
     "text": [
      "\b\b\b\b\b\b\b\b\b\b\b\b\b\b\b\b\b\b\b\b\b\b\b\b\b\b\b\b\b\b\b\b\b\b\b\b\b\b\b\b\b\b\b\b\b\b\b\b\b\b\b\b\b\b\b\b\b\b\b\b\b\b\b\b\b\b\b\b\b\b\b\b\b\b\b\b\b\b\b\b\b\r6000/6497 [==========================>...] - ETA: 0s - loss: 0.0513 - acc: 0.9857"
     ]
    },
    {
     "name": "stdout",
     "output_type": "stream",
     "text": [
      "\b\b\b\b\b\b\b\b\b\b\b\b\b\b\b\b\b\b\b\b\b\b\b\b\b\b\b\b\b\b\b\b\b\b\b\b\b\b\b\b\b\b\b\b\b\b\b\b\b\b\b\b\b\b\b\b\b\b\b\b\b\b\b\b\b\b\b\b\b\b\b\b\b\b\b\b\b\b\b\b\b\r6497/6497 [==============================] - 0s 10us/step - loss: 0.0488 - acc: 0.9863\n"
     ]
    },
    {
     "name": "stdout",
     "output_type": "stream",
     "text": [
      "Epoch 145/200\n\r 200/6497 [..............................] - ETA: 0s - loss: 0.0467 - acc: 0.9900"
     ]
    },
    {
     "name": "stdout",
     "output_type": "stream",
     "text": [
      "\b\b\b\b\b\b\b\b\b\b\b\b\b\b\b\b\b\b\b\b\b\b\b\b\b\b\b\b\b\b\b\b\b\b\b\b\b\b\b\b\b\b\b\b\b\b\b\b\b\b\b\b\b\b\b\b\b\b\b\b\b\b\b\b\b\b\b\b\b\b\b\b\b\b\b\b\b\b\b\b\b\r6497/6497 [==============================] - 0s 8us/step - loss: 0.0526 - acc: 0.9846\n"
     ]
    },
    {
     "name": "stdout",
     "output_type": "stream",
     "text": [
      "Epoch 146/200\n\r 200/6497 [..............................] - ETA: 0s - loss: 0.0262 - acc: 0.9900"
     ]
    },
    {
     "name": "stdout",
     "output_type": "stream",
     "text": [
      "\b\b\b\b\b\b\b\b\b\b\b\b\b\b\b\b\b\b\b\b\b\b\b\b\b\b\b\b\b\b\b\b\b\b\b\b\b\b\b\b\b\b\b\b\b\b\b\b\b\b\b\b\b\b\b\b\b\b\b\b\b\b\b\b\b\b\b\b\b\b\b\b\b\b\b\b\b\b\b\b\b\r6400/6497 [============================>.] - ETA: 0s - loss: 0.0560 - acc: 0.9814"
     ]
    },
    {
     "name": "stdout",
     "output_type": "stream",
     "text": [
      "\b\b\b\b\b\b\b\b\b\b\b\b\b\b\b\b\b\b\b\b\b\b\b\b\b\b\b\b\b\b\b\b\b\b\b\b\b\b\b\b\b\b\b\b\b\b\b\b\b\b\b\b\b\b\b\b\b\b\b\b\b\b\b\b\b\b\b\b\b\b\b\b\b\b\b\b\b\b\b\b\b\r6497/6497 [==============================] - 0s 10us/step - loss: 0.0555 - acc: 0.9815\n"
     ]
    },
    {
     "name": "stdout",
     "output_type": "stream",
     "text": [
      "Epoch 147/200\n\r 200/6497 [..............................] - ETA: 0s - loss: 0.0696 - acc: 0.9800"
     ]
    },
    {
     "name": "stdout",
     "output_type": "stream",
     "text": [
      "\b\b\b\b\b\b\b\b\b\b\b\b\b\b\b\b\b\b\b\b\b\b\b\b\b\b\b\b\b\b\b\b\b\b\b\b\b\b\b\b\b\b\b\b\b\b\b\b\b\b\b\b\b\b\b\b\b\b\b\b\b\b\b\b\b\b\b\b\b\b\b\b\b\b\b\b\b\b\b\b\b\r6497/6497 [==============================] - 0s 8us/step - loss: 0.0504 - acc: 0.9857\n"
     ]
    },
    {
     "name": "stdout",
     "output_type": "stream",
     "text": [
      "Epoch 148/200\n\r 200/6497 [..............................] - ETA: 0s - loss: 0.0294 - acc: 0.9950"
     ]
    },
    {
     "name": "stdout",
     "output_type": "stream",
     "text": [
      "\b\b\b\b\b\b\b\b\b\b\b\b\b\b\b\b\b\b\b\b\b\b\b\b\b\b\b\b\b\b\b\b\b\b\b\b\b\b\b\b\b\b\b\b\b\b\b\b\b\b\b\b\b\b\b\b\b\b\b\b\b\b\b\b\b\b\b\b\b\b\b\b\b\b\b\b\b\b\b\b\b\r6497/6497 [==============================] - 0s 8us/step - loss: 0.0446 - acc: 0.9877\n"
     ]
    },
    {
     "name": "stdout",
     "output_type": "stream",
     "text": [
      "Epoch 149/200\n\r 200/6497 [..............................] - ETA: 0s - loss: 0.0189 - acc: 0.9950"
     ]
    },
    {
     "name": "stdout",
     "output_type": "stream",
     "text": [
      "\b\b\b\b\b\b\b\b\b\b\b\b\b\b\b\b\b\b\b\b\b\b\b\b\b\b\b\b\b\b\b\b\b\b\b\b\b\b\b\b\b\b\b\b\b\b\b\b\b\b\b\b\b\b\b\b\b\b\b\b\b\b\b\b\b\b\b\b\b\b\b\b\b\b\b\b\b\b\b\b\b"
     ]
    },
    {
     "name": "stdout",
     "output_type": "stream",
     "text": [
      "\r6000/6497 [==========================>...] - ETA: 0s - loss: 0.0448 - acc: 0.9878"
     ]
    },
    {
     "name": "stdout",
     "output_type": "stream",
     "text": [
      "\b\b\b\b\b\b\b\b\b\b\b\b\b\b\b\b\b\b\b\b\b\b\b\b\b\b\b\b\b\b\b\b\b\b\b\b\b\b\b\b\b\b\b\b\b\b\b\b\b\b\b\b\b\b\b\b\b\b\b\b\b\b\b\b\b\b\b\b\b\b\b\b\b\b\b\b\b\b\b\b\b\r6497/6497 [==============================] - 0s 9us/step - loss: 0.0474 - acc: 0.9869\n"
     ]
    },
    {
     "name": "stdout",
     "output_type": "stream",
     "text": [
      "Epoch 150/200\n\r 200/6497 [..............................] - ETA: 0s - loss: 0.0588 - acc: 0.9800"
     ]
    },
    {
     "name": "stdout",
     "output_type": "stream",
     "text": [
      "\b\b\b\b\b\b\b\b\b\b\b\b\b\b\b\b\b\b\b\b\b\b\b\b\b\b\b\b\b\b\b\b\b\b\b\b\b\b\b\b\b\b\b\b\b\b\b\b\b\b\b\b\b\b\b\b\b\b\b\b\b\b\b\b\b\b\b\b\b\b\b\b\b\b\b\b\b\b\b\b\b\r6497/6497 [==============================] - 0s 9us/step - loss: 0.0493 - acc: 0.9865\n"
     ]
    },
    {
     "name": "stdout",
     "output_type": "stream",
     "text": [
      "Epoch 151/200\n\r 200/6497 [..............................] - ETA: 0s - loss: 0.0260 - acc: 0.9950"
     ]
    },
    {
     "name": "stdout",
     "output_type": "stream",
     "text": [
      "\b\b\b\b\b\b\b\b\b\b\b\b\b\b\b\b\b\b\b\b\b\b\b\b\b\b\b\b\b\b\b\b\b\b\b\b\b\b\b\b\b\b\b\b\b\b\b\b\b\b\b\b\b\b\b\b\b\b\b\b\b\b\b\b\b\b\b\b\b\b\b\b\b\b\b\b\b\b\b\b\b\r6200/6497 [===========================>..] - ETA: 0s - loss: 0.0456 - acc: 0.9877"
     ]
    },
    {
     "name": "stdout",
     "output_type": "stream",
     "text": [
      "\b\b\b\b\b\b\b\b\b\b\b\b\b\b\b\b\b\b\b\b\b\b\b\b\b\b\b\b\b\b\b\b\b\b\b\b\b\b\b\b\b\b\b\b\b\b\b\b\b\b\b\b\b\b\b\b\b\b\b\b\b\b\b\b\b\b\b\b\b\b\b\b\b\b\b\b\b\b\b\b\b\r6497/6497 [==============================] - 0s 9us/step - loss: 0.0464 - acc: 0.9871\n"
     ]
    },
    {
     "name": "stdout",
     "output_type": "stream",
     "text": [
      "Epoch 152/200\n\r 200/6497 [..............................] - ETA: 0s - loss: 0.0610 - acc: 0.9850"
     ]
    },
    {
     "name": "stdout",
     "output_type": "stream",
     "text": [
      "\b\b\b\b\b\b\b\b\b\b\b\b\b\b\b\b\b\b\b\b\b\b\b\b\b\b\b\b\b\b\b\b\b\b\b\b\b\b\b\b\b\b\b\b\b\b\b\b\b\b\b\b\b\b\b\b\b\b\b\b\b\b\b\b\b\b\b\b\b\b\b\b\b\b\b\b\b\b\b\b\b\r6497/6497 [==============================] - 0s 8us/step - loss: 0.0479 - acc: 0.9863\n"
     ]
    },
    {
     "name": "stdout",
     "output_type": "stream",
     "text": [
      "Epoch 153/200\n\r 200/6497 [..............................] - ETA: 0s - loss: 0.0539 - acc: 0.9800"
     ]
    },
    {
     "name": "stdout",
     "output_type": "stream",
     "text": [
      "\b\b\b\b\b\b\b\b\b\b\b\b\b\b\b\b\b\b\b\b\b\b\b\b\b\b\b\b\b\b\b\b\b\b\b\b\b\b\b\b\b\b\b\b\b\b\b\b\b\b\b\b\b\b\b\b\b\b\b\b\b\b\b\b\b\b\b\b\b\b\b\b\b\b\b\b\b\b\b\b\b\r6200/6497 [===========================>..] - ETA: 0s - loss: 0.0441 - acc: 0.9871"
     ]
    },
    {
     "name": "stdout",
     "output_type": "stream",
     "text": [
      "\b\b\b\b\b\b\b\b\b\b\b\b\b\b\b\b\b\b\b\b\b\b\b\b\b\b\b\b\b\b\b\b\b\b\b\b\b\b\b\b\b\b\b\b\b\b\b\b\b\b\b\b\b\b\b\b\b\b\b\b\b\b\b\b\b\b\b\b\b\b\b\b\b\b\b\b\b\b\b\b\b\r6497/6497 [==============================] - 0s 9us/step - loss: 0.0455 - acc: 0.9869\n"
     ]
    },
    {
     "name": "stdout",
     "output_type": "stream",
     "text": [
      "Epoch 154/200\n\r 200/6497 [..............................] - ETA: 0s - loss: 0.0837 - acc: 0.9800"
     ]
    },
    {
     "name": "stdout",
     "output_type": "stream",
     "text": [
      "\b\b\b\b\b\b\b\b\b\b\b\b\b\b\b\b\b\b\b\b\b\b\b\b\b\b\b\b\b\b\b\b\b\b\b\b\b\b\b\b\b\b\b\b\b\b\b\b\b\b\b\b\b\b\b\b\b\b\b\b\b\b\b\b\b\b\b\b\b\b\b\b\b\b\b\b\b\b\b\b\b\r6497/6497 [==============================] - 0s 8us/step - loss: 0.0441 - acc: 0.9874\n"
     ]
    },
    {
     "name": "stdout",
     "output_type": "stream",
     "text": [
      "Epoch 155/200\n\r 200/6497 [..............................] - ETA: 0s - loss: 0.0701 - acc: 0.9800"
     ]
    },
    {
     "name": "stdout",
     "output_type": "stream",
     "text": [
      "\b\b\b\b\b\b\b\b\b\b\b\b\b\b\b\b\b\b\b\b\b\b\b\b\b\b\b\b\b\b\b\b\b\b\b\b\b\b\b\b\b\b\b\b\b\b\b\b\b\b\b\b\b\b\b\b\b\b\b\b\b\b\b\b\b\b\b\b\b\b\b\b\b\b\b\b\b\b\b\b\b\r6000/6497 [==========================>...] - ETA: 0s - loss: 0.0461 - acc: 0.9872"
     ]
    },
    {
     "name": "stdout",
     "output_type": "stream",
     "text": [
      "\b\b\b\b\b\b\b\b\b\b\b\b\b\b\b\b\b\b\b\b\b\b\b\b\b\b\b\b\b\b\b\b\b\b\b\b\b\b\b\b\b\b\b\b\b\b\b\b\b\b\b\b\b\b\b\b\b\b\b\b\b\b\b\b\b\b\b\b\b\b\b\b\b\b\b\b\b\b\b\b\b\r6497/6497 [==============================] - 0s 9us/step - loss: 0.0452 - acc: 0.9872\n"
     ]
    },
    {
     "name": "stdout",
     "output_type": "stream",
     "text": [
      "Epoch 156/200\n\r 200/6497 [..............................] - ETA: 0s - loss: 0.0174 - acc: 0.9900"
     ]
    },
    {
     "name": "stdout",
     "output_type": "stream",
     "text": [
      "\b\b\b\b\b\b\b\b\b\b\b\b\b\b\b\b\b\b\b\b\b\b\b\b\b\b\b\b\b\b\b\b\b\b\b\b\b\b\b\b\b\b\b\b\b\b\b\b\b\b\b\b\b\b\b\b\b\b\b\b\b\b\b\b\b\b\b\b\b\b\b\b\b\b\b\b\b\b\b\b\b\r6497/6497 [==============================] - 0s 8us/step - loss: 0.0450 - acc: 0.9871\n"
     ]
    },
    {
     "name": "stdout",
     "output_type": "stream",
     "text": [
      "Epoch 157/200\n\r 200/6497 [..............................] - ETA: 0s - loss: 0.0331 - acc: 0.9800"
     ]
    },
    {
     "name": "stdout",
     "output_type": "stream",
     "text": [
      "\b\b\b\b\b\b\b\b\b\b\b\b\b\b\b\b\b\b\b\b\b\b\b\b\b\b\b\b\b\b\b\b\b\b\b\b\b\b\b\b\b\b\b\b\b\b\b\b\b\b\b\b\b\b\b\b\b\b\b\b\b\b\b\b\b\b\b\b\b\b\b\b\b\b\b\b\b\b\b\b\b\r6200/6497 [===========================>..] - ETA: 0s - loss: 0.0537 - acc: 0.9853"
     ]
    },
    {
     "name": "stdout",
     "output_type": "stream",
     "text": [
      "\b\b\b\b\b\b\b\b\b\b\b\b\b\b\b\b\b\b\b\b\b\b\b\b\b\b\b\b\b\b\b\b\b\b\b\b\b\b\b\b\b\b\b\b\b\b\b\b\b\b\b\b\b\b\b\b\b\b\b\b\b\b\b\b\b\b\b\b\b\b\b\b\b\b\b\b\b\b\b\b\b\r6497/6497 [==============================] - 0s 10us/step - loss: 0.0531 - acc: 0.9857\n"
     ]
    },
    {
     "name": "stdout",
     "output_type": "stream",
     "text": [
      "Epoch 158/200\n\r 200/6497 [..............................] - ETA: 0s - loss: 0.0867 - acc: 0.9750"
     ]
    },
    {
     "name": "stdout",
     "output_type": "stream",
     "text": [
      "\b\b\b\b\b\b\b\b\b\b\b\b\b\b\b\b\b\b\b\b\b\b\b\b\b\b\b\b\b\b\b\b\b\b\b\b\b\b\b\b\b\b\b\b\b\b\b\b\b\b\b\b\b\b\b\b\b\b\b\b\b\b\b\b\b\b\b\b\b\b\b\b\b\b\b\b\b\b\b\b\b\r6497/6497 [==============================] - 0s 8us/step - loss: 0.0493 - acc: 0.9855\n"
     ]
    },
    {
     "name": "stdout",
     "output_type": "stream",
     "text": [
      "Epoch 159/200\n\r 200/6497 [..............................] - ETA: 0s - loss: 0.0422 - acc: 0.9900"
     ]
    },
    {
     "name": "stdout",
     "output_type": "stream",
     "text": [
      "\b\b\b\b\b\b\b\b\b\b\b\b\b\b\b\b\b\b\b\b\b\b\b\b\b\b\b\b\b\b\b\b\b\b\b\b\b\b\b\b\b\b\b\b\b\b\b\b\b\b\b\b\b\b\b\b\b\b\b\b\b\b\b\b\b\b\b\b\b\b\b\b\b\b\b\b\b\b\b\b\b\r6497/6497 [==============================] - 0s 8us/step - loss: 0.0449 - acc: 0.9868\n"
     ]
    },
    {
     "name": "stdout",
     "output_type": "stream",
     "text": [
      "Epoch 160/200\n\r 200/6497 [..............................] - ETA: 0s - loss: 0.0286 - acc: 0.9900"
     ]
    },
    {
     "name": "stdout",
     "output_type": "stream",
     "text": [
      "\b\b\b\b\b\b\b\b\b\b\b\b\b\b\b\b\b\b\b\b\b\b\b\b\b\b\b\b\b\b\b\b\b\b\b\b\b\b\b\b\b\b\b\b\b\b\b\b\b\b\b\b\b\b\b\b\b\b\b\b\b\b\b\b\b\b\b\b\b\b\b\b\b\b\b\b\b\b\b\b\b\r6200/6497 [===========================>..] - ETA: 0s - loss: 0.0603 - acc: 0.9806"
     ]
    },
    {
     "name": "stdout",
     "output_type": "stream",
     "text": [
      "\b\b\b\b\b\b\b\b\b\b\b\b\b\b\b\b\b\b\b\b\b\b\b\b\b\b\b\b\b\b\b\b\b\b\b\b\b\b\b\b\b\b\b\b\b\b\b\b\b\b\b\b\b\b\b\b\b\b\b\b\b\b\b\b\b\b\b\b\b\b\b\b\b\b\b\b\b\b\b\b\b\r6497/6497 [==============================] - 0s 9us/step - loss: 0.0608 - acc: 0.9808\n"
     ]
    },
    {
     "name": "stdout",
     "output_type": "stream",
     "text": [
      "Epoch 161/200\n\r 200/6497 [..............................] - ETA: 0s - loss: 0.1412 - acc: 0.9700"
     ]
    },
    {
     "name": "stdout",
     "output_type": "stream",
     "text": [
      "\b\b\b\b\b\b\b\b\b\b\b\b\b\b\b\b\b\b\b\b\b\b\b\b\b\b\b\b\b\b\b\b\b\b\b\b\b\b\b\b\b\b\b\b\b\b\b\b\b\b\b\b\b\b\b\b\b\b\b\b\b\b\b\b\b\b\b\b\b\b\b\b\b\b\b\b\b\b\b\b\b\r6497/6497 [==============================] - 0s 8us/step - loss: 0.0450 - acc: 0.9880\n"
     ]
    },
    {
     "name": "stdout",
     "output_type": "stream",
     "text": [
      "Epoch 162/200\n\r 200/6497 [..............................] - ETA: 0s - loss: 0.0123 - acc: 0.9950"
     ]
    },
    {
     "name": "stdout",
     "output_type": "stream",
     "text": [
      "\b\b\b\b\b\b\b\b\b\b\b\b\b\b\b\b\b\b\b\b\b\b\b\b\b\b\b\b\b\b\b\b\b\b\b\b\b\b\b\b\b\b\b\b\b\b\b\b\b\b\b\b\b\b\b\b\b\b\b\b\b\b\b\b\b\b\b\b\b\b\b\b\b\b\b\b\b\b\b\b\b\r6200/6497 [===========================>..] - ETA: 0s - loss: 0.0417 - acc: 0.9885"
     ]
    },
    {
     "name": "stdout",
     "output_type": "stream",
     "text": [
      "\b\b\b\b\b\b\b\b\b\b\b\b\b\b\b\b\b\b\b\b\b\b\b\b\b\b\b\b\b\b\b\b\b\b\b\b\b\b\b\b\b\b\b\b\b\b\b\b\b\b\b\b\b\b\b\b\b\b\b\b\b\b\b\b\b\b\b\b\b\b\b\b\b\b\b\b\b\b\b\b\b\r6497/6497 [==============================] - 0s 9us/step - loss: 0.0453 - acc: 0.9880\n"
     ]
    },
    {
     "name": "stdout",
     "output_type": "stream",
     "text": [
      "Epoch 163/200\n"
     ]
    },
    {
     "name": "stdout",
     "output_type": "stream",
     "text": [
      "\r 200/6497 [..............................] - ETA: 0s - loss: 0.0440 - acc: 0.9850"
     ]
    },
    {
     "name": "stdout",
     "output_type": "stream",
     "text": [
      "\b\b\b\b\b\b\b\b\b\b\b\b\b\b\b\b\b\b\b\b\b\b\b\b\b\b\b\b\b\b\b\b\b\b\b\b\b\b\b\b\b\b\b\b\b\b\b\b\b\b\b\b\b\b\b\b\b\b\b\b\b\b\b\b\b\b\b\b\b\b\b\b\b\b\b\b\b\b\b\b\b\r6400/6497 [============================>.] - ETA: 0s - loss: 0.0447 - acc: 0.9875"
     ]
    },
    {
     "name": "stdout",
     "output_type": "stream",
     "text": [
      "\b\b\b\b\b\b\b\b\b\b\b\b\b\b\b\b\b\b\b\b\b\b\b\b\b\b\b\b\b\b\b\b\b\b\b\b\b\b\b\b\b\b\b\b\b\b\b\b\b\b\b\b\b\b\b\b\b\b\b\b\b\b\b\b\b\b\b\b\b\b\b\b\b\b\b\b\b\b\b\b\b\r6497/6497 [==============================] - 0s 9us/step - loss: 0.0449 - acc: 0.9874\n"
     ]
    },
    {
     "name": "stdout",
     "output_type": "stream",
     "text": [
      "Epoch 164/200\n\r 200/6497 [..............................] - ETA: 0s - loss: 0.0740 - acc: 0.9750"
     ]
    },
    {
     "name": "stdout",
     "output_type": "stream",
     "text": [
      "\b\b\b\b\b\b\b\b\b\b\b\b\b\b\b\b\b\b\b\b\b\b\b\b\b\b\b\b\b\b\b\b\b\b\b\b\b\b\b\b\b\b\b\b\b\b\b\b\b\b\b\b\b\b\b\b\b\b\b\b\b\b\b\b\b\b\b\b\b\b\b\b\b\b\b\b\b\b\b\b\b\r5800/6497 [=========================>....] - ETA: 0s - loss: 0.0442 - acc: 0.9874"
     ]
    },
    {
     "name": "stdout",
     "output_type": "stream",
     "text": [
      "\b\b\b\b\b\b\b\b\b\b\b\b\b\b\b\b\b\b\b\b\b\b\b\b\b\b\b\b\b\b\b\b\b\b\b\b\b\b\b\b\b\b\b\b\b\b\b\b\b\b\b\b\b\b\b\b\b\b\b\b\b\b\b\b\b\b\b\b\b\b\b\b\b\b\b\b\b\b\b\b\b\r6497/6497 [==============================] - 0s 10us/step - loss: 0.0435 - acc: 0.9877\n"
     ]
    },
    {
     "name": "stdout",
     "output_type": "stream",
     "text": [
      "Epoch 165/200\n\r 200/6497 [..............................] - ETA: 0s - loss: 0.0244 - acc: 1.0000"
     ]
    },
    {
     "name": "stdout",
     "output_type": "stream",
     "text": [
      "\b\b\b\b\b\b\b\b\b\b\b\b\b\b\b\b\b\b\b\b\b\b\b\b\b\b\b\b\b\b\b\b\b\b\b\b\b\b\b\b\b\b\b\b\b\b\b\b\b\b\b\b\b\b\b\b\b\b\b\b\b\b\b\b\b\b\b\b\b\b\b\b\b\b\b\b\b\b\b\b\b\r6400/6497 [============================>.] - ETA: 0s - loss: 0.0452 - acc: 0.9866"
     ]
    },
    {
     "name": "stdout",
     "output_type": "stream",
     "text": [
      "\b\b\b\b\b\b\b\b\b\b\b\b\b\b\b\b\b\b\b\b\b\b\b\b\b\b\b\b\b\b\b\b\b\b\b\b\b\b\b\b\b\b\b\b\b\b\b\b\b\b\b\b\b\b\b\b\b\b\b\b\b\b\b\b\b\b\b\b\b\b\b\b\b\b\b\b\b\b\b\b\b\r6497/6497 [==============================] - 0s 9us/step - loss: 0.0460 - acc: 0.9865\n"
     ]
    },
    {
     "name": "stdout",
     "output_type": "stream",
     "text": [
      "Epoch 166/200\n\r 200/6497 [..............................] - ETA: 0s - loss: 0.0905 - acc: 0.9750"
     ]
    },
    {
     "name": "stdout",
     "output_type": "stream",
     "text": [
      "\b\b\b\b\b\b\b\b\b\b\b\b\b\b\b\b\b\b\b\b\b\b\b\b\b\b\b\b\b\b\b\b\b\b\b\b\b\b\b\b\b\b\b\b\b\b\b\b\b\b\b\b\b\b\b\b\b\b\b\b\b\b\b\b\b\b\b\b\b\b\b\b\b\b\b\b\b\b\b\b\b\r6000/6497 [==========================>...] - ETA: 0s - loss: 0.0532 - acc: 0.9847"
     ]
    },
    {
     "name": "stdout",
     "output_type": "stream",
     "text": [
      "\b\b\b\b\b\b\b\b\b\b\b\b\b\b\b\b\b\b\b\b\b\b\b\b\b\b\b\b\b\b\b\b\b\b\b\b\b\b\b\b\b\b\b\b\b\b\b\b\b\b\b\b\b\b\b\b\b\b\b\b\b\b\b\b\b\b\b\b\b\b\b\b\b\b\b\b\b\b\b\b\b\r6497/6497 [==============================] - 0s 9us/step - loss: 0.0551 - acc: 0.9838\n"
     ]
    },
    {
     "name": "stdout",
     "output_type": "stream",
     "text": [
      "Epoch 167/200\n\r 200/6497 [..............................] - ETA: 0s - loss: 0.1358 - acc: 0.9650"
     ]
    },
    {
     "name": "stdout",
     "output_type": "stream",
     "text": [
      "\b\b\b\b\b\b\b\b\b\b\b\b\b\b\b\b\b\b\b\b\b\b\b\b\b\b\b\b\b\b\b\b\b\b\b\b\b\b\b\b\b\b\b\b\b\b\b\b\b\b\b\b\b\b\b\b\b\b\b\b\b\b\b\b\b\b\b\b\b\b\b\b\b\b\b\b\b\b\b\b\b\r6497/6497 [==============================] - 0s 8us/step - loss: 0.0480 - acc: 0.9868\n"
     ]
    },
    {
     "name": "stdout",
     "output_type": "stream",
     "text": [
      "Epoch 168/200\n"
     ]
    },
    {
     "name": "stdout",
     "output_type": "stream",
     "text": [
      "\r 200/6497 [..............................] - ETA: 0s - loss: 0.0169 - acc: 0.9950"
     ]
    },
    {
     "name": "stdout",
     "output_type": "stream",
     "text": [
      "\b\b\b\b\b\b\b\b\b\b\b\b\b\b\b\b\b\b\b\b\b\b\b\b\b\b\b\b\b\b\b\b\b\b\b\b\b\b\b\b\b\b\b\b\b\b\b\b\b\b\b\b\b\b\b\b\b\b\b\b\b\b\b\b\b\b\b\b\b\b\b\b\b\b\b\b\b\b\b\b\b\r6400/6497 [============================>.] - ETA: 0s - loss: 0.0442 - acc: 0.9875"
     ]
    },
    {
     "name": "stdout",
     "output_type": "stream",
     "text": [
      "\b\b\b\b\b\b\b\b\b\b\b\b\b\b\b\b\b\b\b\b\b\b\b\b\b\b\b\b\b\b\b\b\b\b\b\b\b\b\b\b\b\b\b\b\b\b\b\b\b\b\b\b\b\b\b\b\b\b\b\b\b\b\b\b\b\b\b\b\b\b\b\b\b\b\b\b\b\b\b\b\b\r6497/6497 [==============================] - 0s 9us/step - loss: 0.0441 - acc: 0.9874\n"
     ]
    },
    {
     "name": "stdout",
     "output_type": "stream",
     "text": [
      "Epoch 169/200\n\r 200/6497 [..............................] - ETA: 0s - loss: 0.0341 - acc: 0.9850"
     ]
    },
    {
     "name": "stdout",
     "output_type": "stream",
     "text": [
      "\b\b\b\b\b\b\b\b\b\b\b\b\b\b\b\b\b\b\b\b\b\b\b\b\b\b\b\b\b\b\b\b\b\b\b\b\b\b\b\b\b\b\b\b\b\b\b\b\b\b\b\b\b\b\b\b\b\b\b\b\b\b\b\b\b\b\b\b\b\b\b\b\b\b\b\b\b\b\b\b\b\r6400/6497 [============================>.] - ETA: 0s - loss: 0.0504 - acc: 0.9848"
     ]
    },
    {
     "name": "stdout",
     "output_type": "stream",
     "text": [
      "\b\b\b\b\b\b\b\b\b\b\b\b\b\b\b\b\b\b\b\b\b\b\b\b\b\b\b\b\b\b\b\b\b\b\b\b\b\b\b\b\b\b\b\b\b\b\b\b\b\b\b\b\b\b\b\b\b\b\b\b\b\b\b\b\b\b\b\b\b\b\b\b\b\b\b\b\b\b\b\b\b\r6497/6497 [==============================] - 0s 9us/step - loss: 0.0498 - acc: 0.9851\n"
     ]
    },
    {
     "name": "stdout",
     "output_type": "stream",
     "text": [
      "Epoch 170/200\n\r 200/6497 [..............................] - ETA: 0s - loss: 0.0889 - acc: 0.9700"
     ]
    },
    {
     "name": "stdout",
     "output_type": "stream",
     "text": [
      "\b\b\b\b\b\b\b\b\b\b\b\b\b\b\b\b\b\b\b\b\b\b\b\b\b\b\b\b\b\b\b\b\b\b\b\b\b\b\b\b\b\b\b\b\b\b\b\b\b\b\b\b\b\b\b\b\b\b\b\b\b\b\b\b\b\b\b\b\b\b\b\b\b\b\b\b\b\b\b\b\b\r6200/6497 [===========================>..] - ETA: 0s - loss: 0.0513 - acc: 0.9852"
     ]
    },
    {
     "name": "stdout",
     "output_type": "stream",
     "text": [
      "\b\b\b\b\b\b\b\b\b\b\b\b\b\b\b\b\b\b\b\b\b\b\b\b\b\b\b\b\b\b\b\b\b\b\b\b\b\b\b\b\b\b\b\b\b\b\b\b\b\b\b\b\b\b\b\b\b\b\b\b\b\b\b\b\b\b\b\b\b\b\b\b\b\b\b\b\b\b\b\b\b\r6497/6497 [==============================] - 0s 9us/step - loss: 0.0535 - acc: 0.9846\n"
     ]
    },
    {
     "name": "stdout",
     "output_type": "stream",
     "text": [
      "Epoch 171/200\n\r 200/6497 [..............................] - ETA: 0s - loss: 0.0347 - acc: 0.9800"
     ]
    },
    {
     "name": "stdout",
     "output_type": "stream",
     "text": [
      "\b\b\b\b\b\b\b\b\b\b\b\b\b\b\b\b\b\b\b\b\b\b\b\b\b\b\b\b\b\b\b\b\b\b\b\b\b\b\b\b\b\b\b\b\b\b\b\b\b\b\b\b\b\b\b\b\b\b\b\b\b\b\b\b\b\b\b\b\b\b\b\b\b\b\b\b\b\b\b\b\b\r6000/6497 [==========================>...] - ETA: 0s - loss: 0.0445 - acc: 0.9857"
     ]
    },
    {
     "name": "stdout",
     "output_type": "stream",
     "text": [
      "\b\b\b\b\b\b\b\b\b\b\b\b\b\b\b\b\b\b\b\b\b\b\b\b\b\b\b\b\b\b\b\b\b\b\b\b\b\b\b\b\b\b\b\b\b\b\b\b\b\b\b\b\b\b\b\b\b\b\b\b\b\b\b\b\b\b\b\b\b\b\b\b\b\b\b\b\b\b\b\b\b\r6497/6497 [==============================] - 0s 9us/step - loss: 0.0474 - acc: 0.9858\n"
     ]
    },
    {
     "name": "stdout",
     "output_type": "stream",
     "text": [
      "Epoch 172/200\n\r 200/6497 [..............................] - ETA: 0s - loss: 0.0538 - acc: 0.9850"
     ]
    },
    {
     "name": "stdout",
     "output_type": "stream",
     "text": [
      "\b\b\b\b\b\b\b\b\b\b\b\b\b\b\b\b\b\b\b\b\b\b\b\b\b\b\b\b\b\b\b\b\b\b\b\b\b\b\b\b\b\b\b\b\b\b\b\b\b\b\b\b\b\b\b\b\b\b\b\b\b\b\b\b\b\b\b\b\b\b\b\b\b\b\b\b\b\b\b\b\b\r6497/6497 [==============================] - 0s 8us/step - loss: 0.0427 - acc: 0.9872\n"
     ]
    },
    {
     "name": "stdout",
     "output_type": "stream",
     "text": [
      "Epoch 173/200\n\r 200/6497 [..............................] - ETA: 0s - loss: 0.0487 - acc: 0.9800"
     ]
    },
    {
     "name": "stdout",
     "output_type": "stream",
     "text": [
      "\b\b\b\b\b\b\b\b\b\b\b\b\b\b\b\b\b\b\b\b\b\b\b\b\b\b\b\b\b\b\b\b\b\b\b\b\b\b\b\b\b\b\b\b\b\b\b\b\b\b\b\b\b\b\b\b\b\b\b\b\b\b\b\b\b\b\b\b\b\b\b\b\b\b\b\b\b\b\b\b\b\r6200/6497 [===========================>..] - ETA: 0s - loss: 0.0492 - acc: 0.9865"
     ]
    },
    {
     "name": "stdout",
     "output_type": "stream",
     "text": [
      "\b\b\b\b\b\b\b\b\b\b\b\b\b\b\b\b\b\b\b\b\b\b\b\b\b\b\b\b\b\b\b\b\b\b\b\b\b\b\b\b\b\b\b\b\b\b\b\b\b\b\b\b\b\b\b\b\b\b\b\b\b\b\b\b\b\b\b\b\b\b\b\b\b\b\b\b\b\b\b\b\b\r6497/6497 [==============================] - 0s 9us/step - loss: 0.0484 - acc: 0.9865\n"
     ]
    },
    {
     "name": "stdout",
     "output_type": "stream",
     "text": [
      "Epoch 174/200\n\r 200/6497 [..............................] - ETA: 0s - loss: 0.0581 - acc: 0.9800"
     ]
    },
    {
     "name": "stdout",
     "output_type": "stream",
     "text": [
      "\b\b\b\b\b\b\b\b\b\b\b\b\b\b\b\b\b\b\b\b\b\b\b\b\b\b\b\b\b\b\b\b\b\b\b\b\b\b\b\b\b\b\b\b\b\b\b\b\b\b\b\b\b\b\b\b\b\b\b\b\b\b\b\b\b\b\b\b\b\b\b\b\b\b\b\b\b\b\b\b\b\r6400/6497 [============================>.] - ETA: 0s - loss: 0.0460 - acc: 0.9877"
     ]
    },
    {
     "name": "stdout",
     "output_type": "stream",
     "text": [
      "\b\b\b\b\b\b\b\b\b\b\b\b\b\b\b\b\b\b\b\b\b\b\b\b\b\b\b\b\b\b\b\b\b\b\b\b\b\b\b\b\b\b\b\b\b\b\b\b\b\b\b\b\b\b\b\b\b\b\b\b\b\b\b\b\b\b\b\b\b\b\b\b\b\b\b\b\b\b\b\b\b\r6497/6497 [==============================] - 0s 9us/step - loss: 0.0459 - acc: 0.9877\n"
     ]
    },
    {
     "name": "stdout",
     "output_type": "stream",
     "text": [
      "Epoch 175/200\n\r 200/6497 [..............................] - ETA: 0s - loss: 0.0440 - acc: 0.9900"
     ]
    },
    {
     "name": "stdout",
     "output_type": "stream",
     "text": [
      "\b\b\b\b\b\b\b\b\b\b\b\b\b\b\b\b\b\b\b\b\b\b\b\b\b\b\b\b\b\b\b\b\b\b\b\b\b\b\b\b\b\b\b\b\b\b\b\b\b\b\b\b\b\b\b\b\b\b\b\b\b\b\b\b\b\b\b\b\b\b\b\b\b\b\b\b\b\b\b\b\b\r6000/6497 [==========================>...] - ETA: 0s - loss: 0.0429 - acc: 0.9893"
     ]
    },
    {
     "name": "stdout",
     "output_type": "stream",
     "text": [
      "\b\b\b\b\b\b\b\b\b\b\b\b\b\b\b\b\b\b\b\b\b\b\b\b\b\b\b\b\b\b\b\b\b\b\b\b\b\b\b\b\b\b\b\b\b\b\b\b\b\b\b\b\b\b\b\b\b\b\b\b\b\b\b\b\b\b\b\b\b\b\b\b\b\b\b\b\b\b\b\b\b\r6497/6497 [==============================] - 0s 9us/step - loss: 0.0426 - acc: 0.9886\n"
     ]
    },
    {
     "name": "stdout",
     "output_type": "stream",
     "text": [
      "Epoch 176/200\n\r 200/6497 [..............................] - ETA: 0s - loss: 0.0152 - acc: 1.0000"
     ]
    },
    {
     "name": "stdout",
     "output_type": "stream",
     "text": [
      "\b\b\b\b\b\b\b\b\b\b\b\b\b\b\b\b\b\b\b\b\b\b\b\b\b\b\b\b\b\b\b\b\b\b\b\b\b\b\b\b\b\b\b\b\b\b\b\b\b\b\b\b\b\b\b\b\b\b\b\b\b\b\b\b\b\b\b\b\b\b\b\b\b\b\b\b\b\b\b\b\b\r6497/6497 [==============================] - 0s 8us/step - loss: 0.0454 - acc: 0.9877\n"
     ]
    },
    {
     "name": "stdout",
     "output_type": "stream",
     "text": [
      "Epoch 177/200\n\r 200/6497 [..............................] - ETA: 0s - loss: 0.0186 - acc: 0.9950"
     ]
    },
    {
     "name": "stdout",
     "output_type": "stream",
     "text": [
      "\b\b\b\b\b\b\b\b\b\b\b\b\b\b\b\b\b\b\b\b\b\b\b\b\b\b\b\b\b\b\b\b\b\b\b\b\b\b\b\b\b\b\b\b\b\b\b\b\b\b\b\b\b\b\b\b\b\b\b\b\b\b\b\b\b\b\b\b\b\b\b\b\b\b\b\b\b\b\b\b\b\r6200/6497 [===========================>..] - ETA: 0s - loss: 0.0444 - acc: 0.9874"
     ]
    },
    {
     "name": "stdout",
     "output_type": "stream",
     "text": [
      "\b\b\b\b\b\b\b\b\b\b\b\b\b\b\b\b\b\b\b\b\b\b\b\b\b\b\b\b\b\b\b\b\b\b\b\b\b\b\b\b\b\b\b\b\b\b\b\b\b\b\b\b\b\b\b\b\b\b\b\b\b\b\b\b\b\b\b\b\b\b\b\b\b\b\b\b\b\b\b\b\b\r6497/6497 [==============================] - 0s 9us/step - loss: 0.0441 - acc: 0.9874\n"
     ]
    },
    {
     "name": "stdout",
     "output_type": "stream",
     "text": [
      "Epoch 178/200\n\r 200/6497 [..............................] - ETA: 0s - loss: 0.0277 - acc: 0.9900"
     ]
    },
    {
     "name": "stdout",
     "output_type": "stream",
     "text": [
      "\b\b\b\b\b\b\b\b\b\b\b\b\b\b\b\b\b\b\b\b\b\b\b\b\b\b\b\b\b\b\b\b\b\b\b\b\b\b\b\b\b\b\b\b\b\b\b\b\b\b\b\b\b\b\b\b\b\b\b\b\b\b\b\b\b\b\b\b\b\b\b\b\b\b\b\b\b\b\b\b\b\r6497/6497 [==============================] - 0s 8us/step - loss: 0.0441 - acc: 0.9888\n"
     ]
    },
    {
     "name": "stdout",
     "output_type": "stream",
     "text": [
      "Epoch 179/200\n\r 200/6497 [..............................] - ETA: 0s - loss: 0.0189 - acc: 0.9950"
     ]
    },
    {
     "name": "stdout",
     "output_type": "stream",
     "text": [
      "\b\b\b\b\b\b\b\b\b\b\b\b\b\b\b\b\b\b\b\b\b\b\b\b\b\b\b\b\b\b\b\b\b\b\b\b\b\b\b\b\b\b\b\b\b\b\b\b\b\b\b\b\b\b\b\b\b\b\b\b\b\b\b\b\b\b\b\b\b\b\b\b\b\b\b\b\b\b\b\b\b\r6400/6497 [============================>.] - ETA: 0s - loss: 0.0445 - acc: 0.9884"
     ]
    },
    {
     "name": "stdout",
     "output_type": "stream",
     "text": [
      "\b\b\b\b\b\b\b\b\b\b\b\b\b\b\b\b\b\b\b\b\b\b\b\b\b\b\b\b\b\b\b\b\b\b\b\b\b\b\b\b\b\b\b\b\b\b\b\b\b\b\b\b\b\b\b\b\b\b\b\b\b\b\b\b\b\b\b\b\b\b\b\b\b\b\b\b\b\b\b\b\b\r6497/6497 [==============================] - 0s 9us/step - loss: 0.0443 - acc: 0.9885\n"
     ]
    },
    {
     "name": "stdout",
     "output_type": "stream",
     "text": [
      "Epoch 180/200\n"
     ]
    },
    {
     "name": "stdout",
     "output_type": "stream",
     "text": [
      "\r 200/6497 [..............................] - ETA: 0s - loss: 0.0496 - acc: 0.9900"
     ]
    },
    {
     "name": "stdout",
     "output_type": "stream",
     "text": [
      "\b\b\b\b\b\b\b\b\b\b\b\b\b\b\b\b\b\b\b\b\b\b\b\b\b\b\b\b\b\b\b\b\b\b\b\b\b\b\b\b\b\b\b\b\b\b\b\b\b\b\b\b\b\b\b\b\b\b\b\b\b\b\b\b\b\b\b\b\b\b\b\b\b\b\b\b\b\b\b\b\b\r6400/6497 [============================>.] - ETA: 0s - loss: 0.0499 - acc: 0.9838"
     ]
    },
    {
     "name": "stdout",
     "output_type": "stream",
     "text": [
      "\b\b\b\b\b\b\b\b\b\b\b\b\b\b\b\b\b\b\b\b\b\b\b\b\b\b\b\b\b\b\b\b\b\b\b\b\b\b\b\b\b\b\b\b\b\b\b\b\b\b\b\b\b\b\b\b\b\b\b\b\b\b\b\b\b\b\b\b\b\b\b\b\b\b\b\b\b\b\b\b\b\r6497/6497 [==============================] - 0s 9us/step - loss: 0.0507 - acc: 0.9835\n"
     ]
    },
    {
     "name": "stdout",
     "output_type": "stream",
     "text": [
      "Epoch 181/200\n\r 200/6497 [..............................] - ETA: 0s - loss: 0.0662 - acc: 0.9800"
     ]
    },
    {
     "name": "stdout",
     "output_type": "stream",
     "text": [
      "\b\b\b\b\b\b\b\b\b\b\b\b\b\b\b\b\b\b\b\b\b\b\b\b\b\b\b\b\b\b\b\b\b\b\b\b\b\b\b\b\b\b\b\b\b\b\b\b\b\b\b\b\b\b\b\b\b\b\b\b\b\b\b\b\b\b\b\b\b\b\b\b\b\b\b\b\b\b\b\b\b\r6497/6497 [==============================] - 0s 8us/step - loss: 0.0453 - acc: 0.9874\n"
     ]
    },
    {
     "name": "stdout",
     "output_type": "stream",
     "text": [
      "Epoch 182/200\n\r 200/6497 [..............................] - ETA: 0s - loss: 0.0253 - acc: 0.9950"
     ]
    },
    {
     "name": "stdout",
     "output_type": "stream",
     "text": [
      "\b\b\b\b\b\b\b\b\b\b\b\b\b\b\b\b\b\b\b\b\b\b\b\b\b\b\b\b\b\b\b\b\b\b\b\b\b\b\b\b\b\b\b\b\b\b\b\b\b\b\b\b\b\b\b\b\b\b\b\b\b\b\b\b\b\b\b\b\b\b\b\b\b\b\b\b\b\b\b\b\b\r6200/6497 [===========================>..] - ETA: 0s - loss: 0.0426 - acc: 0.9885"
     ]
    },
    {
     "name": "stdout",
     "output_type": "stream",
     "text": [
      "\b\b\b\b\b\b\b\b\b\b\b\b\b\b\b\b\b\b\b\b\b\b\b\b\b\b\b\b\b\b\b\b\b\b\b\b\b\b\b\b\b\b\b\b\b\b\b\b\b\b\b\b\b\b\b\b\b\b\b\b\b\b\b\b\b\b\b\b\b\b\b\b\b\b\b\b\b\b\b\b\b\r6497/6497 [==============================] - 0s 9us/step - loss: 0.0427 - acc: 0.9885\n"
     ]
    },
    {
     "name": "stdout",
     "output_type": "stream",
     "text": [
      "Epoch 183/200\n"
     ]
    },
    {
     "name": "stdout",
     "output_type": "stream",
     "text": [
      "\r 200/6497 [..............................] - ETA: 0s - loss: 0.0602 - acc: 0.9800"
     ]
    },
    {
     "name": "stdout",
     "output_type": "stream",
     "text": [
      "\b\b\b\b\b\b\b\b\b\b\b\b\b\b\b\b\b\b\b\b\b\b\b\b\b\b\b\b\b\b\b\b\b\b\b\b\b\b\b\b\b\b\b\b\b\b\b\b\b\b\b\b\b\b\b\b\b\b\b\b\b\b\b\b\b\b\b\b\b\b\b\b\b\b\b\b\b\b\b\b\b\r5600/6497 [========================>.....] - ETA: 0s - loss: 0.0457 - acc: 0.9875"
     ]
    },
    {
     "name": "stdout",
     "output_type": "stream",
     "text": [
      "\b\b\b\b\b\b\b\b\b\b\b\b\b\b\b\b\b\b\b\b\b\b\b\b\b\b\b\b\b\b\b\b\b\b\b\b\b\b\b\b\b\b\b\b\b\b\b\b\b\b\b\b\b\b\b\b\b\b\b\b\b\b\b\b\b\b\b\b\b\b\b\b\b\b\b\b\b\b\b\b\b\r6497/6497 [==============================] - 0s 10us/step - loss: 0.0473 - acc: 0.9868\n"
     ]
    },
    {
     "name": "stdout",
     "output_type": "stream",
     "text": [
      "Epoch 184/200\n\r 200/6497 [..............................] - ETA: 0s - loss: 0.0636 - acc: 0.9900"
     ]
    },
    {
     "name": "stdout",
     "output_type": "stream",
     "text": [
      "\b\b\b\b\b\b\b\b\b\b\b\b\b\b\b\b\b\b\b\b\b\b\b\b\b\b\b\b\b\b\b\b\b\b\b\b\b\b\b\b\b\b\b\b\b\b\b\b\b\b\b\b\b\b\b\b\b\b\b\b\b\b\b\b\b\b\b\b\b\b\b\b\b\b\b\b\b\b\b\b\b\r6000/6497 [==========================>...] - ETA: 0s - loss: 0.0443 - acc: 0.9877"
     ]
    },
    {
     "name": "stdout",
     "output_type": "stream",
     "text": [
      "\b\b\b\b\b\b\b\b\b\b\b\b\b\b\b\b\b\b\b\b\b\b\b\b\b\b\b\b\b\b\b\b\b\b\b\b\b\b\b\b\b\b\b\b\b\b\b\b\b\b\b\b\b\b\b\b\b\b\b\b\b\b\b\b\b\b\b\b\b\b\b\b\b\b\b\b\b\b\b\b\b\r6497/6497 [==============================] - 0s 9us/step - loss: 0.0433 - acc: 0.9880\n"
     ]
    },
    {
     "name": "stdout",
     "output_type": "stream",
     "text": [
      "Epoch 185/200\n\r 200/6497 [..............................] - ETA: 0s - loss: 0.0545 - acc: 0.9800"
     ]
    },
    {
     "name": "stdout",
     "output_type": "stream",
     "text": [
      "\b\b\b\b\b\b\b\b\b\b\b\b\b\b\b\b\b\b\b\b\b\b\b\b\b\b\b\b\b\b\b\b\b\b\b\b\b\b\b\b\b\b\b\b\b\b\b\b\b\b\b\b\b\b\b\b\b\b\b\b\b\b\b\b\b\b\b\b\b\b\b\b\b\b\b\b\b\b\b\b\b\r6497/6497 [==============================] - 0s 8us/step - loss: 0.0431 - acc: 0.9877\n"
     ]
    },
    {
     "name": "stdout",
     "output_type": "stream",
     "text": [
      "Epoch 186/200\n\r 200/6497 [..............................] - ETA: 0s - loss: 0.0496 - acc: 0.9900"
     ]
    },
    {
     "name": "stdout",
     "output_type": "stream",
     "text": [
      "\b\b\b\b\b\b\b\b\b\b\b\b\b\b\b\b\b\b\b\b\b\b\b\b\b\b\b\b\b\b\b\b\b\b\b\b\b\b\b\b\b\b\b\b\b\b\b\b\b\b\b\b\b\b\b\b\b\b\b\b\b\b\b\b\b\b\b\b\b\b\b\b\b\b\b\b\b\b\b\b\b\r6200/6497 [===========================>..] - ETA: 0s - loss: 0.0416 - acc: 0.9882"
     ]
    },
    {
     "name": "stdout",
     "output_type": "stream",
     "text": [
      "\b\b\b\b\b\b\b\b\b\b\b\b\b\b\b\b\b\b\b\b\b\b\b\b\b\b\b\b\b\b\b\b\b\b\b\b\b\b\b\b\b\b\b\b\b\b\b\b\b\b\b\b\b\b\b\b\b\b\b\b\b\b\b\b\b\b\b\b\b\b\b\b\b\b\b\b\b\b\b\b\b\r6497/6497 [==============================] - 0s 9us/step - loss: 0.0421 - acc: 0.9885\n"
     ]
    },
    {
     "name": "stdout",
     "output_type": "stream",
     "text": [
      "Epoch 187/200\n\r 200/6497 [..............................] - ETA: 0s - loss: 0.0186 - acc: 0.9950"
     ]
    },
    {
     "name": "stdout",
     "output_type": "stream",
     "text": [
      "\b\b\b\b\b\b\b\b\b\b\b\b\b\b\b\b\b\b\b\b\b\b\b\b\b\b\b\b\b\b\b\b\b\b\b\b\b\b\b\b\b\b\b\b\b\b\b\b\b\b\b\b\b\b\b\b\b\b\b\b\b\b\b\b\b\b\b\b\b\b\b\b\b\b\b\b\b\b\b\b\b\r6497/6497 [==============================] - 0s 8us/step - loss: 0.0422 - acc: 0.9881\n"
     ]
    },
    {
     "name": "stdout",
     "output_type": "stream",
     "text": [
      "Epoch 188/200\n"
     ]
    },
    {
     "name": "stdout",
     "output_type": "stream",
     "text": [
      "\r 200/6497 [..............................] - ETA: 0s - loss: 0.0231 - acc: 0.9900"
     ]
    },
    {
     "name": "stdout",
     "output_type": "stream",
     "text": [
      "\b\b\b\b\b\b\b\b\b\b\b\b\b\b\b\b\b\b\b\b\b\b\b\b\b\b\b\b\b\b\b\b\b\b\b\b\b\b\b\b\b\b\b\b\b\b\b\b\b\b\b\b\b\b\b\b\b\b\b\b\b\b\b\b\b\b\b\b\b\b\b\b\b\b\b\b\b\b\b\b\b\r6000/6497 [==========================>...] - ETA: 0s - loss: 0.0471 - acc: 0.9857"
     ]
    },
    {
     "name": "stdout",
     "output_type": "stream",
     "text": [
      "\b\b\b\b\b\b\b\b\b\b\b\b\b\b\b\b\b\b\b\b\b\b\b\b\b\b\b\b\b\b\b\b\b\b\b\b\b\b\b\b\b\b\b\b\b\b\b\b\b\b\b\b\b\b\b\b\b\b\b\b\b\b\b\b\b\b\b\b\b\b\b\b\b\b\b\b\b\b\b\b\b\r6497/6497 [==============================] - 0s 10us/step - loss: 0.0470 - acc: 0.9858\n"
     ]
    },
    {
     "name": "stdout",
     "output_type": "stream",
     "text": [
      "Epoch 189/200\n\r 200/6497 [..............................] - ETA: 0s - loss: 0.0385 - acc: 0.9950"
     ]
    },
    {
     "name": "stdout",
     "output_type": "stream",
     "text": [
      "\b\b\b\b\b\b\b\b\b\b\b\b\b\b\b\b\b\b\b\b\b\b\b\b\b\b\b\b\b\b\b\b\b\b\b\b\b\b\b\b\b\b\b\b\b\b\b\b\b\b\b\b\b\b\b\b\b\b\b\b\b\b\b\b\b\b\b\b\b\b\b\b\b\b\b\b\b\b\b\b\b\r6000/6497 [==========================>...] - ETA: 0s - loss: 0.0473 - acc: 0.9862"
     ]
    },
    {
     "name": "stdout",
     "output_type": "stream",
     "text": [
      "\b\b\b\b\b\b\b\b\b\b\b\b\b\b\b\b\b\b\b\b\b\b\b\b\b\b\b\b\b\b\b\b\b\b\b\b\b\b\b\b\b\b\b\b\b\b\b\b\b\b\b\b\b\b\b\b\b\b\b\b\b\b\b\b\b\b\b\b\b\b\b\b\b\b\b\b\b\b\b\b\b\r6497/6497 [==============================] - 0s 10us/step - loss: 0.0460 - acc: 0.9866\n"
     ]
    },
    {
     "name": "stdout",
     "output_type": "stream",
     "text": [
      "Epoch 190/200\n\r 200/6497 [..............................] - ETA: 0s - loss: 0.0516 - acc: 0.9900"
     ]
    },
    {
     "name": "stdout",
     "output_type": "stream",
     "text": [
      "\b\b\b\b\b\b\b\b\b\b\b\b\b\b\b\b\b\b\b\b\b\b\b\b\b\b\b\b\b\b\b\b\b\b\b\b\b\b\b\b\b\b\b\b\b\b\b\b\b\b\b\b\b\b\b\b\b\b\b\b\b\b\b\b\b\b\b\b\b\b\b\b\b\b\b\b\b\b\b\b\b\r6200/6497 [===========================>..] - ETA: 0s - loss: 0.0431 - acc: 0.9876"
     ]
    },
    {
     "name": "stdout",
     "output_type": "stream",
     "text": [
      "\b\b\b\b\b\b\b\b\b\b\b\b\b\b\b\b\b\b\b\b\b\b\b\b\b\b\b\b\b\b\b\b\b\b\b\b\b\b\b\b\b\b\b\b\b\b\b\b\b\b\b\b\b\b\b\b\b\b\b\b\b\b\b\b\b\b\b\b\b\b\b\b\b\b\b\b\b\b\b\b\b\r6497/6497 [==============================] - 0s 10us/step - loss: 0.0429 - acc: 0.9878\n"
     ]
    },
    {
     "name": "stdout",
     "output_type": "stream",
     "text": [
      "Epoch 191/200\n\r 200/6497 [..............................] - ETA: 0s - loss: 0.0146 - acc: 0.9950"
     ]
    },
    {
     "name": "stdout",
     "output_type": "stream",
     "text": [
      "\b\b\b\b\b\b\b\b\b\b\b\b\b\b\b\b\b\b\b\b\b\b\b\b\b\b\b\b\b\b\b\b\b\b\b\b\b\b\b\b\b\b\b\b\b\b\b\b\b\b\b\b\b\b\b\b\b\b\b\b\b\b\b\b\b\b\b\b\b\b\b\b\b\b\b\b\b\b\b\b\b\r6400/6497 [============================>.] - ETA: 0s - loss: 0.0479 - acc: 0.9866"
     ]
    },
    {
     "name": "stdout",
     "output_type": "stream",
     "text": [
      "\b\b\b\b\b\b\b\b\b\b\b\b\b\b\b\b\b\b\b\b\b\b\b\b\b\b\b\b\b\b\b\b\b\b\b\b\b\b\b\b\b\b\b\b\b\b\b\b\b\b\b\b\b\b\b\b\b\b\b\b\b\b\b\b\b\b\b\b\b\b\b\b\b\b\b\b\b\b\b\b\b\r6497/6497 [==============================] - 0s 9us/step - loss: 0.0473 - acc: 0.9868\n"
     ]
    },
    {
     "name": "stdout",
     "output_type": "stream",
     "text": [
      "Epoch 192/200\n"
     ]
    },
    {
     "name": "stdout",
     "output_type": "stream",
     "text": [
      "\r 200/6497 [..............................] - ETA: 0s - loss: 0.0523 - acc: 0.9950"
     ]
    },
    {
     "name": "stdout",
     "output_type": "stream",
     "text": [
      "\b\b\b\b\b\b\b\b\b\b\b\b\b\b\b\b\b\b\b\b\b\b\b\b\b\b\b\b\b\b\b\b\b\b\b\b\b\b\b\b\b\b\b\b\b\b\b\b\b\b\b\b\b\b\b\b\b\b\b\b\b\b\b\b\b\b\b\b\b\b\b\b\b\b\b\b\b\b\b\b\b\r5600/6497 [========================>.....] - ETA: 0s - loss: 0.0460 - acc: 0.9882"
     ]
    },
    {
     "name": "stdout",
     "output_type": "stream",
     "text": [
      "\b\b\b\b\b\b\b\b\b\b\b\b\b\b\b\b\b\b\b\b\b\b\b\b\b\b\b\b\b\b\b\b\b\b\b\b\b\b\b\b\b\b\b\b\b\b\b\b\b\b\b\b\b\b\b\b\b\b\b\b\b\b\b\b\b\b\b\b\b\b\b\b\b\b\b\b\b\b\b\b\b\r6497/6497 [==============================] - 0s 10us/step - loss: 0.0428 - acc: 0.9888\n"
     ]
    },
    {
     "name": "stdout",
     "output_type": "stream",
     "text": [
      "Epoch 193/200\n\r 200/6497 [..............................] - ETA: 0s - loss: 0.0808 - acc: 0.9800"
     ]
    },
    {
     "name": "stdout",
     "output_type": "stream",
     "text": [
      "\b\b\b\b\b\b\b\b\b\b\b\b\b\b\b\b\b\b\b\b\b\b\b\b\b\b\b\b\b\b\b\b\b\b\b\b\b\b\b\b\b\b\b\b\b\b\b\b\b\b\b\b\b\b\b\b\b\b\b\b\b\b\b\b\b\b\b\b\b\b\b\b\b\b\b\b\b\b\b\b\b\r6400/6497 [============================>.] - ETA: 0s - loss: 0.0413 - acc: 0.9891"
     ]
    },
    {
     "name": "stdout",
     "output_type": "stream",
     "text": [
      "\b\b\b\b\b\b\b\b\b\b\b\b\b\b\b\b\b\b\b\b\b\b\b\b\b\b\b\b\b\b\b\b\b\b\b\b\b\b\b\b\b\b\b\b\b\b\b\b\b\b\b\b\b\b\b\b\b\b\b\b\b\b\b\b\b\b\b\b\b\b\b\b\b\b\b\b\b\b\b\b\b\r6497/6497 [==============================] - 0s 9us/step - loss: 0.0422 - acc: 0.9888\n"
     ]
    },
    {
     "name": "stdout",
     "output_type": "stream",
     "text": [
      "Epoch 194/200\n\r 200/6497 [..............................] - ETA: 0s - loss: 0.0211 - acc: 0.9950"
     ]
    },
    {
     "name": "stdout",
     "output_type": "stream",
     "text": [
      "\b\b\b\b\b\b\b\b\b\b\b\b\b\b\b\b\b\b\b\b\b\b\b\b\b\b\b\b\b\b\b\b\b\b\b\b\b\b\b\b\b\b\b\b\b\b\b\b\b\b\b\b\b\b\b\b\b\b\b\b\b\b\b\b\b\b\b\b\b\b\b\b\b\b\b\b\b\b\b\b\b\r6200/6497 [===========================>..] - ETA: 0s - loss: 0.0436 - acc: 0.9894"
     ]
    },
    {
     "name": "stdout",
     "output_type": "stream",
     "text": [
      "\b\b\b\b\b\b\b\b\b\b\b\b\b\b\b\b\b\b\b\b\b\b\b\b\b\b\b\b\b\b\b\b\b\b\b\b\b\b\b\b\b\b\b\b\b\b\b\b\b\b\b\b\b\b\b\b\b\b\b\b\b\b\b\b\b\b\b\b\b\b\b\b\b\b\b\b\b\b\b\b\b\r6497/6497 [==============================] - 0s 10us/step - loss: 0.0426 - acc: 0.9895\n"
     ]
    },
    {
     "name": "stdout",
     "output_type": "stream",
     "text": [
      "Epoch 195/200\n\r 200/6497 [..............................] - ETA: 0s - loss: 0.0120 - acc: 1.0000"
     ]
    },
    {
     "name": "stdout",
     "output_type": "stream",
     "text": [
      "\b\b\b\b\b\b\b\b\b\b\b\b\b\b\b\b\b\b\b\b\b\b\b\b\b\b\b\b\b\b\b\b\b\b\b\b\b\b\b\b\b\b\b\b\b\b\b\b\b\b\b\b\b\b\b\b\b\b\b\b\b\b\b\b\b\b\b\b\b\b\b\b\b\b\b\b\b\b\b\b\b\r5200/6497 [=======================>......] - ETA: 0s - loss: 0.0422 - acc: 0.9892"
     ]
    },
    {
     "name": "stdout",
     "output_type": "stream",
     "text": [
      "\b\b\b\b\b\b\b\b\b\b\b\b\b\b\b\b\b\b\b\b\b\b\b\b\b\b\b\b\b\b\b\b\b\b\b\b\b\b\b\b\b\b\b\b\b\b\b\b\b\b\b\b\b\b\b\b\b\b\b\b\b\b\b\b\b\b\b\b\b\b\b\b\b\b\b\b\b\b\b\b\b\r6497/6497 [==============================] - 0s 11us/step - loss: 0.0427 - acc: 0.9894\n"
     ]
    },
    {
     "name": "stdout",
     "output_type": "stream",
     "text": [
      "Epoch 196/200\n\r 200/6497 [..............................] - ETA: 0s - loss: 0.0165 - acc: 0.9950"
     ]
    },
    {
     "name": "stdout",
     "output_type": "stream",
     "text": [
      "\b\b\b\b\b\b\b\b\b\b\b\b\b\b\b\b\b\b\b\b\b\b\b\b\b\b\b\b\b\b\b\b\b\b\b\b\b\b\b\b\b\b\b\b\b\b\b\b\b\b\b\b\b\b\b\b\b\b\b\b\b\b\b\b\b\b\b\b\b\b\b\b\b\b\b\b\b\b\b\b\b\r5800/6497 [=========================>....] - ETA: 0s - loss: 0.0484 - acc: 0.9864"
     ]
    },
    {
     "name": "stdout",
     "output_type": "stream",
     "text": [
      "\b\b\b\b\b\b\b\b\b\b\b\b\b\b\b\b\b\b\b\b\b\b\b\b\b\b\b\b\b\b\b\b\b\b\b\b\b\b\b\b\b\b\b\b\b\b\b\b\b\b\b\b\b\b\b\b\b\b\b\b\b\b\b\b\b\b\b\b\b\b\b\b\b\b\b\b\b\b\b\b\b\r6497/6497 [==============================] - 0s 10us/step - loss: 0.0465 - acc: 0.9869\n"
     ]
    },
    {
     "name": "stdout",
     "output_type": "stream",
     "text": [
      "Epoch 197/200\n\r 200/6497 [..............................] - ETA: 0s - loss: 0.0527 - acc: 0.9900"
     ]
    },
    {
     "name": "stdout",
     "output_type": "stream",
     "text": [
      "\b\b\b\b\b\b\b\b\b\b\b\b\b\b\b\b\b\b\b\b\b\b\b\b\b\b\b\b\b\b\b\b\b\b\b\b\b\b\b\b\b\b\b\b\b\b\b\b\b\b\b\b\b\b\b\b\b\b\b\b\b\b\b\b\b\b\b\b\b\b\b\b\b\b\b\b\b\b\b\b\b\r5400/6497 [=======================>......] - ETA: 0s - loss: 0.0441 - acc: 0.9878"
     ]
    },
    {
     "name": "stdout",
     "output_type": "stream",
     "text": [
      "\b\b\b\b\b\b\b\b\b\b\b\b\b\b\b\b\b\b\b\b\b\b\b\b\b\b\b\b\b\b\b\b\b\b\b\b\b\b\b\b\b\b\b\b\b\b\b\b\b\b\b\b\b\b\b\b\b\b\b\b\b\b\b\b\b\b\b\b\b\b\b\b\b\b\b\b\b\b\b\b\b\r6497/6497 [==============================] - 0s 11us/step - loss: 0.0424 - acc: 0.9885\n"
     ]
    },
    {
     "name": "stdout",
     "output_type": "stream",
     "text": [
      "Epoch 198/200\n\r 200/6497 [..............................] - ETA: 0s - loss: 0.0991 - acc: 0.9700"
     ]
    },
    {
     "name": "stdout",
     "output_type": "stream",
     "text": [
      "\b\b\b\b\b\b\b\b\b\b\b\b\b\b\b\b\b\b\b\b\b\b\b\b\b\b\b\b\b\b\b\b\b\b\b\b\b\b\b\b\b\b\b\b\b\b\b\b\b\b\b\b\b\b\b\b\b\b\b\b\b\b\b\b\b\b\b\b\b\b\b\b\b\b\b\b\b\b\b\b\b\r5200/6497 [=======================>......] - ETA: 0s - loss: 0.0416 - acc: 0.9894"
     ]
    },
    {
     "name": "stdout",
     "output_type": "stream",
     "text": [
      "\b\b\b\b\b\b\b\b\b\b\b\b\b\b\b\b\b\b\b\b\b\b\b\b\b\b\b\b\b\b\b\b\b\b\b\b\b\b\b\b\b\b\b\b\b\b\b\b\b\b\b\b\b\b\b\b\b\b\b\b\b\b\b\b\b\b\b\b\b\b\b\b\b\b\b\b\b\b\b\b\b\r6497/6497 [==============================] - 0s 12us/step - loss: 0.0449 - acc: 0.9885\n"
     ]
    },
    {
     "name": "stdout",
     "output_type": "stream",
     "text": [
      "Epoch 199/200\n\r 200/6497 [..............................] - ETA: 0s - loss: 0.0420 - acc: 0.9950"
     ]
    },
    {
     "name": "stdout",
     "output_type": "stream",
     "text": [
      "\b\b\b\b\b\b\b\b\b\b\b\b\b\b\b\b\b\b\b\b\b\b\b\b\b\b\b\b\b\b\b\b\b\b\b\b\b\b\b\b\b\b\b\b\b\b\b\b\b\b\b\b\b\b\b\b\b\b\b\b\b\b\b\b\b\b\b\b\b\b\b\b\b\b\b\b\b\b\b\b\b\r5600/6497 [========================>.....] - ETA: 0s - loss: 0.0401 - acc: 0.9880"
     ]
    },
    {
     "name": "stdout",
     "output_type": "stream",
     "text": [
      "\b\b\b\b\b\b\b\b\b\b\b\b\b\b\b\b\b\b\b\b\b\b\b\b\b\b\b\b\b\b\b\b\b\b\b\b\b\b\b\b\b\b\b\b\b\b\b\b\b\b\b\b\b\b\b\b\b\b\b\b\b\b\b\b\b\b\b\b\b\b\b\b\b\b\b\b\b\b\b\b\b\r6497/6497 [==============================] - 0s 10us/step - loss: 0.0478 - acc: 0.9860\n"
     ]
    },
    {
     "name": "stdout",
     "output_type": "stream",
     "text": [
      "Epoch 200/200\n\r 200/6497 [..............................] - ETA: 0s - loss: 0.0237 - acc: 1.0000"
     ]
    },
    {
     "name": "stdout",
     "output_type": "stream",
     "text": [
      "\b\b\b\b\b\b\b\b\b\b\b\b\b\b\b\b\b\b\b\b\b\b\b\b\b\b\b\b\b\b\b\b\b\b\b\b\b\b\b\b\b\b\b\b\b\b\b\b\b\b\b\b\b\b\b\b\b\b\b\b\b\b\b\b\b\b\b\b\b\b\b\b\b\b\b\b\b\b\b\b\b\r4600/6497 [====================>.........] - ETA: 0s - loss: 0.0496 - acc: 0.9859"
     ]
    },
    {
     "name": "stdout",
     "output_type": "stream",
     "text": [
      "\b\b\b\b\b\b\b\b\b\b\b\b\b\b\b\b\b\b\b\b\b\b\b\b\b\b\b\b\b\b\b\b\b\b\b\b\b\b\b\b\b\b\b\b\b\b\b\b\b\b\b\b\b\b\b\b\b\b\b\b\b\b\b\b\b\b\b\b\b\b\b\b\b\b\b\b\b\b\b\b\b\r6497/6497 [==============================] - 0s 12us/step - loss: 0.0451 - acc: 0.9885\n"
     ]
    },
    {
     "name": "stdout",
     "output_type": "stream",
     "text": [
      "\r  32/6497 [..............................] - ETA: 9s"
     ]
    },
    {
     "name": "stdout",
     "output_type": "stream",
     "text": [
      "\b\b\b\b\b\b\b\b\b\b\b\b\b\b\b\b\b\b\b\b\b\b\b\b\b\b\b\b\b\b\b\b\b\b\b\b\b\b\b\b\b\b\b\b\b\b\b\b\b\b\b\b\r1952/6497 [========>.....................] - ETA: 0s"
     ]
    },
    {
     "name": "stdout",
     "output_type": "stream",
     "text": [
      "\b\b\b\b\b\b\b\b\b\b\b\b\b\b\b\b\b\b\b\b\b\b\b\b\b\b\b\b\b\b\b\b\b\b\b\b\b\b\b\b\b\b\b\b\b\b\b\b\b\b\b\b\r4192/6497 [==================>...........] - ETA: 0s"
     ]
    },
    {
     "name": "stdout",
     "output_type": "stream",
     "text": [
      "\b\b\b\b\b\b\b\b\b\b\b\b\b\b\b\b\b\b\b\b\b\b\b\b\b\b\b\b\b\b\b\b\b\b\b\b\b\b\b\b\b\b\b\b\b\b\b\b\b\b\b\b\r6464/6497 [============================>.] - ETA: 0s"
     ]
    },
    {
     "name": "stdout",
     "output_type": "stream",
     "text": [
      "\b\b\b\b\b\b\b\b\b\b\b\b\b\b\b\b\b\b\b\b\b\b\b\b\b\b\b\b\b\b\b\b\b\b\b\b\b\b\b\b\b\b\b\b\b\b\b\b\b\b\b\b\r6497/6497 [==============================] - 0s 32us/step\n"
     ]
    },
    {
     "name": "stdout",
     "output_type": "stream",
     "text": [
      "\n Accuracy : 0.9885\n"
     ]
    }
   ],
   "source": [
    "# 모델 생성하기 4개의 은닉층 , 30 ,12, 8 , 1 \n",
    "# 오차함수 : binary_crossentropy\n",
    "# 최적화함수 : adam\n",
    "# 배치사이즈 : 200 \n",
    "# 반복횟수 : 200\n",
    "\n",
    "from keras.models import Sequential\n",
    "from keras.layers import Dense\n",
    "from keras.callbacks import ModelCheckpoint, EarlyStopping\n",
    "\n",
    "import pandas as pd\n",
    "import numpy as np\n",
    "import tensorflow as tf\n",
    "import matplotlib.pyplot as plt\n",
    "\n",
    "# seed 값 설정\n",
    "seed = 0\n",
    "np.random.seed(seed)\n",
    "tf.set_random_seed(seed)\n",
    "\n",
    "# 데이터입력\n",
    "df_pre = pd.read_csv('C:\\\\Users\\\\HyunA\\\\PycharmProjects\\\\deeplearning\\\\dataset\\\\wine.csv', header=None)\n",
    "df = df_pre.sample(frac=1)\n",
    "dataset = df.values\n",
    "X = dataset[:,0:12]\n",
    "Y = dataset[:,12]\n",
    "\n",
    "# 모델설정\n",
    "model = Sequential()\n",
    "model.add(Dense(30, input_dim=12, activation='relu'))\n",
    "model.add(Dense(12, activation='relu'))\n",
    "model.add(Dense(8,activation='relu'))\n",
    "model.add(Dense(1,activation='sigmoid'))\n",
    "\n",
    "# 모델컴파일\n",
    "model.compile(loss='binary_crossentropy',\n",
    "              optimizer='adam',\n",
    "              metrics=['accuracy'])\n",
    "\n",
    "# 모델 실행\n",
    "model.fit(X,Y,epochs=200,batch_size=200)\n",
    "\n",
    "# 결과 출력\n",
    "print(\"\\n Accuracy : %.4f\" %(model.evaluate(X,Y)[1]))"
   ]
  },
  {
   "cell_type": "code",
   "execution_count": 8,
   "metadata": {},
   "outputs": [],
   "source": [
    "# 모델 업데이트하기 \n",
    "# 모델 저장하기 \n",
    "import os\n",
    "\n",
    "MODEL_DIR = 'C:\\\\Users\\\\HyunA\\\\PycharmProjects\\\\deeplearning\\\\models\\\\ex_models'\n",
    "if not os.path.exists(MODEL_DIR):\n",
    "    os.mkdir(MODEL_DIR)\n",
    "\n",
    "model_path='C:\\\\Users\\\\HyunA\\\\PycharmProjects\\\\deeplearning\\\\models\\\\ex_models\\\\{epoch:02d}-{val_loss:.4f}.hdf5'"
   ]
  },
  {
   "cell_type": "code",
   "execution_count": null,
   "metadata": {},
   "outputs": [],
   "source": [
    "# 모델 저장을 위한 함수 \n",
    "from  keras.callbacks import ModelCheckpoint\n",
    "\n",
    "# 테스트오차 : val_loss , 정확도 : acc , 테스트셋 정확도 : val_acc , 학습셋 오차 : loss\n",
    "# verbose : 1 > 진행사항 출력 , 0 > 출력하지 않음\n",
    "\n",
    "checkpointer = ModelCheckpoint(filepath=model_path, monitor='val_loss', verbose=1)\n",
    "\n",
    "# 함수에 모델이 앞서 저장한 모델보다 나아졌을 때만 저장하게끔 하려면 save_best_only \n",
    "checkpointer = ModelCheckpoint(filepath=model_path, monitor='val_loss', verbose=1, save_best_only=True)\n"
   ]
  },
  {
   "cell_type": "code",
   "execution_count": 10,
   "metadata": {
    "collapsed": true
   },
   "outputs": [
    {
     "name": "stdout",
     "output_type": "stream",
     "text": [
      "\nEpoch 00001: val_loss improved from inf to 0.31041, saving model to C:\\Users\\HyunA\\PycharmProjects\\deeplearning\\models\\ex_models\\01-0.3104,hdf5\n\nEpoch 00002: val_loss improved from 0.31041 to 0.25355, saving model to C:\\Users\\HyunA\\PycharmProjects\\deeplearning\\models\\ex_models\\02-0.2536,hdf5\n"
     ]
    },
    {
     "name": "stdout",
     "output_type": "stream",
     "text": [
      "\nEpoch 00003: val_loss improved from 0.25355 to 0.21301, saving model to C:\\Users\\HyunA\\PycharmProjects\\deeplearning\\models\\ex_models\\03-0.2130,hdf5\n\nEpoch 00004: val_loss improved from 0.21301 to 0.20443, saving model to C:\\Users\\HyunA\\PycharmProjects\\deeplearning\\models\\ex_models\\04-0.2044,hdf5\n\nEpoch 00005: val_loss improved from 0.20443 to 0.19657, saving model to C:\\Users\\HyunA\\PycharmProjects\\deeplearning\\models\\ex_models\\05-0.1966,hdf5\n"
     ]
    },
    {
     "name": "stdout",
     "output_type": "stream",
     "text": [
      "\nEpoch 00006: val_loss improved from 0.19657 to 0.18564, saving model to C:\\Users\\HyunA\\PycharmProjects\\deeplearning\\models\\ex_models\\06-0.1856,hdf5\n\nEpoch 00007: val_loss improved from 0.18564 to 0.18027, saving model to C:\\Users\\HyunA\\PycharmProjects\\deeplearning\\models\\ex_models\\07-0.1803,hdf5\n\nEpoch 00008: val_loss improved from 0.18027 to 0.17990, saving model to C:\\Users\\HyunA\\PycharmProjects\\deeplearning\\models\\ex_models\\08-0.1799,hdf5\n"
     ]
    },
    {
     "name": "stdout",
     "output_type": "stream",
     "text": [
      "\nEpoch 00009: val_loss improved from 0.17990 to 0.17930, saving model to C:\\Users\\HyunA\\PycharmProjects\\deeplearning\\models\\ex_models\\09-0.1793,hdf5\n\nEpoch 00010: val_loss improved from 0.17930 to 0.17633, saving model to C:\\Users\\HyunA\\PycharmProjects\\deeplearning\\models\\ex_models\\10-0.1763,hdf5\n\nEpoch 00011: val_loss improved from 0.17633 to 0.16638, saving model to C:\\Users\\HyunA\\PycharmProjects\\deeplearning\\models\\ex_models\\11-0.1664,hdf5\n"
     ]
    },
    {
     "name": "stdout",
     "output_type": "stream",
     "text": [
      "\nEpoch 00012: val_loss improved from 0.16638 to 0.16288, saving model to C:\\Users\\HyunA\\PycharmProjects\\deeplearning\\models\\ex_models\\12-0.1629,hdf5\n\nEpoch 00013: val_loss did not improve from 0.16288\n\nEpoch 00014: val_loss improved from 0.16288 to 0.15806, saving model to C:\\Users\\HyunA\\PycharmProjects\\deeplearning\\models\\ex_models\\14-0.1581,hdf5\n\nEpoch 00015: val_loss improved from 0.15806 to 0.15675, saving model to C:\\Users\\HyunA\\PycharmProjects\\deeplearning\\models\\ex_models\\15-0.1568,hdf5\n"
     ]
    },
    {
     "name": "stdout",
     "output_type": "stream",
     "text": [
      "\nEpoch 00016: val_loss improved from 0.15675 to 0.15100, saving model to C:\\Users\\HyunA\\PycharmProjects\\deeplearning\\models\\ex_models\\16-0.1510,hdf5\n\nEpoch 00017: val_loss improved from 0.15100 to 0.14811, saving model to C:\\Users\\HyunA\\PycharmProjects\\deeplearning\\models\\ex_models\\17-0.1481,hdf5\n\nEpoch 00018: val_loss improved from 0.14811 to 0.14649, saving model to C:\\Users\\HyunA\\PycharmProjects\\deeplearning\\models\\ex_models\\18-0.1465,hdf5\n\nEpoch 00019: val_loss improved from 0.14649 to 0.14276, saving model to C:\\Users\\HyunA\\PycharmProjects\\deeplearning\\models\\ex_models\\19-0.1428,hdf5\n"
     ]
    },
    {
     "name": "stdout",
     "output_type": "stream",
     "text": [
      "\nEpoch 00020: val_loss did not improve from 0.14276\n\nEpoch 00021: val_loss improved from 0.14276 to 0.13661, saving model to C:\\Users\\HyunA\\PycharmProjects\\deeplearning\\models\\ex_models\\21-0.1366,hdf5\n\nEpoch 00022: val_loss improved from 0.13661 to 0.13384, saving model to C:\\Users\\HyunA\\PycharmProjects\\deeplearning\\models\\ex_models\\22-0.1338,hdf5\n\nEpoch 00023: val_loss did not improve from 0.13384\n"
     ]
    },
    {
     "name": "stdout",
     "output_type": "stream",
     "text": [
      "\nEpoch 00024: val_loss improved from 0.13384 to 0.12871, saving model to C:\\Users\\HyunA\\PycharmProjects\\deeplearning\\models\\ex_models\\24-0.1287,hdf5\n\nEpoch 00025: val_loss improved from 0.12871 to 0.12652, saving model to C:\\Users\\HyunA\\PycharmProjects\\deeplearning\\models\\ex_models\\25-0.1265,hdf5\n\nEpoch 00026: val_loss improved from 0.12652 to 0.12256, saving model to C:\\Users\\HyunA\\PycharmProjects\\deeplearning\\models\\ex_models\\26-0.1226,hdf5\n\nEpoch 00027: val_loss improved from 0.12256 to 0.12081, saving model to C:\\Users\\HyunA\\PycharmProjects\\deeplearning\\models\\ex_models\\27-0.1208,hdf5\n"
     ]
    },
    {
     "name": "stdout",
     "output_type": "stream",
     "text": [
      "\nEpoch 00028: val_loss improved from 0.12081 to 0.11766, saving model to C:\\Users\\HyunA\\PycharmProjects\\deeplearning\\models\\ex_models\\28-0.1177,hdf5\n\nEpoch 00029: val_loss did not improve from 0.11766\n\nEpoch 00030: val_loss improved from 0.11766 to 0.11110, saving model to C:\\Users\\HyunA\\PycharmProjects\\deeplearning\\models\\ex_models\\30-0.1111,hdf5\n\nEpoch 00031: val_loss did not improve from 0.11110\n"
     ]
    },
    {
     "name": "stdout",
     "output_type": "stream",
     "text": [
      "\nEpoch 00032: val_loss improved from 0.11110 to 0.10871, saving model to C:\\Users\\HyunA\\PycharmProjects\\deeplearning\\models\\ex_models\\32-0.1087,hdf5\n\nEpoch 00033: val_loss did not improve from 0.10871\n\nEpoch 00034: val_loss did not improve from 0.10871\n\nEpoch 00035: val_loss improved from 0.10871 to 0.10119, saving model to C:\\Users\\HyunA\\PycharmProjects\\deeplearning\\models\\ex_models\\35-0.1012,hdf5\n"
     ]
    },
    {
     "name": "stdout",
     "output_type": "stream",
     "text": [
      "\nEpoch 00036: val_loss did not improve from 0.10119\n\nEpoch 00037: val_loss improved from 0.10119 to 0.09840, saving model to C:\\Users\\HyunA\\PycharmProjects\\deeplearning\\models\\ex_models\\37-0.0984,hdf5\n\nEpoch 00038: val_loss improved from 0.09840 to 0.09569, saving model to C:\\Users\\HyunA\\PycharmProjects\\deeplearning\\models\\ex_models\\38-0.0957,hdf5\n\nEpoch 00039: val_loss improved from 0.09569 to 0.09560, saving model to C:\\Users\\HyunA\\PycharmProjects\\deeplearning\\models\\ex_models\\39-0.0956,hdf5\n"
     ]
    },
    {
     "name": "stdout",
     "output_type": "stream",
     "text": [
      "\nEpoch 00040: val_loss did not improve from 0.09560\n\nEpoch 00041: val_loss improved from 0.09560 to 0.09367, saving model to C:\\Users\\HyunA\\PycharmProjects\\deeplearning\\models\\ex_models\\41-0.0937,hdf5\n\nEpoch 00042: val_loss improved from 0.09367 to 0.08843, saving model to C:\\Users\\HyunA\\PycharmProjects\\deeplearning\\models\\ex_models\\42-0.0884,hdf5\n\nEpoch 00043: val_loss improved from 0.08843 to 0.08688, saving model to C:\\Users\\HyunA\\PycharmProjects\\deeplearning\\models\\ex_models\\43-0.0869,hdf5\n"
     ]
    },
    {
     "name": "stdout",
     "output_type": "stream",
     "text": [
      "\nEpoch 00044: val_loss improved from 0.08688 to 0.08565, saving model to C:\\Users\\HyunA\\PycharmProjects\\deeplearning\\models\\ex_models\\44-0.0857,hdf5\n\nEpoch 00045: val_loss improved from 0.08565 to 0.08408, saving model to C:\\Users\\HyunA\\PycharmProjects\\deeplearning\\models\\ex_models\\45-0.0841,hdf5\n\nEpoch 00046: val_loss improved from 0.08408 to 0.08212, saving model to C:\\Users\\HyunA\\PycharmProjects\\deeplearning\\models\\ex_models\\46-0.0821,hdf5\n\nEpoch 00047: val_loss improved from 0.08212 to 0.08058, saving model to C:\\Users\\HyunA\\PycharmProjects\\deeplearning\\models\\ex_models\\47-0.0806,hdf5\n"
     ]
    },
    {
     "name": "stdout",
     "output_type": "stream",
     "text": [
      "\nEpoch 00048: val_loss did not improve from 0.08058\n\nEpoch 00049: val_loss improved from 0.08058 to 0.07866, saving model to C:\\Users\\HyunA\\PycharmProjects\\deeplearning\\models\\ex_models\\49-0.0787,hdf5\n\nEpoch 00050: val_loss did not improve from 0.07866\n\nEpoch 00051: val_loss improved from 0.07866 to 0.07809, saving model to C:\\Users\\HyunA\\PycharmProjects\\deeplearning\\models\\ex_models\\51-0.0781,hdf5\n"
     ]
    },
    {
     "name": "stdout",
     "output_type": "stream",
     "text": [
      "\nEpoch 00052: val_loss improved from 0.07809 to 0.07708, saving model to C:\\Users\\HyunA\\PycharmProjects\\deeplearning\\models\\ex_models\\52-0.0771,hdf5\n\nEpoch 00053: val_loss did not improve from 0.07708\n\nEpoch 00054: val_loss did not improve from 0.07708\n\nEpoch 00055: val_loss did not improve from 0.07708\n\nEpoch 00056: val_loss did not improve from 0.07708\n"
     ]
    },
    {
     "name": "stdout",
     "output_type": "stream",
     "text": [
      "\nEpoch 00057: val_loss improved from 0.07708 to 0.07185, saving model to C:\\Users\\HyunA\\PycharmProjects\\deeplearning\\models\\ex_models\\57-0.0719,hdf5\n\nEpoch 00058: val_loss did not improve from 0.07185\n\nEpoch 00059: val_loss improved from 0.07185 to 0.07016, saving model to C:\\Users\\HyunA\\PycharmProjects\\deeplearning\\models\\ex_models\\59-0.0702,hdf5\n\nEpoch 00060: val_loss improved from 0.07016 to 0.06934, saving model to C:\\Users\\HyunA\\PycharmProjects\\deeplearning\\models\\ex_models\\60-0.0693,hdf5\n"
     ]
    },
    {
     "name": "stdout",
     "output_type": "stream",
     "text": [
      "\nEpoch 00061: val_loss did not improve from 0.06934\n\nEpoch 00062: val_loss improved from 0.06934 to 0.06856, saving model to C:\\Users\\HyunA\\PycharmProjects\\deeplearning\\models\\ex_models\\62-0.0686,hdf5\n\nEpoch 00063: val_loss improved from 0.06856 to 0.06639, saving model to C:\\Users\\HyunA\\PycharmProjects\\deeplearning\\models\\ex_models\\63-0.0664,hdf5\n\nEpoch 00064: val_loss did not improve from 0.06639\n"
     ]
    },
    {
     "name": "stdout",
     "output_type": "stream",
     "text": [
      "\nEpoch 00065: val_loss improved from 0.06639 to 0.06564, saving model to C:\\Users\\HyunA\\PycharmProjects\\deeplearning\\models\\ex_models\\65-0.0656,hdf5\n\nEpoch 00066: val_loss improved from 0.06564 to 0.06347, saving model to C:\\Users\\HyunA\\PycharmProjects\\deeplearning\\models\\ex_models\\66-0.0635,hdf5\n\nEpoch 00067: val_loss did not improve from 0.06347\n\nEpoch 00068: val_loss did not improve from 0.06347\n"
     ]
    },
    {
     "name": "stdout",
     "output_type": "stream",
     "text": [
      "\nEpoch 00069: val_loss did not improve from 0.06347\n\nEpoch 00070: val_loss improved from 0.06347 to 0.06265, saving model to C:\\Users\\HyunA\\PycharmProjects\\deeplearning\\models\\ex_models\\70-0.0626,hdf5\n\nEpoch 00071: val_loss did not improve from 0.06265\n\nEpoch 00072: val_loss improved from 0.06265 to 0.06232, saving model to C:\\Users\\HyunA\\PycharmProjects\\deeplearning\\models\\ex_models\\72-0.0623,hdf5\n"
     ]
    },
    {
     "name": "stdout",
     "output_type": "stream",
     "text": [
      "\nEpoch 00073: val_loss did not improve from 0.06232\n\nEpoch 00074: val_loss improved from 0.06232 to 0.06117, saving model to C:\\Users\\HyunA\\PycharmProjects\\deeplearning\\models\\ex_models\\74-0.0612,hdf5\n\nEpoch 00075: val_loss improved from 0.06117 to 0.05965, saving model to C:\\Users\\HyunA\\PycharmProjects\\deeplearning\\models\\ex_models\\75-0.0597,hdf5\n\nEpoch 00076: val_loss did not improve from 0.05965\n"
     ]
    },
    {
     "name": "stdout",
     "output_type": "stream",
     "text": [
      "\nEpoch 00077: val_loss improved from 0.05965 to 0.05831, saving model to C:\\Users\\HyunA\\PycharmProjects\\deeplearning\\models\\ex_models\\77-0.0583,hdf5\n\nEpoch 00078: val_loss did not improve from 0.05831\n\nEpoch 00079: val_loss did not improve from 0.05831\n\nEpoch 00080: val_loss did not improve from 0.05831\n\nEpoch 00081: val_loss did not improve from 0.05831\n"
     ]
    },
    {
     "name": "stdout",
     "output_type": "stream",
     "text": [
      "\nEpoch 00082: val_loss did not improve from 0.05831\n\nEpoch 00083: val_loss did not improve from 0.05831\n\nEpoch 00084: val_loss did not improve from 0.05831\n\nEpoch 00085: val_loss improved from 0.05831 to 0.05742, saving model to C:\\Users\\HyunA\\PycharmProjects\\deeplearning\\models\\ex_models\\85-0.0574,hdf5\n\nEpoch 00086: val_loss did not improve from 0.05742\n"
     ]
    },
    {
     "name": "stdout",
     "output_type": "stream",
     "text": [
      "\nEpoch 00087: val_loss improved from 0.05742 to 0.05577, saving model to C:\\Users\\HyunA\\PycharmProjects\\deeplearning\\models\\ex_models\\87-0.0558,hdf5\n\nEpoch 00088: val_loss improved from 0.05577 to 0.05506, saving model to C:\\Users\\HyunA\\PycharmProjects\\deeplearning\\models\\ex_models\\88-0.0551,hdf5\n\nEpoch 00089: val_loss did not improve from 0.05506\n\nEpoch 00090: val_loss did not improve from 0.05506\n\nEpoch 00091: val_loss did not improve from 0.05506\n"
     ]
    },
    {
     "name": "stdout",
     "output_type": "stream",
     "text": [
      "\nEpoch 00092: val_loss improved from 0.05506 to 0.05505, saving model to C:\\Users\\HyunA\\PycharmProjects\\deeplearning\\models\\ex_models\\92-0.0551,hdf5\n\nEpoch 00093: val_loss did not improve from 0.05505\n\nEpoch 00094: val_loss did not improve from 0.05505\n\nEpoch 00095: val_loss did not improve from 0.05505\n\nEpoch 00096: val_loss did not improve from 0.05505\n"
     ]
    },
    {
     "name": "stdout",
     "output_type": "stream",
     "text": [
      "\nEpoch 00097: val_loss improved from 0.05505 to 0.05297, saving model to C:\\Users\\HyunA\\PycharmProjects\\deeplearning\\models\\ex_models\\97-0.0530,hdf5\n\nEpoch 00098: val_loss did not improve from 0.05297\n\nEpoch 00099: val_loss did not improve from 0.05297\n\nEpoch 00100: val_loss did not improve from 0.05297\n\nEpoch 00101: val_loss did not improve from 0.05297\n"
     ]
    },
    {
     "name": "stdout",
     "output_type": "stream",
     "text": [
      "\nEpoch 00102: val_loss did not improve from 0.05297\n\nEpoch 00103: val_loss did not improve from 0.05297\n\nEpoch 00104: val_loss did not improve from 0.05297\n\nEpoch 00105: val_loss did not improve from 0.05297\n\nEpoch 00106: val_loss did not improve from 0.05297\n"
     ]
    },
    {
     "name": "stdout",
     "output_type": "stream",
     "text": [
      "\nEpoch 00107: val_loss did not improve from 0.05297\n\nEpoch 00108: val_loss did not improve from 0.05297\n\nEpoch 00109: val_loss improved from 0.05297 to 0.05282, saving model to C:\\Users\\HyunA\\PycharmProjects\\deeplearning\\models\\ex_models\\109-0.0528,hdf5\n\nEpoch 00110: val_loss did not improve from 0.05282\n\nEpoch 00111: val_loss did not improve from 0.05282\n"
     ]
    },
    {
     "name": "stdout",
     "output_type": "stream",
     "text": [
      "\nEpoch 00112: val_loss did not improve from 0.05282\n\nEpoch 00113: val_loss improved from 0.05282 to 0.05156, saving model to C:\\Users\\HyunA\\PycharmProjects\\deeplearning\\models\\ex_models\\113-0.0516,hdf5\n\nEpoch 00114: val_loss did not improve from 0.05156\n\nEpoch 00115: val_loss did not improve from 0.05156\n\nEpoch 00116: val_loss improved from 0.05156 to 0.05118, saving model to C:\\Users\\HyunA\\PycharmProjects\\deeplearning\\models\\ex_models\\116-0.0512,hdf5\n"
     ]
    },
    {
     "name": "stdout",
     "output_type": "stream",
     "text": [
      "\nEpoch 00117: val_loss did not improve from 0.05118\n\nEpoch 00118: val_loss did not improve from 0.05118\n\nEpoch 00119: val_loss did not improve from 0.05118\n\nEpoch 00120: val_loss did not improve from 0.05118\n\nEpoch 00121: val_loss improved from 0.05118 to 0.05099, saving model to C:\\Users\\HyunA\\PycharmProjects\\deeplearning\\models\\ex_models\\121-0.0510,hdf5\n"
     ]
    },
    {
     "name": "stdout",
     "output_type": "stream",
     "text": [
      "\nEpoch 00122: val_loss did not improve from 0.05099\n\nEpoch 00123: val_loss did not improve from 0.05099\n\nEpoch 00124: val_loss did not improve from 0.05099\n\nEpoch 00125: val_loss improved from 0.05099 to 0.05057, saving model to C:\\Users\\HyunA\\PycharmProjects\\deeplearning\\models\\ex_models\\125-0.0506,hdf5\n\nEpoch 00126: val_loss did not improve from 0.05057\n"
     ]
    },
    {
     "name": "stdout",
     "output_type": "stream",
     "text": [
      "\nEpoch 00127: val_loss did not improve from 0.05057\n\nEpoch 00128: val_loss improved from 0.05057 to 0.05006, saving model to C:\\Users\\HyunA\\PycharmProjects\\deeplearning\\models\\ex_models\\128-0.0501,hdf5\n\nEpoch 00129: val_loss improved from 0.05006 to 0.04974, saving model to C:\\Users\\HyunA\\PycharmProjects\\deeplearning\\models\\ex_models\\129-0.0497,hdf5\n\nEpoch 00130: val_loss did not improve from 0.04974\n"
     ]
    },
    {
     "name": "stdout",
     "output_type": "stream",
     "text": [
      "\nEpoch 00131: val_loss did not improve from 0.04974\n\nEpoch 00132: val_loss did not improve from 0.04974\n\nEpoch 00133: val_loss did not improve from 0.04974\n\nEpoch 00134: val_loss did not improve from 0.04974\n\nEpoch 00135: val_loss did not improve from 0.04974\n\nEpoch 00136: val_loss did not improve from 0.04974\n"
     ]
    },
    {
     "name": "stdout",
     "output_type": "stream",
     "text": [
      "\nEpoch 00137: val_loss improved from 0.04974 to 0.04962, saving model to C:\\Users\\HyunA\\PycharmProjects\\deeplearning\\models\\ex_models\\137-0.0496,hdf5\n\nEpoch 00138: val_loss improved from 0.04962 to 0.04886, saving model to C:\\Users\\HyunA\\PycharmProjects\\deeplearning\\models\\ex_models\\138-0.0489,hdf5\n\nEpoch 00139: val_loss did not improve from 0.04886\n\nEpoch 00140: val_loss improved from 0.04886 to 0.04872, saving model to C:\\Users\\HyunA\\PycharmProjects\\deeplearning\\models\\ex_models\\140-0.0487,hdf5\n"
     ]
    },
    {
     "name": "stdout",
     "output_type": "stream",
     "text": [
      "\nEpoch 00141: val_loss did not improve from 0.04872\n\nEpoch 00142: val_loss did not improve from 0.04872\n\nEpoch 00143: val_loss improved from 0.04872 to 0.04867, saving model to C:\\Users\\HyunA\\PycharmProjects\\deeplearning\\models\\ex_models\\143-0.0487,hdf5\n\nEpoch 00144: val_loss did not improve from 0.04867\n\nEpoch 00145: val_loss improved from 0.04867 to 0.04823, saving model to C:\\Users\\HyunA\\PycharmProjects\\deeplearning\\models\\ex_models\\145-0.0482,hdf5\n"
     ]
    },
    {
     "name": "stdout",
     "output_type": "stream",
     "text": [
      "\nEpoch 00146: val_loss did not improve from 0.04823\n\nEpoch 00147: val_loss did not improve from 0.04823\n\nEpoch 00148: val_loss did not improve from 0.04823\n\nEpoch 00149: val_loss did not improve from 0.04823\n\nEpoch 00150: val_loss did not improve from 0.04823\n"
     ]
    },
    {
     "name": "stdout",
     "output_type": "stream",
     "text": [
      "\nEpoch 00151: val_loss did not improve from 0.04823\n\nEpoch 00152: val_loss did not improve from 0.04823\n\nEpoch 00153: val_loss did not improve from 0.04823\n\nEpoch 00154: val_loss did not improve from 0.04823\n\nEpoch 00155: val_loss did not improve from 0.04823\n\nEpoch 00156: val_loss did not improve from 0.04823\n"
     ]
    },
    {
     "name": "stdout",
     "output_type": "stream",
     "text": [
      "\nEpoch 00157: val_loss improved from 0.04823 to 0.04805, saving model to C:\\Users\\HyunA\\PycharmProjects\\deeplearning\\models\\ex_models\\157-0.0480,hdf5\n\nEpoch 00158: val_loss did not improve from 0.04805\n\nEpoch 00159: val_loss improved from 0.04805 to 0.04769, saving model to C:\\Users\\HyunA\\PycharmProjects\\deeplearning\\models\\ex_models\\159-0.0477,hdf5\n\nEpoch 00160: val_loss did not improve from 0.04769\n\nEpoch 00161: val_loss improved from 0.04769 to 0.04741, saving model to C:\\Users\\HyunA\\PycharmProjects\\deeplearning\\models\\ex_models\\161-0.0474,hdf5\n"
     ]
    },
    {
     "name": "stdout",
     "output_type": "stream",
     "text": [
      "\nEpoch 00162: val_loss did not improve from 0.04741\n\nEpoch 00163: val_loss did not improve from 0.04741\n\nEpoch 00164: val_loss did not improve from 0.04741\n\nEpoch 00165: val_loss did not improve from 0.04741\n\nEpoch 00166: val_loss did not improve from 0.04741\n\nEpoch 00167: val_loss did not improve from 0.04741\n"
     ]
    },
    {
     "name": "stdout",
     "output_type": "stream",
     "text": [
      "\nEpoch 00168: val_loss did not improve from 0.04741\n\nEpoch 00169: val_loss did not improve from 0.04741\n\nEpoch 00170: val_loss did not improve from 0.04741\n\nEpoch 00171: val_loss did not improve from 0.04741\n\nEpoch 00172: val_loss improved from 0.04741 to 0.04599, saving model to C:\\Users\\HyunA\\PycharmProjects\\deeplearning\\models\\ex_models\\172-0.0460,hdf5\n"
     ]
    },
    {
     "name": "stdout",
     "output_type": "stream",
     "text": [
      "\nEpoch 00173: val_loss did not improve from 0.04599\n\nEpoch 00174: val_loss did not improve from 0.04599\n\nEpoch 00175: val_loss did not improve from 0.04599\n\nEpoch 00176: val_loss did not improve from 0.04599\n\nEpoch 00177: val_loss did not improve from 0.04599\n\nEpoch 00178: val_loss did not improve from 0.04599\n"
     ]
    },
    {
     "name": "stdout",
     "output_type": "stream",
     "text": [
      "\nEpoch 00179: val_loss did not improve from 0.04599\n\nEpoch 00180: val_loss did not improve from 0.04599\n\nEpoch 00181: val_loss did not improve from 0.04599\n\nEpoch 00182: val_loss did not improve from 0.04599\n\nEpoch 00183: val_loss did not improve from 0.04599\n\nEpoch 00184: val_loss did not improve from 0.04599\n"
     ]
    },
    {
     "name": "stdout",
     "output_type": "stream",
     "text": [
      "\nEpoch 00185: val_loss did not improve from 0.04599\n\nEpoch 00186: val_loss did not improve from 0.04599\n\nEpoch 00187: val_loss did not improve from 0.04599\n\nEpoch 00188: val_loss did not improve from 0.04599\n\nEpoch 00189: val_loss did not improve from 0.04599\n\nEpoch 00190: val_loss did not improve from 0.04599\n"
     ]
    },
    {
     "name": "stdout",
     "output_type": "stream",
     "text": [
      "\nEpoch 00191: val_loss did not improve from 0.04599\n\nEpoch 00192: val_loss did not improve from 0.04599\n\nEpoch 00193: val_loss did not improve from 0.04599\n\nEpoch 00194: val_loss improved from 0.04599 to 0.04556, saving model to C:\\Users\\HyunA\\PycharmProjects\\deeplearning\\models\\ex_models\\194-0.0456,hdf5\n\nEpoch 00195: val_loss did not improve from 0.04556\n"
     ]
    },
    {
     "name": "stdout",
     "output_type": "stream",
     "text": [
      "\nEpoch 00196: val_loss did not improve from 0.04556\n\nEpoch 00197: val_loss did not improve from 0.04556\n\nEpoch 00198: val_loss improved from 0.04556 to 0.04488, saving model to C:\\Users\\HyunA\\PycharmProjects\\deeplearning\\models\\ex_models\\198-0.0449,hdf5\n\nEpoch 00199: val_loss did not improve from 0.04488\n\nEpoch 00200: val_loss did not improve from 0.04488\n"
     ]
    },
    {
     "data": {
      "text/plain": [
       "<keras.callbacks.History at 0x1670d4e5dd8>"
      ]
     },
     "execution_count": 10,
     "metadata": {},
     "output_type": "execute_result"
    }
   ],
   "source": [
    "# 모델 생성하고 저장하기 \n",
    "from keras.models import Sequential\n",
    "from keras.layers import Dense\n",
    "from keras.callbacks import ModelCheckpoint\n",
    "\n",
    "import pandas as pd\n",
    "import numpy as np\n",
    "import tensorflow as tf\n",
    "import os\n",
    "\n",
    "# seed값 설정\n",
    "seed = 0 \n",
    "np.random.seed(seed)\n",
    "tf.set_random_seed(seed)\n",
    "\n",
    "# 데이터 불러오기 \n",
    "pd_pre = pd.read_csv(\"C:\\\\Users\\\\HyunA\\\\PycharmProjects\\\\deeplearning\\\\dataset\\\\wine.csv\"\n",
    "                     , header=None)\n",
    "df = pd_pre.sample(frac=1)\n",
    "dataset = df.values\n",
    "\n",
    "X = dataset[:,0:12]\n",
    "Y = dataset[:,12]\n",
    "\n",
    "# 모델 생성하기 4개의 은닉층 , 30 ,12, 8 , 1 \n",
    "# 오차함수 : binary_crossentropy\n",
    "# 최적화함수 : adam\n",
    "# 배치사이즈 : 200 \n",
    "# 반복횟수 : 200\n",
    "model = Sequential()\n",
    "model.add(Dense(30,input_dim=12,activation='relu'))\n",
    "model.add(Dense(12, activation='relu'))\n",
    "model.add(Dense(8, activation='relu'))\n",
    "model.add(Dense(1, activation='sigmoid'))\n",
    "\n",
    "# 모델 컴파일\n",
    "model.compile(optimizer='adam',\n",
    "              metrics=['accuracy'],\n",
    "              loss='binary_crossentropy')\n",
    "\n",
    "# 모델 저장 폴더 설정\n",
    "MODEL_DIR = 'C:\\\\Users\\\\HyunA\\\\PycharmProjects\\\\deeplearning\\\\models\\\\ex_models'\n",
    "\n",
    "if not os.path.exists(MODEL_DIR):\n",
    "    os.mkdir(MODEL_DIR)\n",
    "\n",
    "# 모델 저장 조건 설정\n",
    "modelpath = 'C:\\\\Users\\\\HyunA\\\\PycharmProjects\\\\deeplearning\\\\models\\\\ex_models\\\\{epoch:02d}-{val_loss:.4f},hdf5'\n",
    "checkpointer = ModelCheckpoint(filepath=modelpath,\n",
    "                               monitor='val_loss',\n",
    "                               verbose=1,\n",
    "                               save_best_only=True)\n",
    "\n",
    "# 모델 실행 및 저장\n",
    "model.fit(X,Y, validation_split=0.2, epochs=200, batch_size=200,verbose=0, callbacks=[checkpointer])"
   ]
  },
  {
   "cell_type": "code",
   "execution_count": null,
   "metadata": {},
   "outputs": [],
   "source": [
    "# 그래프로 확인하기 \n",
    "\n",
    "df = df_pre.sample(frac=0.15)\n",
    "\n",
    "history = model.fit(X,Y, validation_split=0.33, epochs=3500, batch_size=500)\n",
    "\n",
    "import matplotlib.pyplot as plt\n",
    "y_vloss = history.history['val_loss']\n",
    "y_acc = history.history['acc']\n",
    "\n",
    "x_len = numpy.arrange(len(y_acc))\n",
    "plt.plot(x_len, y_loss, \"o\", c=\"red\", markersize =3)\n",
    "plt.plot(x_len, y_acc, \"o\", c=\"blue\", markersize =3)\n"
   ]
  },
  {
   "cell_type": "code",
   "execution_count": 5,
   "metadata": {
    "collapsed": true
   },
   "outputs": [
    {
     "data": {
      "image/png": "[encoded data removed]",
      "text/plain": [
       "<Figure size 432x288 with 1 Axes>"
      ]
     },
     "metadata": {},
     "output_type": "display_data"
    }
   ],
   "source": [
    "# 필요한 모듈 import\n",
    "from keras.models import Sequential\n",
    "from keras.layers import Dense\n",
    "from keras.callbacks import ModelCheckpoint\n",
    "\n",
    "import pandas as pd\n",
    "import numpy as np\n",
    "import tensorflow as tf\n",
    "import os\n",
    "import matplotlib.pyplot as plt\n",
    "\n",
    "# seed 값 설정\n",
    "seed = 0\n",
    "np.random.seed(seed)\n",
    "tf.set_random_seed(seed)\n",
    "\n",
    "# 데이터 업로드\n",
    "df_pre = pd.read_csv(\"C:\\\\Users\\\\HyunA\\\\PycharmProjects\\\\deeplearning\\\\dataset\\\\wine.csv\"\n",
    "                     ,header=None)\n",
    "df = df_pre.sample(frac=0.15)\n",
    "dataset = df.values\n",
    "\n",
    "X = dataset[:,0:12]\n",
    "Y = dataset[:,12]\n",
    "\n",
    "# 모델 설정\n",
    "model = Sequential()\n",
    "model.add(Dense(30,input_dim=12,activation='relu'))\n",
    "model.add(Dense(12,activation='relu'))\n",
    "model.add(Dense(8, activation='relu'))\n",
    "model.add(Dense(1, activation='sigmoid'))\n",
    "\n",
    "# 모델 컴파일\n",
    "model.compile(loss='binary_crossentropy',\n",
    "              optimizer='adam',\n",
    "              metrics=['accuracy'])\n",
    "\n",
    "# 모델 저장 폴더 설정\n",
    "MODEL_DIR = 'C:\\\\Users\\\\HyunA\\\\PycharmProjects\\\\deeplearning\\\\models\\\\ex_models'\n",
    "\n",
    "if not os.path.exists(MODEL_DIR):\n",
    "    os.mkdir(MODEL_DIR)\n",
    "    \n",
    "# 모델 저장 조건 설정\n",
    "modelpath = 'C:\\\\Users\\\\HyunA\\\\PycharmProjects\\\\deeplearning\\\\models\\\\ex_models\\\\{epoch:02d}-{val_loss:.4f},hdf5'\n",
    "checkpointer = ModelCheckpoint(filepath=modelpath,\n",
    "                               monitor='val_loss',\n",
    "                               verbose=1,\n",
    "                               save_best_only=True)\n",
    "\n",
    "# 모델 실행 및 저장\n",
    "history = model.fit(X,Y,validation_split=0.33,epochs=3500, batch_size=500, verbose=0)\n",
    "\n",
    "# y_loss에 테스트셋으로 실험결과의 오차 값을 저장\n",
    "y_vloss = history.history['val_loss']\n",
    "\n",
    "# y_acc에 학습셋으로 측정한 정확도의 값을 저장\n",
    "y_acc = history.history['acc']\n",
    "\n",
    "# x 값을 지정하고 정확도를 파란색, 오차를 빨간색으로 표시\n",
    "x_len = np.arange(len(y_acc))\n",
    "plt.plot(x_len,y_vloss, \"o\", c=\"red\", markersize=3)\n",
    "plt.plot(x_len,y_acc, \"o\", c=\"blue\", markersize=3)\n",
    "\n",
    "plt.show()"
   ]
  },
  {
   "cell_type": "code",
   "execution_count": null,
   "metadata": {},
   "outputs": [],
   "source": [
    "# 학습 자동 중단\n",
    "# 테스트셋 오차가 줄지 않으면 학습을 멈추게 하는 함수 사용 : EarlyStopping() 함수\n",
    "\n",
    "from keras.callbacks import EarlyStopping\n",
    "\n",
    "early_stopping_callback = EarlyStopping(monitor='val_loss',patience=100)\n",
    "\n",
    "\n",
    "model.fit(X,Y, validation_split=0.33 , epochs=3500, batch_size=500, callbacks=[early_stopping_callback] )"
   ]
  },
  {
   "cell_type": "code",
   "execution_count": 7,
   "metadata": {
    "collapsed": true
   },
   "outputs": [
    {
     "name": "stdout",
     "output_type": "stream",
     "text": [
      "\nEpoch 00001: val_loss improved from inf to 0.48570, saving model to C:\\Users\\HyunA\\PycharmProjects\\deeplearning\\models\\ex_models\\01-0.4857.hdf5\n"
     ]
    },
    {
     "name": "stdout",
     "output_type": "stream",
     "text": [
      "\nEpoch 00002: val_loss improved from 0.48570 to 0.45982, saving model to C:\\Users\\HyunA\\PycharmProjects\\deeplearning\\models\\ex_models\\02-0.4598.hdf5\n\nEpoch 00003: val_loss improved from 0.45982 to 0.43357, saving model to C:\\Users\\HyunA\\PycharmProjects\\deeplearning\\models\\ex_models\\03-0.4336.hdf5\n\nEpoch 00004: val_loss improved from 0.43357 to 0.42007, saving model to C:\\Users\\HyunA\\PycharmProjects\\deeplearning\\models\\ex_models\\04-0.4201.hdf5\n\nEpoch 00005: val_loss improved from 0.42007 to 0.40724, saving model to C:\\Users\\HyunA\\PycharmProjects\\deeplearning\\models\\ex_models\\05-0.4072.hdf5\n\nEpoch 00006: val_loss improved from 0.40724 to 0.39412, saving model to C:\\Users\\HyunA\\PycharmProjects\\deeplearning\\models\\ex_models\\06-0.3941.hdf5\n\nEpoch 00007: val_loss improved from 0.39412 to 0.38608, saving model to C:\\Users\\HyunA\\PycharmProjects\\deeplearning\\models\\ex_models\\07-0.3861.hdf5\n"
     ]
    },
    {
     "name": "stdout",
     "output_type": "stream",
     "text": [
      "\nEpoch 00008: val_loss improved from 0.38608 to 0.37909, saving model to C:\\Users\\HyunA\\PycharmProjects\\deeplearning\\models\\ex_models\\08-0.3791.hdf5\n\nEpoch 00009: val_loss improved from 0.37909 to 0.37241, saving model to C:\\Users\\HyunA\\PycharmProjects\\deeplearning\\models\\ex_models\\09-0.3724.hdf5\n\nEpoch 00010: val_loss improved from 0.37241 to 0.36550, saving model to C:\\Users\\HyunA\\PycharmProjects\\deeplearning\\models\\ex_models\\10-0.3655.hdf5\n\nEpoch 00011: val_loss improved from 0.36550 to 0.35941, saving model to C:\\Users\\HyunA\\PycharmProjects\\deeplearning\\models\\ex_models\\11-0.3594.hdf5\n\nEpoch 00012: val_loss improved from 0.35941 to 0.35426, saving model to C:\\Users\\HyunA\\PycharmProjects\\deeplearning\\models\\ex_models\\12-0.3543.hdf5\n\nEpoch 00013: val_loss improved from 0.35426 to 0.34957, saving model to C:\\Users\\HyunA\\PycharmProjects\\deeplearning\\models\\ex_models\\13-0.3496.hdf5\n"
     ]
    },
    {
     "name": "stdout",
     "output_type": "stream",
     "text": [
      "\nEpoch 00014: val_loss improved from 0.34957 to 0.34475, saving model to C:\\Users\\HyunA\\PycharmProjects\\deeplearning\\models\\ex_models\\14-0.3447.hdf5\n\nEpoch 00015: val_loss improved from 0.34475 to 0.33880, saving model to C:\\Users\\HyunA\\PycharmProjects\\deeplearning\\models\\ex_models\\15-0.3388.hdf5\n\nEpoch 00016: val_loss improved from 0.33880 to 0.33344, saving model to C:\\Users\\HyunA\\PycharmProjects\\deeplearning\\models\\ex_models\\16-0.3334.hdf5\n\nEpoch 00017: val_loss improved from 0.33344 to 0.32875, saving model to C:\\Users\\HyunA\\PycharmProjects\\deeplearning\\models\\ex_models\\17-0.3287.hdf5\n\nEpoch 00018: val_loss improved from 0.32875 to 0.32499, saving model to C:\\Users\\HyunA\\PycharmProjects\\deeplearning\\models\\ex_models\\18-0.3250.hdf5\n\nEpoch 00019: val_loss improved from 0.32499 to 0.32346, saving model to C:\\Users\\HyunA\\PycharmProjects\\deeplearning\\models\\ex_models\\19-0.3235.hdf5\n"
     ]
    },
    {
     "name": "stdout",
     "output_type": "stream",
     "text": [
      "\nEpoch 00020: val_loss improved from 0.32346 to 0.31966, saving model to C:\\Users\\HyunA\\PycharmProjects\\deeplearning\\models\\ex_models\\20-0.3197.hdf5\n\nEpoch 00021: val_loss improved from 0.31966 to 0.31246, saving model to C:\\Users\\HyunA\\PycharmProjects\\deeplearning\\models\\ex_models\\21-0.3125.hdf5\n\nEpoch 00022: val_loss improved from 0.31246 to 0.30772, saving model to C:\\Users\\HyunA\\PycharmProjects\\deeplearning\\models\\ex_models\\22-0.3077.hdf5\n\nEpoch 00023: val_loss improved from 0.30772 to 0.30354, saving model to C:\\Users\\HyunA\\PycharmProjects\\deeplearning\\models\\ex_models\\23-0.3035.hdf5\n\nEpoch 00024: val_loss improved from 0.30354 to 0.30034, saving model to C:\\Users\\HyunA\\PycharmProjects\\deeplearning\\models\\ex_models\\24-0.3003.hdf5\n"
     ]
    },
    {
     "name": "stdout",
     "output_type": "stream",
     "text": [
      "\nEpoch 00025: val_loss improved from 0.30034 to 0.29832, saving model to C:\\Users\\HyunA\\PycharmProjects\\deeplearning\\models\\ex_models\\25-0.2983.hdf5\n\nEpoch 00026: val_loss improved from 0.29832 to 0.29363, saving model to C:\\Users\\HyunA\\PycharmProjects\\deeplearning\\models\\ex_models\\26-0.2936.hdf5\n\nEpoch 00027: val_loss improved from 0.29363 to 0.28777, saving model to C:\\Users\\HyunA\\PycharmProjects\\deeplearning\\models\\ex_models\\27-0.2878.hdf5\n\nEpoch 00028: val_loss improved from 0.28777 to 0.28382, saving model to C:\\Users\\HyunA\\PycharmProjects\\deeplearning\\models\\ex_models\\28-0.2838.hdf5\n\nEpoch 00029: val_loss improved from 0.28382 to 0.27926, saving model to C:\\Users\\HyunA\\PycharmProjects\\deeplearning\\models\\ex_models\\29-0.2793.hdf5\n\nEpoch 00030: val_loss improved from 0.27926 to 0.27653, saving model to C:\\Users\\HyunA\\PycharmProjects\\deeplearning\\models\\ex_models\\30-0.2765.hdf5\n"
     ]
    },
    {
     "name": "stdout",
     "output_type": "stream",
     "text": [
      "\nEpoch 00031: val_loss improved from 0.27653 to 0.27250, saving model to C:\\Users\\HyunA\\PycharmProjects\\deeplearning\\models\\ex_models\\31-0.2725.hdf5\n\nEpoch 00032: val_loss improved from 0.27250 to 0.26768, saving model to C:\\Users\\HyunA\\PycharmProjects\\deeplearning\\models\\ex_models\\32-0.2677.hdf5\n\nEpoch 00033: val_loss improved from 0.26768 to 0.26394, saving model to C:\\Users\\HyunA\\PycharmProjects\\deeplearning\\models\\ex_models\\33-0.2639.hdf5\n\nEpoch 00034: val_loss improved from 0.26394 to 0.26054, saving model to C:\\Users\\HyunA\\PycharmProjects\\deeplearning\\models\\ex_models\\34-0.2605.hdf5\n\nEpoch 00035: val_loss improved from 0.26054 to 0.25881, saving model to C:\\Users\\HyunA\\PycharmProjects\\deeplearning\\models\\ex_models\\35-0.2588.hdf5\n\nEpoch 00036: val_loss improved from 0.25881 to 0.25558, saving model to C:\\Users\\HyunA\\PycharmProjects\\deeplearning\\models\\ex_models\\36-0.2556.hdf5\n"
     ]
    },
    {
     "name": "stdout",
     "output_type": "stream",
     "text": [
      "\nEpoch 00037: val_loss improved from 0.25558 to 0.25233, saving model to C:\\Users\\HyunA\\PycharmProjects\\deeplearning\\models\\ex_models\\37-0.2523.hdf5\n\nEpoch 00038: val_loss improved from 0.25233 to 0.24975, saving model to C:\\Users\\HyunA\\PycharmProjects\\deeplearning\\models\\ex_models\\38-0.2497.hdf5\n\nEpoch 00039: val_loss improved from 0.24975 to 0.24757, saving model to C:\\Users\\HyunA\\PycharmProjects\\deeplearning\\models\\ex_models\\39-0.2476.hdf5\n\nEpoch 00040: val_loss improved from 0.24757 to 0.24563, saving model to C:\\Users\\HyunA\\PycharmProjects\\deeplearning\\models\\ex_models\\40-0.2456.hdf5\n\nEpoch 00041: val_loss improved from 0.24563 to 0.24462, saving model to C:\\Users\\HyunA\\PycharmProjects\\deeplearning\\models\\ex_models\\41-0.2446.hdf5\n\nEpoch 00042: val_loss improved from 0.24462 to 0.24245, saving model to C:\\Users\\HyunA\\PycharmProjects\\deeplearning\\models\\ex_models\\42-0.2425.hdf5\n"
     ]
    },
    {
     "name": "stdout",
     "output_type": "stream",
     "text": [
      "\nEpoch 00043: val_loss improved from 0.24245 to 0.24061, saving model to C:\\Users\\HyunA\\PycharmProjects\\deeplearning\\models\\ex_models\\43-0.2406.hdf5\n\nEpoch 00044: val_loss improved from 0.24061 to 0.23862, saving model to C:\\Users\\HyunA\\PycharmProjects\\deeplearning\\models\\ex_models\\44-0.2386.hdf5\n\nEpoch 00045: val_loss improved from 0.23862 to 0.23790, saving model to C:\\Users\\HyunA\\PycharmProjects\\deeplearning\\models\\ex_models\\45-0.2379.hdf5\n\nEpoch 00046: val_loss improved from 0.23790 to 0.23771, saving model to C:\\Users\\HyunA\\PycharmProjects\\deeplearning\\models\\ex_models\\46-0.2377.hdf5\n\nEpoch 00047: val_loss improved from 0.23771 to 0.23516, saving model to C:\\Users\\HyunA\\PycharmProjects\\deeplearning\\models\\ex_models\\47-0.2352.hdf5\n\nEpoch 00048: val_loss improved from 0.23516 to 0.23241, saving model to C:\\Users\\HyunA\\PycharmProjects\\deeplearning\\models\\ex_models\\48-0.2324.hdf5\n\nEpoch 00049: val_loss improved from 0.23241 to 0.23076, saving model to C:\\Users\\HyunA\\PycharmProjects\\deeplearning\\models\\ex_models\\49-0.2308.hdf5\n"
     ]
    },
    {
     "name": "stdout",
     "output_type": "stream",
     "text": [
      "\nEpoch 00050: val_loss improved from 0.23076 to 0.22995, saving model to C:\\Users\\HyunA\\PycharmProjects\\deeplearning\\models\\ex_models\\50-0.2300.hdf5\n\nEpoch 00051: val_loss improved from 0.22995 to 0.22810, saving model to C:\\Users\\HyunA\\PycharmProjects\\deeplearning\\models\\ex_models\\51-0.2281.hdf5\n\nEpoch 00052: val_loss improved from 0.22810 to 0.22682, saving model to C:\\Users\\HyunA\\PycharmProjects\\deeplearning\\models\\ex_models\\52-0.2268.hdf5\n\nEpoch 00053: val_loss improved from 0.22682 to 0.22533, saving model to C:\\Users\\HyunA\\PycharmProjects\\deeplearning\\models\\ex_models\\53-0.2253.hdf5\n\nEpoch 00054: val_loss improved from 0.22533 to 0.22451, saving model to C:\\Users\\HyunA\\PycharmProjects\\deeplearning\\models\\ex_models\\54-0.2245.hdf5\n\nEpoch 00055: val_loss improved from 0.22451 to 0.22334, saving model to C:\\Users\\HyunA\\PycharmProjects\\deeplearning\\models\\ex_models\\55-0.2233.hdf5\n\nEpoch 00056: val_loss improved from 0.22334 to 0.22143, saving model to C:\\Users\\HyunA\\PycharmProjects\\deeplearning\\models\\ex_models\\56-0.2214.hdf5\n"
     ]
    },
    {
     "name": "stdout",
     "output_type": "stream",
     "text": [
      "\nEpoch 00057: val_loss improved from 0.22143 to 0.21989, saving model to C:\\Users\\HyunA\\PycharmProjects\\deeplearning\\models\\ex_models\\57-0.2199.hdf5\n\nEpoch 00058: val_loss improved from 0.21989 to 0.21835, saving model to C:\\Users\\HyunA\\PycharmProjects\\deeplearning\\models\\ex_models\\58-0.2184.hdf5\n\nEpoch 00059: val_loss improved from 0.21835 to 0.21685, saving model to C:\\Users\\HyunA\\PycharmProjects\\deeplearning\\models\\ex_models\\59-0.2169.hdf5\n\nEpoch 00060: val_loss improved from 0.21685 to 0.21655, saving model to C:\\Users\\HyunA\\PycharmProjects\\deeplearning\\models\\ex_models\\60-0.2165.hdf5\n\nEpoch 00061: val_loss did not improve from 0.21655\n\nEpoch 00062: val_loss improved from 0.21655 to 0.21340, saving model to C:\\Users\\HyunA\\PycharmProjects\\deeplearning\\models\\ex_models\\62-0.2134.hdf5\n\nEpoch 00063: val_loss improved from 0.21340 to 0.21094, saving model to C:\\Users\\HyunA\\PycharmProjects\\deeplearning\\models\\ex_models\\63-0.2109.hdf5\n"
     ]
    },
    {
     "name": "stdout",
     "output_type": "stream",
     "text": [
      "\nEpoch 00064: val_loss improved from 0.21094 to 0.20944, saving model to C:\\Users\\HyunA\\PycharmProjects\\deeplearning\\models\\ex_models\\64-0.2094.hdf5\n\nEpoch 00065: val_loss improved from 0.20944 to 0.20934, saving model to C:\\Users\\HyunA\\PycharmProjects\\deeplearning\\models\\ex_models\\65-0.2093.hdf5\n\nEpoch 00066: val_loss improved from 0.20934 to 0.20852, saving model to C:\\Users\\HyunA\\PycharmProjects\\deeplearning\\models\\ex_models\\66-0.2085.hdf5\n\nEpoch 00067: val_loss improved from 0.20852 to 0.20582, saving model to C:\\Users\\HyunA\\PycharmProjects\\deeplearning\\models\\ex_models\\67-0.2058.hdf5\n\nEpoch 00068: val_loss improved from 0.20582 to 0.20498, saving model to C:\\Users\\HyunA\\PycharmProjects\\deeplearning\\models\\ex_models\\68-0.2050.hdf5\n\nEpoch 00069: val_loss improved from 0.20498 to 0.20365, saving model to C:\\Users\\HyunA\\PycharmProjects\\deeplearning\\models\\ex_models\\69-0.2036.hdf5\n\nEpoch 00070: val_loss improved from 0.20365 to 0.20361, saving model to C:\\Users\\HyunA\\PycharmProjects\\deeplearning\\models\\ex_models\\70-0.2036.hdf5\n"
     ]
    },
    {
     "name": "stdout",
     "output_type": "stream",
     "text": [
      "\nEpoch 00071: val_loss did not improve from 0.20361\n\nEpoch 00072: val_loss improved from 0.20361 to 0.20203, saving model to C:\\Users\\HyunA\\PycharmProjects\\deeplearning\\models\\ex_models\\72-0.2020.hdf5\n\nEpoch 00073: val_loss improved from 0.20203 to 0.19925, saving model to C:\\Users\\HyunA\\PycharmProjects\\deeplearning\\models\\ex_models\\73-0.1992.hdf5\n\nEpoch 00074: val_loss improved from 0.19925 to 0.19813, saving model to C:\\Users\\HyunA\\PycharmProjects\\deeplearning\\models\\ex_models\\74-0.1981.hdf5\n\nEpoch 00075: val_loss improved from 0.19813 to 0.19801, saving model to C:\\Users\\HyunA\\PycharmProjects\\deeplearning\\models\\ex_models\\75-0.1980.hdf5\n\nEpoch 00076: val_loss did not improve from 0.19801\n\nEpoch 00077: val_loss improved from 0.19801 to 0.19744, saving model to C:\\Users\\HyunA\\PycharmProjects\\deeplearning\\models\\ex_models\\77-0.1974.hdf5\n\nEpoch 00078: val_loss improved from 0.19744 to 0.19579, saving model to C:\\Users\\HyunA\\PycharmProjects\\deeplearning\\models\\ex_models\\78-0.1958.hdf5\n"
     ]
    },
    {
     "name": "stdout",
     "output_type": "stream",
     "text": [
      "\nEpoch 00079: val_loss improved from 0.19579 to 0.19303, saving model to C:\\Users\\HyunA\\PycharmProjects\\deeplearning\\models\\ex_models\\79-0.1930.hdf5\n\nEpoch 00080: val_loss improved from 0.19303 to 0.19165, saving model to C:\\Users\\HyunA\\PycharmProjects\\deeplearning\\models\\ex_models\\80-0.1916.hdf5\n\nEpoch 00081: val_loss did not improve from 0.19165\n\nEpoch 00082: val_loss did not improve from 0.19165\n\nEpoch 00083: val_loss improved from 0.19165 to 0.19146, saving model to C:\\Users\\HyunA\\PycharmProjects\\deeplearning\\models\\ex_models\\83-0.1915.hdf5\n\nEpoch 00084: val_loss improved from 0.19146 to 0.18849, saving model to C:\\Users\\HyunA\\PycharmProjects\\deeplearning\\models\\ex_models\\84-0.1885.hdf5\n\nEpoch 00085: val_loss improved from 0.18849 to 0.18763, saving model to C:\\Users\\HyunA\\PycharmProjects\\deeplearning\\models\\ex_models\\85-0.1876.hdf5\n\nEpoch 00086: val_loss improved from 0.18763 to 0.18738, saving model to C:\\Users\\HyunA\\PycharmProjects\\deeplearning\\models\\ex_models\\86-0.1874.hdf5\n\nEpoch 00087: val_loss did not improve from 0.18738\n"
     ]
    },
    {
     "name": "stdout",
     "output_type": "stream",
     "text": [
      "\nEpoch 00088: val_loss did not improve from 0.18738\n\nEpoch 00089: val_loss improved from 0.18738 to 0.18674, saving model to C:\\Users\\HyunA\\PycharmProjects\\deeplearning\\models\\ex_models\\89-0.1867.hdf5\n\nEpoch 00090: val_loss improved from 0.18674 to 0.18412, saving model to C:\\Users\\HyunA\\PycharmProjects\\deeplearning\\models\\ex_models\\90-0.1841.hdf5\n\nEpoch 00091: val_loss improved from 0.18412 to 0.18284, saving model to C:\\Users\\HyunA\\PycharmProjects\\deeplearning\\models\\ex_models\\91-0.1828.hdf5\n\nEpoch 00092: val_loss did not improve from 0.18284\n\nEpoch 00093: val_loss did not improve from 0.18284\n\nEpoch 00094: val_loss did not improve from 0.18284\n\nEpoch 00095: val_loss improved from 0.18284 to 0.18191, saving model to C:\\Users\\HyunA\\PycharmProjects\\deeplearning\\models\\ex_models\\95-0.1819.hdf5\n\nEpoch 00096: val_loss improved from 0.18191 to 0.18099, saving model to C:\\Users\\HyunA\\PycharmProjects\\deeplearning\\models\\ex_models\\96-0.1810.hdf5\n\nEpoch 00097: val_loss improved from 0.18099 to 0.18057, saving model to C:\\Users\\HyunA\\PycharmProjects\\deeplearning\\models\\ex_models\\97-0.1806.hdf5\n"
     ]
    },
    {
     "name": "stdout",
     "output_type": "stream",
     "text": [
      "\nEpoch 00098: val_loss improved from 0.18057 to 0.17966, saving model to C:\\Users\\HyunA\\PycharmProjects\\deeplearning\\models\\ex_models\\98-0.1797.hdf5\n\nEpoch 00099: val_loss improved from 0.17966 to 0.17944, saving model to C:\\Users\\HyunA\\PycharmProjects\\deeplearning\\models\\ex_models\\99-0.1794.hdf5\n\nEpoch 00100: val_loss improved from 0.17944 to 0.17789, saving model to C:\\Users\\HyunA\\PycharmProjects\\deeplearning\\models\\ex_models\\100-0.1779.hdf5\n\nEpoch 00101: val_loss improved from 0.17789 to 0.17652, saving model to C:\\Users\\HyunA\\PycharmProjects\\deeplearning\\models\\ex_models\\101-0.1765.hdf5\n\nEpoch 00102: val_loss improved from 0.17652 to 0.17477, saving model to C:\\Users\\HyunA\\PycharmProjects\\deeplearning\\models\\ex_models\\102-0.1748.hdf5\n\nEpoch 00103: val_loss improved from 0.17477 to 0.17409, saving model to C:\\Users\\HyunA\\PycharmProjects\\deeplearning\\models\\ex_models\\103-0.1741.hdf5\n"
     ]
    },
    {
     "name": "stdout",
     "output_type": "stream",
     "text": [
      "\nEpoch 00104: val_loss did not improve from 0.17409\n\nEpoch 00105: val_loss did not improve from 0.17409\n\nEpoch 00106: val_loss did not improve from 0.17409\n\nEpoch 00107: val_loss improved from 0.17409 to 0.17042, saving model to C:\\Users\\HyunA\\PycharmProjects\\deeplearning\\models\\ex_models\\107-0.1704.hdf5\n\nEpoch 00108: val_loss improved from 0.17042 to 0.16963, saving model to C:\\Users\\HyunA\\PycharmProjects\\deeplearning\\models\\ex_models\\108-0.1696.hdf5\n\nEpoch 00109: val_loss did not improve from 0.16963\n\nEpoch 00110: val_loss did not improve from 0.16963\n\nEpoch 00111: val_loss did not improve from 0.16963\n\nEpoch 00112: val_loss improved from 0.16963 to 0.16689, saving model to C:\\Users\\HyunA\\PycharmProjects\\deeplearning\\models\\ex_models\\112-0.1669.hdf5\n\nEpoch 00113: val_loss improved from 0.16689 to 0.16630, saving model to C:\\Users\\HyunA\\PycharmProjects\\deeplearning\\models\\ex_models\\113-0.1663.hdf5\n\nEpoch 00114: val_loss did not improve from 0.16630\n\nEpoch 00115: val_loss did not improve from 0.16630\n\nEpoch 00116: val_loss did not improve from 0.16630\n\nEpoch 00117: val_loss improved from 0.16630 to 0.16488, saving model to C:\\Users\\HyunA\\PycharmProjects\\deeplearning\\models\\ex_models\\117-0.1649.hdf5\n"
     ]
    },
    {
     "name": "stdout",
     "output_type": "stream",
     "text": [
      "\nEpoch 00118: val_loss improved from 0.16488 to 0.16447, saving model to C:\\Users\\HyunA\\PycharmProjects\\deeplearning\\models\\ex_models\\118-0.1645.hdf5\n\nEpoch 00119: val_loss did not improve from 0.16447\n\nEpoch 00120: val_loss did not improve from 0.16447\n\nEpoch 00121: val_loss improved from 0.16447 to 0.16405, saving model to C:\\Users\\HyunA\\PycharmProjects\\deeplearning\\models\\ex_models\\121-0.1640.hdf5\n\nEpoch 00122: val_loss improved from 0.16405 to 0.16040, saving model to C:\\Users\\HyunA\\PycharmProjects\\deeplearning\\models\\ex_models\\122-0.1604.hdf5\n\nEpoch 00123: val_loss did not improve from 0.16040\n\nEpoch 00124: val_loss did not improve from 0.16040\n\nEpoch 00125: val_loss did not improve from 0.16040\n\nEpoch 00126: val_loss did not improve from 0.16040\n\nEpoch 00127: val_loss improved from 0.16040 to 0.15820, saving model to C:\\Users\\HyunA\\PycharmProjects\\deeplearning\\models\\ex_models\\127-0.1582.hdf5\n\nEpoch 00128: val_loss did not improve from 0.15820\n"
     ]
    },
    {
     "name": "stdout",
     "output_type": "stream",
     "text": [
      "\nEpoch 00129: val_loss did not improve from 0.15820\n\nEpoch 00130: val_loss did not improve from 0.15820\n\nEpoch 00131: val_loss did not improve from 0.15820\n\nEpoch 00132: val_loss improved from 0.15820 to 0.15612, saving model to C:\\Users\\HyunA\\PycharmProjects\\deeplearning\\models\\ex_models\\132-0.1561.hdf5\n\nEpoch 00133: val_loss improved from 0.15612 to 0.15537, saving model to C:\\Users\\HyunA\\PycharmProjects\\deeplearning\\models\\ex_models\\133-0.1554.hdf5\n\nEpoch 00134: val_loss did not improve from 0.15537\n\nEpoch 00135: val_loss did not improve from 0.15537\n\nEpoch 00136: val_loss improved from 0.15537 to 0.15457, saving model to C:\\Users\\HyunA\\PycharmProjects\\deeplearning\\models\\ex_models\\136-0.1546.hdf5\n\nEpoch 00137: val_loss improved from 0.15457 to 0.15348, saving model to C:\\Users\\HyunA\\PycharmProjects\\deeplearning\\models\\ex_models\\137-0.1535.hdf5\n\nEpoch 00138: val_loss did not improve from 0.15348\n\nEpoch 00139: val_loss did not improve from 0.15348\n\nEpoch 00140: val_loss improved from 0.15348 to 0.15236, saving model to C:\\Users\\HyunA\\PycharmProjects\\deeplearning\\models\\ex_models\\140-0.1524.hdf5\n"
     ]
    },
    {
     "name": "stdout",
     "output_type": "stream",
     "text": [
      "\nEpoch 00141: val_loss improved from 0.15236 to 0.15127, saving model to C:\\Users\\HyunA\\PycharmProjects\\deeplearning\\models\\ex_models\\141-0.1513.hdf5\n\nEpoch 00142: val_loss did not improve from 0.15127\n\nEpoch 00143: val_loss did not improve from 0.15127\n\nEpoch 00144: val_loss did not improve from 0.15127\n\nEpoch 00145: val_loss improved from 0.15127 to 0.14922, saving model to C:\\Users\\HyunA\\PycharmProjects\\deeplearning\\models\\ex_models\\145-0.1492.hdf5\n\nEpoch 00146: val_loss improved from 0.14922 to 0.14884, saving model to C:\\Users\\HyunA\\PycharmProjects\\deeplearning\\models\\ex_models\\146-0.1488.hdf5\n\nEpoch 00147: val_loss did not improve from 0.14884\n\nEpoch 00148: val_loss did not improve from 0.14884\n\nEpoch 00149: val_loss did not improve from 0.14884\n\nEpoch 00150: val_loss did not improve from 0.14884\n\nEpoch 00151: val_loss did not improve from 0.14884\n\nEpoch 00152: val_loss did not improve from 0.14884\n\nEpoch 00153: val_loss did not improve from 0.14884\n\nEpoch 00154: val_loss improved from 0.14884 to 0.14608, saving model to C:\\Users\\HyunA\\PycharmProjects\\deeplearning\\models\\ex_models\\154-0.1461.hdf5\n\nEpoch 00155: val_loss improved from 0.14608 to 0.14425, saving model to C:\\Users\\HyunA\\PycharmProjects\\deeplearning\\models\\ex_models\\155-0.1443.hdf5\n"
     ]
    },
    {
     "name": "stdout",
     "output_type": "stream",
     "text": [
      "\nEpoch 00156: val_loss did not improve from 0.14425\n\nEpoch 00157: val_loss did not improve from 0.14425\n\nEpoch 00158: val_loss did not improve from 0.14425\n\nEpoch 00159: val_loss did not improve from 0.14425\n\nEpoch 00160: val_loss improved from 0.14425 to 0.14337, saving model to C:\\Users\\HyunA\\PycharmProjects\\deeplearning\\models\\ex_models\\160-0.1434.hdf5\n\nEpoch 00161: val_loss did not improve from 0.14337\n\nEpoch 00162: val_loss did not improve from 0.14337\n\nEpoch 00163: val_loss improved from 0.14337 to 0.14271, saving model to C:\\Users\\HyunA\\PycharmProjects\\deeplearning\\models\\ex_models\\163-0.1427.hdf5\n\nEpoch 00164: val_loss improved from 0.14271 to 0.14071, saving model to C:\\Users\\HyunA\\PycharmProjects\\deeplearning\\models\\ex_models\\164-0.1407.hdf5\n\nEpoch 00165: val_loss did not improve from 0.14071\n\nEpoch 00166: val_loss did not improve from 0.14071\n\nEpoch 00167: val_loss did not improve from 0.14071\n\nEpoch 00168: val_loss improved from 0.14071 to 0.13943, saving model to C:\\Users\\HyunA\\PycharmProjects\\deeplearning\\models\\ex_models\\168-0.1394.hdf5\n\nEpoch 00169: val_loss improved from 0.13943 to 0.13845, saving model to C:\\Users\\HyunA\\PycharmProjects\\deeplearning\\models\\ex_models\\169-0.1385.hdf5\n"
     ]
    },
    {
     "name": "stdout",
     "output_type": "stream",
     "text": [
      "\nEpoch 00170: val_loss did not improve from 0.13845\n\nEpoch 00171: val_loss did not improve from 0.13845\n\nEpoch 00172: val_loss did not improve from 0.13845\n\nEpoch 00173: val_loss did not improve from 0.13845\n\nEpoch 00174: val_loss did not improve from 0.13845\n\nEpoch 00175: val_loss did not improve from 0.13845\n\nEpoch 00176: val_loss improved from 0.13845 to 0.13548, saving model to C:\\Users\\HyunA\\PycharmProjects\\deeplearning\\models\\ex_models\\176-0.1355.hdf5\n\nEpoch 00177: val_loss did not improve from 0.13548\n\nEpoch 00178: val_loss did not improve from 0.13548\n\nEpoch 00179: val_loss did not improve from 0.13548\n\nEpoch 00180: val_loss did not improve from 0.13548\n\nEpoch 00181: val_loss improved from 0.13548 to 0.13336, saving model to C:\\Users\\HyunA\\PycharmProjects\\deeplearning\\models\\ex_models\\181-0.1334.hdf5\n\nEpoch 00182: val_loss did not improve from 0.13336\n\nEpoch 00183: val_loss did not improve from 0.13336\n\nEpoch 00184: val_loss did not improve from 0.13336\n\nEpoch 00185: val_loss did not improve from 0.13336\n\nEpoch 00186: val_loss improved from 0.13336 to 0.13257, saving model to C:\\Users\\HyunA\\PycharmProjects\\deeplearning\\models\\ex_models\\186-0.1326.hdf5\n\nEpoch 00187: val_loss did not improve from 0.13257\n\nEpoch 00188: val_loss did not improve from 0.13257\n\nEpoch 00189: val_loss did not improve from 0.13257\n\nEpoch 00190: val_loss improved from 0.13257 to 0.13037, saving model to C:\\Users\\HyunA\\PycharmProjects\\deeplearning\\models\\ex_models\\190-0.1304.hdf5\n"
     ]
    },
    {
     "name": "stdout",
     "output_type": "stream",
     "text": [
      "\nEpoch 00191: val_loss did not improve from 0.13037\n\nEpoch 00192: val_loss did not improve from 0.13037\n\nEpoch 00193: val_loss did not improve from 0.13037\n\nEpoch 00194: val_loss improved from 0.13037 to 0.13012, saving model to C:\\Users\\HyunA\\PycharmProjects\\deeplearning\\models\\ex_models\\194-0.1301.hdf5\n\nEpoch 00195: val_loss did not improve from 0.13012\n\nEpoch 00196: val_loss did not improve from 0.13012\n\nEpoch 00197: val_loss improved from 0.13012 to 0.12980, saving model to C:\\Users\\HyunA\\PycharmProjects\\deeplearning\\models\\ex_models\\197-0.1298.hdf5\n\nEpoch 00198: val_loss improved from 0.12980 to 0.12759, saving model to C:\\Users\\HyunA\\PycharmProjects\\deeplearning\\models\\ex_models\\198-0.1276.hdf5\n\nEpoch 00199: val_loss did not improve from 0.12759\n\nEpoch 00200: val_loss did not improve from 0.12759\n\nEpoch 00201: val_loss did not improve from 0.12759\n\nEpoch 00202: val_loss improved from 0.12759 to 0.12663, saving model to C:\\Users\\HyunA\\PycharmProjects\\deeplearning\\models\\ex_models\\202-0.1266.hdf5\n\nEpoch 00203: val_loss did not improve from 0.12663\n"
     ]
    },
    {
     "name": "stdout",
     "output_type": "stream",
     "text": [
      "\nEpoch 00204: val_loss did not improve from 0.12663\n\nEpoch 00205: val_loss did not improve from 0.12663\n\nEpoch 00206: val_loss improved from 0.12663 to 0.12592, saving model to C:\\Users\\HyunA\\PycharmProjects\\deeplearning\\models\\ex_models\\206-0.1259.hdf5\n\nEpoch 00207: val_loss did not improve from 0.12592\n\nEpoch 00208: val_loss did not improve from 0.12592\n\nEpoch 00209: val_loss did not improve from 0.12592\n\nEpoch 00210: val_loss did not improve from 0.12592\n\nEpoch 00211: val_loss improved from 0.12592 to 0.12494, saving model to C:\\Users\\HyunA\\PycharmProjects\\deeplearning\\models\\ex_models\\211-0.1249.hdf5\n\nEpoch 00212: val_loss did not improve from 0.12494\n\nEpoch 00213: val_loss did not improve from 0.12494\n\nEpoch 00214: val_loss did not improve from 0.12494\n\nEpoch 00215: val_loss improved from 0.12494 to 0.12368, saving model to C:\\Users\\HyunA\\PycharmProjects\\deeplearning\\models\\ex_models\\215-0.1237.hdf5\n\nEpoch 00216: val_loss did not improve from 0.12368\n\nEpoch 00217: val_loss did not improve from 0.12368\n\nEpoch 00218: val_loss did not improve from 0.12368\n\nEpoch 00219: val_loss did not improve from 0.12368\n\nEpoch 00220: val_loss did not improve from 0.12368\n\nEpoch 00221: val_loss did not improve from 0.12368\n\nEpoch 00222: val_loss did not improve from 0.12368\n\nEpoch 00223: val_loss did not improve from 0.12368\n\nEpoch 00224: val_loss did not improve from 0.12368\n"
     ]
    },
    {
     "name": "stdout",
     "output_type": "stream",
     "text": [
      "\nEpoch 00225: val_loss did not improve from 0.12368\n\nEpoch 00226: val_loss did not improve from 0.12368\n\nEpoch 00227: val_loss improved from 0.12368 to 0.12215, saving model to C:\\Users\\HyunA\\PycharmProjects\\deeplearning\\models\\ex_models\\227-0.1221.hdf5\n\nEpoch 00228: val_loss did not improve from 0.12215\n\nEpoch 00229: val_loss did not improve from 0.12215\n\nEpoch 00230: val_loss improved from 0.12215 to 0.12083, saving model to C:\\Users\\HyunA\\PycharmProjects\\deeplearning\\models\\ex_models\\230-0.1208.hdf5\n\nEpoch 00231: val_loss improved from 0.12083 to 0.11951, saving model to C:\\Users\\HyunA\\PycharmProjects\\deeplearning\\models\\ex_models\\231-0.1195.hdf5\n\nEpoch 00232: val_loss did not improve from 0.11951\n\nEpoch 00233: val_loss did not improve from 0.11951\n\nEpoch 00234: val_loss improved from 0.11951 to 0.11861, saving model to C:\\Users\\HyunA\\PycharmProjects\\deeplearning\\models\\ex_models\\234-0.1186.hdf5\n\nEpoch 00235: val_loss did not improve from 0.11861\n\nEpoch 00236: val_loss did not improve from 0.11861\n\nEpoch 00237: val_loss did not improve from 0.11861\n\nEpoch 00238: val_loss improved from 0.11861 to 0.11793, saving model to C:\\Users\\HyunA\\PycharmProjects\\deeplearning\\models\\ex_models\\238-0.1179.hdf5\n\nEpoch 00239: val_loss did not improve from 0.11793\n"
     ]
    },
    {
     "name": "stdout",
     "output_type": "stream",
     "text": [
      "\nEpoch 00240: val_loss did not improve from 0.11793\n\nEpoch 00241: val_loss did not improve from 0.11793\n\nEpoch 00242: val_loss improved from 0.11793 to 0.11577, saving model to C:\\Users\\HyunA\\PycharmProjects\\deeplearning\\models\\ex_models\\242-0.1158.hdf5\n\nEpoch 00243: val_loss did not improve from 0.11577\n\nEpoch 00244: val_loss did not improve from 0.11577\n\nEpoch 00245: val_loss did not improve from 0.11577\n\nEpoch 00246: val_loss did not improve from 0.11577\n\nEpoch 00247: val_loss did not improve from 0.11577\n\nEpoch 00248: val_loss did not improve from 0.11577\n\nEpoch 00249: val_loss improved from 0.11577 to 0.11570, saving model to C:\\Users\\HyunA\\PycharmProjects\\deeplearning\\models\\ex_models\\249-0.1157.hdf5\n\nEpoch 00250: val_loss improved from 0.11570 to 0.11351, saving model to C:\\Users\\HyunA\\PycharmProjects\\deeplearning\\models\\ex_models\\250-0.1135.hdf5\n\nEpoch 00251: val_loss did not improve from 0.11351\n\nEpoch 00252: val_loss did not improve from 0.11351\n\nEpoch 00253: val_loss did not improve from 0.11351\n\nEpoch 00254: val_loss improved from 0.11351 to 0.11339, saving model to C:\\Users\\HyunA\\PycharmProjects\\deeplearning\\models\\ex_models\\254-0.1134.hdf5\n"
     ]
    },
    {
     "name": "stdout",
     "output_type": "stream",
     "text": [
      "\nEpoch 00255: val_loss did not improve from 0.11339\n\nEpoch 00256: val_loss did not improve from 0.11339\n\nEpoch 00257: val_loss did not improve from 0.11339\n\nEpoch 00258: val_loss improved from 0.11339 to 0.11264, saving model to C:\\Users\\HyunA\\PycharmProjects\\deeplearning\\models\\ex_models\\258-0.1126.hdf5\n\nEpoch 00259: val_loss did not improve from 0.11264\n\nEpoch 00260: val_loss did not improve from 0.11264\n\nEpoch 00261: val_loss improved from 0.11264 to 0.11232, saving model to C:\\Users\\HyunA\\PycharmProjects\\deeplearning\\models\\ex_models\\261-0.1123.hdf5\n\nEpoch 00262: val_loss improved from 0.11232 to 0.11139, saving model to C:\\Users\\HyunA\\PycharmProjects\\deeplearning\\models\\ex_models\\262-0.1114.hdf5\n\nEpoch 00263: val_loss did not improve from 0.11139\n\nEpoch 00264: val_loss did not improve from 0.11139\n\nEpoch 00265: val_loss did not improve from 0.11139\n\nEpoch 00266: val_loss improved from 0.11139 to 0.10860, saving model to C:\\Users\\HyunA\\PycharmProjects\\deeplearning\\models\\ex_models\\266-0.1086.hdf5\n\nEpoch 00267: val_loss did not improve from 0.10860\n\nEpoch 00268: val_loss did not improve from 0.10860\n\nEpoch 00269: val_loss did not improve from 0.10860\n\nEpoch 00270: val_loss did not improve from 0.10860\n"
     ]
    },
    {
     "name": "stdout",
     "output_type": "stream",
     "text": [
      "\nEpoch 00271: val_loss did not improve from 0.10860\n\nEpoch 00272: val_loss did not improve from 0.10860\n\nEpoch 00273: val_loss did not improve from 0.10860\n\nEpoch 00274: val_loss did not improve from 0.10860\n\nEpoch 00275: val_loss did not improve from 0.10860\n\nEpoch 00276: val_loss did not improve from 0.10860\n\nEpoch 00277: val_loss did not improve from 0.10860\n\nEpoch 00278: val_loss did not improve from 0.10860\n\nEpoch 00279: val_loss improved from 0.10860 to 0.10794, saving model to C:\\Users\\HyunA\\PycharmProjects\\deeplearning\\models\\ex_models\\279-0.1079.hdf5\n\nEpoch 00280: val_loss did not improve from 0.10794\n\nEpoch 00281: val_loss did not improve from 0.10794\n\nEpoch 00282: val_loss did not improve from 0.10794\n\nEpoch 00283: val_loss did not improve from 0.10794\n\nEpoch 00284: val_loss did not improve from 0.10794\n\nEpoch 00285: val_loss did not improve from 0.10794\n\nEpoch 00286: val_loss did not improve from 0.10794\n\nEpoch 00287: val_loss improved from 0.10794 to 0.10619, saving model to C:\\Users\\HyunA\\PycharmProjects\\deeplearning\\models\\ex_models\\287-0.1062.hdf5\n\nEpoch 00288: val_loss did not improve from 0.10619\n\nEpoch 00289: val_loss did not improve from 0.10619\n\nEpoch 00290: val_loss did not improve from 0.10619\n\nEpoch 00291: val_loss did not improve from 0.10619\n\nEpoch 00292: val_loss improved from 0.10619 to 0.10419, saving model to C:\\Users\\HyunA\\PycharmProjects\\deeplearning\\models\\ex_models\\292-0.1042.hdf5\n"
     ]
    },
    {
     "name": "stdout",
     "output_type": "stream",
     "text": [
      "\nEpoch 00293: val_loss did not improve from 0.10419\n\nEpoch 00294: val_loss did not improve from 0.10419\n\nEpoch 00295: val_loss did not improve from 0.10419\n\nEpoch 00296: val_loss did not improve from 0.10419\n\nEpoch 00297: val_loss did not improve from 0.10419\n\nEpoch 00298: val_loss did not improve from 0.10419\n\nEpoch 00299: val_loss improved from 0.10419 to 0.10038, saving model to C:\\Users\\HyunA\\PycharmProjects\\deeplearning\\models\\ex_models\\299-0.1004.hdf5\n\nEpoch 00300: val_loss did not improve from 0.10038\n\nEpoch 00301: val_loss did not improve from 0.10038\n\nEpoch 00302: val_loss did not improve from 0.10038\n\nEpoch 00303: val_loss did not improve from 0.10038\n\nEpoch 00304: val_loss did not improve from 0.10038\n\nEpoch 00305: val_loss did not improve from 0.10038\n\nEpoch 00306: val_loss improved from 0.10038 to 0.09943, saving model to C:\\Users\\HyunA\\PycharmProjects\\deeplearning\\models\\ex_models\\306-0.0994.hdf5\n\nEpoch 00307: val_loss did not improve from 0.09943\n\nEpoch 00308: val_loss did not improve from 0.09943\n\nEpoch 00309: val_loss did not improve from 0.09943\n\nEpoch 00310: val_loss improved from 0.09943 to 0.09895, saving model to C:\\Users\\HyunA\\PycharmProjects\\deeplearning\\models\\ex_models\\310-0.0989.hdf5\n\nEpoch 00311: val_loss did not improve from 0.09895\n"
     ]
    },
    {
     "name": "stdout",
     "output_type": "stream",
     "text": [
      "\nEpoch 00312: val_loss did not improve from 0.09895\n\nEpoch 00313: val_loss did not improve from 0.09895\n\nEpoch 00314: val_loss did not improve from 0.09895\n\nEpoch 00315: val_loss did not improve from 0.09895\n\nEpoch 00316: val_loss did not improve from 0.09895\n\nEpoch 00317: val_loss did not improve from 0.09895\n\nEpoch 00318: val_loss did not improve from 0.09895\n\nEpoch 00319: val_loss did not improve from 0.09895\n\nEpoch 00320: val_loss improved from 0.09895 to 0.09776, saving model to C:\\Users\\HyunA\\PycharmProjects\\deeplearning\\models\\ex_models\\320-0.0978.hdf5\n\nEpoch 00321: val_loss did not improve from 0.09776\n\nEpoch 00322: val_loss did not improve from 0.09776\n\nEpoch 00323: val_loss improved from 0.09776 to 0.09583, saving model to C:\\Users\\HyunA\\PycharmProjects\\deeplearning\\models\\ex_models\\323-0.0958.hdf5\n\nEpoch 00324: val_loss did not improve from 0.09583\n\nEpoch 00325: val_loss did not improve from 0.09583\n\nEpoch 00326: val_loss did not improve from 0.09583\n\nEpoch 00327: val_loss did not improve from 0.09583\n\nEpoch 00328: val_loss did not improve from 0.09583\n\nEpoch 00329: val_loss did not improve from 0.09583\n\nEpoch 00330: val_loss improved from 0.09583 to 0.09418, saving model to C:\\Users\\HyunA\\PycharmProjects\\deeplearning\\models\\ex_models\\330-0.0942.hdf5\n\nEpoch 00331: val_loss did not improve from 0.09418\n\nEpoch 00332: val_loss did not improve from 0.09418\n\nEpoch 00333: val_loss did not improve from 0.09418\n\nEpoch 00334: val_loss improved from 0.09418 to 0.09337, saving model to C:\\Users\\HyunA\\PycharmProjects\\deeplearning\\models\\ex_models\\334-0.0934.hdf5\n"
     ]
    },
    {
     "name": "stdout",
     "output_type": "stream",
     "text": [
      "\nEpoch 00335: val_loss did not improve from 0.09337\n\nEpoch 00336: val_loss did not improve from 0.09337\n\nEpoch 00337: val_loss improved from 0.09337 to 0.09168, saving model to C:\\Users\\HyunA\\PycharmProjects\\deeplearning\\models\\ex_models\\337-0.0917.hdf5\n\nEpoch 00338: val_loss did not improve from 0.09168\n\nEpoch 00339: val_loss did not improve from 0.09168\n\nEpoch 00340: val_loss did not improve from 0.09168\n\nEpoch 00341: val_loss did not improve from 0.09168\n\nEpoch 00342: val_loss did not improve from 0.09168\n\nEpoch 00343: val_loss did not improve from 0.09168\n\nEpoch 00344: val_loss did not improve from 0.09168\n\nEpoch 00345: val_loss did not improve from 0.09168\n\nEpoch 00346: val_loss did not improve from 0.09168\n\nEpoch 00347: val_loss did not improve from 0.09168\n\nEpoch 00348: val_loss did not improve from 0.09168\n\nEpoch 00349: val_loss did not improve from 0.09168\n\nEpoch 00350: val_loss did not improve from 0.09168\n\nEpoch 00351: val_loss did not improve from 0.09168\n\nEpoch 00352: val_loss did not improve from 0.09168\n\nEpoch 00353: val_loss did not improve from 0.09168\n\nEpoch 00354: val_loss did not improve from 0.09168\n\nEpoch 00355: val_loss did not improve from 0.09168\n\nEpoch 00356: val_loss improved from 0.09168 to 0.09062, saving model to C:\\Users\\HyunA\\PycharmProjects\\deeplearning\\models\\ex_models\\356-0.0906.hdf5\n\nEpoch 00357: val_loss did not improve from 0.09062\n"
     ]
    },
    {
     "name": "stdout",
     "output_type": "stream",
     "text": [
      "\nEpoch 00358: val_loss did not improve from 0.09062\n\nEpoch 00359: val_loss did not improve from 0.09062\n\nEpoch 00360: val_loss did not improve from 0.09062\n\nEpoch 00361: val_loss did not improve from 0.09062\n\nEpoch 00362: val_loss improved from 0.09062 to 0.08889, saving model to C:\\Users\\HyunA\\PycharmProjects\\deeplearning\\models\\ex_models\\362-0.0889.hdf5\n\nEpoch 00363: val_loss did not improve from 0.08889\n\nEpoch 00364: val_loss did not improve from 0.08889\n\nEpoch 00365: val_loss did not improve from 0.08889\n\nEpoch 00366: val_loss did not improve from 0.08889\n\nEpoch 00367: val_loss did not improve from 0.08889\n\nEpoch 00368: val_loss did not improve from 0.08889\n\nEpoch 00369: val_loss did not improve from 0.08889\n\nEpoch 00370: val_loss improved from 0.08889 to 0.08670, saving model to C:\\Users\\HyunA\\PycharmProjects\\deeplearning\\models\\ex_models\\370-0.0867.hdf5\n\nEpoch 00371: val_loss did not improve from 0.08670\n\nEpoch 00372: val_loss did not improve from 0.08670\n\nEpoch 00373: val_loss did not improve from 0.08670\n\nEpoch 00374: val_loss improved from 0.08670 to 0.08537, saving model to C:\\Users\\HyunA\\PycharmProjects\\deeplearning\\models\\ex_models\\374-0.0854.hdf5\n\nEpoch 00375: val_loss did not improve from 0.08537\n\nEpoch 00376: val_loss did not improve from 0.08537\n\nEpoch 00377: val_loss did not improve from 0.08537\n"
     ]
    },
    {
     "name": "stdout",
     "output_type": "stream",
     "text": [
      "\nEpoch 00378: val_loss improved from 0.08537 to 0.08506, saving model to C:\\Users\\HyunA\\PycharmProjects\\deeplearning\\models\\ex_models\\378-0.0851.hdf5\n\nEpoch 00379: val_loss did not improve from 0.08506\n\nEpoch 00380: val_loss did not improve from 0.08506\n\nEpoch 00381: val_loss did not improve from 0.08506\n\nEpoch 00382: val_loss improved from 0.08506 to 0.08481, saving model to C:\\Users\\HyunA\\PycharmProjects\\deeplearning\\models\\ex_models\\382-0.0848.hdf5\n\nEpoch 00383: val_loss did not improve from 0.08481\n\nEpoch 00384: val_loss did not improve from 0.08481\n\nEpoch 00385: val_loss did not improve from 0.08481\n\nEpoch 00386: val_loss improved from 0.08481 to 0.08379, saving model to C:\\Users\\HyunA\\PycharmProjects\\deeplearning\\models\\ex_models\\386-0.0838.hdf5\n\nEpoch 00387: val_loss did not improve from 0.08379\n\nEpoch 00388: val_loss did not improve from 0.08379\n\nEpoch 00389: val_loss did not improve from 0.08379\n\nEpoch 00390: val_loss improved from 0.08379 to 0.08315, saving model to C:\\Users\\HyunA\\PycharmProjects\\deeplearning\\models\\ex_models\\390-0.0831.hdf5\n\nEpoch 00391: val_loss did not improve from 0.08315\n"
     ]
    },
    {
     "name": "stdout",
     "output_type": "stream",
     "text": [
      "\nEpoch 00392: val_loss did not improve from 0.08315\n\nEpoch 00393: val_loss did not improve from 0.08315\n\nEpoch 00394: val_loss did not improve from 0.08315\n\nEpoch 00395: val_loss did not improve from 0.08315\n\nEpoch 00396: val_loss did not improve from 0.08315\n\nEpoch 00397: val_loss improved from 0.08315 to 0.08061, saving model to C:\\Users\\HyunA\\PycharmProjects\\deeplearning\\models\\ex_models\\397-0.0806.hdf5\n\nEpoch 00398: val_loss did not improve from 0.08061\n\nEpoch 00399: val_loss did not improve from 0.08061\n\nEpoch 00400: val_loss did not improve from 0.08061\n\nEpoch 00401: val_loss did not improve from 0.08061\n\nEpoch 00402: val_loss did not improve from 0.08061\n\nEpoch 00403: val_loss did not improve from 0.08061\n\nEpoch 00404: val_loss did not improve from 0.08061\n\nEpoch 00405: val_loss did not improve from 0.08061\n\nEpoch 00406: val_loss did not improve from 0.08061\n\nEpoch 00407: val_loss improved from 0.08061 to 0.07965, saving model to C:\\Users\\HyunA\\PycharmProjects\\deeplearning\\models\\ex_models\\407-0.0797.hdf5\n\nEpoch 00408: val_loss did not improve from 0.07965\n\nEpoch 00409: val_loss did not improve from 0.07965\n\nEpoch 00410: val_loss did not improve from 0.07965\n\nEpoch 00411: val_loss did not improve from 0.07965\n\nEpoch 00412: val_loss did not improve from 0.07965\n\nEpoch 00413: val_loss did not improve from 0.07965\n\nEpoch 00414: val_loss did not improve from 0.07965\n\nEpoch 00415: val_loss did not improve from 0.07965\n\nEpoch 00416: val_loss did not improve from 0.07965\n\nEpoch 00417: val_loss did not improve from 0.07965\n"
     ]
    },
    {
     "name": "stdout",
     "output_type": "stream",
     "text": [
      "\nEpoch 00418: val_loss improved from 0.07965 to 0.07906, saving model to C:\\Users\\HyunA\\PycharmProjects\\deeplearning\\models\\ex_models\\418-0.0791.hdf5\n\nEpoch 00419: val_loss did not improve from 0.07906\n\nEpoch 00420: val_loss did not improve from 0.07906\n\nEpoch 00421: val_loss improved from 0.07906 to 0.07670, saving model to C:\\Users\\HyunA\\PycharmProjects\\deeplearning\\models\\ex_models\\421-0.0767.hdf5\n\nEpoch 00422: val_loss did not improve from 0.07670\n\nEpoch 00423: val_loss did not improve from 0.07670\n\nEpoch 00424: val_loss did not improve from 0.07670\n\nEpoch 00425: val_loss improved from 0.07670 to 0.07586, saving model to C:\\Users\\HyunA\\PycharmProjects\\deeplearning\\models\\ex_models\\425-0.0759.hdf5\n\nEpoch 00426: val_loss did not improve from 0.07586\n\nEpoch 00427: val_loss did not improve from 0.07586\n\nEpoch 00428: val_loss did not improve from 0.07586\n\nEpoch 00429: val_loss improved from 0.07586 to 0.07574, saving model to C:\\Users\\HyunA\\PycharmProjects\\deeplearning\\models\\ex_models\\429-0.0757.hdf5\n\nEpoch 00430: val_loss did not improve from 0.07574\n\nEpoch 00431: val_loss did not improve from 0.07574\n\nEpoch 00432: val_loss improved from 0.07574 to 0.07511, saving model to C:\\Users\\HyunA\\PycharmProjects\\deeplearning\\models\\ex_models\\432-0.0751.hdf5\n"
     ]
    },
    {
     "name": "stdout",
     "output_type": "stream",
     "text": [
      "\nEpoch 00433: val_loss did not improve from 0.07511\n\nEpoch 00434: val_loss did not improve from 0.07511\n\nEpoch 00435: val_loss did not improve from 0.07511\n\nEpoch 00436: val_loss did not improve from 0.07511\n\nEpoch 00437: val_loss did not improve from 0.07511\n\nEpoch 00438: val_loss did not improve from 0.07511\n\nEpoch 00439: val_loss improved from 0.07511 to 0.07473, saving model to C:\\Users\\HyunA\\PycharmProjects\\deeplearning\\models\\ex_models\\439-0.0747.hdf5\n\nEpoch 00440: val_loss did not improve from 0.07473\n\nEpoch 00441: val_loss did not improve from 0.07473\n\nEpoch 00442: val_loss did not improve from 0.07473\n\nEpoch 00443: val_loss did not improve from 0.07473\n\nEpoch 00444: val_loss did not improve from 0.07473\n\nEpoch 00445: val_loss did not improve from 0.07473\n\nEpoch 00446: val_loss did not improve from 0.07473\n\nEpoch 00447: val_loss did not improve from 0.07473\n\nEpoch 00448: val_loss improved from 0.07473 to 0.07301, saving model to C:\\Users\\HyunA\\PycharmProjects\\deeplearning\\models\\ex_models\\448-0.0730.hdf5\n\nEpoch 00449: val_loss did not improve from 0.07301\n\nEpoch 00450: val_loss did not improve from 0.07301\n\nEpoch 00451: val_loss did not improve from 0.07301\n\nEpoch 00452: val_loss improved from 0.07301 to 0.07263, saving model to C:\\Users\\HyunA\\PycharmProjects\\deeplearning\\models\\ex_models\\452-0.0726.hdf5\n\nEpoch 00453: val_loss did not improve from 0.07263\n"
     ]
    },
    {
     "name": "stdout",
     "output_type": "stream",
     "text": [
      "\nEpoch 00454: val_loss did not improve from 0.07263\n\nEpoch 00455: val_loss did not improve from 0.07263\n\nEpoch 00456: val_loss did not improve from 0.07263\n\nEpoch 00457: val_loss did not improve from 0.07263\n\nEpoch 00458: val_loss did not improve from 0.07263\n\nEpoch 00459: val_loss improved from 0.07263 to 0.07161, saving model to C:\\Users\\HyunA\\PycharmProjects\\deeplearning\\models\\ex_models\\459-0.0716.hdf5\n\nEpoch 00460: val_loss did not improve from 0.07161\n\nEpoch 00461: val_loss did not improve from 0.07161\n\nEpoch 00462: val_loss did not improve from 0.07161\n\nEpoch 00463: val_loss did not improve from 0.07161\n\nEpoch 00464: val_loss did not improve from 0.07161\n\nEpoch 00465: val_loss did not improve from 0.07161\n\nEpoch 00466: val_loss did not improve from 0.07161\n\nEpoch 00467: val_loss did not improve from 0.07161\n\nEpoch 00468: val_loss did not improve from 0.07161\n\nEpoch 00469: val_loss did not improve from 0.07161\n\nEpoch 00470: val_loss did not improve from 0.07161\n\nEpoch 00471: val_loss did not improve from 0.07161\n\nEpoch 00472: val_loss did not improve from 0.07161\n\nEpoch 00473: val_loss did not improve from 0.07161\n\nEpoch 00474: val_loss did not improve from 0.07161\n\nEpoch 00475: val_loss improved from 0.07161 to 0.07022, saving model to C:\\Users\\HyunA\\PycharmProjects\\deeplearning\\models\\ex_models\\475-0.0702.hdf5\n\nEpoch 00476: val_loss did not improve from 0.07022\n\nEpoch 00477: val_loss did not improve from 0.07022\n\nEpoch 00478: val_loss did not improve from 0.07022\n\nEpoch 00479: val_loss did not improve from 0.07022\n"
     ]
    },
    {
     "name": "stdout",
     "output_type": "stream",
     "text": [
      "\nEpoch 00480: val_loss did not improve from 0.07022\n\nEpoch 00481: val_loss did not improve from 0.07022\n\nEpoch 00482: val_loss did not improve from 0.07022\n\nEpoch 00483: val_loss did not improve from 0.07022\n\nEpoch 00484: val_loss did not improve from 0.07022\n\nEpoch 00485: val_loss did not improve from 0.07022\n\nEpoch 00486: val_loss did not improve from 0.07022\n\nEpoch 00487: val_loss did not improve from 0.07022\n\nEpoch 00488: val_loss improved from 0.07022 to 0.07012, saving model to C:\\Users\\HyunA\\PycharmProjects\\deeplearning\\models\\ex_models\\488-0.0701.hdf5\n\nEpoch 00489: val_loss did not improve from 0.07012\n\nEpoch 00490: val_loss did not improve from 0.07012\n\nEpoch 00491: val_loss did not improve from 0.07012\n\nEpoch 00492: val_loss improved from 0.07012 to 0.07006, saving model to C:\\Users\\HyunA\\PycharmProjects\\deeplearning\\models\\ex_models\\492-0.0701.hdf5\n\nEpoch 00493: val_loss did not improve from 0.07006\n\nEpoch 00494: val_loss did not improve from 0.07006\n\nEpoch 00495: val_loss improved from 0.07006 to 0.06943, saving model to C:\\Users\\HyunA\\PycharmProjects\\deeplearning\\models\\ex_models\\495-0.0694.hdf5\n\nEpoch 00496: val_loss did not improve from 0.06943\n"
     ]
    },
    {
     "name": "stdout",
     "output_type": "stream",
     "text": [
      "\nEpoch 00497: val_loss did not improve from 0.06943\n\nEpoch 00498: val_loss improved from 0.06943 to 0.06833, saving model to C:\\Users\\HyunA\\PycharmProjects\\deeplearning\\models\\ex_models\\498-0.0683.hdf5\n\nEpoch 00499: val_loss did not improve from 0.06833\n\nEpoch 00500: val_loss did not improve from 0.06833\n\nEpoch 00501: val_loss did not improve from 0.06833\n\nEpoch 00502: val_loss improved from 0.06833 to 0.06760, saving model to C:\\Users\\HyunA\\PycharmProjects\\deeplearning\\models\\ex_models\\502-0.0676.hdf5\n\nEpoch 00503: val_loss did not improve from 0.06760\n\nEpoch 00504: val_loss did not improve from 0.06760\n\nEpoch 00505: val_loss did not improve from 0.06760\n\nEpoch 00506: val_loss improved from 0.06760 to 0.06744, saving model to C:\\Users\\HyunA\\PycharmProjects\\deeplearning\\models\\ex_models\\506-0.0674.hdf5\n\nEpoch 00507: val_loss did not improve from 0.06744\n\nEpoch 00508: val_loss did not improve from 0.06744\n\nEpoch 00509: val_loss improved from 0.06744 to 0.06735, saving model to C:\\Users\\HyunA\\PycharmProjects\\deeplearning\\models\\ex_models\\509-0.0673.hdf5\n\nEpoch 00510: val_loss did not improve from 0.06735\n"
     ]
    },
    {
     "name": "stdout",
     "output_type": "stream",
     "text": [
      "\nEpoch 00511: val_loss did not improve from 0.06735\n\nEpoch 00512: val_loss did not improve from 0.06735\n\nEpoch 00513: val_loss improved from 0.06735 to 0.06698, saving model to C:\\Users\\HyunA\\PycharmProjects\\deeplearning\\models\\ex_models\\513-0.0670.hdf5\n\nEpoch 00514: val_loss did not improve from 0.06698\n\nEpoch 00515: val_loss did not improve from 0.06698\n\nEpoch 00516: val_loss improved from 0.06698 to 0.06621, saving model to C:\\Users\\HyunA\\PycharmProjects\\deeplearning\\models\\ex_models\\516-0.0662.hdf5\n\nEpoch 00517: val_loss did not improve from 0.06621\n\nEpoch 00518: val_loss did not improve from 0.06621\n\nEpoch 00519: val_loss did not improve from 0.06621\n\nEpoch 00520: val_loss did not improve from 0.06621\n\nEpoch 00521: val_loss did not improve from 0.06621\n\nEpoch 00522: val_loss did not improve from 0.06621\n\nEpoch 00523: val_loss improved from 0.06621 to 0.06352, saving model to C:\\Users\\HyunA\\PycharmProjects\\deeplearning\\models\\ex_models\\523-0.0635.hdf5\n\nEpoch 00524: val_loss did not improve from 0.06352\n\nEpoch 00525: val_loss did not improve from 0.06352\n\nEpoch 00526: val_loss did not improve from 0.06352\n\nEpoch 00527: val_loss improved from 0.06352 to 0.06325, saving model to C:\\Users\\HyunA\\PycharmProjects\\deeplearning\\models\\ex_models\\527-0.0632.hdf5\n\nEpoch 00528: val_loss did not improve from 0.06325\n"
     ]
    },
    {
     "name": "stdout",
     "output_type": "stream",
     "text": [
      "\nEpoch 00529: val_loss did not improve from 0.06325\n\nEpoch 00530: val_loss improved from 0.06325 to 0.06260, saving model to C:\\Users\\HyunA\\PycharmProjects\\deeplearning\\models\\ex_models\\530-0.0626.hdf5\n\nEpoch 00531: val_loss did not improve from 0.06260\n\nEpoch 00532: val_loss did not improve from 0.06260\n\nEpoch 00533: val_loss did not improve from 0.06260\n\nEpoch 00534: val_loss did not improve from 0.06260\n\nEpoch 00535: val_loss did not improve from 0.06260\n\nEpoch 00536: val_loss did not improve from 0.06260\n\nEpoch 00537: val_loss did not improve from 0.06260\n\nEpoch 00538: val_loss did not improve from 0.06260\n\nEpoch 00539: val_loss did not improve from 0.06260\n\nEpoch 00540: val_loss did not improve from 0.06260\n\nEpoch 00541: val_loss did not improve from 0.06260\n\nEpoch 00542: val_loss did not improve from 0.06260\n\nEpoch 00543: val_loss improved from 0.06260 to 0.06198, saving model to C:\\Users\\HyunA\\PycharmProjects\\deeplearning\\models\\ex_models\\543-0.0620.hdf5\n\nEpoch 00544: val_loss did not improve from 0.06198\n"
     ]
    },
    {
     "name": "stdout",
     "output_type": "stream",
     "text": [
      "\nEpoch 00545: val_loss did not improve from 0.06198\n\nEpoch 00546: val_loss did not improve from 0.06198\n\nEpoch 00547: val_loss improved from 0.06198 to 0.06152, saving model to C:\\Users\\HyunA\\PycharmProjects\\deeplearning\\models\\ex_models\\547-0.0615.hdf5\n\nEpoch 00548: val_loss did not improve from 0.06152\n\nEpoch 00549: val_loss did not improve from 0.06152\n\nEpoch 00550: val_loss did not improve from 0.06152\n\nEpoch 00551: val_loss did not improve from 0.06152\n\nEpoch 00552: val_loss did not improve from 0.06152\n\nEpoch 00553: val_loss did not improve from 0.06152\n\nEpoch 00554: val_loss improved from 0.06152 to 0.06111, saving model to C:\\Users\\HyunA\\PycharmProjects\\deeplearning\\models\\ex_models\\554-0.0611.hdf5\n\nEpoch 00555: val_loss did not improve from 0.06111\n\nEpoch 00556: val_loss did not improve from 0.06111\n\nEpoch 00557: val_loss did not improve from 0.06111\n\nEpoch 00558: val_loss did not improve from 0.06111\n\nEpoch 00559: val_loss did not improve from 0.06111\n\nEpoch 00560: val_loss did not improve from 0.06111\n\nEpoch 00561: val_loss did not improve from 0.06111\n\nEpoch 00562: val_loss did not improve from 0.06111\n\nEpoch 00563: val_loss did not improve from 0.06111\n\nEpoch 00564: val_loss did not improve from 0.06111\n"
     ]
    },
    {
     "name": "stdout",
     "output_type": "stream",
     "text": [
      "\nEpoch 00565: val_loss improved from 0.06111 to 0.06088, saving model to C:\\Users\\HyunA\\PycharmProjects\\deeplearning\\models\\ex_models\\565-0.0609.hdf5\n\nEpoch 00566: val_loss improved from 0.06088 to 0.06027, saving model to C:\\Users\\HyunA\\PycharmProjects\\deeplearning\\models\\ex_models\\566-0.0603.hdf5\n\nEpoch 00567: val_loss did not improve from 0.06027\n\nEpoch 00568: val_loss did not improve from 0.06027\n\nEpoch 00569: val_loss did not improve from 0.06027\n\nEpoch 00570: val_loss did not improve from 0.06027\n\nEpoch 00571: val_loss did not improve from 0.06027\n\nEpoch 00572: val_loss did not improve from 0.06027\n\nEpoch 00573: val_loss did not improve from 0.06027\n\nEpoch 00574: val_loss improved from 0.06027 to 0.05932, saving model to C:\\Users\\HyunA\\PycharmProjects\\deeplearning\\models\\ex_models\\574-0.0593.hdf5\n\nEpoch 00575: val_loss did not improve from 0.05932\n"
     ]
    },
    {
     "name": "stdout",
     "output_type": "stream",
     "text": [
      "\nEpoch 00576: val_loss did not improve from 0.05932\n\nEpoch 00577: val_loss improved from 0.05932 to 0.05923, saving model to C:\\Users\\HyunA\\PycharmProjects\\deeplearning\\models\\ex_models\\577-0.0592.hdf5\n\nEpoch 00578: val_loss improved from 0.05923 to 0.05894, saving model to C:\\Users\\HyunA\\PycharmProjects\\deeplearning\\models\\ex_models\\578-0.0589.hdf5\n\nEpoch 00579: val_loss did not improve from 0.05894\n\nEpoch 00580: val_loss improved from 0.05894 to 0.05773, saving model to C:\\Users\\HyunA\\PycharmProjects\\deeplearning\\models\\ex_models\\580-0.0577.hdf5\n\nEpoch 00581: val_loss did not improve from 0.05773\n\nEpoch 00582: val_loss did not improve from 0.05773\n\nEpoch 00583: val_loss did not improve from 0.05773\n\nEpoch 00584: val_loss did not improve from 0.05773\n\nEpoch 00585: val_loss did not improve from 0.05773\n\nEpoch 00586: val_loss did not improve from 0.05773\n\nEpoch 00587: val_loss did not improve from 0.05773\n\nEpoch 00588: val_loss did not improve from 0.05773\n\nEpoch 00589: val_loss did not improve from 0.05773\n\nEpoch 00590: val_loss did not improve from 0.05773\n"
     ]
    },
    {
     "name": "stdout",
     "output_type": "stream",
     "text": [
      "\nEpoch 00591: val_loss did not improve from 0.05773\n\nEpoch 00592: val_loss did not improve from 0.05773\n\nEpoch 00593: val_loss did not improve from 0.05773\n\nEpoch 00594: val_loss did not improve from 0.05773\n\nEpoch 00595: val_loss did not improve from 0.05773\n\nEpoch 00596: val_loss did not improve from 0.05773\n\nEpoch 00597: val_loss did not improve from 0.05773\n\nEpoch 00598: val_loss improved from 0.05773 to 0.05651, saving model to C:\\Users\\HyunA\\PycharmProjects\\deeplearning\\models\\ex_models\\598-0.0565.hdf5\n\nEpoch 00599: val_loss did not improve from 0.05651\n\nEpoch 00600: val_loss did not improve from 0.05651\n\nEpoch 00601: val_loss did not improve from 0.05651\n\nEpoch 00602: val_loss did not improve from 0.05651\n\nEpoch 00603: val_loss did not improve from 0.05651\n\nEpoch 00604: val_loss did not improve from 0.05651\n\nEpoch 00605: val_loss did not improve from 0.05651\n\nEpoch 00606: val_loss did not improve from 0.05651\n\nEpoch 00607: val_loss did not improve from 0.05651\n\nEpoch 00608: val_loss did not improve from 0.05651\n\nEpoch 00609: val_loss did not improve from 0.05651\n\nEpoch 00610: val_loss did not improve from 0.05651\n\nEpoch 00611: val_loss improved from 0.05651 to 0.05575, saving model to C:\\Users\\HyunA\\PycharmProjects\\deeplearning\\models\\ex_models\\611-0.0557.hdf5\n\nEpoch 00612: val_loss did not improve from 0.05575\n"
     ]
    },
    {
     "name": "stdout",
     "output_type": "stream",
     "text": [
      "\nEpoch 00613: val_loss did not improve from 0.05575\n\nEpoch 00614: val_loss improved from 0.05575 to 0.05548, saving model to C:\\Users\\HyunA\\PycharmProjects\\deeplearning\\models\\ex_models\\614-0.0555.hdf5\n\nEpoch 00615: val_loss did not improve from 0.05548\n\nEpoch 00616: val_loss did not improve from 0.05548\n\nEpoch 00617: val_loss did not improve from 0.05548\n\nEpoch 00618: val_loss improved from 0.05548 to 0.05490, saving model to C:\\Users\\HyunA\\PycharmProjects\\deeplearning\\models\\ex_models\\618-0.0549.hdf5\n\nEpoch 00619: val_loss did not improve from 0.05490\n\nEpoch 00620: val_loss did not improve from 0.05490\n\nEpoch 00621: val_loss improved from 0.05490 to 0.05458, saving model to C:\\Users\\HyunA\\PycharmProjects\\deeplearning\\models\\ex_models\\621-0.0546.hdf5\n\nEpoch 00622: val_loss did not improve from 0.05458\n\nEpoch 00623: val_loss did not improve from 0.05458\n\nEpoch 00624: val_loss improved from 0.05458 to 0.05455, saving model to C:\\Users\\HyunA\\PycharmProjects\\deeplearning\\models\\ex_models\\624-0.0546.hdf5\n\nEpoch 00625: val_loss improved from 0.05455 to 0.05329, saving model to C:\\Users\\HyunA\\PycharmProjects\\deeplearning\\models\\ex_models\\625-0.0533.hdf5\n"
     ]
    },
    {
     "name": "stdout",
     "output_type": "stream",
     "text": [
      "\nEpoch 00626: val_loss did not improve from 0.05329\n\nEpoch 00627: val_loss did not improve from 0.05329\n\nEpoch 00628: val_loss improved from 0.05329 to 0.05304, saving model to C:\\Users\\HyunA\\PycharmProjects\\deeplearning\\models\\ex_models\\628-0.0530.hdf5\n\nEpoch 00629: val_loss did not improve from 0.05304\n\nEpoch 00630: val_loss did not improve from 0.05304\n\nEpoch 00631: val_loss did not improve from 0.05304\n\nEpoch 00632: val_loss did not improve from 0.05304\n\nEpoch 00633: val_loss did not improve from 0.05304\n\nEpoch 00634: val_loss did not improve from 0.05304\n\nEpoch 00635: val_loss did not improve from 0.05304\n\nEpoch 00636: val_loss did not improve from 0.05304\n\nEpoch 00637: val_loss did not improve from 0.05304\n\nEpoch 00638: val_loss did not improve from 0.05304\n\nEpoch 00639: val_loss did not improve from 0.05304\n\nEpoch 00640: val_loss did not improve from 0.05304\n\nEpoch 00641: val_loss did not improve from 0.05304\n\nEpoch 00642: val_loss did not improve from 0.05304\n\nEpoch 00643: val_loss did not improve from 0.05304\n\nEpoch 00644: val_loss did not improve from 0.05304\n\nEpoch 00645: val_loss improved from 0.05304 to 0.05203, saving model to C:\\Users\\HyunA\\PycharmProjects\\deeplearning\\models\\ex_models\\645-0.0520.hdf5\n\nEpoch 00646: val_loss did not improve from 0.05203\n"
     ]
    },
    {
     "name": "stdout",
     "output_type": "stream",
     "text": [
      "\nEpoch 00647: val_loss did not improve from 0.05203\n\nEpoch 00648: val_loss improved from 0.05203 to 0.05161, saving model to C:\\Users\\HyunA\\PycharmProjects\\deeplearning\\models\\ex_models\\648-0.0516.hdf5\n\nEpoch 00649: val_loss did not improve from 0.05161\n\nEpoch 00650: val_loss did not improve from 0.05161\n\nEpoch 00651: val_loss did not improve from 0.05161\n\nEpoch 00652: val_loss did not improve from 0.05161\n\nEpoch 00653: val_loss did not improve from 0.05161\n\nEpoch 00654: val_loss did not improve from 0.05161\n\nEpoch 00655: val_loss did not improve from 0.05161\n\nEpoch 00656: val_loss did not improve from 0.05161\n\nEpoch 00657: val_loss did not improve from 0.05161\n\nEpoch 00658: val_loss did not improve from 0.05161\n\nEpoch 00659: val_loss did not improve from 0.05161\n\nEpoch 00660: val_loss did not improve from 0.05161\n\nEpoch 00661: val_loss did not improve from 0.05161\n\nEpoch 00662: val_loss improved from 0.05161 to 0.05139, saving model to C:\\Users\\HyunA\\PycharmProjects\\deeplearning\\models\\ex_models\\662-0.0514.hdf5\n\nEpoch 00663: val_loss did not improve from 0.05139\n\nEpoch 00664: val_loss did not improve from 0.05139\n\nEpoch 00665: val_loss improved from 0.05139 to 0.05113, saving model to C:\\Users\\HyunA\\PycharmProjects\\deeplearning\\models\\ex_models\\665-0.0511.hdf5\n"
     ]
    },
    {
     "name": "stdout",
     "output_type": "stream",
     "text": [
      "\nEpoch 00666: val_loss did not improve from 0.05113\n\nEpoch 00667: val_loss did not improve from 0.05113\n\nEpoch 00668: val_loss did not improve from 0.05113\n\nEpoch 00669: val_loss improved from 0.05113 to 0.05032, saving model to C:\\Users\\HyunA\\PycharmProjects\\deeplearning\\models\\ex_models\\669-0.0503.hdf5\n\nEpoch 00670: val_loss did not improve from 0.05032\n\nEpoch 00671: val_loss improved from 0.05032 to 0.04981, saving model to C:\\Users\\HyunA\\PycharmProjects\\deeplearning\\models\\ex_models\\671-0.0498.hdf5\n\nEpoch 00672: val_loss did not improve from 0.04981\n\nEpoch 00673: val_loss did not improve from 0.04981\n\nEpoch 00674: val_loss did not improve from 0.04981\n\nEpoch 00675: val_loss did not improve from 0.04981\n\nEpoch 00676: val_loss did not improve from 0.04981\n\nEpoch 00677: val_loss improved from 0.04981 to 0.04856, saving model to C:\\Users\\HyunA\\PycharmProjects\\deeplearning\\models\\ex_models\\677-0.0486.hdf5\n\nEpoch 00678: val_loss did not improve from 0.04856\n\nEpoch 00679: val_loss did not improve from 0.04856\n\nEpoch 00680: val_loss improved from 0.04856 to 0.04825, saving model to C:\\Users\\HyunA\\PycharmProjects\\deeplearning\\models\\ex_models\\680-0.0482.hdf5\n"
     ]
    },
    {
     "name": "stdout",
     "output_type": "stream",
     "text": [
      "\nEpoch 00681: val_loss did not improve from 0.04825\n\nEpoch 00682: val_loss did not improve from 0.04825\n\nEpoch 00683: val_loss did not improve from 0.04825\n\nEpoch 00684: val_loss did not improve from 0.04825\n\nEpoch 00685: val_loss did not improve from 0.04825\n\nEpoch 00686: val_loss did not improve from 0.04825\n\nEpoch 00687: val_loss did not improve from 0.04825\n\nEpoch 00688: val_loss did not improve from 0.04825\n\nEpoch 00689: val_loss did not improve from 0.04825\n\nEpoch 00690: val_loss did not improve from 0.04825\n\nEpoch 00691: val_loss did not improve from 0.04825\n\nEpoch 00692: val_loss improved from 0.04825 to 0.04814, saving model to C:\\Users\\HyunA\\PycharmProjects\\deeplearning\\models\\ex_models\\692-0.0481.hdf5\n\nEpoch 00693: val_loss did not improve from 0.04814\n\nEpoch 00694: val_loss improved from 0.04814 to 0.04762, saving model to C:\\Users\\HyunA\\PycharmProjects\\deeplearning\\models\\ex_models\\694-0.0476.hdf5\n\nEpoch 00695: val_loss improved from 0.04762 to 0.04725, saving model to C:\\Users\\HyunA\\PycharmProjects\\deeplearning\\models\\ex_models\\695-0.0473.hdf5\n\nEpoch 00696: val_loss did not improve from 0.04725\n\nEpoch 00697: val_loss did not improve from 0.04725\n\nEpoch 00698: val_loss improved from 0.04725 to 0.04527, saving model to C:\\Users\\HyunA\\PycharmProjects\\deeplearning\\models\\ex_models\\698-0.0453.hdf5\n"
     ]
    },
    {
     "name": "stdout",
     "output_type": "stream",
     "text": [
      "\nEpoch 00699: val_loss improved from 0.04527 to 0.04430, saving model to C:\\Users\\HyunA\\PycharmProjects\\deeplearning\\models\\ex_models\\699-0.0443.hdf5\n\nEpoch 00700: val_loss did not improve from 0.04430\n\nEpoch 00701: val_loss improved from 0.04430 to 0.04333, saving model to C:\\Users\\HyunA\\PycharmProjects\\deeplearning\\models\\ex_models\\701-0.0433.hdf5\n\nEpoch 00702: val_loss did not improve from 0.04333\n\nEpoch 00703: val_loss did not improve from 0.04333\n\nEpoch 00704: val_loss did not improve from 0.04333\n\nEpoch 00705: val_loss did not improve from 0.04333\n\nEpoch 00706: val_loss improved from 0.04333 to 0.04328, saving model to C:\\Users\\HyunA\\PycharmProjects\\deeplearning\\models\\ex_models\\706-0.0433.hdf5\n\nEpoch 00707: val_loss did not improve from 0.04328\n\nEpoch 00708: val_loss did not improve from 0.04328\n\nEpoch 00709: val_loss did not improve from 0.04328\n\nEpoch 00710: val_loss did not improve from 0.04328\n\nEpoch 00711: val_loss did not improve from 0.04328\n"
     ]
    },
    {
     "name": "stdout",
     "output_type": "stream",
     "text": [
      "\nEpoch 00712: val_loss did not improve from 0.04328\n\nEpoch 00713: val_loss did not improve from 0.04328\n\nEpoch 00714: val_loss did not improve from 0.04328\n\nEpoch 00715: val_loss did not improve from 0.04328\n\nEpoch 00716: val_loss did not improve from 0.04328\n\nEpoch 00717: val_loss did not improve from 0.04328\n\nEpoch 00718: val_loss did not improve from 0.04328\n\nEpoch 00719: val_loss did not improve from 0.04328\n\nEpoch 00720: val_loss did not improve from 0.04328\n\nEpoch 00721: val_loss did not improve from 0.04328\n\nEpoch 00722: val_loss did not improve from 0.04328\n\nEpoch 00723: val_loss did not improve from 0.04328\n\nEpoch 00724: val_loss did not improve from 0.04328\n\nEpoch 00725: val_loss did not improve from 0.04328\n\nEpoch 00726: val_loss did not improve from 0.04328\n\nEpoch 00727: val_loss did not improve from 0.04328\n\nEpoch 00728: val_loss did not improve from 0.04328\n\nEpoch 00729: val_loss did not improve from 0.04328\n\nEpoch 00730: val_loss did not improve from 0.04328\n\nEpoch 00731: val_loss did not improve from 0.04328\n\nEpoch 00732: val_loss did not improve from 0.04328\n\nEpoch 00733: val_loss did not improve from 0.04328\n\nEpoch 00734: val_loss did not improve from 0.04328\n\nEpoch 00735: val_loss did not improve from 0.04328\n\nEpoch 00736: val_loss did not improve from 0.04328\n\nEpoch 00737: val_loss did not improve from 0.04328\n\nEpoch 00738: val_loss did not improve from 0.04328\n\nEpoch 00739: val_loss did not improve from 0.04328\n\nEpoch 00740: val_loss did not improve from 0.04328\n\nEpoch 00741: val_loss did not improve from 0.04328\n\nEpoch 00742: val_loss did not improve from 0.04328\n\nEpoch 00743: val_loss did not improve from 0.04328\n\nEpoch 00744: val_loss did not improve from 0.04328\n\nEpoch 00745: val_loss did not improve from 0.04328\n\nEpoch 00746: val_loss did not improve from 0.04328\n\nEpoch 00747: val_loss did not improve from 0.04328\n\nEpoch 00748: val_loss did not improve from 0.04328\n\nEpoch 00749: val_loss did not improve from 0.04328\n"
     ]
    },
    {
     "name": "stdout",
     "output_type": "stream",
     "text": [
      "\nEpoch 00750: val_loss did not improve from 0.04328\n\nEpoch 00751: val_loss did not improve from 0.04328\n\nEpoch 00752: val_loss did not improve from 0.04328\n\nEpoch 00753: val_loss did not improve from 0.04328\n\nEpoch 00754: val_loss did not improve from 0.04328\n\nEpoch 00755: val_loss did not improve from 0.04328\n\nEpoch 00756: val_loss did not improve from 0.04328\n\nEpoch 00757: val_loss did not improve from 0.04328\n\nEpoch 00758: val_loss did not improve from 0.04328\n\nEpoch 00759: val_loss did not improve from 0.04328\n\nEpoch 00760: val_loss did not improve from 0.04328\n\nEpoch 00761: val_loss did not improve from 0.04328\n\nEpoch 00762: val_loss did not improve from 0.04328\n\nEpoch 00763: val_loss did not improve from 0.04328\n\nEpoch 00764: val_loss did not improve from 0.04328\n\nEpoch 00765: val_loss did not improve from 0.04328\n\nEpoch 00766: val_loss did not improve from 0.04328\n\nEpoch 00767: val_loss did not improve from 0.04328\n\nEpoch 00768: val_loss did not improve from 0.04328\n\nEpoch 00769: val_loss did not improve from 0.04328\n\nEpoch 00770: val_loss did not improve from 0.04328\n\nEpoch 00771: val_loss did not improve from 0.04328\n\nEpoch 00772: val_loss did not improve from 0.04328\n\nEpoch 00773: val_loss did not improve from 0.04328\n\nEpoch 00774: val_loss did not improve from 0.04328\n\nEpoch 00775: val_loss did not improve from 0.04328\n\nEpoch 00776: val_loss did not improve from 0.04328\n\nEpoch 00777: val_loss did not improve from 0.04328\n\nEpoch 00778: val_loss did not improve from 0.04328\n\nEpoch 00779: val_loss did not improve from 0.04328\n\nEpoch 00780: val_loss did not improve from 0.04328\n\nEpoch 00781: val_loss did not improve from 0.04328\n\nEpoch 00782: val_loss did not improve from 0.04328\n\nEpoch 00783: val_loss did not improve from 0.04328\n\nEpoch 00784: val_loss did not improve from 0.04328\n\nEpoch 00785: val_loss did not improve from 0.04328\n"
     ]
    },
    {
     "name": "stdout",
     "output_type": "stream",
     "text": [
      "\nEpoch 00786: val_loss did not improve from 0.04328\n\nEpoch 00787: val_loss did not improve from 0.04328\n\nEpoch 00788: val_loss did not improve from 0.04328\n\nEpoch 00789: val_loss did not improve from 0.04328\n\nEpoch 00790: val_loss did not improve from 0.04328\n\nEpoch 00791: val_loss did not improve from 0.04328\n\nEpoch 00792: val_loss did not improve from 0.04328\n\nEpoch 00793: val_loss did not improve from 0.04328\n\nEpoch 00794: val_loss did not improve from 0.04328\n\nEpoch 00795: val_loss did not improve from 0.04328\n\nEpoch 00796: val_loss did not improve from 0.04328\n\nEpoch 00797: val_loss did not improve from 0.04328\n\nEpoch 00798: val_loss did not improve from 0.04328\n\nEpoch 00799: val_loss did not improve from 0.04328\n\nEpoch 00800: val_loss did not improve from 0.04328\n\nEpoch 00801: val_loss did not improve from 0.04328\n\nEpoch 00802: val_loss did not improve from 0.04328\n\nEpoch 00803: val_loss did not improve from 0.04328\n\nEpoch 00804: val_loss did not improve from 0.04328\n\nEpoch 00805: val_loss did not improve from 0.04328\n\nEpoch 00806: val_loss did not improve from 0.04328\n"
     ]
    },
    {
     "data": {
      "text/plain": [
       "<keras.callbacks.History at 0x22e0ae02f60>"
      ]
     },
     "execution_count": 7,
     "metadata": {},
     "output_type": "execute_result"
    }
   ],
   "source": [
    "# 모델 업데이트와 조기종료 하기 \n",
    "\n",
    "# 필요한 라이브러리 import\n",
    "from keras.models import Sequential\n",
    "from keras.layers import Dense\n",
    "from keras.callbacks import ModelCheckpoint, EarlyStopping\n",
    "\n",
    "import numpy as np\n",
    "import pandas as pd\n",
    "import tensorflow as tf\n",
    "import os\n",
    "\n",
    "# 시드값 설정\n",
    "seed = 0 \n",
    "np.random.seed(seed)\n",
    "tf.set_random_seed(seed)\n",
    "\n",
    "# 데이터 업로드\n",
    "pd_pre = pd.read_csv('C:\\\\Users\\\\HyunA\\\\PycharmProjects\\\\deeplearning\\\\dataset\\\\wine.csv'\n",
    "                     , header=None)\n",
    "df = pd_pre.sample(frac=0.15)\n",
    "dataset = df.values\n",
    "\n",
    "# 데이터 설정\n",
    "X = dataset[:,0:12]\n",
    "Y = dataset[:,12]\n",
    "\n",
    "# 모델 생성 ( 30 ,12, 8, 1)\n",
    "model = Sequential()\n",
    "model.add(Dense(30,input_dim=12,activation='relu'))\n",
    "model.add(Dense(12,activation='relu'))\n",
    "model.add(Dense(8, activation='relu'))\n",
    "model.add(Dense(1, activation='sigmoid'))\n",
    "\n",
    "# 모델 컴파일 ( loss, optimizer, matrics) \n",
    "model.compile(loss='binary_crossentropy',\n",
    "              optimizer='adam',\n",
    "              metrics = ['accuracy'])\n",
    "\n",
    "# 모델 저장 경로 설정\n",
    "MODEL_DIR = 'C:\\\\Users\\\\HyunA\\\\PycharmProjects\\\\deeplearning\\\\models\\\\ex_models'\n",
    "if not os.path.exists(MODEL_DIR):\n",
    "    os.mkdir(MODEL_DIR)\n",
    "\n",
    "modelpath = \"C:\\\\Users\\\\HyunA\\\\PycharmProjects\\\\deeplearning\\\\models\\\\ex_models\\\\{epoch:02d}-{val_loss:.4f}.hdf5\"         \n",
    "\n",
    "# 모델 업데이트 및 저장 \n",
    "checkpointer = ModelCheckpoint(filepath=modelpath, monitor='val_loss',verbose=1,save_best_only=True)\n",
    "\n",
    "# 학습 자동 중단 설정\n",
    "early_stopping_callback = EarlyStopping(monitor='val_loss',patience=100)\n",
    "\n",
    "# 모델 학습 \n",
    "model.fit(X,Y, validation_split=0.2, epochs=3500, batch_size=500, verbose=0,\n",
    "          callbacks=[early_stopping_callback,checkpointer])"
   ]
  }
 ],
 "metadata": {
  "kernelspec": {
   "display_name": "Python 2",
   "language": "python",
   "name": "python2"
  },
  "language_info": {
   "codemirror_mode": {
    "name": "ipython",
    "version": 2
   },
   "file_extension": ".py",
   "mimetype": "text/x-python",
   "name": "python",
   "nbconvert_exporter": "python",
   "pygments_lexer": "ipython2",
   "version": "2.7.6"
  }
 },
 "nbformat": 4,
 "nbformat_minor": 0
}

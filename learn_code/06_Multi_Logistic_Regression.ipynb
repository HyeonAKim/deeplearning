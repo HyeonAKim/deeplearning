{
 "cells": [
  {
   "cell_type": "code",
   "execution_count": 7,
   "metadata": {
    "collapsed": true
   },
   "outputs": [],
   "source": [
    "import tensorflow as tf\n",
    "import numpy as np\n",
    "\n",
    "# 랜덤시드 설정\n",
    "seed = 0\n",
    "np.random.seed(seed)\n",
    "tf.set_random_seed(seed)"
   ]
  },
  {
   "cell_type": "code",
   "execution_count": 8,
   "metadata": {},
   "outputs": [],
   "source": [
    "# 데이터 입력\n",
    "x_data = np.array([[2,3],[4,3],[6,4],[8,6],[10,7],[12,8],[14,9]])\n",
    "y_data = np.array([0,0,0,1,1,1,1]).reshape(7,1)\n",
    "\n",
    "# place holder 생성 tf.placeholder('데이터형','행렬의차원','이름')\n",
    "X = tf.placeholder(tf.float64, shape=[None,2])\n",
    "Y = tf.placeholder(tf.float64, shape=[None,1])\n"
   ]
  },
  {
   "cell_type": "code",
   "execution_count": 9,
   "metadata": {},
   "outputs": [],
   "source": [
    "# 기울기 a 와 바이어스 b의 값을 임의로 정하기 \n",
    "a = tf.Variable(tf.random_uniform([2,1],dtype=tf.float64))\n",
    "b = tf.Variable(tf.random_uniform([1],dtype=tf.float64))"
   ]
  },
  {
   "cell_type": "code",
   "execution_count": 10,
   "metadata": {},
   "outputs": [],
   "source": [
    "# 시그모이드 방정식 \n",
    "y = tf.sigmoid(tf.matmul(X,a)+b)"
   ]
  },
  {
   "cell_type": "code",
   "execution_count": 11,
   "metadata": {},
   "outputs": [],
   "source": [
    "# 오차함수\n",
    "loss = -tf.reduce_mean(Y*tf.log(y)+(1-Y)*tf.log(1-y))"
   ]
  },
  {
   "cell_type": "code",
   "execution_count": 13,
   "metadata": {},
   "outputs": [],
   "source": [
    "# 학습률 값\n",
    "learing_rate = 0.1"
   ]
  },
  {
   "cell_type": "code",
   "execution_count": 14,
   "metadata": {},
   "outputs": [],
   "source": [
    "#오차를 최소로하는 값 찾기\n",
    "gradient_decent = tf.train.GradientDescentOptimizer(learing_rate).minimize(loss)\n",
    "\n",
    "predicted = tf.cast(y>0.5, dtype=tf.float64)\n",
    "accuracy = tf.reduce_mean(tf.cast(tf.equal(predicted,Y),dtype=tf.float64))"
   ]
  },
  {
   "cell_type": "code",
   "execution_count": 24,
   "metadata": {},
   "outputs": [
    {
     "name": "stdout",
     "output_type": "stream",
     "text": [
      "step=300, a1=0.7993, a2=-0.5449, b=-2.3563, loss=0.2714\nstep=600, a1=0.8128, a2=-0.2880, b=-3.8503, loss=0.1934\n"
     ]
    },
    {
     "name": "stdout",
     "output_type": "stream",
     "text": [
      "step=900, a1=0.7282, a2=0.0339, b=-4.9250, loss=0.1509\nstep=1200, a1=0.6274, a2=0.3376, b=-5.7733, loss=0.1234\n"
     ]
    },
    {
     "name": "stdout",
     "output_type": "stream",
     "text": [
      "step=1500, a1=0.5302, a2=0.6093, b=-6.4758, loss=0.1041\nstep=1800, a1=0.4417, a2=0.8494, b=-7.0759, loss=0.0899\n"
     ]
    },
    {
     "name": "stdout",
     "output_type": "stream",
     "text": [
      "step=2100, a1=0.3629, a2=1.0617, b=-7.6000, loss=0.0790\nstep=2400, a1=0.2931, a2=1.2502, b=-8.0653, loss=0.0704\n"
     ]
    },
    {
     "name": "stdout",
     "output_type": "stream",
     "text": [
      "step=2700, a1=0.2311, a2=1.4187, b=-8.4837, loss=0.0635\nstep=3000, a1=0.1759, a2=1.5704, b=-8.8639, loss=0.0578\n"
     ]
    },
    {
     "name": "stdout",
     "output_type": "stream",
     "text": [
      "공부한 시간:7,과외 수업 횟수:6\n합격가능성: 85.70 %\n"
     ]
    }
   ],
   "source": [
    "# 학습하기\n",
    "with tf.Session() as sess:\n",
    "    sess.run(tf.global_variables_initializer())\n",
    "    \n",
    "    for i in range(3001):\n",
    "        a_, b_, loss_, _ = sess.run([a, b, loss, gradient_decent], feed_dict={X:x_data, Y:y_data})\n",
    "        if (i+1) % 300 == 0 :\n",
    "            print(\"step=%d, a1=%.4f, a2=%.4f, b=%.4f, loss=%.4f\"%(i+1, a_[0], a_[1], b_,loss_))\n",
    "    \n",
    "    # 예측하기\n",
    "    new_x = np.array([7,6.]).reshape(1,2)\n",
    "    new_y = sess.run(y, feed_dict={X:new_x})\n",
    "    \n",
    "    print(\"공부한 시간:%d,과외 수업 횟수:%d\"%(new_x[:,0],new_x[:,1]))\n",
    "    print(\"합격가능성:%6.2f %%\"%(new_y*100))"
   ]
  },
  {
   "cell_type": "code",
   "execution_count": 25,
   "metadata": {},
   "outputs": [],
   "source": [
    ""
   ]
  },
  {
   "cell_type": "code",
   "execution_count": null,
   "metadata": {},
   "outputs": [],
   "source": []
  }
 ],
 "metadata": {
  "kernelspec": {
   "display_name": "Python 2",
   "language": "python",
   "name": "python2"
  },
  "language_info": {
   "codemirror_mode": {
    "name": "ipython",
    "version": 2
   },
   "file_extension": ".py",
   "mimetype": "text/x-python",
   "name": "python",
   "nbconvert_exporter": "python",
   "pygments_lexer": "ipython2",
   "version": "2.7.6"
  }
 },
 "nbformat": 4,
 "nbformat_minor": 0
}

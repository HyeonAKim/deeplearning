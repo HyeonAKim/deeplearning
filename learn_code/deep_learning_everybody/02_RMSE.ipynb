{
 "cells": [
  {
   "cell_type": "code",
   "execution_count": 2,
   "metadata": {
    "collapsed": true
   },
   "outputs": [],
   "source": [
    "import numpy as np"
   ]
  },
  {
   "cell_type": "code",
   "execution_count": 3,
   "metadata": {},
   "outputs": [],
   "source": [
    "# 기울기  a 와 y 절편 b\n",
    "ab  = [3,76]"
   ]
  },
  {
   "cell_type": "code",
   "execution_count": 4,
   "metadata": {},
   "outputs": [],
   "source": [
    "# x,y의 데이터 값\n",
    "data = [[2,81],[4,93],[6,91],[8,97]]\n",
    "x = [i[0] for i in data]\n",
    "y = [i[1] for i in data]\n"
   ]
  },
  {
   "cell_type": "code",
   "execution_count": 11,
   "metadata": {},
   "outputs": [],
   "source": [
    "# y = ax + b 에 a와 b 값을 대입하여 결과를 출력하는 함수\n",
    "def predict(x):\n",
    "    return ab[0]*x+ab[1]"
   ]
  },
  {
   "cell_type": "code",
   "execution_count": 12,
   "metadata": {},
   "outputs": [],
   "source": [
    "# RMSE 함수\n",
    "def rmse(p,a):\n",
    "    return np.sqrt(((p-a)**2).mean())"
   ]
  },
  {
   "cell_type": "code",
   "execution_count": 13,
   "metadata": {},
   "outputs": [],
   "source": [
    "# RMSE 함수를 각 y 값에 대입하여 최종 값을 구하는 함수\n",
    "def rmse_val(predict_result, y):\n",
    "    return rmse(np.array(predict_result), np.array(y))"
   ]
  },
  {
   "cell_type": "code",
   "execution_count": 14,
   "metadata": {},
   "outputs": [],
   "source": [
    "# 예측 값이 들어갈 빈 리스트\n",
    "predict_result = []"
   ]
  },
  {
   "cell_type": "code",
   "execution_count": 15,
   "metadata": {},
   "outputs": [
    {
     "name": "stdout",
     "output_type": "stream",
     "text": [
      "공부한 시간=2, 실제점수 =81, 예측점수=82\n공부한 시간=4, 실제점수 =93, 예측점수=88\n공부한 시간=6, 실제점수 =91, 예측점수=94\n공부한 시간=8, 실제점수 =97, 예측점수=100\nrmse 최종값:3.3166247903554\n"
     ]
    }
   ],
   "source": [
    "# 모든 x 값에 한번씩 대입하여 \n",
    "for i in range(len(x)) :\n",
    "    predict_result.append(predict(x[i]))\n",
    "    print(\"공부한 시간=%.f, 실제점수 =%.f, 예측점수=%.f\"%(x[i],y[i],predict(x[i])))\n",
    "\n",
    "print(\"rmse 최종값:\" + str(rmse_val(predict_result,y)))"
   ]
  },
  {
   "cell_type": "code",
   "execution_count": null,
   "metadata": {},
   "outputs": [],
   "source": []
  }
 ],
 "metadata": {
  "kernelspec": {
   "display_name": "Python 2",
   "language": "python",
   "name": "python2"
  },
  "language_info": {
   "codemirror_mode": {
    "name": "ipython",
    "version": 2
   },
   "file_extension": ".py",
   "mimetype": "text/x-python",
   "name": "python",
   "nbconvert_exporter": "python",
   "pygments_lexer": "ipython2",
   "version": "2.7.6"
  }
 },
 "nbformat": 4,
 "nbformat_minor": 0
}

{
 "cells": [
  {
   "cell_type": "code",
   "execution_count": 1,
   "metadata": {
    "collapsed": true
   },
   "outputs": [
    {
     "name": "stderr",
     "output_type": "stream",
     "text": [
      "C:\\Users\\HyunA\\AppData\\Local\\conda\\conda\\envs\\tutorial\\lib\\site-packages\\h5py\\__init__.py:36: FutureWarning: Conversion of the second argument of issubdtype from `float` to `np.floating` is deprecated. In future, it will be treated as `np.float64 == np.dtype(float).type`.\n  from ._conv import register_converters as _register_converters\n"
     ]
    }
   ],
   "source": [
    "import tensorflow as tf"
   ]
  },
  {
   "cell_type": "code",
   "execution_count": 7,
   "metadata": {},
   "outputs": [],
   "source": [
    "# x1, x2, y 의 값\n",
    "data = [[2,0,81], [4,4,93], [6,2,91], [8,3,97]]\n",
    "x1 = [x_row1[0] for x_row1 in data]\n",
    "x2 = [x_row2[1] for x_row2 in data]\n",
    "y_data = [y_row[2] for y_row in data]\n",
    "\n",
    "learing_rate = 0.1"
   ]
  },
  {
   "cell_type": "code",
   "execution_count": 8,
   "metadata": {},
   "outputs": [],
   "source": [
    "# 기울기와 절편\n",
    "# 기울기 a 와 절편 b는 임의로 선정  \n",
    "# 0~ 10 사이의 임의의 수 1개 생성 , 데이터 형식 실수형 float64, 실행시 같은 값 나오게 \n",
    "a1 = tf.Variable(tf.random_uniform([1],0,10,dtype = tf.float64, seed = 0))\n",
    "a2 = tf.Variable(tf.random_uniform([1],0,10,dtype = tf.float64, seed = 0))\n",
    "# 0 ~ 100 사이의 임의의 수 1개 생성\n",
    "b = tf.Variable(tf.random_uniform([1],0,100, dtype=tf.float64, seed = 0))\n"
   ]
  },
  {
   "cell_type": "code",
   "execution_count": 9,
   "metadata": {},
   "outputs": [],
   "source": [
    "# 다중 선형회귀 방정식\n",
    "y = a1*x1 + a2*x2 +b"
   ]
  },
  {
   "cell_type": "code",
   "execution_count": 10,
   "metadata": {},
   "outputs": [],
   "source": [
    "## 평균제곱근 오차식 구하기 \n",
    "rmse = tf.sqrt(tf.reduce_mean(tf.square(y-y_data)))\n",
    "\n",
    "# 경사하강법 구하기 : 학습률을 받아서 rmse를 최소로 하는 기울기와 절편 구하기 \n",
    "gradient_decent = tf.train.GradientDescentOptimizer(learing_rate).minimize(rmse)"
   ]
  },
  {
   "cell_type": "code",
   "execution_count": 11,
   "metadata": {},
   "outputs": [
    {
     "name": "stdout",
     "output_type": "stream",
     "text": [
      "Epoch:0, RMSE=49.1842, 기울기 a1 = 7.5270,기울기 a2 = 7.8160, y절편 b =80.5980\nEpoch:100, RMSE=1.8368, 기울기 a1 = 1.1306,기울기 a2 = 2.1316, y절편 b =78.5119\nEpoch:200, RMSE=1.8370, 기울기 a1 = 1.1879,기울기 a2 = 2.1487, y절편 b =78.1057\nEpoch:300, RMSE=1.8370, 기울기 a1 = 1.2122,기울기 a2 = 2.1571, y절편 b =77.9352\nEpoch:400, RMSE=1.8370, 기울기 a1 = 1.2226,기울기 a2 = 2.1607, y절편 b =77.8636\nEpoch:500, RMSE=1.8370, 기울기 a1 = 1.2269,기울기 a2 = 2.1622, y절편 b =77.8335\nEpoch:600, RMSE=1.8370, 기울기 a1 = 1.2288,기울기 a2 = 2.1628, y절편 b =77.8208\nEpoch:700, RMSE=1.8370, 기울기 a1 = 1.2295,기울기 a2 = 2.1631, y절편 b =77.8155\nEpoch:800, RMSE=1.8370, 기울기 a1 = 1.2299,기울기 a2 = 2.1632, y절편 b =77.8133\nEpoch:900, RMSE=1.8370, 기울기 a1 = 1.2300,기울기 a2 = 2.1632, y절편 b =77.8124\nEpoch:1000, RMSE=1.8370, 기울기 a1 = 1.2301,기울기 a2 = 2.1633, y절편 b =77.8120\nEpoch:1100, RMSE=1.8370, 기울기 a1 = 1.2301,기울기 a2 = 2.1633, y절편 b =77.8118\n"
     ]
    },
    {
     "name": "stdout",
     "output_type": "stream",
     "text": [
      "Epoch:1200, RMSE=1.8370, 기울기 a1 = 1.2301,기울기 a2 = 2.1633, y절편 b =77.8117\nEpoch:1300, RMSE=1.8370, 기울기 a1 = 1.2301,기울기 a2 = 2.1633, y절편 b =77.8117\nEpoch:1400, RMSE=1.8370, 기울기 a1 = 1.2301,기울기 a2 = 2.1633, y절편 b =77.8117\nEpoch:1500, RMSE=1.8370, 기울기 a1 = 1.2301,기울기 a2 = 2.1633, y절편 b =77.8117\nEpoch:1600, RMSE=1.8370, 기울기 a1 = 1.2301,기울기 a2 = 2.1633, y절편 b =77.8117\nEpoch:1700, RMSE=1.8370, 기울기 a1 = 1.2301,기울기 a2 = 2.1633, y절편 b =77.8117\nEpoch:1800, RMSE=1.8370, 기울기 a1 = 1.2301,기울기 a2 = 2.1633, y절편 b =77.8117\nEpoch:1900, RMSE=1.8370, 기울기 a1 = 1.2301,기울기 a2 = 2.1633, y절편 b =77.8117\n"
     ]
    },
    {
     "name": "stdout",
     "output_type": "stream",
     "text": [
      "Epoch:2000, RMSE=1.8370, 기울기 a1 = 1.2301,기울기 a2 = 2.1633, y절편 b =77.8117\n"
     ]
    }
   ],
   "source": [
    "# 텐서플로 실행, 결과 값 확인\n",
    "with tf.Session() as sess:\n",
    "    # 변수 초기화\n",
    "    sess.run(tf.global_variables_initializer())\n",
    "    # 2001번 실행 (0 번째 포함)\n",
    "    for step in range(2001):\n",
    "        sess.run(gradient_decent)\n",
    "        # 100번 마다 결과 출력\n",
    "        if step%100 == 0:\n",
    "            print(\"Epoch:%.f, RMSE=%.04f, 기울기 a1 = %.4f,기울기 a2 = %.4f, y절편 b =%.4f\"%(step,sess.run(rmse),sess.run(a1),sess.run(a2),sess.run(b)))"
   ]
  }
 ],
 "metadata": {
  "kernelspec": {
   "display_name": "Python 2",
   "language": "python",
   "name": "python2"
  },
  "language_info": {
   "codemirror_mode": {
    "name": "ipython",
    "version": 2
   },
   "file_extension": ".py",
   "mimetype": "text/x-python",
   "name": "python",
   "nbconvert_exporter": "python",
   "pygments_lexer": "ipython2",
   "version": "2.7.6"
  }
 },
 "nbformat": 4,
 "nbformat_minor": 0
}

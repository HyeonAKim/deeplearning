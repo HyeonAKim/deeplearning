{
 "cells": [
  {
   "cell_type": "code",
   "execution_count": 1,
   "metadata": {
    "collapsed": true
   },
   "outputs": [],
   "source": [
    "# 신경망의 실행\n",
    "class NeuralNetwork:\n",
    "    \n",
    "    #초깃값 지정\n",
    "    def __init__(self, num_x, num_yh, num_yo, bias=1):\n",
    "        \n",
    "        # 입력값(num_x), 은닉층의 초기값(num_yh), 출력층의 초기값(num_yo), 바이어스\n",
    "        self.num_x = num_x +bias #바이어스 1로 설정\n",
    "        self.num_yh = num_yh\n",
    "        self.num_yo = num_yo\n",
    "        \n",
    "        # 활성화 함수 초깃값\n",
    "        self.activation_input = [1.0]*self.num_x\n",
    "        self.activation_hidden = [1.0]*self.num_yh\n",
    "        self.activation_out = [1.0]*self.num_yo\n",
    "        \n",
    "        # 가중치 입력 초깃값\n",
    "        self.weight_in = makeMatrix(self.num_x, self.num_yh)\n",
    "        for i in range(self.num_x):\n",
    "            for j in range(self.num_yh):\n",
    "                self.weight_in[i][j] = random.random()\n",
    "        \n",
    "        # 가중치 출력 초기값\n",
    "        self.weight_out = makeMatrix(self.num_yh, self.num_yo)\n",
    "        for j in range(self.num_yh):\n",
    "            for k in range(self.num_yo):\n",
    "                self.weight_out[j][k] = random.random()\n",
    "                \n",
    "        # 모멘컴 SGD를 위한 이전 가중치 초깃값\n",
    "        self.gradient_in = makeMatrix(self.num_x,self.num_yh)\n",
    "        self.gradient_out = makeMatrix(self.num_yh,self.num_yo)"
   ]
  },
  {
   "cell_type": "code",
   "execution_count": 2,
   "metadata": {},
   "outputs": [],
   "source": [
    "# 업데이트 함수\n",
    "def update(self,inputs):\n",
    "    \n",
    "    #입력층의 활성함수\n",
    "    for i in range(self.num_x-1):\n",
    "        self.activation_input[i] = inputs[i]\n",
    "        \n",
    "    #은닉층의 활성화함수\n",
    "    for j in range(self.num_yh):\n",
    "        sum = 0.0\n",
    "        for i in range(self.num_x):\n",
    "            sum = sum + self.activation_input[i]*self.weight_in[i][j]\n",
    "            #시그모이드와 tanh 중에서 활성화 함수 선택\n",
    "            self.activation_hidden[j]=tanh(sum,False)\n",
    "    \n",
    "    #출력층의 활성화함수\n",
    "    for k in range(self.num_yo):\n",
    "        sum =0.0\n",
    "        for j in range(self.num_yh):\n",
    "            sum = sum + self.activation_hidden[j]*self.weight_in[j][k]\n",
    "            #시그모이드와 tanh 중에서 활성화 함수 선택\n",
    "            self.activation_out[k] = tanh(sum,False)\n",
    "            \n",
    "    return self.activation_out[:]"
   ]
  },
  {
   "cell_type": "code",
   "execution_count": 3,
   "metadata": {},
   "outputs": [],
   "source": [
    "# 역전파 실행함수\n",
    "def backPropagate(self, targets):\n",
    "    # 델타출력계산\n",
    "    output_deltas = [0.0]*self.num_yo\n",
    "    for k in range(self.num_yo):\n",
    "        error = targets[k] - self.activation_out[k]\n",
    "        #시그모이드와 tanh 중에서 활성화 함수 선택, 미분적용\n",
    "        output_deltas[k] = tanh(self.activation_out[k],True)*error\n",
    "    \n",
    "    #은닉노드의 오차함수\n",
    "    hidden_deltas = [0.0]*self.num_yh\n",
    "    for j in range(self.num_yh):\n",
    "        error = 0.0\n",
    "        for k in range(self.num_yo):\n",
    "            error = error + output_deltas[k]*self.weight_out[j][k]\n",
    "            #시그모이드와 tanh 중에서 활성화 함수 선택, 미분적용\n",
    "            hidden_deltas[j] = tanh(self.activation_hidden[j],True)*error\n",
    "            \n",
    "    # 출력 가중치 업데이트\n",
    "    for j in range(self.num_yh):\n",
    "        for k in range(self.num_yo):\n",
    "            gradient = output_deltas[k]*self.activation_hidden[j]\n",
    "            v = mo * self.gradient_in[j][k]-lr*gradient\n",
    "            self.weight_in[j][k] += v\n",
    "            self.gradient_out[j][k] = gradient\n",
    "    \n",
    "    # 입력 가중치 업데이트\n",
    "    for i in range(self.num_x):\n",
    "        for j in range(self.num_yh):\n",
    "            gradient = hidden_deltas[j]*self.activation_input[i]\n",
    "            v = mo*self.gradient_in[i][j] - lr*gradient\n",
    "            self.weight_in[i][j] += v\n",
    "            self.gradient_in[i][j] = gradient\n",
    "    \n",
    "    # 오차 계산(최소 제곱법)\n",
    "    error = 0.0\n",
    "    for k in range(len(targets)):\n",
    "        error =error + 0.5*(targets[k]-self.activation_out[k])**2\n",
    "    return error\n",
    "\n",
    "            "
   ]
  },
  {
   "cell_type": "code",
   "execution_count": 5,
   "metadata": {},
   "outputs": [],
   "source": [
    "# 가중치 배열 만드는 함수\n",
    "def makeMatrix(i, j, fill=0.0):\n",
    "    mat = []\n",
    "    for i in range(i):\n",
    "        mat.append([fill] * j)\n",
    "    return mat\n"
   ]
  },
  {
   "cell_type": "code",
   "execution_count": 11,
   "metadata": {},
   "outputs": [
    {
     "data": {
      "text/plain": [
       "[[0.3286928890605234, 0.7419376395253863],\n [0.7526360271742182, 0.8234819015175328]]"
      ]
     },
     "execution_count": 11,
     "metadata": {},
     "output_type": "execute_result"
    }
   ],
   "source": [
    "\n",
    "import random\n",
    "import numpy as np\n",
    "\n",
    "weight_in = makeMatrix(2,2)\n",
    "\n",
    "for i in range(2):\n",
    "    for j in range(2):\n",
    "        weight_in[i][j] = random.random()\n",
    "\n",
    "weight_in[1][1]\n"
   ]
  },
  {
   "cell_type": "code",
   "execution_count": 14,
   "metadata": {},
   "outputs": [
    {
     "data": {
      "text/plain": [
       "0.7419376395253863"
      ]
     },
     "execution_count": 14,
     "metadata": {},
     "output_type": "execute_result"
    }
   ],
   "source": [
    "weight_in[0][1]"
   ]
  },
  {
   "cell_type": "code",
   "execution_count": 15,
   "metadata": {},
   "outputs": [],
   "source": [
    "data = [\n",
    "    [[0, 0], [0]],\n",
    "    [[0, 1], [1]],\n",
    "    [[1, 0], [1]],\n",
    "    [[1, 1], [0]]\n",
    "]"
   ]
  },
  {
   "cell_type": "code",
   "execution_count": 16,
   "metadata": {},
   "outputs": [
    {
     "data": {
      "text/plain": [
       "[[0, 0], [0]]"
      ]
     },
     "execution_count": 16,
     "metadata": {},
     "output_type": "execute_result"
    }
   ],
   "source": [
    "data[0]"
   ]
  },
  {
   "cell_type": "code",
   "execution_count": 20,
   "metadata": {},
   "outputs": [
    {
     "name": "stdout",
     "output_type": "stream",
     "text": [
      "[[0, 0], [0]]\n[0, 0]\n[0]\n[[0, 1], [1]]\n[0, 1]\n[1]\n[[1, 0], [1]]\n[1, 0]\n[1]\n[[1, 1], [0]]\n[1, 1]\n[0]\n"
     ]
    }
   ],
   "source": [
    "for p in data:\n",
    "    print(p)\n",
    "    inputs = p[0]\n",
    "    targets = p[1]\n",
    "    print(inputs)\n",
    "    print(targets)"
   ]
  },
  {
   "cell_type": "code",
   "execution_count": 22,
   "metadata": {},
   "outputs": [
    {
     "name": "stdout",
     "output_type": "stream",
     "text": [
      "0\n"
     ]
    }
   ],
   "source": [
    "for i in range(2 - 1):\n",
    "    print(i)\n"
   ]
  },
  {
   "cell_type": "code",
   "execution_count": 23,
   "metadata": {},
   "outputs": [
    {
     "data": {
      "text/plain": [
       "1"
      ]
     },
     "execution_count": 23,
     "metadata": {},
     "output_type": "execute_result"
    }
   ],
   "source": [
    "inputs[0]"
   ]
  }
 ],
 "metadata": {
  "kernelspec": {
   "display_name": "Python 2",
   "language": "python",
   "name": "python2"
  },
  "language_info": {
   "codemirror_mode": {
    "name": "ipython",
    "version": 2
   },
   "file_extension": ".py",
   "mimetype": "text/x-python",
   "name": "python",
   "nbconvert_exporter": "python",
   "pygments_lexer": "ipython2",
   "version": "2.7.6"
  }
 },
 "nbformat": 4,
 "nbformat_minor": 0
}
